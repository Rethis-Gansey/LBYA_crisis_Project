{
 "cells": [
  {
   "cell_type": "markdown",
   "id": "e24289ef",
   "metadata": {},
   "source": [
    "# LBYA CRISIS ANALYSIS FILE"
   ]
  },
  {
   "cell_type": "markdown",
   "id": "136e1089",
   "metadata": {},
   "source": [
    "## Overview"
   ]
  },
  {
   "cell_type": "markdown",
   "id": "2b2795da",
   "metadata": {},
   "source": [
    "This file contains some preliminary analyses to see how has terrorism evolved in the Sahel region after the fall of Ghadaffi’s regime. \n",
    "\n",
    "Ghadaffi’s regime fell in 2011 after NATO intervention in Lybia. Following the fall of the regime, terrorism(terrorist attacks) has become more rampant in several countries. Political leaders and social activists in many countries have attributed it to the regime collapse in Libya. However, to the best of our knowledge there are no studies that investigates the effect of the fall of Ghadaffi’s regime on terrorism in the Sahel region. \n",
    "\n",
    "Our treated group are countries in the Sahel. The control group are all other African countries except countries adjacent to Lybia.\n",
    "\n",
    "Below we focus on violence against civilians committed by rebel groups. The definition of revel group encompasses terrorist groups. In further analysis, we willl limit the list of actors to only consider terrorist groups.\n",
    "\n",
    "We will also merge the ACLED data with DHS data and MICS data and investigate the effect of being exposed to terrorist attacks (in vitro and after birth) on early childhood development outcomes. We will also look at some adult outcomes."
   ]
  },
  {
   "cell_type": "code",
   "execution_count": 2,
   "id": "9487b7bc",
   "metadata": {},
   "outputs": [],
   "source": [
    "## Loading the necessary librairies\n",
    "import pandas as pd\n",
    "import numpy as np\n",
    "from scipy.stats import chi2_contingency\n",
    "import matplotlib.pyplot as plt\n",
    "import seaborn as sns"
   ]
  },
  {
   "cell_type": "markdown",
   "id": "8c3afeb2-9488-4417-976c-672b72203740",
   "metadata": {},
   "source": [
    "## Rethis working directory"
   ]
  },
  {
   "cell_type": "code",
   "execution_count": 3,
   "id": "64ae9687-ecec-47dc-93a3-65551329d8a6",
   "metadata": {},
   "outputs": [],
   "source": [
    "#import os\n",
    "#os.getcwd()\n",
    "#os.chdir('C:/Users/Yoga/Box/LBYA/')"
   ]
  },
  {
   "cell_type": "markdown",
   "id": "47db8c87",
   "metadata": {},
   "source": [
    "## Mahounan working directory"
   ]
  },
  {
   "cell_type": "code",
   "execution_count": 4,
   "id": "a0932441",
   "metadata": {},
   "outputs": [],
   "source": [
    "#import os\n",
    "#os.getcwd()\n",
    "#os.chdir('/Users/yedomiffi/Library/CloudStorage/Box-Box/Documents/PhD/Research/LBYA')"
   ]
  },
  {
   "cell_type": "markdown",
   "id": "c6fe7c6e",
   "metadata": {},
   "source": [
    "## Loading the database (directly from GitHub)\n",
    "\n",
    " What we want to sell in this paper is the terrorism aspect:\n",
    "\n",
    "    a. More terrorist attacks\n",
    "    b. More violences against civilians\n",
    "    c. More fatalities among civilians as well as armed forces\n",
    "\n",
    "In the following, we will only consider violence against civilians by terrorist groups. \n",
    "The variable INTER takes the value 2 for Rebel Groups"
   ]
  },
  {
   "cell_type": "code",
   "execution_count": 5,
   "id": "ba60aecf",
   "metadata": {},
   "outputs": [
    {
     "data": {
      "text/html": [
       "<div>\n",
       "<style scoped>\n",
       "    .dataframe tbody tr th:only-of-type {\n",
       "        vertical-align: middle;\n",
       "    }\n",
       "\n",
       "    .dataframe tbody tr th {\n",
       "        vertical-align: top;\n",
       "    }\n",
       "\n",
       "    .dataframe thead th {\n",
       "        text-align: right;\n",
       "    }\n",
       "</style>\n",
       "<table border=\"1\" class=\"dataframe\">\n",
       "  <thead>\n",
       "    <tr style=\"text-align: right;\">\n",
       "      <th></th>\n",
       "      <th>ISO</th>\n",
       "      <th>EVENT_ID_CNTY</th>\n",
       "      <th>EVENT_ID_NO_CNTY</th>\n",
       "      <th>EVENT_DATE</th>\n",
       "      <th>YEAR</th>\n",
       "      <th>TIME_PRECISION</th>\n",
       "      <th>EVENT_TYPE</th>\n",
       "      <th>SUB_EVENT_TYPE</th>\n",
       "      <th>ACTOR1</th>\n",
       "      <th>ASSOC_ACTOR_1</th>\n",
       "      <th>...</th>\n",
       "      <th>ADMIN3</th>\n",
       "      <th>LOCATION</th>\n",
       "      <th>LATITUDE</th>\n",
       "      <th>LONGITUDE</th>\n",
       "      <th>GEO_PRECISION</th>\n",
       "      <th>SOURCE</th>\n",
       "      <th>SOURCE_SCALE</th>\n",
       "      <th>NOTES</th>\n",
       "      <th>FATALITIES</th>\n",
       "      <th>TIMESTAMP</th>\n",
       "    </tr>\n",
       "  </thead>\n",
       "  <tbody>\n",
       "    <tr>\n",
       "      <th>0</th>\n",
       "      <td>12</td>\n",
       "      <td>ALG1</td>\n",
       "      <td>1</td>\n",
       "      <td>1997-01-01</td>\n",
       "      <td>1997</td>\n",
       "      <td>1</td>\n",
       "      <td>Violence against civilians</td>\n",
       "      <td>Attack</td>\n",
       "      <td>GIA: Armed Islamic Group</td>\n",
       "      <td>NaN</td>\n",
       "      <td>...</td>\n",
       "      <td>NaN</td>\n",
       "      <td>Douaouda</td>\n",
       "      <td>36.672</td>\n",
       "      <td>2.789</td>\n",
       "      <td>1</td>\n",
       "      <td>Algeria Watch</td>\n",
       "      <td>Other</td>\n",
       "      <td>5 January: Beheading of 5 citizens in Douaouda...</td>\n",
       "      <td>5</td>\n",
       "      <td>1582579226</td>\n",
       "    </tr>\n",
       "    <tr>\n",
       "      <th>1</th>\n",
       "      <td>12</td>\n",
       "      <td>ALG2</td>\n",
       "      <td>2</td>\n",
       "      <td>1997-01-02</td>\n",
       "      <td>1997</td>\n",
       "      <td>1</td>\n",
       "      <td>Violence against civilians</td>\n",
       "      <td>Attack</td>\n",
       "      <td>GIA: Armed Islamic Group</td>\n",
       "      <td>NaN</td>\n",
       "      <td>...</td>\n",
       "      <td>NaN</td>\n",
       "      <td>Hassasna</td>\n",
       "      <td>36.133</td>\n",
       "      <td>0.883</td>\n",
       "      <td>1</td>\n",
       "      <td>Algeria Watch</td>\n",
       "      <td>Other</td>\n",
       "      <td>Two citizens were beheaded in Hassasna.</td>\n",
       "      <td>2</td>\n",
       "      <td>1582579226</td>\n",
       "    </tr>\n",
       "    <tr>\n",
       "      <th>2</th>\n",
       "      <td>12</td>\n",
       "      <td>ALG3</td>\n",
       "      <td>3</td>\n",
       "      <td>1997-01-03</td>\n",
       "      <td>1997</td>\n",
       "      <td>1</td>\n",
       "      <td>Violence against civilians</td>\n",
       "      <td>Attack</td>\n",
       "      <td>GIA: Armed Islamic Group</td>\n",
       "      <td>NaN</td>\n",
       "      <td>...</td>\n",
       "      <td>NaN</td>\n",
       "      <td>Hassi El Abed</td>\n",
       "      <td>34.966</td>\n",
       "      <td>-0.290</td>\n",
       "      <td>1</td>\n",
       "      <td>Algeria Watch</td>\n",
       "      <td>Other</td>\n",
       "      <td>Two citizens were killed in a raid on the vill...</td>\n",
       "      <td>2</td>\n",
       "      <td>1582579226</td>\n",
       "    </tr>\n",
       "    <tr>\n",
       "      <th>3</th>\n",
       "      <td>12</td>\n",
       "      <td>ALG4</td>\n",
       "      <td>4</td>\n",
       "      <td>1997-01-04</td>\n",
       "      <td>1997</td>\n",
       "      <td>1</td>\n",
       "      <td>Violence against civilians</td>\n",
       "      <td>Attack</td>\n",
       "      <td>GIA: Armed Islamic Group</td>\n",
       "      <td>NaN</td>\n",
       "      <td>...</td>\n",
       "      <td>NaN</td>\n",
       "      <td>Blida</td>\n",
       "      <td>36.469</td>\n",
       "      <td>2.829</td>\n",
       "      <td>1</td>\n",
       "      <td>Algeria Watch</td>\n",
       "      <td>Other</td>\n",
       "      <td>4 January: 16 citizens were murdered in the vi...</td>\n",
       "      <td>16</td>\n",
       "      <td>1582579226</td>\n",
       "    </tr>\n",
       "    <tr>\n",
       "      <th>4</th>\n",
       "      <td>12</td>\n",
       "      <td>ALG5</td>\n",
       "      <td>5</td>\n",
       "      <td>1997-01-05</td>\n",
       "      <td>1997</td>\n",
       "      <td>1</td>\n",
       "      <td>Violence against civilians</td>\n",
       "      <td>Attack</td>\n",
       "      <td>GIA: Armed Islamic Group</td>\n",
       "      <td>NaN</td>\n",
       "      <td>...</td>\n",
       "      <td>NaN</td>\n",
       "      <td>Douaouda</td>\n",
       "      <td>36.672</td>\n",
       "      <td>2.789</td>\n",
       "      <td>1</td>\n",
       "      <td>Algeria Watch</td>\n",
       "      <td>Other</td>\n",
       "      <td>5 January: Killing of 18 citizens in the Olivi...</td>\n",
       "      <td>18</td>\n",
       "      <td>1582579226</td>\n",
       "    </tr>\n",
       "    <tr>\n",
       "      <th>...</th>\n",
       "      <td>...</td>\n",
       "      <td>...</td>\n",
       "      <td>...</td>\n",
       "      <td>...</td>\n",
       "      <td>...</td>\n",
       "      <td>...</td>\n",
       "      <td>...</td>\n",
       "      <td>...</td>\n",
       "      <td>...</td>\n",
       "      <td>...</td>\n",
       "      <td>...</td>\n",
       "      <td>...</td>\n",
       "      <td>...</td>\n",
       "      <td>...</td>\n",
       "      <td>...</td>\n",
       "      <td>...</td>\n",
       "      <td>...</td>\n",
       "      <td>...</td>\n",
       "      <td>...</td>\n",
       "      <td>...</td>\n",
       "      <td>...</td>\n",
       "    </tr>\n",
       "    <tr>\n",
       "      <th>285778</th>\n",
       "      <td>894</td>\n",
       "      <td>ZAM41</td>\n",
       "      <td>41</td>\n",
       "      <td>1999-09-23</td>\n",
       "      <td>1999</td>\n",
       "      <td>1</td>\n",
       "      <td>Violence against civilians</td>\n",
       "      <td>Abduction/forced disappearance</td>\n",
       "      <td>UNITA: National Union for the Total Independen...</td>\n",
       "      <td>NaN</td>\n",
       "      <td>...</td>\n",
       "      <td>NaN</td>\n",
       "      <td>Mwinilunga</td>\n",
       "      <td>-11.850</td>\n",
       "      <td>24.367</td>\n",
       "      <td>1</td>\n",
       "      <td>All Africa</td>\n",
       "      <td>Regional</td>\n",
       "      <td>8 Zambians abducted by UNITA. 5 escape and rai...</td>\n",
       "      <td>0</td>\n",
       "      <td>1552577668</td>\n",
       "    </tr>\n",
       "    <tr>\n",
       "      <th>285782</th>\n",
       "      <td>894</td>\n",
       "      <td>ZAM45</td>\n",
       "      <td>45</td>\n",
       "      <td>2000-03-06</td>\n",
       "      <td>2000</td>\n",
       "      <td>1</td>\n",
       "      <td>Violence against civilians</td>\n",
       "      <td>Attack</td>\n",
       "      <td>UNITA: National Union for the Total Independen...</td>\n",
       "      <td>NaN</td>\n",
       "      <td>...</td>\n",
       "      <td>NaN</td>\n",
       "      <td>Chavuma</td>\n",
       "      <td>-13.067</td>\n",
       "      <td>22.683</td>\n",
       "      <td>1</td>\n",
       "      <td>All Africa</td>\n",
       "      <td>Regional</td>\n",
       "      <td>Reports of ongoing raids on Zambian civilians</td>\n",
       "      <td>0</td>\n",
       "      <td>1552577666</td>\n",
       "    </tr>\n",
       "    <tr>\n",
       "      <th>285786</th>\n",
       "      <td>894</td>\n",
       "      <td>ZAM49</td>\n",
       "      <td>49</td>\n",
       "      <td>2000-04-28</td>\n",
       "      <td>2000</td>\n",
       "      <td>1</td>\n",
       "      <td>Violence against civilians</td>\n",
       "      <td>Attack</td>\n",
       "      <td>UNITA: National Union for the Total Independen...</td>\n",
       "      <td>NaN</td>\n",
       "      <td>...</td>\n",
       "      <td>NaN</td>\n",
       "      <td>Chavuma</td>\n",
       "      <td>-13.067</td>\n",
       "      <td>22.683</td>\n",
       "      <td>1</td>\n",
       "      <td>All Africa</td>\n",
       "      <td>Regional</td>\n",
       "      <td>Suspected UNITA attack villages</td>\n",
       "      <td>0</td>\n",
       "      <td>1552577665</td>\n",
       "    </tr>\n",
       "    <tr>\n",
       "      <th>285798</th>\n",
       "      <td>894</td>\n",
       "      <td>ZAM61</td>\n",
       "      <td>61</td>\n",
       "      <td>2000-09-26</td>\n",
       "      <td>2000</td>\n",
       "      <td>1</td>\n",
       "      <td>Violence against civilians</td>\n",
       "      <td>Attack</td>\n",
       "      <td>UNITA: National Union for the Total Independen...</td>\n",
       "      <td>NaN</td>\n",
       "      <td>...</td>\n",
       "      <td>NaN</td>\n",
       "      <td>Chavuma</td>\n",
       "      <td>-13.067</td>\n",
       "      <td>22.683</td>\n",
       "      <td>1</td>\n",
       "      <td>Angola Peace Monitor</td>\n",
       "      <td>Other</td>\n",
       "      <td>NaN</td>\n",
       "      <td>0</td>\n",
       "      <td>1567462138</td>\n",
       "    </tr>\n",
       "    <tr>\n",
       "      <th>285820</th>\n",
       "      <td>894</td>\n",
       "      <td>ZAM85</td>\n",
       "      <td>85</td>\n",
       "      <td>2002-04-01</td>\n",
       "      <td>2002</td>\n",
       "      <td>1</td>\n",
       "      <td>Violence against civilians</td>\n",
       "      <td>Sexual violence</td>\n",
       "      <td>UNITA: National Union for the Total Independen...</td>\n",
       "      <td>NaN</td>\n",
       "      <td>...</td>\n",
       "      <td>NaN</td>\n",
       "      <td>Sikongo</td>\n",
       "      <td>-15.017</td>\n",
       "      <td>22.167</td>\n",
       "      <td>1</td>\n",
       "      <td>All Africa</td>\n",
       "      <td>Regional</td>\n",
       "      <td>4 villagers attacked, 1 woman raped, 3 abducte...</td>\n",
       "      <td>0</td>\n",
       "      <td>1559160532</td>\n",
       "    </tr>\n",
       "  </tbody>\n",
       "</table>\n",
       "<p>15331 rows × 29 columns</p>\n",
       "</div>"
      ],
      "text/plain": [
       "        ISO EVENT_ID_CNTY  EVENT_ID_NO_CNTY EVENT_DATE  YEAR  TIME_PRECISION  \\\n",
       "0        12          ALG1                 1 1997-01-01  1997               1   \n",
       "1        12          ALG2                 2 1997-01-02  1997               1   \n",
       "2        12          ALG3                 3 1997-01-03  1997               1   \n",
       "3        12          ALG4                 4 1997-01-04  1997               1   \n",
       "4        12          ALG5                 5 1997-01-05  1997               1   \n",
       "...     ...           ...               ...        ...   ...             ...   \n",
       "285778  894         ZAM41                41 1999-09-23  1999               1   \n",
       "285782  894         ZAM45                45 2000-03-06  2000               1   \n",
       "285786  894         ZAM49                49 2000-04-28  2000               1   \n",
       "285798  894         ZAM61                61 2000-09-26  2000               1   \n",
       "285820  894         ZAM85                85 2002-04-01  2002               1   \n",
       "\n",
       "                        EVENT_TYPE                  SUB_EVENT_TYPE  \\\n",
       "0       Violence against civilians                          Attack   \n",
       "1       Violence against civilians                          Attack   \n",
       "2       Violence against civilians                          Attack   \n",
       "3       Violence against civilians                          Attack   \n",
       "4       Violence against civilians                          Attack   \n",
       "...                            ...                             ...   \n",
       "285778  Violence against civilians  Abduction/forced disappearance   \n",
       "285782  Violence against civilians                          Attack   \n",
       "285786  Violence against civilians                          Attack   \n",
       "285798  Violence against civilians                          Attack   \n",
       "285820  Violence against civilians                 Sexual violence   \n",
       "\n",
       "                                                   ACTOR1 ASSOC_ACTOR_1  ...  \\\n",
       "0                                GIA: Armed Islamic Group           NaN  ...   \n",
       "1                                GIA: Armed Islamic Group           NaN  ...   \n",
       "2                                GIA: Armed Islamic Group           NaN  ...   \n",
       "3                                GIA: Armed Islamic Group           NaN  ...   \n",
       "4                                GIA: Armed Islamic Group           NaN  ...   \n",
       "...                                                   ...           ...  ...   \n",
       "285778  UNITA: National Union for the Total Independen...           NaN  ...   \n",
       "285782  UNITA: National Union for the Total Independen...           NaN  ...   \n",
       "285786  UNITA: National Union for the Total Independen...           NaN  ...   \n",
       "285798  UNITA: National Union for the Total Independen...           NaN  ...   \n",
       "285820  UNITA: National Union for the Total Independen...           NaN  ...   \n",
       "\n",
       "        ADMIN3       LOCATION LATITUDE  LONGITUDE  GEO_PRECISION  \\\n",
       "0          NaN       Douaouda   36.672      2.789              1   \n",
       "1          NaN       Hassasna   36.133      0.883              1   \n",
       "2          NaN  Hassi El Abed   34.966     -0.290              1   \n",
       "3          NaN          Blida   36.469      2.829              1   \n",
       "4          NaN       Douaouda   36.672      2.789              1   \n",
       "...        ...            ...      ...        ...            ...   \n",
       "285778     NaN     Mwinilunga  -11.850     24.367              1   \n",
       "285782     NaN        Chavuma  -13.067     22.683              1   \n",
       "285786     NaN        Chavuma  -13.067     22.683              1   \n",
       "285798     NaN        Chavuma  -13.067     22.683              1   \n",
       "285820     NaN        Sikongo  -15.017     22.167              1   \n",
       "\n",
       "                      SOURCE SOURCE_SCALE  \\\n",
       "0              Algeria Watch        Other   \n",
       "1              Algeria Watch        Other   \n",
       "2              Algeria Watch        Other   \n",
       "3              Algeria Watch        Other   \n",
       "4              Algeria Watch        Other   \n",
       "...                      ...          ...   \n",
       "285778            All Africa     Regional   \n",
       "285782            All Africa     Regional   \n",
       "285786            All Africa     Regional   \n",
       "285798  Angola Peace Monitor        Other   \n",
       "285820            All Africa     Regional   \n",
       "\n",
       "                                                    NOTES FATALITIES  \\\n",
       "0       5 January: Beheading of 5 citizens in Douaouda...          5   \n",
       "1                 Two citizens were beheaded in Hassasna.          2   \n",
       "2       Two citizens were killed in a raid on the vill...          2   \n",
       "3       4 January: 16 citizens were murdered in the vi...         16   \n",
       "4       5 January: Killing of 18 citizens in the Olivi...         18   \n",
       "...                                                   ...        ...   \n",
       "285778  8 Zambians abducted by UNITA. 5 escape and rai...          0   \n",
       "285782      Reports of ongoing raids on Zambian civilians          0   \n",
       "285786                    Suspected UNITA attack villages          0   \n",
       "285798                                                NaN          0   \n",
       "285820  4 villagers attacked, 1 woman raped, 3 abducte...          0   \n",
       "\n",
       "         TIMESTAMP  \n",
       "0       1582579226  \n",
       "1       1582579226  \n",
       "2       1582579226  \n",
       "3       1582579226  \n",
       "4       1582579226  \n",
       "...            ...  \n",
       "285778  1552577668  \n",
       "285782  1552577666  \n",
       "285786  1552577665  \n",
       "285798  1567462138  \n",
       "285820  1559160532  \n",
       "\n",
       "[15331 rows x 29 columns]"
      ]
     },
     "execution_count": 5,
     "metadata": {},
     "output_type": "execute_result"
    }
   ],
   "source": [
    "rowdata = pd.read_excel(\"Data/Africa_1997-2022_Jul22.xlsx\")\n",
    "\n",
    "dataset = rowdata[rowdata['EVENT_TYPE'] == 'Violence against civilians' ]\n",
    "dataset = dataset[dataset['INTER1'] == 2 ]\n",
    "dataset"
   ]
  },
  {
   "cell_type": "markdown",
   "id": "76724cd4",
   "metadata": {},
   "source": [
    "## Aggregated data\n",
    "\n",
    "ACLED data is collected on a daily basis according to the localities where the events occur. \n",
    "We will aggregate these data by country, year, type of event and by the first administrative level (ADMIN1).\n",
    "\n",
    "We therefore create three variables:\n",
    "\n",
    "    1- EVENT_FATALITIES: which contains the sum of the total number of deaths after the events according to the level of disaggregation mentioned above.\n",
    "\n",
    "    2- EVENT_FREQUENCIES : which includes the total number of terrorist attacks \n",
    "\n",
    "    3- EVENT_ADMIN2: which gives the total number of administrative units in which terrorist attacks took place."
   ]
  },
  {
   "cell_type": "code",
   "execution_count": 6,
   "id": "0b850bba",
   "metadata": {},
   "outputs": [],
   "source": [
    "dataset_fatalities = dataset.groupby(['ISO','COUNTRY','YEAR', 'EVENT_TYPE', 'SUB_EVENT_TYPE','ADMIN1'])['FATALITIES'].sum().reset_index(name='EVENT_FATALITIES')\n",
    "dataset_event = dataset.groupby(['ISO','COUNTRY', 'YEAR', 'EVENT_TYPE', 'SUB_EVENT_TYPE'])['ADMIN1'].value_counts().reset_index(name='EVENT_FREQUENCIES')\n",
    "EVENT_ADMIN2 = dataset.groupby(['ISO','COUNTRY', 'YEAR', 'EVENT_TYPE', 'SUB_EVENT_TYPE','ADMIN1'])['ADMIN2'].nunique().reset_index(name='EVENT_ADMIN2')"
   ]
  },
  {
   "cell_type": "code",
   "execution_count": 7,
   "id": "2e73dfb7",
   "metadata": {},
   "outputs": [
    {
     "data": {
      "text/html": [
       "<div>\n",
       "<style scoped>\n",
       "    .dataframe tbody tr th:only-of-type {\n",
       "        vertical-align: middle;\n",
       "    }\n",
       "\n",
       "    .dataframe tbody tr th {\n",
       "        vertical-align: top;\n",
       "    }\n",
       "\n",
       "    .dataframe thead th {\n",
       "        text-align: right;\n",
       "    }\n",
       "</style>\n",
       "<table border=\"1\" class=\"dataframe\">\n",
       "  <thead>\n",
       "    <tr style=\"text-align: right;\">\n",
       "      <th></th>\n",
       "      <th>ISO</th>\n",
       "      <th>COUNTRY</th>\n",
       "      <th>YEAR</th>\n",
       "      <th>EVENT_TYPE</th>\n",
       "      <th>SUB_EVENT_TYPE</th>\n",
       "      <th>ADMIN1</th>\n",
       "      <th>EVENT_FREQUENCIES</th>\n",
       "    </tr>\n",
       "  </thead>\n",
       "  <tbody>\n",
       "    <tr>\n",
       "      <th>0</th>\n",
       "      <td>12</td>\n",
       "      <td>Algeria</td>\n",
       "      <td>1997</td>\n",
       "      <td>Violence against civilians</td>\n",
       "      <td>Attack</td>\n",
       "      <td>Medea</td>\n",
       "      <td>26</td>\n",
       "    </tr>\n",
       "    <tr>\n",
       "      <th>1</th>\n",
       "      <td>12</td>\n",
       "      <td>Algeria</td>\n",
       "      <td>1997</td>\n",
       "      <td>Violence against civilians</td>\n",
       "      <td>Attack</td>\n",
       "      <td>Blida</td>\n",
       "      <td>21</td>\n",
       "    </tr>\n",
       "    <tr>\n",
       "      <th>2</th>\n",
       "      <td>12</td>\n",
       "      <td>Algeria</td>\n",
       "      <td>1997</td>\n",
       "      <td>Violence against civilians</td>\n",
       "      <td>Attack</td>\n",
       "      <td>Alger</td>\n",
       "      <td>14</td>\n",
       "    </tr>\n",
       "    <tr>\n",
       "      <th>3</th>\n",
       "      <td>12</td>\n",
       "      <td>Algeria</td>\n",
       "      <td>1997</td>\n",
       "      <td>Violence against civilians</td>\n",
       "      <td>Attack</td>\n",
       "      <td>Tipaza</td>\n",
       "      <td>11</td>\n",
       "    </tr>\n",
       "    <tr>\n",
       "      <th>4</th>\n",
       "      <td>12</td>\n",
       "      <td>Algeria</td>\n",
       "      <td>1997</td>\n",
       "      <td>Violence against civilians</td>\n",
       "      <td>Attack</td>\n",
       "      <td>Mascara</td>\n",
       "      <td>5</td>\n",
       "    </tr>\n",
       "    <tr>\n",
       "      <th>...</th>\n",
       "      <td>...</td>\n",
       "      <td>...</td>\n",
       "      <td>...</td>\n",
       "      <td>...</td>\n",
       "      <td>...</td>\n",
       "      <td>...</td>\n",
       "      <td>...</td>\n",
       "    </tr>\n",
       "    <tr>\n",
       "      <th>2168</th>\n",
       "      <td>854</td>\n",
       "      <td>Burkina Faso</td>\n",
       "      <td>2022</td>\n",
       "      <td>Violence against civilians</td>\n",
       "      <td>Sexual violence</td>\n",
       "      <td>Est</td>\n",
       "      <td>3</td>\n",
       "    </tr>\n",
       "    <tr>\n",
       "      <th>2169</th>\n",
       "      <td>854</td>\n",
       "      <td>Burkina Faso</td>\n",
       "      <td>2022</td>\n",
       "      <td>Violence against civilians</td>\n",
       "      <td>Sexual violence</td>\n",
       "      <td>Sahel</td>\n",
       "      <td>2</td>\n",
       "    </tr>\n",
       "    <tr>\n",
       "      <th>2170</th>\n",
       "      <td>894</td>\n",
       "      <td>Zambia</td>\n",
       "      <td>1999</td>\n",
       "      <td>Violence against civilians</td>\n",
       "      <td>Abduction/forced disappearance</td>\n",
       "      <td>North-Western</td>\n",
       "      <td>1</td>\n",
       "    </tr>\n",
       "    <tr>\n",
       "      <th>2171</th>\n",
       "      <td>894</td>\n",
       "      <td>Zambia</td>\n",
       "      <td>2000</td>\n",
       "      <td>Violence against civilians</td>\n",
       "      <td>Attack</td>\n",
       "      <td>North-Western</td>\n",
       "      <td>3</td>\n",
       "    </tr>\n",
       "    <tr>\n",
       "      <th>2172</th>\n",
       "      <td>894</td>\n",
       "      <td>Zambia</td>\n",
       "      <td>2002</td>\n",
       "      <td>Violence against civilians</td>\n",
       "      <td>Sexual violence</td>\n",
       "      <td>Western</td>\n",
       "      <td>1</td>\n",
       "    </tr>\n",
       "  </tbody>\n",
       "</table>\n",
       "<p>2173 rows × 7 columns</p>\n",
       "</div>"
      ],
      "text/plain": [
       "      ISO       COUNTRY  YEAR                  EVENT_TYPE  \\\n",
       "0      12       Algeria  1997  Violence against civilians   \n",
       "1      12       Algeria  1997  Violence against civilians   \n",
       "2      12       Algeria  1997  Violence against civilians   \n",
       "3      12       Algeria  1997  Violence against civilians   \n",
       "4      12       Algeria  1997  Violence against civilians   \n",
       "...   ...           ...   ...                         ...   \n",
       "2168  854  Burkina Faso  2022  Violence against civilians   \n",
       "2169  854  Burkina Faso  2022  Violence against civilians   \n",
       "2170  894        Zambia  1999  Violence against civilians   \n",
       "2171  894        Zambia  2000  Violence against civilians   \n",
       "2172  894        Zambia  2002  Violence against civilians   \n",
       "\n",
       "                      SUB_EVENT_TYPE         ADMIN1  EVENT_FREQUENCIES  \n",
       "0                             Attack          Medea                 26  \n",
       "1                             Attack          Blida                 21  \n",
       "2                             Attack          Alger                 14  \n",
       "3                             Attack         Tipaza                 11  \n",
       "4                             Attack        Mascara                  5  \n",
       "...                              ...            ...                ...  \n",
       "2168                 Sexual violence            Est                  3  \n",
       "2169                 Sexual violence          Sahel                  2  \n",
       "2170  Abduction/forced disappearance  North-Western                  1  \n",
       "2171                          Attack  North-Western                  3  \n",
       "2172                 Sexual violence        Western                  1  \n",
       "\n",
       "[2173 rows x 7 columns]"
      ]
     },
     "execution_count": 7,
     "metadata": {},
     "output_type": "execute_result"
    }
   ],
   "source": [
    "dataset_event"
   ]
  },
  {
   "cell_type": "code",
   "execution_count": 8,
   "id": "aa659c14",
   "metadata": {},
   "outputs": [
    {
     "data": {
      "text/html": [
       "<div>\n",
       "<style scoped>\n",
       "    .dataframe tbody tr th:only-of-type {\n",
       "        vertical-align: middle;\n",
       "    }\n",
       "\n",
       "    .dataframe tbody tr th {\n",
       "        vertical-align: top;\n",
       "    }\n",
       "\n",
       "    .dataframe thead th {\n",
       "        text-align: right;\n",
       "    }\n",
       "</style>\n",
       "<table border=\"1\" class=\"dataframe\">\n",
       "  <thead>\n",
       "    <tr style=\"text-align: right;\">\n",
       "      <th></th>\n",
       "      <th>ISO</th>\n",
       "      <th>COUNTRY</th>\n",
       "      <th>YEAR</th>\n",
       "      <th>EVENT_TYPE</th>\n",
       "      <th>SUB_EVENT_TYPE</th>\n",
       "      <th>ADMIN1</th>\n",
       "      <th>EVENT_FATALITIES</th>\n",
       "    </tr>\n",
       "  </thead>\n",
       "  <tbody>\n",
       "    <tr>\n",
       "      <th>0</th>\n",
       "      <td>12</td>\n",
       "      <td>Algeria</td>\n",
       "      <td>1997</td>\n",
       "      <td>Violence against civilians</td>\n",
       "      <td>Attack</td>\n",
       "      <td>Ain Defla</td>\n",
       "      <td>120</td>\n",
       "    </tr>\n",
       "    <tr>\n",
       "      <th>1</th>\n",
       "      <td>12</td>\n",
       "      <td>Algeria</td>\n",
       "      <td>1997</td>\n",
       "      <td>Violence against civilians</td>\n",
       "      <td>Attack</td>\n",
       "      <td>Ain Temouchent</td>\n",
       "      <td>49</td>\n",
       "    </tr>\n",
       "    <tr>\n",
       "      <th>2</th>\n",
       "      <td>12</td>\n",
       "      <td>Algeria</td>\n",
       "      <td>1997</td>\n",
       "      <td>Violence against civilians</td>\n",
       "      <td>Attack</td>\n",
       "      <td>Alger</td>\n",
       "      <td>540</td>\n",
       "    </tr>\n",
       "    <tr>\n",
       "      <th>3</th>\n",
       "      <td>12</td>\n",
       "      <td>Algeria</td>\n",
       "      <td>1997</td>\n",
       "      <td>Violence against civilians</td>\n",
       "      <td>Attack</td>\n",
       "      <td>Blida</td>\n",
       "      <td>517</td>\n",
       "    </tr>\n",
       "    <tr>\n",
       "      <th>4</th>\n",
       "      <td>12</td>\n",
       "      <td>Algeria</td>\n",
       "      <td>1997</td>\n",
       "      <td>Violence against civilians</td>\n",
       "      <td>Attack</td>\n",
       "      <td>Bordj Bou Arreridj</td>\n",
       "      <td>34</td>\n",
       "    </tr>\n",
       "    <tr>\n",
       "      <th>...</th>\n",
       "      <td>...</td>\n",
       "      <td>...</td>\n",
       "      <td>...</td>\n",
       "      <td>...</td>\n",
       "      <td>...</td>\n",
       "      <td>...</td>\n",
       "      <td>...</td>\n",
       "    </tr>\n",
       "    <tr>\n",
       "      <th>2168</th>\n",
       "      <td>854</td>\n",
       "      <td>Burkina Faso</td>\n",
       "      <td>2022</td>\n",
       "      <td>Violence against civilians</td>\n",
       "      <td>Sexual violence</td>\n",
       "      <td>Est</td>\n",
       "      <td>0</td>\n",
       "    </tr>\n",
       "    <tr>\n",
       "      <th>2169</th>\n",
       "      <td>854</td>\n",
       "      <td>Burkina Faso</td>\n",
       "      <td>2022</td>\n",
       "      <td>Violence against civilians</td>\n",
       "      <td>Sexual violence</td>\n",
       "      <td>Sahel</td>\n",
       "      <td>0</td>\n",
       "    </tr>\n",
       "    <tr>\n",
       "      <th>2170</th>\n",
       "      <td>894</td>\n",
       "      <td>Zambia</td>\n",
       "      <td>1999</td>\n",
       "      <td>Violence against civilians</td>\n",
       "      <td>Abduction/forced disappearance</td>\n",
       "      <td>North-Western</td>\n",
       "      <td>0</td>\n",
       "    </tr>\n",
       "    <tr>\n",
       "      <th>2171</th>\n",
       "      <td>894</td>\n",
       "      <td>Zambia</td>\n",
       "      <td>2000</td>\n",
       "      <td>Violence against civilians</td>\n",
       "      <td>Attack</td>\n",
       "      <td>North-Western</td>\n",
       "      <td>0</td>\n",
       "    </tr>\n",
       "    <tr>\n",
       "      <th>2172</th>\n",
       "      <td>894</td>\n",
       "      <td>Zambia</td>\n",
       "      <td>2002</td>\n",
       "      <td>Violence against civilians</td>\n",
       "      <td>Sexual violence</td>\n",
       "      <td>Western</td>\n",
       "      <td>0</td>\n",
       "    </tr>\n",
       "  </tbody>\n",
       "</table>\n",
       "<p>2173 rows × 7 columns</p>\n",
       "</div>"
      ],
      "text/plain": [
       "      ISO       COUNTRY  YEAR                  EVENT_TYPE  \\\n",
       "0      12       Algeria  1997  Violence against civilians   \n",
       "1      12       Algeria  1997  Violence against civilians   \n",
       "2      12       Algeria  1997  Violence against civilians   \n",
       "3      12       Algeria  1997  Violence against civilians   \n",
       "4      12       Algeria  1997  Violence against civilians   \n",
       "...   ...           ...   ...                         ...   \n",
       "2168  854  Burkina Faso  2022  Violence against civilians   \n",
       "2169  854  Burkina Faso  2022  Violence against civilians   \n",
       "2170  894        Zambia  1999  Violence against civilians   \n",
       "2171  894        Zambia  2000  Violence against civilians   \n",
       "2172  894        Zambia  2002  Violence against civilians   \n",
       "\n",
       "                      SUB_EVENT_TYPE              ADMIN1  EVENT_FATALITIES  \n",
       "0                             Attack           Ain Defla               120  \n",
       "1                             Attack      Ain Temouchent                49  \n",
       "2                             Attack               Alger               540  \n",
       "3                             Attack               Blida               517  \n",
       "4                             Attack  Bordj Bou Arreridj                34  \n",
       "...                              ...                 ...               ...  \n",
       "2168                 Sexual violence                 Est                 0  \n",
       "2169                 Sexual violence               Sahel                 0  \n",
       "2170  Abduction/forced disappearance       North-Western                 0  \n",
       "2171                          Attack       North-Western                 0  \n",
       "2172                 Sexual violence             Western                 0  \n",
       "\n",
       "[2173 rows x 7 columns]"
      ]
     },
     "execution_count": 8,
     "metadata": {},
     "output_type": "execute_result"
    }
   ],
   "source": [
    "dataset_fatalities"
   ]
  },
  {
   "cell_type": "code",
   "execution_count": 9,
   "id": "d189357b",
   "metadata": {},
   "outputs": [
    {
     "data": {
      "text/html": [
       "<div>\n",
       "<style scoped>\n",
       "    .dataframe tbody tr th:only-of-type {\n",
       "        vertical-align: middle;\n",
       "    }\n",
       "\n",
       "    .dataframe tbody tr th {\n",
       "        vertical-align: top;\n",
       "    }\n",
       "\n",
       "    .dataframe thead th {\n",
       "        text-align: right;\n",
       "    }\n",
       "</style>\n",
       "<table border=\"1\" class=\"dataframe\">\n",
       "  <thead>\n",
       "    <tr style=\"text-align: right;\">\n",
       "      <th></th>\n",
       "      <th>ISO</th>\n",
       "      <th>COUNTRY</th>\n",
       "      <th>YEAR</th>\n",
       "      <th>EVENT_TYPE</th>\n",
       "      <th>SUB_EVENT_TYPE</th>\n",
       "      <th>ADMIN1</th>\n",
       "      <th>EVENT_ADMIN2</th>\n",
       "    </tr>\n",
       "  </thead>\n",
       "  <tbody>\n",
       "    <tr>\n",
       "      <th>0</th>\n",
       "      <td>12</td>\n",
       "      <td>Algeria</td>\n",
       "      <td>1997</td>\n",
       "      <td>Violence against civilians</td>\n",
       "      <td>Attack</td>\n",
       "      <td>Ain Defla</td>\n",
       "      <td>1</td>\n",
       "    </tr>\n",
       "    <tr>\n",
       "      <th>1</th>\n",
       "      <td>12</td>\n",
       "      <td>Algeria</td>\n",
       "      <td>1997</td>\n",
       "      <td>Violence against civilians</td>\n",
       "      <td>Attack</td>\n",
       "      <td>Ain Temouchent</td>\n",
       "      <td>2</td>\n",
       "    </tr>\n",
       "    <tr>\n",
       "      <th>2</th>\n",
       "      <td>12</td>\n",
       "      <td>Algeria</td>\n",
       "      <td>1997</td>\n",
       "      <td>Violence against civilians</td>\n",
       "      <td>Attack</td>\n",
       "      <td>Alger</td>\n",
       "      <td>8</td>\n",
       "    </tr>\n",
       "    <tr>\n",
       "      <th>3</th>\n",
       "      <td>12</td>\n",
       "      <td>Algeria</td>\n",
       "      <td>1997</td>\n",
       "      <td>Violence against civilians</td>\n",
       "      <td>Attack</td>\n",
       "      <td>Blida</td>\n",
       "      <td>9</td>\n",
       "    </tr>\n",
       "    <tr>\n",
       "      <th>4</th>\n",
       "      <td>12</td>\n",
       "      <td>Algeria</td>\n",
       "      <td>1997</td>\n",
       "      <td>Violence against civilians</td>\n",
       "      <td>Attack</td>\n",
       "      <td>Bordj Bou Arreridj</td>\n",
       "      <td>2</td>\n",
       "    </tr>\n",
       "    <tr>\n",
       "      <th>...</th>\n",
       "      <td>...</td>\n",
       "      <td>...</td>\n",
       "      <td>...</td>\n",
       "      <td>...</td>\n",
       "      <td>...</td>\n",
       "      <td>...</td>\n",
       "      <td>...</td>\n",
       "    </tr>\n",
       "    <tr>\n",
       "      <th>2168</th>\n",
       "      <td>854</td>\n",
       "      <td>Burkina Faso</td>\n",
       "      <td>2022</td>\n",
       "      <td>Violence against civilians</td>\n",
       "      <td>Sexual violence</td>\n",
       "      <td>Est</td>\n",
       "      <td>2</td>\n",
       "    </tr>\n",
       "    <tr>\n",
       "      <th>2169</th>\n",
       "      <td>854</td>\n",
       "      <td>Burkina Faso</td>\n",
       "      <td>2022</td>\n",
       "      <td>Violence against civilians</td>\n",
       "      <td>Sexual violence</td>\n",
       "      <td>Sahel</td>\n",
       "      <td>2</td>\n",
       "    </tr>\n",
       "    <tr>\n",
       "      <th>2170</th>\n",
       "      <td>894</td>\n",
       "      <td>Zambia</td>\n",
       "      <td>1999</td>\n",
       "      <td>Violence against civilians</td>\n",
       "      <td>Abduction/forced disappearance</td>\n",
       "      <td>North-Western</td>\n",
       "      <td>1</td>\n",
       "    </tr>\n",
       "    <tr>\n",
       "      <th>2171</th>\n",
       "      <td>894</td>\n",
       "      <td>Zambia</td>\n",
       "      <td>2000</td>\n",
       "      <td>Violence against civilians</td>\n",
       "      <td>Attack</td>\n",
       "      <td>North-Western</td>\n",
       "      <td>1</td>\n",
       "    </tr>\n",
       "    <tr>\n",
       "      <th>2172</th>\n",
       "      <td>894</td>\n",
       "      <td>Zambia</td>\n",
       "      <td>2002</td>\n",
       "      <td>Violence against civilians</td>\n",
       "      <td>Sexual violence</td>\n",
       "      <td>Western</td>\n",
       "      <td>1</td>\n",
       "    </tr>\n",
       "  </tbody>\n",
       "</table>\n",
       "<p>2173 rows × 7 columns</p>\n",
       "</div>"
      ],
      "text/plain": [
       "      ISO       COUNTRY  YEAR                  EVENT_TYPE  \\\n",
       "0      12       Algeria  1997  Violence against civilians   \n",
       "1      12       Algeria  1997  Violence against civilians   \n",
       "2      12       Algeria  1997  Violence against civilians   \n",
       "3      12       Algeria  1997  Violence against civilians   \n",
       "4      12       Algeria  1997  Violence against civilians   \n",
       "...   ...           ...   ...                         ...   \n",
       "2168  854  Burkina Faso  2022  Violence against civilians   \n",
       "2169  854  Burkina Faso  2022  Violence against civilians   \n",
       "2170  894        Zambia  1999  Violence against civilians   \n",
       "2171  894        Zambia  2000  Violence against civilians   \n",
       "2172  894        Zambia  2002  Violence against civilians   \n",
       "\n",
       "                      SUB_EVENT_TYPE              ADMIN1  EVENT_ADMIN2  \n",
       "0                             Attack           Ain Defla             1  \n",
       "1                             Attack      Ain Temouchent             2  \n",
       "2                             Attack               Alger             8  \n",
       "3                             Attack               Blida             9  \n",
       "4                             Attack  Bordj Bou Arreridj             2  \n",
       "...                              ...                 ...           ...  \n",
       "2168                 Sexual violence                 Est             2  \n",
       "2169                 Sexual violence               Sahel             2  \n",
       "2170  Abduction/forced disappearance       North-Western             1  \n",
       "2171                          Attack       North-Western             1  \n",
       "2172                 Sexual violence             Western             1  \n",
       "\n",
       "[2173 rows x 7 columns]"
      ]
     },
     "execution_count": 9,
     "metadata": {},
     "output_type": "execute_result"
    }
   ],
   "source": [
    "EVENT_ADMIN2"
   ]
  },
  {
   "cell_type": "markdown",
   "id": "b4a166ca",
   "metadata": {},
   "source": [
    "## Merging and renaming of variables"
   ]
  },
  {
   "cell_type": "code",
   "execution_count": 10,
   "id": "a2a7435e",
   "metadata": {},
   "outputs": [],
   "source": [
    "evenT = pd.merge(dataset_fatalities, dataset_event, on=[\"ISO\",'COUNTRY',\"YEAR\",'EVENT_TYPE', 'SUB_EVENT_TYPE','ADMIN1' ])\n",
    "evenT = pd.merge(evenT, EVENT_ADMIN2, on=[\"ISO\",'COUNTRY',\"YEAR\",'EVENT_TYPE', 'SUB_EVENT_TYPE','ADMIN1' ])\n",
    "evenT = pd.DataFrame(evenT, columns=['ISO','COUNTRY','YEAR', 'EVENT_TYPE', 'SUB_EVENT_TYPE','ADMIN1','EVENT_FATALITIES','EVENT_FREQUENCIES','EVENT_ADMIN2'])\n",
    "evenT.columns = ['Numeric code','COUNTRY','YEAR', 'EVENT_TYPE', 'SUB_EVENT_TYPE','ADMIN1','EVENT_FATALITIES','EVENT_FREQUENCIES','EVENT_ADMIN2']"
   ]
  },
  {
   "cell_type": "code",
   "execution_count": 11,
   "id": "864334d3",
   "metadata": {},
   "outputs": [
    {
     "data": {
      "text/html": [
       "<div>\n",
       "<style scoped>\n",
       "    .dataframe tbody tr th:only-of-type {\n",
       "        vertical-align: middle;\n",
       "    }\n",
       "\n",
       "    .dataframe tbody tr th {\n",
       "        vertical-align: top;\n",
       "    }\n",
       "\n",
       "    .dataframe thead th {\n",
       "        text-align: right;\n",
       "    }\n",
       "</style>\n",
       "<table border=\"1\" class=\"dataframe\">\n",
       "  <thead>\n",
       "    <tr style=\"text-align: right;\">\n",
       "      <th></th>\n",
       "      <th>Numeric code</th>\n",
       "      <th>COUNTRY</th>\n",
       "      <th>YEAR</th>\n",
       "      <th>EVENT_TYPE</th>\n",
       "      <th>SUB_EVENT_TYPE</th>\n",
       "      <th>ADMIN1</th>\n",
       "      <th>EVENT_FATALITIES</th>\n",
       "      <th>EVENT_FREQUENCIES</th>\n",
       "      <th>EVENT_ADMIN2</th>\n",
       "    </tr>\n",
       "  </thead>\n",
       "  <tbody>\n",
       "    <tr>\n",
       "      <th>0</th>\n",
       "      <td>12</td>\n",
       "      <td>Algeria</td>\n",
       "      <td>1997</td>\n",
       "      <td>Violence against civilians</td>\n",
       "      <td>Attack</td>\n",
       "      <td>Ain Defla</td>\n",
       "      <td>120</td>\n",
       "      <td>4</td>\n",
       "      <td>1</td>\n",
       "    </tr>\n",
       "    <tr>\n",
       "      <th>1</th>\n",
       "      <td>12</td>\n",
       "      <td>Algeria</td>\n",
       "      <td>1997</td>\n",
       "      <td>Violence against civilians</td>\n",
       "      <td>Attack</td>\n",
       "      <td>Ain Temouchent</td>\n",
       "      <td>49</td>\n",
       "      <td>2</td>\n",
       "      <td>2</td>\n",
       "    </tr>\n",
       "    <tr>\n",
       "      <th>2</th>\n",
       "      <td>12</td>\n",
       "      <td>Algeria</td>\n",
       "      <td>1997</td>\n",
       "      <td>Violence against civilians</td>\n",
       "      <td>Attack</td>\n",
       "      <td>Alger</td>\n",
       "      <td>540</td>\n",
       "      <td>14</td>\n",
       "      <td>8</td>\n",
       "    </tr>\n",
       "    <tr>\n",
       "      <th>3</th>\n",
       "      <td>12</td>\n",
       "      <td>Algeria</td>\n",
       "      <td>1997</td>\n",
       "      <td>Violence against civilians</td>\n",
       "      <td>Attack</td>\n",
       "      <td>Blida</td>\n",
       "      <td>517</td>\n",
       "      <td>21</td>\n",
       "      <td>9</td>\n",
       "    </tr>\n",
       "    <tr>\n",
       "      <th>4</th>\n",
       "      <td>12</td>\n",
       "      <td>Algeria</td>\n",
       "      <td>1997</td>\n",
       "      <td>Violence against civilians</td>\n",
       "      <td>Attack</td>\n",
       "      <td>Bordj Bou Arreridj</td>\n",
       "      <td>34</td>\n",
       "      <td>2</td>\n",
       "      <td>2</td>\n",
       "    </tr>\n",
       "    <tr>\n",
       "      <th>...</th>\n",
       "      <td>...</td>\n",
       "      <td>...</td>\n",
       "      <td>...</td>\n",
       "      <td>...</td>\n",
       "      <td>...</td>\n",
       "      <td>...</td>\n",
       "      <td>...</td>\n",
       "      <td>...</td>\n",
       "      <td>...</td>\n",
       "    </tr>\n",
       "    <tr>\n",
       "      <th>2168</th>\n",
       "      <td>854</td>\n",
       "      <td>Burkina Faso</td>\n",
       "      <td>2022</td>\n",
       "      <td>Violence against civilians</td>\n",
       "      <td>Sexual violence</td>\n",
       "      <td>Est</td>\n",
       "      <td>0</td>\n",
       "      <td>3</td>\n",
       "      <td>2</td>\n",
       "    </tr>\n",
       "    <tr>\n",
       "      <th>2169</th>\n",
       "      <td>854</td>\n",
       "      <td>Burkina Faso</td>\n",
       "      <td>2022</td>\n",
       "      <td>Violence against civilians</td>\n",
       "      <td>Sexual violence</td>\n",
       "      <td>Sahel</td>\n",
       "      <td>0</td>\n",
       "      <td>2</td>\n",
       "      <td>2</td>\n",
       "    </tr>\n",
       "    <tr>\n",
       "      <th>2170</th>\n",
       "      <td>894</td>\n",
       "      <td>Zambia</td>\n",
       "      <td>1999</td>\n",
       "      <td>Violence against civilians</td>\n",
       "      <td>Abduction/forced disappearance</td>\n",
       "      <td>North-Western</td>\n",
       "      <td>0</td>\n",
       "      <td>1</td>\n",
       "      <td>1</td>\n",
       "    </tr>\n",
       "    <tr>\n",
       "      <th>2171</th>\n",
       "      <td>894</td>\n",
       "      <td>Zambia</td>\n",
       "      <td>2000</td>\n",
       "      <td>Violence against civilians</td>\n",
       "      <td>Attack</td>\n",
       "      <td>North-Western</td>\n",
       "      <td>0</td>\n",
       "      <td>3</td>\n",
       "      <td>1</td>\n",
       "    </tr>\n",
       "    <tr>\n",
       "      <th>2172</th>\n",
       "      <td>894</td>\n",
       "      <td>Zambia</td>\n",
       "      <td>2002</td>\n",
       "      <td>Violence against civilians</td>\n",
       "      <td>Sexual violence</td>\n",
       "      <td>Western</td>\n",
       "      <td>0</td>\n",
       "      <td>1</td>\n",
       "      <td>1</td>\n",
       "    </tr>\n",
       "  </tbody>\n",
       "</table>\n",
       "<p>2173 rows × 9 columns</p>\n",
       "</div>"
      ],
      "text/plain": [
       "      Numeric code       COUNTRY  YEAR                  EVENT_TYPE  \\\n",
       "0               12       Algeria  1997  Violence against civilians   \n",
       "1               12       Algeria  1997  Violence against civilians   \n",
       "2               12       Algeria  1997  Violence against civilians   \n",
       "3               12       Algeria  1997  Violence against civilians   \n",
       "4               12       Algeria  1997  Violence against civilians   \n",
       "...            ...           ...   ...                         ...   \n",
       "2168           854  Burkina Faso  2022  Violence against civilians   \n",
       "2169           854  Burkina Faso  2022  Violence against civilians   \n",
       "2170           894        Zambia  1999  Violence against civilians   \n",
       "2171           894        Zambia  2000  Violence against civilians   \n",
       "2172           894        Zambia  2002  Violence against civilians   \n",
       "\n",
       "                      SUB_EVENT_TYPE              ADMIN1  EVENT_FATALITIES  \\\n",
       "0                             Attack           Ain Defla               120   \n",
       "1                             Attack      Ain Temouchent                49   \n",
       "2                             Attack               Alger               540   \n",
       "3                             Attack               Blida               517   \n",
       "4                             Attack  Bordj Bou Arreridj                34   \n",
       "...                              ...                 ...               ...   \n",
       "2168                 Sexual violence                 Est                 0   \n",
       "2169                 Sexual violence               Sahel                 0   \n",
       "2170  Abduction/forced disappearance       North-Western                 0   \n",
       "2171                          Attack       North-Western                 0   \n",
       "2172                 Sexual violence             Western                 0   \n",
       "\n",
       "      EVENT_FREQUENCIES  EVENT_ADMIN2  \n",
       "0                     4             1  \n",
       "1                     2             2  \n",
       "2                    14             8  \n",
       "3                    21             9  \n",
       "4                     2             2  \n",
       "...                 ...           ...  \n",
       "2168                  3             2  \n",
       "2169                  2             2  \n",
       "2170                  1             1  \n",
       "2171                  3             1  \n",
       "2172                  1             1  \n",
       "\n",
       "[2173 rows x 9 columns]"
      ]
     },
     "execution_count": 11,
     "metadata": {},
     "output_type": "execute_result"
    }
   ],
   "source": [
    "evenT"
   ]
  },
  {
   "cell_type": "markdown",
   "id": "dcc9283a",
   "metadata": {},
   "source": [
    "Here we load a database containing the ISO codes of the different countries. "
   ]
  },
  {
   "cell_type": "code",
   "execution_count": 12,
   "id": "87ff885e",
   "metadata": {},
   "outputs": [],
   "source": [
    "ISO = pd.read_csv(\"wikipedia-iso-country-codes.csv\")\n",
    "ISO.columns = ['country','Alpha-2 code','ISO','Numeric code','ISO 3166-2']"
   ]
  },
  {
   "cell_type": "code",
   "execution_count": 13,
   "id": "6a72ce5a",
   "metadata": {},
   "outputs": [
    {
     "data": {
      "text/html": [
       "<div>\n",
       "<style scoped>\n",
       "    .dataframe tbody tr th:only-of-type {\n",
       "        vertical-align: middle;\n",
       "    }\n",
       "\n",
       "    .dataframe tbody tr th {\n",
       "        vertical-align: top;\n",
       "    }\n",
       "\n",
       "    .dataframe thead th {\n",
       "        text-align: right;\n",
       "    }\n",
       "</style>\n",
       "<table border=\"1\" class=\"dataframe\">\n",
       "  <thead>\n",
       "    <tr style=\"text-align: right;\">\n",
       "      <th></th>\n",
       "      <th>country</th>\n",
       "      <th>Alpha-2 code</th>\n",
       "      <th>ISO</th>\n",
       "      <th>Numeric code</th>\n",
       "      <th>ISO 3166-2</th>\n",
       "    </tr>\n",
       "  </thead>\n",
       "  <tbody>\n",
       "    <tr>\n",
       "      <th>0</th>\n",
       "      <td>Afghanistan</td>\n",
       "      <td>AF</td>\n",
       "      <td>AFG</td>\n",
       "      <td>4</td>\n",
       "      <td>ISO 3166-2:AF</td>\n",
       "    </tr>\n",
       "    <tr>\n",
       "      <th>1</th>\n",
       "      <td>Åland Islands</td>\n",
       "      <td>AX</td>\n",
       "      <td>ALA</td>\n",
       "      <td>248</td>\n",
       "      <td>ISO 3166-2:AX</td>\n",
       "    </tr>\n",
       "    <tr>\n",
       "      <th>2</th>\n",
       "      <td>Albania</td>\n",
       "      <td>AL</td>\n",
       "      <td>ALB</td>\n",
       "      <td>8</td>\n",
       "      <td>ISO 3166-2:AL</td>\n",
       "    </tr>\n",
       "    <tr>\n",
       "      <th>3</th>\n",
       "      <td>Algeria</td>\n",
       "      <td>DZ</td>\n",
       "      <td>DZA</td>\n",
       "      <td>12</td>\n",
       "      <td>ISO 3166-2:DZ</td>\n",
       "    </tr>\n",
       "    <tr>\n",
       "      <th>4</th>\n",
       "      <td>American Samoa</td>\n",
       "      <td>AS</td>\n",
       "      <td>ASM</td>\n",
       "      <td>16</td>\n",
       "      <td>ISO 3166-2:AS</td>\n",
       "    </tr>\n",
       "    <tr>\n",
       "      <th>...</th>\n",
       "      <td>...</td>\n",
       "      <td>...</td>\n",
       "      <td>...</td>\n",
       "      <td>...</td>\n",
       "      <td>...</td>\n",
       "    </tr>\n",
       "    <tr>\n",
       "      <th>241</th>\n",
       "      <td>Wallis and Futuna</td>\n",
       "      <td>WF</td>\n",
       "      <td>WLF</td>\n",
       "      <td>876</td>\n",
       "      <td>ISO 3166-2:WF</td>\n",
       "    </tr>\n",
       "    <tr>\n",
       "      <th>242</th>\n",
       "      <td>Western Sahara</td>\n",
       "      <td>EH</td>\n",
       "      <td>ESH</td>\n",
       "      <td>732</td>\n",
       "      <td>ISO 3166-2:EH</td>\n",
       "    </tr>\n",
       "    <tr>\n",
       "      <th>243</th>\n",
       "      <td>Yemen</td>\n",
       "      <td>YE</td>\n",
       "      <td>YEM</td>\n",
       "      <td>887</td>\n",
       "      <td>ISO 3166-2:YE</td>\n",
       "    </tr>\n",
       "    <tr>\n",
       "      <th>244</th>\n",
       "      <td>Zambia</td>\n",
       "      <td>ZM</td>\n",
       "      <td>ZMB</td>\n",
       "      <td>894</td>\n",
       "      <td>ISO 3166-2:ZM</td>\n",
       "    </tr>\n",
       "    <tr>\n",
       "      <th>245</th>\n",
       "      <td>Zimbabwe</td>\n",
       "      <td>ZW</td>\n",
       "      <td>ZWE</td>\n",
       "      <td>716</td>\n",
       "      <td>ISO 3166-2:ZW</td>\n",
       "    </tr>\n",
       "  </tbody>\n",
       "</table>\n",
       "<p>246 rows × 5 columns</p>\n",
       "</div>"
      ],
      "text/plain": [
       "               country Alpha-2 code  ISO  Numeric code     ISO 3166-2\n",
       "0          Afghanistan           AF  AFG             4  ISO 3166-2:AF\n",
       "1        Åland Islands           AX  ALA           248  ISO 3166-2:AX\n",
       "2              Albania           AL  ALB             8  ISO 3166-2:AL\n",
       "3              Algeria           DZ  DZA            12  ISO 3166-2:DZ\n",
       "4       American Samoa           AS  ASM            16  ISO 3166-2:AS\n",
       "..                 ...          ...  ...           ...            ...\n",
       "241  Wallis and Futuna           WF  WLF           876  ISO 3166-2:WF\n",
       "242     Western Sahara           EH  ESH           732  ISO 3166-2:EH\n",
       "243              Yemen           YE  YEM           887  ISO 3166-2:YE\n",
       "244             Zambia           ZM  ZMB           894  ISO 3166-2:ZM\n",
       "245           Zimbabwe           ZW  ZWE           716  ISO 3166-2:ZW\n",
       "\n",
       "[246 rows x 5 columns]"
      ]
     },
     "execution_count": 13,
     "metadata": {},
     "output_type": "execute_result"
    }
   ],
   "source": [
    "ISO"
   ]
  },
  {
   "cell_type": "markdown",
   "id": "f9022209",
   "metadata": {},
   "source": [
    "We use the 'numeric code' of the countries to extract  their ISO codes.\n",
    "These ISO codes will allow us to merge our database with the shapefile to be able to create the maps"
   ]
  },
  {
   "cell_type": "code",
   "execution_count": 14,
   "id": "ac2893f0",
   "metadata": {},
   "outputs": [],
   "source": [
    "df_new = pd.merge(ISO, evenT, how='right', on='Numeric code' )"
   ]
  },
  {
   "cell_type": "code",
   "execution_count": 15,
   "id": "91f233dc",
   "metadata": {},
   "outputs": [
    {
     "data": {
      "text/html": [
       "<div>\n",
       "<style scoped>\n",
       "    .dataframe tbody tr th:only-of-type {\n",
       "        vertical-align: middle;\n",
       "    }\n",
       "\n",
       "    .dataframe tbody tr th {\n",
       "        vertical-align: top;\n",
       "    }\n",
       "\n",
       "    .dataframe thead th {\n",
       "        text-align: right;\n",
       "    }\n",
       "</style>\n",
       "<table border=\"1\" class=\"dataframe\">\n",
       "  <thead>\n",
       "    <tr style=\"text-align: right;\">\n",
       "      <th></th>\n",
       "      <th>country</th>\n",
       "      <th>Alpha-2 code</th>\n",
       "      <th>ISO</th>\n",
       "      <th>Numeric code</th>\n",
       "      <th>ISO 3166-2</th>\n",
       "      <th>COUNTRY</th>\n",
       "      <th>YEAR</th>\n",
       "      <th>EVENT_TYPE</th>\n",
       "      <th>SUB_EVENT_TYPE</th>\n",
       "      <th>ADMIN1</th>\n",
       "      <th>EVENT_FATALITIES</th>\n",
       "      <th>EVENT_FREQUENCIES</th>\n",
       "      <th>EVENT_ADMIN2</th>\n",
       "    </tr>\n",
       "  </thead>\n",
       "  <tbody>\n",
       "    <tr>\n",
       "      <th>0</th>\n",
       "      <td>Algeria</td>\n",
       "      <td>DZ</td>\n",
       "      <td>DZA</td>\n",
       "      <td>12</td>\n",
       "      <td>ISO 3166-2:DZ</td>\n",
       "      <td>Algeria</td>\n",
       "      <td>1997</td>\n",
       "      <td>Violence against civilians</td>\n",
       "      <td>Attack</td>\n",
       "      <td>Ain Defla</td>\n",
       "      <td>120</td>\n",
       "      <td>4</td>\n",
       "      <td>1</td>\n",
       "    </tr>\n",
       "    <tr>\n",
       "      <th>1</th>\n",
       "      <td>Algeria</td>\n",
       "      <td>DZ</td>\n",
       "      <td>DZA</td>\n",
       "      <td>12</td>\n",
       "      <td>ISO 3166-2:DZ</td>\n",
       "      <td>Algeria</td>\n",
       "      <td>1997</td>\n",
       "      <td>Violence against civilians</td>\n",
       "      <td>Attack</td>\n",
       "      <td>Ain Temouchent</td>\n",
       "      <td>49</td>\n",
       "      <td>2</td>\n",
       "      <td>2</td>\n",
       "    </tr>\n",
       "    <tr>\n",
       "      <th>2</th>\n",
       "      <td>Algeria</td>\n",
       "      <td>DZ</td>\n",
       "      <td>DZA</td>\n",
       "      <td>12</td>\n",
       "      <td>ISO 3166-2:DZ</td>\n",
       "      <td>Algeria</td>\n",
       "      <td>1997</td>\n",
       "      <td>Violence against civilians</td>\n",
       "      <td>Attack</td>\n",
       "      <td>Alger</td>\n",
       "      <td>540</td>\n",
       "      <td>14</td>\n",
       "      <td>8</td>\n",
       "    </tr>\n",
       "    <tr>\n",
       "      <th>3</th>\n",
       "      <td>Algeria</td>\n",
       "      <td>DZ</td>\n",
       "      <td>DZA</td>\n",
       "      <td>12</td>\n",
       "      <td>ISO 3166-2:DZ</td>\n",
       "      <td>Algeria</td>\n",
       "      <td>1997</td>\n",
       "      <td>Violence against civilians</td>\n",
       "      <td>Attack</td>\n",
       "      <td>Blida</td>\n",
       "      <td>517</td>\n",
       "      <td>21</td>\n",
       "      <td>9</td>\n",
       "    </tr>\n",
       "    <tr>\n",
       "      <th>4</th>\n",
       "      <td>Algeria</td>\n",
       "      <td>DZ</td>\n",
       "      <td>DZA</td>\n",
       "      <td>12</td>\n",
       "      <td>ISO 3166-2:DZ</td>\n",
       "      <td>Algeria</td>\n",
       "      <td>1997</td>\n",
       "      <td>Violence against civilians</td>\n",
       "      <td>Attack</td>\n",
       "      <td>Bordj Bou Arreridj</td>\n",
       "      <td>34</td>\n",
       "      <td>2</td>\n",
       "      <td>2</td>\n",
       "    </tr>\n",
       "    <tr>\n",
       "      <th>...</th>\n",
       "      <td>...</td>\n",
       "      <td>...</td>\n",
       "      <td>...</td>\n",
       "      <td>...</td>\n",
       "      <td>...</td>\n",
       "      <td>...</td>\n",
       "      <td>...</td>\n",
       "      <td>...</td>\n",
       "      <td>...</td>\n",
       "      <td>...</td>\n",
       "      <td>...</td>\n",
       "      <td>...</td>\n",
       "      <td>...</td>\n",
       "    </tr>\n",
       "    <tr>\n",
       "      <th>2168</th>\n",
       "      <td>Burkina Faso</td>\n",
       "      <td>BF</td>\n",
       "      <td>BFA</td>\n",
       "      <td>854</td>\n",
       "      <td>ISO 3166-2:BF</td>\n",
       "      <td>Burkina Faso</td>\n",
       "      <td>2022</td>\n",
       "      <td>Violence against civilians</td>\n",
       "      <td>Sexual violence</td>\n",
       "      <td>Est</td>\n",
       "      <td>0</td>\n",
       "      <td>3</td>\n",
       "      <td>2</td>\n",
       "    </tr>\n",
       "    <tr>\n",
       "      <th>2169</th>\n",
       "      <td>Burkina Faso</td>\n",
       "      <td>BF</td>\n",
       "      <td>BFA</td>\n",
       "      <td>854</td>\n",
       "      <td>ISO 3166-2:BF</td>\n",
       "      <td>Burkina Faso</td>\n",
       "      <td>2022</td>\n",
       "      <td>Violence against civilians</td>\n",
       "      <td>Sexual violence</td>\n",
       "      <td>Sahel</td>\n",
       "      <td>0</td>\n",
       "      <td>2</td>\n",
       "      <td>2</td>\n",
       "    </tr>\n",
       "    <tr>\n",
       "      <th>2170</th>\n",
       "      <td>Zambia</td>\n",
       "      <td>ZM</td>\n",
       "      <td>ZMB</td>\n",
       "      <td>894</td>\n",
       "      <td>ISO 3166-2:ZM</td>\n",
       "      <td>Zambia</td>\n",
       "      <td>1999</td>\n",
       "      <td>Violence against civilians</td>\n",
       "      <td>Abduction/forced disappearance</td>\n",
       "      <td>North-Western</td>\n",
       "      <td>0</td>\n",
       "      <td>1</td>\n",
       "      <td>1</td>\n",
       "    </tr>\n",
       "    <tr>\n",
       "      <th>2171</th>\n",
       "      <td>Zambia</td>\n",
       "      <td>ZM</td>\n",
       "      <td>ZMB</td>\n",
       "      <td>894</td>\n",
       "      <td>ISO 3166-2:ZM</td>\n",
       "      <td>Zambia</td>\n",
       "      <td>2000</td>\n",
       "      <td>Violence against civilians</td>\n",
       "      <td>Attack</td>\n",
       "      <td>North-Western</td>\n",
       "      <td>0</td>\n",
       "      <td>3</td>\n",
       "      <td>1</td>\n",
       "    </tr>\n",
       "    <tr>\n",
       "      <th>2172</th>\n",
       "      <td>Zambia</td>\n",
       "      <td>ZM</td>\n",
       "      <td>ZMB</td>\n",
       "      <td>894</td>\n",
       "      <td>ISO 3166-2:ZM</td>\n",
       "      <td>Zambia</td>\n",
       "      <td>2002</td>\n",
       "      <td>Violence against civilians</td>\n",
       "      <td>Sexual violence</td>\n",
       "      <td>Western</td>\n",
       "      <td>0</td>\n",
       "      <td>1</td>\n",
       "      <td>1</td>\n",
       "    </tr>\n",
       "  </tbody>\n",
       "</table>\n",
       "<p>2173 rows × 13 columns</p>\n",
       "</div>"
      ],
      "text/plain": [
       "           country Alpha-2 code  ISO  Numeric code     ISO 3166-2  \\\n",
       "0          Algeria           DZ  DZA            12  ISO 3166-2:DZ   \n",
       "1          Algeria           DZ  DZA            12  ISO 3166-2:DZ   \n",
       "2          Algeria           DZ  DZA            12  ISO 3166-2:DZ   \n",
       "3          Algeria           DZ  DZA            12  ISO 3166-2:DZ   \n",
       "4          Algeria           DZ  DZA            12  ISO 3166-2:DZ   \n",
       "...            ...          ...  ...           ...            ...   \n",
       "2168  Burkina Faso           BF  BFA           854  ISO 3166-2:BF   \n",
       "2169  Burkina Faso           BF  BFA           854  ISO 3166-2:BF   \n",
       "2170        Zambia           ZM  ZMB           894  ISO 3166-2:ZM   \n",
       "2171        Zambia           ZM  ZMB           894  ISO 3166-2:ZM   \n",
       "2172        Zambia           ZM  ZMB           894  ISO 3166-2:ZM   \n",
       "\n",
       "           COUNTRY  YEAR                  EVENT_TYPE  \\\n",
       "0          Algeria  1997  Violence against civilians   \n",
       "1          Algeria  1997  Violence against civilians   \n",
       "2          Algeria  1997  Violence against civilians   \n",
       "3          Algeria  1997  Violence against civilians   \n",
       "4          Algeria  1997  Violence against civilians   \n",
       "...            ...   ...                         ...   \n",
       "2168  Burkina Faso  2022  Violence against civilians   \n",
       "2169  Burkina Faso  2022  Violence against civilians   \n",
       "2170        Zambia  1999  Violence against civilians   \n",
       "2171        Zambia  2000  Violence against civilians   \n",
       "2172        Zambia  2002  Violence against civilians   \n",
       "\n",
       "                      SUB_EVENT_TYPE              ADMIN1  EVENT_FATALITIES  \\\n",
       "0                             Attack           Ain Defla               120   \n",
       "1                             Attack      Ain Temouchent                49   \n",
       "2                             Attack               Alger               540   \n",
       "3                             Attack               Blida               517   \n",
       "4                             Attack  Bordj Bou Arreridj                34   \n",
       "...                              ...                 ...               ...   \n",
       "2168                 Sexual violence                 Est                 0   \n",
       "2169                 Sexual violence               Sahel                 0   \n",
       "2170  Abduction/forced disappearance       North-Western                 0   \n",
       "2171                          Attack       North-Western                 0   \n",
       "2172                 Sexual violence             Western                 0   \n",
       "\n",
       "      EVENT_FREQUENCIES  EVENT_ADMIN2  \n",
       "0                     4             1  \n",
       "1                     2             2  \n",
       "2                    14             8  \n",
       "3                    21             9  \n",
       "4                     2             2  \n",
       "...                 ...           ...  \n",
       "2168                  3             2  \n",
       "2169                  2             2  \n",
       "2170                  1             1  \n",
       "2171                  3             1  \n",
       "2172                  1             1  \n",
       "\n",
       "[2173 rows x 13 columns]"
      ]
     },
     "execution_count": 15,
     "metadata": {},
     "output_type": "execute_result"
    }
   ],
   "source": [
    "df_new"
   ]
  },
  {
   "cell_type": "markdown",
   "id": "3cbcd219",
   "metadata": {},
   "source": [
    "## Loading the shapefile"
   ]
  },
  {
   "cell_type": "code",
   "execution_count": 16,
   "id": "bfcc08f2",
   "metadata": {},
   "outputs": [
    {
     "data": {
      "text/html": [
       "<div>\n",
       "<style scoped>\n",
       "    .dataframe tbody tr th:only-of-type {\n",
       "        vertical-align: middle;\n",
       "    }\n",
       "\n",
       "    .dataframe tbody tr th {\n",
       "        vertical-align: top;\n",
       "    }\n",
       "\n",
       "    .dataframe thead th {\n",
       "        text-align: right;\n",
       "    }\n",
       "</style>\n",
       "<table border=\"1\" class=\"dataframe\">\n",
       "  <thead>\n",
       "    <tr style=\"text-align: right;\">\n",
       "      <th></th>\n",
       "      <th>country</th>\n",
       "      <th>ISO</th>\n",
       "      <th>geometry</th>\n",
       "    </tr>\n",
       "  </thead>\n",
       "  <tbody>\n",
       "    <tr>\n",
       "      <th>0</th>\n",
       "      <td>Fiji</td>\n",
       "      <td>FJI</td>\n",
       "      <td>MULTIPOLYGON (((180.00000 -16.06713, 180.00000...</td>\n",
       "    </tr>\n",
       "    <tr>\n",
       "      <th>1</th>\n",
       "      <td>United Republic of Tanzania</td>\n",
       "      <td>TZA</td>\n",
       "      <td>POLYGON ((33.90371 -0.95000, 34.07262 -1.05982...</td>\n",
       "    </tr>\n",
       "    <tr>\n",
       "      <th>2</th>\n",
       "      <td>Western Sahara</td>\n",
       "      <td>SAH</td>\n",
       "      <td>POLYGON ((-8.66559 27.65643, -8.66512 27.58948...</td>\n",
       "    </tr>\n",
       "    <tr>\n",
       "      <th>3</th>\n",
       "      <td>Canada</td>\n",
       "      <td>CAN</td>\n",
       "      <td>MULTIPOLYGON (((-122.84000 49.00000, -122.9742...</td>\n",
       "    </tr>\n",
       "    <tr>\n",
       "      <th>4</th>\n",
       "      <td>United States of America</td>\n",
       "      <td>USA</td>\n",
       "      <td>MULTIPOLYGON (((-122.84000 49.00000, -120.0000...</td>\n",
       "    </tr>\n",
       "    <tr>\n",
       "      <th>...</th>\n",
       "      <td>...</td>\n",
       "      <td>...</td>\n",
       "      <td>...</td>\n",
       "    </tr>\n",
       "    <tr>\n",
       "      <th>172</th>\n",
       "      <td>Republic of Serbia</td>\n",
       "      <td>SRB</td>\n",
       "      <td>POLYGON ((18.82982 45.90887, 18.82984 45.90888...</td>\n",
       "    </tr>\n",
       "    <tr>\n",
       "      <th>173</th>\n",
       "      <td>Montenegro</td>\n",
       "      <td>MNE</td>\n",
       "      <td>POLYGON ((20.07070 42.58863, 19.80161 42.50009...</td>\n",
       "    </tr>\n",
       "    <tr>\n",
       "      <th>174</th>\n",
       "      <td>Kosovo</td>\n",
       "      <td>KOS</td>\n",
       "      <td>POLYGON ((20.59025 41.85541, 20.52295 42.21787...</td>\n",
       "    </tr>\n",
       "    <tr>\n",
       "      <th>175</th>\n",
       "      <td>Trinidad and Tobago</td>\n",
       "      <td>TTO</td>\n",
       "      <td>POLYGON ((-61.68000 10.76000, -61.10500 10.890...</td>\n",
       "    </tr>\n",
       "    <tr>\n",
       "      <th>176</th>\n",
       "      <td>South Sudan</td>\n",
       "      <td>SDS</td>\n",
       "      <td>POLYGON ((30.83385 3.50917, 29.95350 4.17370, ...</td>\n",
       "    </tr>\n",
       "  </tbody>\n",
       "</table>\n",
       "<p>177 rows × 3 columns</p>\n",
       "</div>"
      ],
      "text/plain": [
       "                         country  ISO  \\\n",
       "0                           Fiji  FJI   \n",
       "1    United Republic of Tanzania  TZA   \n",
       "2                 Western Sahara  SAH   \n",
       "3                         Canada  CAN   \n",
       "4       United States of America  USA   \n",
       "..                           ...  ...   \n",
       "172           Republic of Serbia  SRB   \n",
       "173                   Montenegro  MNE   \n",
       "174                       Kosovo  KOS   \n",
       "175          Trinidad and Tobago  TTO   \n",
       "176                  South Sudan  SDS   \n",
       "\n",
       "                                              geometry  \n",
       "0    MULTIPOLYGON (((180.00000 -16.06713, 180.00000...  \n",
       "1    POLYGON ((33.90371 -0.95000, 34.07262 -1.05982...  \n",
       "2    POLYGON ((-8.66559 27.65643, -8.66512 27.58948...  \n",
       "3    MULTIPOLYGON (((-122.84000 49.00000, -122.9742...  \n",
       "4    MULTIPOLYGON (((-122.84000 49.00000, -120.0000...  \n",
       "..                                                 ...  \n",
       "172  POLYGON ((18.82982 45.90887, 18.82984 45.90888...  \n",
       "173  POLYGON ((20.07070 42.58863, 19.80161 42.50009...  \n",
       "174  POLYGON ((20.59025 41.85541, 20.52295 42.21787...  \n",
       "175  POLYGON ((-61.68000 10.76000, -61.10500 10.890...  \n",
       "176  POLYGON ((30.83385 3.50917, 29.95350 4.17370, ...  \n",
       "\n",
       "[177 rows x 3 columns]"
      ]
     },
     "execution_count": 16,
     "metadata": {},
     "output_type": "execute_result"
    }
   ],
   "source": [
    "import geopandas as gpd\n",
    "shapefile = 'map/ne_110m_admin_0_countries.shp'\n",
    "#Read shapefile using Geopandas\n",
    "gdf = gpd.read_file(shapefile)[['ADMIN', 'ADM0_A3', 'geometry']]\n",
    "#Rename columns.\n",
    "gdf.columns = ['country', 'ISO', 'geometry']\n",
    "gdf"
   ]
  },
  {
   "cell_type": "markdown",
   "id": "950db907",
   "metadata": {},
   "source": [
    "## Merging the shapefile data with the evenT database"
   ]
  },
  {
   "cell_type": "code",
   "execution_count": 17,
   "id": "0af32b10",
   "metadata": {},
   "outputs": [],
   "source": [
    "merged = pd.merge(gdf, df_new, how='right', on='ISO', validate = '1:m')"
   ]
  },
  {
   "cell_type": "markdown",
   "id": "93e1bba4",
   "metadata": {},
   "source": [
    "In order to perform our analyses, we define below the countries to be considered \n",
    "in the treaty group and in the control group. \n",
    "\n",
    "The countries in the treaty group are those in the Sahel zone.\n",
    "For the control group, we exclude all the countries adjacent to libya"
   ]
  },
  {
   "cell_type": "code",
   "execution_count": 18,
   "id": "c16dca4e",
   "metadata": {},
   "outputs": [],
   "source": [
    "# Treated group\n",
    "sahel_countries = ['Cameroon','Burkina Faso','Chad','South Sudan','Eritrea','Mauritania','Mali','Niger','Nigeria','Senegal','Algeria','Sudan','Libya']\n",
    "# Control group\n",
    "controled_countries = ['Kenya','Rwanda','Somalia',\"Sierra Leone\",'Liberia','Zambia','Angola','Burundi','Tanzania','Namibia','Angola']\n",
    "\n",
    "#controled_countries = ['Benin','Ethiopia','Gabon','Ghana','Ivory Coast','Kenya','Rwanda','Somalia','Uganda','Togo','Liberia','Central African Republic','Angola','Burundi']\n",
    "# study countries\n",
    "study_countries = sahel_countries + controled_countries"
   ]
  },
  {
   "cell_type": "markdown",
   "id": "512375cd",
   "metadata": {},
   "source": [
    "In this study, we consider countries where terrorist attacks against civilians took place between 2000 and 2020, i.e. about 10 years before and after the fall of the Gaddafi regime in 2011."
   ]
  },
  {
   "cell_type": "code",
   "execution_count": 19,
   "id": "5b7b9f7b",
   "metadata": {},
   "outputs": [],
   "source": [
    "merged = merged[merged['YEAR'] >=2000]\n",
    "merged = merged[merged['YEAR'] <=2020]\n",
    "\n",
    "# We define the variable PERIOD which takes the value 0 before 2011 and the value 1 in 2011 or after.\n",
    "merged['PERIOD']=np.where(merged['YEAR']>=2011 ,1,0)\n",
    "period_dictionary = {0 : 'Before 2011' , 1 : 'After 2011'}\n",
    "merged['PERIOD'] = merged.apply(lambda x: period_dictionary.get(x['PERIOD'], 'Unknown'), axis=1)\n",
    "\n",
    "# We define the variable TREATMENT which takes the value 0 for control countries and the value 1 for Sahel countries (treated group).\n",
    "merged['TREATMENT']=np.where(merged['COUNTRY'].isin(sahel_countries),1,0)\n",
    "treatment_dictionary = {0 : 'Control' , 1 : 'Treated'}\n",
    "merged['TREATMENT'] = merged.apply(lambda x: treatment_dictionary.get(x['TREATMENT'], 'Unknown'), axis=1)\n",
    "\n",
    "# For the following, only the countries of the treaty and control group are included\n",
    "first_final_df = merged[merged['COUNTRY'].isin(study_countries)]\n",
    "\n",
    "restricted_final_df = first_final_df"
   ]
  },
  {
   "cell_type": "code",
   "execution_count": 20,
   "id": "cec3ec81",
   "metadata": {},
   "outputs": [
    {
     "data": {
      "text/html": [
       "<div>\n",
       "<style scoped>\n",
       "    .dataframe tbody tr th:only-of-type {\n",
       "        vertical-align: middle;\n",
       "    }\n",
       "\n",
       "    .dataframe tbody tr th {\n",
       "        vertical-align: top;\n",
       "    }\n",
       "\n",
       "    .dataframe thead th {\n",
       "        text-align: right;\n",
       "    }\n",
       "</style>\n",
       "<table border=\"1\" class=\"dataframe\">\n",
       "  <thead>\n",
       "    <tr style=\"text-align: right;\">\n",
       "      <th></th>\n",
       "      <th>country_x</th>\n",
       "      <th>ISO</th>\n",
       "      <th>geometry</th>\n",
       "      <th>country_y</th>\n",
       "      <th>Alpha-2 code</th>\n",
       "      <th>Numeric code</th>\n",
       "      <th>ISO 3166-2</th>\n",
       "      <th>COUNTRY</th>\n",
       "      <th>YEAR</th>\n",
       "      <th>EVENT_TYPE</th>\n",
       "      <th>SUB_EVENT_TYPE</th>\n",
       "      <th>ADMIN1</th>\n",
       "      <th>EVENT_FATALITIES</th>\n",
       "      <th>EVENT_FREQUENCIES</th>\n",
       "      <th>EVENT_ADMIN2</th>\n",
       "      <th>PERIOD</th>\n",
       "      <th>TREATMENT</th>\n",
       "    </tr>\n",
       "  </thead>\n",
       "  <tbody>\n",
       "    <tr>\n",
       "      <th>43</th>\n",
       "      <td>Algeria</td>\n",
       "      <td>DZA</td>\n",
       "      <td>POLYGON ((-8.68440 27.39574, -8.66512 27.58948...</td>\n",
       "      <td>Algeria</td>\n",
       "      <td>DZ</td>\n",
       "      <td>12</td>\n",
       "      <td>ISO 3166-2:DZ</td>\n",
       "      <td>Algeria</td>\n",
       "      <td>2000</td>\n",
       "      <td>Violence against civilians</td>\n",
       "      <td>Attack</td>\n",
       "      <td>Ain Defla</td>\n",
       "      <td>28</td>\n",
       "      <td>4</td>\n",
       "      <td>3</td>\n",
       "      <td>Before 2011</td>\n",
       "      <td>Treated</td>\n",
       "    </tr>\n",
       "    <tr>\n",
       "      <th>44</th>\n",
       "      <td>Algeria</td>\n",
       "      <td>DZA</td>\n",
       "      <td>POLYGON ((-8.68440 27.39574, -8.66512 27.58948...</td>\n",
       "      <td>Algeria</td>\n",
       "      <td>DZ</td>\n",
       "      <td>12</td>\n",
       "      <td>ISO 3166-2:DZ</td>\n",
       "      <td>Algeria</td>\n",
       "      <td>2000</td>\n",
       "      <td>Violence against civilians</td>\n",
       "      <td>Attack</td>\n",
       "      <td>Alger</td>\n",
       "      <td>70</td>\n",
       "      <td>5</td>\n",
       "      <td>0</td>\n",
       "      <td>Before 2011</td>\n",
       "      <td>Treated</td>\n",
       "    </tr>\n",
       "    <tr>\n",
       "      <th>45</th>\n",
       "      <td>Algeria</td>\n",
       "      <td>DZA</td>\n",
       "      <td>POLYGON ((-8.68440 27.39574, -8.66512 27.58948...</td>\n",
       "      <td>Algeria</td>\n",
       "      <td>DZ</td>\n",
       "      <td>12</td>\n",
       "      <td>ISO 3166-2:DZ</td>\n",
       "      <td>Algeria</td>\n",
       "      <td>2000</td>\n",
       "      <td>Violence against civilians</td>\n",
       "      <td>Attack</td>\n",
       "      <td>Annaba</td>\n",
       "      <td>0</td>\n",
       "      <td>1</td>\n",
       "      <td>1</td>\n",
       "      <td>Before 2011</td>\n",
       "      <td>Treated</td>\n",
       "    </tr>\n",
       "    <tr>\n",
       "      <th>46</th>\n",
       "      <td>Algeria</td>\n",
       "      <td>DZA</td>\n",
       "      <td>POLYGON ((-8.68440 27.39574, -8.66512 27.58948...</td>\n",
       "      <td>Algeria</td>\n",
       "      <td>DZ</td>\n",
       "      <td>12</td>\n",
       "      <td>ISO 3166-2:DZ</td>\n",
       "      <td>Algeria</td>\n",
       "      <td>2000</td>\n",
       "      <td>Violence against civilians</td>\n",
       "      <td>Attack</td>\n",
       "      <td>Blida</td>\n",
       "      <td>25</td>\n",
       "      <td>2</td>\n",
       "      <td>2</td>\n",
       "      <td>Before 2011</td>\n",
       "      <td>Treated</td>\n",
       "    </tr>\n",
       "    <tr>\n",
       "      <th>47</th>\n",
       "      <td>Algeria</td>\n",
       "      <td>DZA</td>\n",
       "      <td>POLYGON ((-8.68440 27.39574, -8.66512 27.58948...</td>\n",
       "      <td>Algeria</td>\n",
       "      <td>DZ</td>\n",
       "      <td>12</td>\n",
       "      <td>ISO 3166-2:DZ</td>\n",
       "      <td>Algeria</td>\n",
       "      <td>2000</td>\n",
       "      <td>Violence against civilians</td>\n",
       "      <td>Attack</td>\n",
       "      <td>Bouira</td>\n",
       "      <td>7</td>\n",
       "      <td>3</td>\n",
       "      <td>2</td>\n",
       "      <td>Before 2011</td>\n",
       "      <td>Treated</td>\n",
       "    </tr>\n",
       "    <tr>\n",
       "      <th>...</th>\n",
       "      <td>...</td>\n",
       "      <td>...</td>\n",
       "      <td>...</td>\n",
       "      <td>...</td>\n",
       "      <td>...</td>\n",
       "      <td>...</td>\n",
       "      <td>...</td>\n",
       "      <td>...</td>\n",
       "      <td>...</td>\n",
       "      <td>...</td>\n",
       "      <td>...</td>\n",
       "      <td>...</td>\n",
       "      <td>...</td>\n",
       "      <td>...</td>\n",
       "      <td>...</td>\n",
       "      <td>...</td>\n",
       "      <td>...</td>\n",
       "    </tr>\n",
       "    <tr>\n",
       "      <th>2132</th>\n",
       "      <td>Burkina Faso</td>\n",
       "      <td>BFA</td>\n",
       "      <td>POLYGON ((-5.40434 10.37074, -5.47056 10.95127...</td>\n",
       "      <td>Burkina Faso</td>\n",
       "      <td>BF</td>\n",
       "      <td>854</td>\n",
       "      <td>ISO 3166-2:BF</td>\n",
       "      <td>Burkina Faso</td>\n",
       "      <td>2020</td>\n",
       "      <td>Violence against civilians</td>\n",
       "      <td>Attack</td>\n",
       "      <td>Nord</td>\n",
       "      <td>13</td>\n",
       "      <td>7</td>\n",
       "      <td>3</td>\n",
       "      <td>After 2011</td>\n",
       "      <td>Treated</td>\n",
       "    </tr>\n",
       "    <tr>\n",
       "      <th>2133</th>\n",
       "      <td>Burkina Faso</td>\n",
       "      <td>BFA</td>\n",
       "      <td>POLYGON ((-5.40434 10.37074, -5.47056 10.95127...</td>\n",
       "      <td>Burkina Faso</td>\n",
       "      <td>BF</td>\n",
       "      <td>854</td>\n",
       "      <td>ISO 3166-2:BF</td>\n",
       "      <td>Burkina Faso</td>\n",
       "      <td>2020</td>\n",
       "      <td>Violence against civilians</td>\n",
       "      <td>Attack</td>\n",
       "      <td>Sahel</td>\n",
       "      <td>181</td>\n",
       "      <td>63</td>\n",
       "      <td>4</td>\n",
       "      <td>After 2011</td>\n",
       "      <td>Treated</td>\n",
       "    </tr>\n",
       "    <tr>\n",
       "      <th>2134</th>\n",
       "      <td>Burkina Faso</td>\n",
       "      <td>BFA</td>\n",
       "      <td>POLYGON ((-5.40434 10.37074, -5.47056 10.95127...</td>\n",
       "      <td>Burkina Faso</td>\n",
       "      <td>BF</td>\n",
       "      <td>854</td>\n",
       "      <td>ISO 3166-2:BF</td>\n",
       "      <td>Burkina Faso</td>\n",
       "      <td>2020</td>\n",
       "      <td>Violence against civilians</td>\n",
       "      <td>Sexual violence</td>\n",
       "      <td>Centre-Nord</td>\n",
       "      <td>0</td>\n",
       "      <td>1</td>\n",
       "      <td>1</td>\n",
       "      <td>After 2011</td>\n",
       "      <td>Treated</td>\n",
       "    </tr>\n",
       "    <tr>\n",
       "      <th>2171</th>\n",
       "      <td>Zambia</td>\n",
       "      <td>ZMB</td>\n",
       "      <td>POLYGON ((30.74001 -8.34001, 31.15775 -8.59458...</td>\n",
       "      <td>Zambia</td>\n",
       "      <td>ZM</td>\n",
       "      <td>894</td>\n",
       "      <td>ISO 3166-2:ZM</td>\n",
       "      <td>Zambia</td>\n",
       "      <td>2000</td>\n",
       "      <td>Violence against civilians</td>\n",
       "      <td>Attack</td>\n",
       "      <td>North-Western</td>\n",
       "      <td>0</td>\n",
       "      <td>3</td>\n",
       "      <td>1</td>\n",
       "      <td>Before 2011</td>\n",
       "      <td>Control</td>\n",
       "    </tr>\n",
       "    <tr>\n",
       "      <th>2172</th>\n",
       "      <td>Zambia</td>\n",
       "      <td>ZMB</td>\n",
       "      <td>POLYGON ((30.74001 -8.34001, 31.15775 -8.59458...</td>\n",
       "      <td>Zambia</td>\n",
       "      <td>ZM</td>\n",
       "      <td>894</td>\n",
       "      <td>ISO 3166-2:ZM</td>\n",
       "      <td>Zambia</td>\n",
       "      <td>2002</td>\n",
       "      <td>Violence against civilians</td>\n",
       "      <td>Sexual violence</td>\n",
       "      <td>Western</td>\n",
       "      <td>0</td>\n",
       "      <td>1</td>\n",
       "      <td>1</td>\n",
       "      <td>Before 2011</td>\n",
       "      <td>Control</td>\n",
       "    </tr>\n",
       "  </tbody>\n",
       "</table>\n",
       "<p>1667 rows × 17 columns</p>\n",
       "</div>"
      ],
      "text/plain": [
       "         country_x  ISO                                           geometry  \\\n",
       "43         Algeria  DZA  POLYGON ((-8.68440 27.39574, -8.66512 27.58948...   \n",
       "44         Algeria  DZA  POLYGON ((-8.68440 27.39574, -8.66512 27.58948...   \n",
       "45         Algeria  DZA  POLYGON ((-8.68440 27.39574, -8.66512 27.58948...   \n",
       "46         Algeria  DZA  POLYGON ((-8.68440 27.39574, -8.66512 27.58948...   \n",
       "47         Algeria  DZA  POLYGON ((-8.68440 27.39574, -8.66512 27.58948...   \n",
       "...            ...  ...                                                ...   \n",
       "2132  Burkina Faso  BFA  POLYGON ((-5.40434 10.37074, -5.47056 10.95127...   \n",
       "2133  Burkina Faso  BFA  POLYGON ((-5.40434 10.37074, -5.47056 10.95127...   \n",
       "2134  Burkina Faso  BFA  POLYGON ((-5.40434 10.37074, -5.47056 10.95127...   \n",
       "2171        Zambia  ZMB  POLYGON ((30.74001 -8.34001, 31.15775 -8.59458...   \n",
       "2172        Zambia  ZMB  POLYGON ((30.74001 -8.34001, 31.15775 -8.59458...   \n",
       "\n",
       "         country_y Alpha-2 code  Numeric code     ISO 3166-2       COUNTRY  \\\n",
       "43         Algeria           DZ            12  ISO 3166-2:DZ       Algeria   \n",
       "44         Algeria           DZ            12  ISO 3166-2:DZ       Algeria   \n",
       "45         Algeria           DZ            12  ISO 3166-2:DZ       Algeria   \n",
       "46         Algeria           DZ            12  ISO 3166-2:DZ       Algeria   \n",
       "47         Algeria           DZ            12  ISO 3166-2:DZ       Algeria   \n",
       "...            ...          ...           ...            ...           ...   \n",
       "2132  Burkina Faso           BF           854  ISO 3166-2:BF  Burkina Faso   \n",
       "2133  Burkina Faso           BF           854  ISO 3166-2:BF  Burkina Faso   \n",
       "2134  Burkina Faso           BF           854  ISO 3166-2:BF  Burkina Faso   \n",
       "2171        Zambia           ZM           894  ISO 3166-2:ZM        Zambia   \n",
       "2172        Zambia           ZM           894  ISO 3166-2:ZM        Zambia   \n",
       "\n",
       "      YEAR                  EVENT_TYPE   SUB_EVENT_TYPE         ADMIN1  \\\n",
       "43    2000  Violence against civilians           Attack      Ain Defla   \n",
       "44    2000  Violence against civilians           Attack          Alger   \n",
       "45    2000  Violence against civilians           Attack         Annaba   \n",
       "46    2000  Violence against civilians           Attack          Blida   \n",
       "47    2000  Violence against civilians           Attack         Bouira   \n",
       "...    ...                         ...              ...            ...   \n",
       "2132  2020  Violence against civilians           Attack           Nord   \n",
       "2133  2020  Violence against civilians           Attack          Sahel   \n",
       "2134  2020  Violence against civilians  Sexual violence    Centre-Nord   \n",
       "2171  2000  Violence against civilians           Attack  North-Western   \n",
       "2172  2002  Violence against civilians  Sexual violence        Western   \n",
       "\n",
       "      EVENT_FATALITIES  EVENT_FREQUENCIES  EVENT_ADMIN2       PERIOD TREATMENT  \n",
       "43                  28                  4             3  Before 2011   Treated  \n",
       "44                  70                  5             0  Before 2011   Treated  \n",
       "45                   0                  1             1  Before 2011   Treated  \n",
       "46                  25                  2             2  Before 2011   Treated  \n",
       "47                   7                  3             2  Before 2011   Treated  \n",
       "...                ...                ...           ...          ...       ...  \n",
       "2132                13                  7             3   After 2011   Treated  \n",
       "2133               181                 63             4   After 2011   Treated  \n",
       "2134                 0                  1             1   After 2011   Treated  \n",
       "2171                 0                  3             1  Before 2011   Control  \n",
       "2172                 0                  1             1  Before 2011   Control  \n",
       "\n",
       "[1667 rows x 17 columns]"
      ]
     },
     "execution_count": 20,
     "metadata": {},
     "output_type": "execute_result"
    }
   ],
   "source": [
    "merged"
   ]
  },
  {
   "cell_type": "markdown",
   "id": "52dfebc9",
   "metadata": {},
   "source": [
    "## Data Visualization"
   ]
  },
  {
   "cell_type": "markdown",
   "id": "166518f6",
   "metadata": {},
   "source": [
    "#### EVENT_FREQUENCIES"
   ]
  },
  {
   "cell_type": "markdown",
   "id": "8d2cf79b",
   "metadata": {},
   "source": [
    "The graph below represents the distribution of the total number of events recorded per \n",
    "country according to whether the country is in the treatment group or the control group."
   ]
  },
  {
   "cell_type": "code",
   "execution_count": 21,
   "id": "b41e8c6a",
   "metadata": {},
   "outputs": [
    {
     "data": {
      "text/plain": [
       "(array([ 0,  1,  2,  3,  4,  5,  6,  7,  8,  9, 10, 11, 12, 13, 14, 15, 16,\n",
       "        17, 18, 19, 20, 21]),\n",
       " [Text(0, 0, 'Algeria'),\n",
       "  Text(1, 0, 'Angola'),\n",
       "  Text(2, 0, 'Burundi'),\n",
       "  Text(3, 0, 'Cameroon'),\n",
       "  Text(4, 0, 'Chad'),\n",
       "  Text(5, 0, 'Kenya'),\n",
       "  Text(6, 0, 'Liberia'),\n",
       "  Text(7, 0, 'Libya'),\n",
       "  Text(8, 0, 'Mali'),\n",
       "  Text(9, 0, 'Mauritania'),\n",
       "  Text(10, 0, 'Namibia'),\n",
       "  Text(11, 0, 'Niger'),\n",
       "  Text(12, 0, 'Nigeria'),\n",
       "  Text(13, 0, 'Rwanda'),\n",
       "  Text(14, 0, 'Senegal'),\n",
       "  Text(15, 0, 'Sierra Leone'),\n",
       "  Text(16, 0, 'Somalia'),\n",
       "  Text(17, 0, 'South Sudan'),\n",
       "  Text(18, 0, 'Sudan'),\n",
       "  Text(19, 0, 'Tanzania'),\n",
       "  Text(20, 0, 'Burkina Faso'),\n",
       "  Text(21, 0, 'Zambia')])"
      ]
     },
     "execution_count": 21,
     "metadata": {},
     "output_type": "execute_result"
    },
    {
     "data": {
      "image/png": "[encoded data removed]",
      "text/plain": [
       "<Figure size 576x576 with 1 Axes>"
      ]
     },
     "metadata": {
      "needs_background": "light"
     },
     "output_type": "display_data"
    }
   ],
   "source": [
    "# Set the figure size\n",
    "plt.figure(figsize=(8, 8))\n",
    "\n",
    "# grouped barplot\n",
    "sns.barplot(x=\"COUNTRY\", y=\"EVENT_FREQUENCIES\", hue=\"TREATMENT\", data=restricted_final_df, ci=None)\n",
    "plt.xticks(rotation=90)"
   ]
  },
  {
   "cell_type": "markdown",
   "id": "37d3cd0d",
   "metadata": {},
   "source": [
    "The graph below represents the distribution of the total number of events recorded before and after 2011 for all countries "
   ]
  },
  {
   "cell_type": "code",
   "execution_count": 22,
   "id": "3e0f9f9b",
   "metadata": {},
   "outputs": [
    {
     "name": "stdout",
     "output_type": "stream",
     "text": [
      "PERIOD\n",
      "After 2011     5564\n",
      "Before 2011    1705\n",
      "Name: EVENT_FREQUENCIES, dtype: int64\n"
     ]
    },
    {
     "data": {
      "image/png": "[encoded data removed]",
      "text/plain": [
       "<Figure size 432x288 with 1 Axes>"
      ]
     },
     "metadata": {
      "needs_background": "light"
     },
     "output_type": "display_data"
    }
   ],
   "source": [
    "print(restricted_final_df.groupby('PERIOD')['EVENT_FREQUENCIES'].sum())\n",
    "restricted_final_df.groupby('PERIOD')['EVENT_FREQUENCIES'].sum().plot.bar()\n",
    "plt.show()"
   ]
  },
  {
   "cell_type": "markdown",
   "id": "226fe4aa",
   "metadata": {},
   "source": [
    "The graph below represents the distribution of the total number of events recorded according to the treatment status (treatment group or control group) before and after 2011."
   ]
  },
  {
   "cell_type": "code",
   "execution_count": 23,
   "id": "3d7520a1",
   "metadata": {
    "scrolled": true
   },
   "outputs": [
    {
     "data": {
      "text/plain": [
       "<AxesSubplot:xlabel='PERIOD', ylabel='EVENT_FREQUENCIES'>"
      ]
     },
     "execution_count": 23,
     "metadata": {},
     "output_type": "execute_result"
    },
    {
     "data": {
      "image/png": "[encoded data removed]",
      "text/plain": [
       "<Figure size 576x576 with 1 Axes>"
      ]
     },
     "metadata": {
      "needs_background": "light"
     },
     "output_type": "display_data"
    }
   ],
   "source": [
    "# Set the figure size\n",
    "plt.figure(figsize=(8, 8))\n",
    "\n",
    "# grouped barplot\n",
    "sns.barplot(x=\"PERIOD\", y=\"EVENT_FREQUENCIES\", hue=\"TREATMENT\", data=restricted_final_df, ci=None)"
   ]
  },
  {
   "cell_type": "markdown",
   "id": "6e205ba6",
   "metadata": {
    "scrolled": true
   },
   "source": [
    "#### EVENT_FATALITIES"
   ]
  },
  {
   "cell_type": "markdown",
   "id": "0f49a461",
   "metadata": {},
   "source": [
    "The graph below represents the distribution of the total number of events fatalities recorded per country according to whether the country is in the treatment group or the control group."
   ]
  },
  {
   "cell_type": "code",
   "execution_count": 24,
   "id": "ffaf9427",
   "metadata": {},
   "outputs": [
    {
     "data": {
      "text/plain": [
       "(array([ 0,  1,  2,  3,  4,  5,  6,  7,  8,  9, 10, 11, 12, 13, 14, 15, 16,\n",
       "        17, 18, 19, 20, 21]),\n",
       " [Text(0, 0, 'Algeria'),\n",
       "  Text(1, 0, 'Angola'),\n",
       "  Text(2, 0, 'Burundi'),\n",
       "  Text(3, 0, 'Cameroon'),\n",
       "  Text(4, 0, 'Chad'),\n",
       "  Text(5, 0, 'Kenya'),\n",
       "  Text(6, 0, 'Liberia'),\n",
       "  Text(7, 0, 'Libya'),\n",
       "  Text(8, 0, 'Mali'),\n",
       "  Text(9, 0, 'Mauritania'),\n",
       "  Text(10, 0, 'Namibia'),\n",
       "  Text(11, 0, 'Niger'),\n",
       "  Text(12, 0, 'Nigeria'),\n",
       "  Text(13, 0, 'Rwanda'),\n",
       "  Text(14, 0, 'Senegal'),\n",
       "  Text(15, 0, 'Sierra Leone'),\n",
       "  Text(16, 0, 'Somalia'),\n",
       "  Text(17, 0, 'South Sudan'),\n",
       "  Text(18, 0, 'Sudan'),\n",
       "  Text(19, 0, 'Tanzania'),\n",
       "  Text(20, 0, 'Burkina Faso'),\n",
       "  Text(21, 0, 'Zambia')])"
      ]
     },
     "execution_count": 24,
     "metadata": {},
     "output_type": "execute_result"
    },
    {
     "data": {
      "image/png": "[encoded data removed]",
      "text/plain": [
       "<Figure size 576x576 with 1 Axes>"
      ]
     },
     "metadata": {
      "needs_background": "light"
     },
     "output_type": "display_data"
    }
   ],
   "source": [
    "# Set the figure size\n",
    "plt.figure(figsize=(8, 8))\n",
    "\n",
    "# grouped barplot\n",
    "sns.barplot(x=\"COUNTRY\", y=\"EVENT_FATALITIES\", hue=\"TREATMENT\", data=restricted_final_df, ci=None)\n",
    "plt.xticks(rotation=90)"
   ]
  },
  {
   "cell_type": "markdown",
   "id": "ac87a190",
   "metadata": {},
   "source": [
    "The graph below represents the distribution of the total number of events fatalities recorded before and after 2011 for all countries"
   ]
  },
  {
   "cell_type": "code",
   "execution_count": 25,
   "id": "23c5dd06",
   "metadata": {},
   "outputs": [
    {
     "name": "stdout",
     "output_type": "stream",
     "text": [
      "PERIOD\n",
      "After 2011     18651\n",
      "Before 2011    10647\n",
      "Name: EVENT_FATALITIES, dtype: int64\n"
     ]
    },
    {
     "data": {
      "image/png": "[encoded data removed]",
      "text/plain": [
       "<Figure size 432x288 with 1 Axes>"
      ]
     },
     "metadata": {
      "needs_background": "light"
     },
     "output_type": "display_data"
    }
   ],
   "source": [
    "print(restricted_final_df.groupby('PERIOD')['EVENT_FATALITIES'].sum())\n",
    "restricted_final_df.groupby('PERIOD')['EVENT_FATALITIES'].sum().plot.bar()\n",
    "plt.show()"
   ]
  },
  {
   "cell_type": "markdown",
   "id": "99502ff3",
   "metadata": {},
   "source": [
    "The graph below represents the distribution of the total number of events fatalities recorded according to the treatment status (treatment group or control group) before and after 2011."
   ]
  },
  {
   "cell_type": "code",
   "execution_count": 26,
   "id": "6c67710b",
   "metadata": {},
   "outputs": [
    {
     "data": {
      "text/plain": [
       "<AxesSubplot:xlabel='PERIOD', ylabel='EVENT_FATALITIES'>"
      ]
     },
     "execution_count": 26,
     "metadata": {},
     "output_type": "execute_result"
    },
    {
     "data": {
      "image/png": "[encoded data removed]",
      "text/plain": [
       "<Figure size 576x576 with 1 Axes>"
      ]
     },
     "metadata": {
      "needs_background": "light"
     },
     "output_type": "display_data"
    }
   ],
   "source": [
    "# Set the figure size\n",
    "plt.figure(figsize=(8, 8))\n",
    "\n",
    "# grouped barplot\n",
    "sns.barplot(x=\"PERIOD\", y=\"EVENT_FATALITIES\", hue=\"TREATMENT\", data=restricted_final_df, ci=None)"
   ]
  },
  {
   "cell_type": "markdown",
   "id": "80d9343b",
   "metadata": {},
   "source": [
    "## Placebo test"
   ]
  },
  {
   "cell_type": "code",
   "execution_count": 34,
   "id": "57bd2566",
   "metadata": {},
   "outputs": [],
   "source": [
    "placebo= df_new\n",
    "\n",
    "placebo = placebo[placebo['YEAR'] >=2000]\n",
    "placebo = placebo[placebo['YEAR'] <=2020]\n",
    "\n",
    "placebo['TREATMENT']=np.where(placebo['COUNTRY'].isin(sahel_countries),1,0)\n",
    "treatment_dictionary = {0 : 'Control' , 1 : 'Treated'}\n",
    "placebo['TREATMENT'] = placebo.apply(lambda x: treatment_dictionary.get(x['TREATMENT'], 'Unknown'), axis=1)\n",
    "\n",
    "placebo['PERIOD']=np.where(placebo['YEAR']>=2011 ,1,0)\n",
    "period_dictionary = {0 : 'Before 2011' , 1 : 'After 2011'}\n",
    "placebo['PERIOD'] = placebo.apply(lambda x: period_dictionary.get(x['PERIOD'], 'Unknown'), axis=1)\n",
    "\n",
    "\n",
    "placebo_Fatalities_res = placebo.groupby(['YEAR','TREATMENT','PERIOD'])['EVENT_FATALITIES'].sum().reset_index(name='EVENT_FATALITIES')\n",
    "placebo_Frequencies_res = placebo.groupby(['YEAR','TREATMENT','PERIOD'])['EVENT_FREQUENCIES'].sum().reset_index(name='EVENT_FREQUENCIES')"
   ]
  },
  {
   "cell_type": "markdown",
   "id": "7c4357d7",
   "metadata": {},
   "source": [
    "#### EVENT_FATALITIES"
   ]
  },
  {
   "cell_type": "markdown",
   "id": "87280688",
   "metadata": {},
   "source": [
    "The graph below shows the evolution of the total number of deaths caused by attacks, distributed according to the group treated (Sahelian countries) and control group. The red line indicates the year 2011 marking the beginning of the Libyan crisis."
   ]
  },
  {
   "cell_type": "code",
   "execution_count": 35,
   "id": "738c0175",
   "metadata": {},
   "outputs": [
    {
     "data": {
      "text/plain": [
       "<matplotlib.lines.Line2D at 0x1e7e7db6820>"
      ]
     },
     "execution_count": 35,
     "metadata": {},
     "output_type": "execute_result"
    },
    {
     "data": {
      "image/png": "[encoded data removed]",
      "text/plain": [
       "<Figure size 432x288 with 1 Axes>"
      ]
     },
     "metadata": {
      "needs_background": "light"
     },
     "output_type": "display_data"
    }
   ],
   "source": [
    "#define index column\n",
    "placebo_Fatalities_res.set_index('YEAR', inplace=True)\n",
    "\n",
    "#group data by product and display EVENT_FATALITIES as line chart\n",
    "g = placebo_Fatalities_res.groupby('TREATMENT')['EVENT_FATALITIES'].plot(legend=True)\n",
    "plt.axvline(x=2011, color='red')"
   ]
  },
  {
   "cell_type": "markdown",
   "id": "e1ac144d",
   "metadata": {},
   "source": [
    "#### EVENT_FREQUENCIES"
   ]
  },
  {
   "cell_type": "markdown",
   "id": "0a8900d6",
   "metadata": {},
   "source": [
    "The graph below shows the evolution of the total number of attacks that took place, distributed according to the group treated (Sahelian countries) and the group controlled. The red line indicates the year 2011 marking the beginning of the Libyan crisis."
   ]
  },
  {
   "cell_type": "code",
   "execution_count": 36,
   "id": "6fa45b82",
   "metadata": {},
   "outputs": [
    {
     "data": {
      "text/plain": [
       "<matplotlib.lines.Line2D at 0x1e7e5e87970>"
      ]
     },
     "execution_count": 36,
     "metadata": {},
     "output_type": "execute_result"
    },
    {
     "data": {
      "image/png": "[encoded data removed]",
      "text/plain": [
       "<Figure size 432x288 with 1 Axes>"
      ]
     },
     "metadata": {
      "needs_background": "light"
     },
     "output_type": "display_data"
    }
   ],
   "source": [
    "#define index column\n",
    "placebo_Frequencies_res.set_index('YEAR', inplace=True)\n",
    "\n",
    "#group data by product and display EVENT_FATALITIES as line chart\n",
    "placebo_Frequencies_res.groupby('TREATMENT')['EVENT_FREQUENCIES'].plot(legend=True)\n",
    "plt.axvline(x=2011, color='red')"
   ]
  },
  {
   "cell_type": "markdown",
   "id": "db01e9c6",
   "metadata": {},
   "source": [
    "## Mapping"
   ]
  },
  {
   "cell_type": "code",
   "execution_count": 37,
   "id": "f8c531b0",
   "metadata": {},
   "outputs": [
    {
     "data": {
      "text/html": [
       "<div>\n",
       "<style scoped>\n",
       "    .dataframe tbody tr th:only-of-type {\n",
       "        vertical-align: middle;\n",
       "    }\n",
       "\n",
       "    .dataframe tbody tr th {\n",
       "        vertical-align: top;\n",
       "    }\n",
       "\n",
       "    .dataframe thead th {\n",
       "        text-align: right;\n",
       "    }\n",
       "</style>\n",
       "<table border=\"1\" class=\"dataframe\">\n",
       "  <thead>\n",
       "    <tr style=\"text-align: right;\">\n",
       "      <th></th>\n",
       "      <th>country_x</th>\n",
       "      <th>ISO</th>\n",
       "      <th>geometry</th>\n",
       "      <th>country_y</th>\n",
       "      <th>Alpha-2 code</th>\n",
       "      <th>Numeric code</th>\n",
       "      <th>ISO 3166-2</th>\n",
       "      <th>COUNTRY</th>\n",
       "      <th>YEAR</th>\n",
       "      <th>EVENT_TYPE</th>\n",
       "      <th>SUB_EVENT_TYPE</th>\n",
       "      <th>ADMIN1</th>\n",
       "      <th>EVENT_FATALITIES</th>\n",
       "      <th>EVENT_FREQUENCIES</th>\n",
       "      <th>EVENT_ADMIN2</th>\n",
       "      <th>PERIOD</th>\n",
       "      <th>TREATMENT</th>\n",
       "    </tr>\n",
       "  </thead>\n",
       "  <tbody>\n",
       "    <tr>\n",
       "      <th>43</th>\n",
       "      <td>Algeria</td>\n",
       "      <td>DZA</td>\n",
       "      <td>POLYGON ((-8.68440 27.39574, -8.66512 27.58948...</td>\n",
       "      <td>Algeria</td>\n",
       "      <td>DZ</td>\n",
       "      <td>12</td>\n",
       "      <td>ISO 3166-2:DZ</td>\n",
       "      <td>Algeria</td>\n",
       "      <td>2000</td>\n",
       "      <td>Violence against civilians</td>\n",
       "      <td>Attack</td>\n",
       "      <td>Ain Defla</td>\n",
       "      <td>28</td>\n",
       "      <td>4</td>\n",
       "      <td>3</td>\n",
       "      <td>Before 2011</td>\n",
       "      <td>Treated</td>\n",
       "    </tr>\n",
       "    <tr>\n",
       "      <th>44</th>\n",
       "      <td>Algeria</td>\n",
       "      <td>DZA</td>\n",
       "      <td>POLYGON ((-8.68440 27.39574, -8.66512 27.58948...</td>\n",
       "      <td>Algeria</td>\n",
       "      <td>DZ</td>\n",
       "      <td>12</td>\n",
       "      <td>ISO 3166-2:DZ</td>\n",
       "      <td>Algeria</td>\n",
       "      <td>2000</td>\n",
       "      <td>Violence against civilians</td>\n",
       "      <td>Attack</td>\n",
       "      <td>Alger</td>\n",
       "      <td>70</td>\n",
       "      <td>5</td>\n",
       "      <td>0</td>\n",
       "      <td>Before 2011</td>\n",
       "      <td>Treated</td>\n",
       "    </tr>\n",
       "    <tr>\n",
       "      <th>45</th>\n",
       "      <td>Algeria</td>\n",
       "      <td>DZA</td>\n",
       "      <td>POLYGON ((-8.68440 27.39574, -8.66512 27.58948...</td>\n",
       "      <td>Algeria</td>\n",
       "      <td>DZ</td>\n",
       "      <td>12</td>\n",
       "      <td>ISO 3166-2:DZ</td>\n",
       "      <td>Algeria</td>\n",
       "      <td>2000</td>\n",
       "      <td>Violence against civilians</td>\n",
       "      <td>Attack</td>\n",
       "      <td>Annaba</td>\n",
       "      <td>0</td>\n",
       "      <td>1</td>\n",
       "      <td>1</td>\n",
       "      <td>Before 2011</td>\n",
       "      <td>Treated</td>\n",
       "    </tr>\n",
       "    <tr>\n",
       "      <th>46</th>\n",
       "      <td>Algeria</td>\n",
       "      <td>DZA</td>\n",
       "      <td>POLYGON ((-8.68440 27.39574, -8.66512 27.58948...</td>\n",
       "      <td>Algeria</td>\n",
       "      <td>DZ</td>\n",
       "      <td>12</td>\n",
       "      <td>ISO 3166-2:DZ</td>\n",
       "      <td>Algeria</td>\n",
       "      <td>2000</td>\n",
       "      <td>Violence against civilians</td>\n",
       "      <td>Attack</td>\n",
       "      <td>Blida</td>\n",
       "      <td>25</td>\n",
       "      <td>2</td>\n",
       "      <td>2</td>\n",
       "      <td>Before 2011</td>\n",
       "      <td>Treated</td>\n",
       "    </tr>\n",
       "    <tr>\n",
       "      <th>47</th>\n",
       "      <td>Algeria</td>\n",
       "      <td>DZA</td>\n",
       "      <td>POLYGON ((-8.68440 27.39574, -8.66512 27.58948...</td>\n",
       "      <td>Algeria</td>\n",
       "      <td>DZ</td>\n",
       "      <td>12</td>\n",
       "      <td>ISO 3166-2:DZ</td>\n",
       "      <td>Algeria</td>\n",
       "      <td>2000</td>\n",
       "      <td>Violence against civilians</td>\n",
       "      <td>Attack</td>\n",
       "      <td>Bouira</td>\n",
       "      <td>7</td>\n",
       "      <td>3</td>\n",
       "      <td>2</td>\n",
       "      <td>Before 2011</td>\n",
       "      <td>Treated</td>\n",
       "    </tr>\n",
       "    <tr>\n",
       "      <th>...</th>\n",
       "      <td>...</td>\n",
       "      <td>...</td>\n",
       "      <td>...</td>\n",
       "      <td>...</td>\n",
       "      <td>...</td>\n",
       "      <td>...</td>\n",
       "      <td>...</td>\n",
       "      <td>...</td>\n",
       "      <td>...</td>\n",
       "      <td>...</td>\n",
       "      <td>...</td>\n",
       "      <td>...</td>\n",
       "      <td>...</td>\n",
       "      <td>...</td>\n",
       "      <td>...</td>\n",
       "      <td>...</td>\n",
       "      <td>...</td>\n",
       "    </tr>\n",
       "    <tr>\n",
       "      <th>2132</th>\n",
       "      <td>Burkina Faso</td>\n",
       "      <td>BFA</td>\n",
       "      <td>POLYGON ((-5.40434 10.37074, -5.47056 10.95127...</td>\n",
       "      <td>Burkina Faso</td>\n",
       "      <td>BF</td>\n",
       "      <td>854</td>\n",
       "      <td>ISO 3166-2:BF</td>\n",
       "      <td>Burkina Faso</td>\n",
       "      <td>2020</td>\n",
       "      <td>Violence against civilians</td>\n",
       "      <td>Attack</td>\n",
       "      <td>Nord</td>\n",
       "      <td>13</td>\n",
       "      <td>7</td>\n",
       "      <td>3</td>\n",
       "      <td>After 2011</td>\n",
       "      <td>Treated</td>\n",
       "    </tr>\n",
       "    <tr>\n",
       "      <th>2133</th>\n",
       "      <td>Burkina Faso</td>\n",
       "      <td>BFA</td>\n",
       "      <td>POLYGON ((-5.40434 10.37074, -5.47056 10.95127...</td>\n",
       "      <td>Burkina Faso</td>\n",
       "      <td>BF</td>\n",
       "      <td>854</td>\n",
       "      <td>ISO 3166-2:BF</td>\n",
       "      <td>Burkina Faso</td>\n",
       "      <td>2020</td>\n",
       "      <td>Violence against civilians</td>\n",
       "      <td>Attack</td>\n",
       "      <td>Sahel</td>\n",
       "      <td>181</td>\n",
       "      <td>63</td>\n",
       "      <td>4</td>\n",
       "      <td>After 2011</td>\n",
       "      <td>Treated</td>\n",
       "    </tr>\n",
       "    <tr>\n",
       "      <th>2134</th>\n",
       "      <td>Burkina Faso</td>\n",
       "      <td>BFA</td>\n",
       "      <td>POLYGON ((-5.40434 10.37074, -5.47056 10.95127...</td>\n",
       "      <td>Burkina Faso</td>\n",
       "      <td>BF</td>\n",
       "      <td>854</td>\n",
       "      <td>ISO 3166-2:BF</td>\n",
       "      <td>Burkina Faso</td>\n",
       "      <td>2020</td>\n",
       "      <td>Violence against civilians</td>\n",
       "      <td>Sexual violence</td>\n",
       "      <td>Centre-Nord</td>\n",
       "      <td>0</td>\n",
       "      <td>1</td>\n",
       "      <td>1</td>\n",
       "      <td>After 2011</td>\n",
       "      <td>Treated</td>\n",
       "    </tr>\n",
       "    <tr>\n",
       "      <th>2171</th>\n",
       "      <td>Zambia</td>\n",
       "      <td>ZMB</td>\n",
       "      <td>POLYGON ((30.74001 -8.34001, 31.15775 -8.59458...</td>\n",
       "      <td>Zambia</td>\n",
       "      <td>ZM</td>\n",
       "      <td>894</td>\n",
       "      <td>ISO 3166-2:ZM</td>\n",
       "      <td>Zambia</td>\n",
       "      <td>2000</td>\n",
       "      <td>Violence against civilians</td>\n",
       "      <td>Attack</td>\n",
       "      <td>North-Western</td>\n",
       "      <td>0</td>\n",
       "      <td>3</td>\n",
       "      <td>1</td>\n",
       "      <td>Before 2011</td>\n",
       "      <td>Control</td>\n",
       "    </tr>\n",
       "    <tr>\n",
       "      <th>2172</th>\n",
       "      <td>Zambia</td>\n",
       "      <td>ZMB</td>\n",
       "      <td>POLYGON ((30.74001 -8.34001, 31.15775 -8.59458...</td>\n",
       "      <td>Zambia</td>\n",
       "      <td>ZM</td>\n",
       "      <td>894</td>\n",
       "      <td>ISO 3166-2:ZM</td>\n",
       "      <td>Zambia</td>\n",
       "      <td>2002</td>\n",
       "      <td>Violence against civilians</td>\n",
       "      <td>Sexual violence</td>\n",
       "      <td>Western</td>\n",
       "      <td>0</td>\n",
       "      <td>1</td>\n",
       "      <td>1</td>\n",
       "      <td>Before 2011</td>\n",
       "      <td>Control</td>\n",
       "    </tr>\n",
       "  </tbody>\n",
       "</table>\n",
       "<p>1227 rows × 17 columns</p>\n",
       "</div>"
      ],
      "text/plain": [
       "         country_x  ISO                                           geometry  \\\n",
       "43         Algeria  DZA  POLYGON ((-8.68440 27.39574, -8.66512 27.58948...   \n",
       "44         Algeria  DZA  POLYGON ((-8.68440 27.39574, -8.66512 27.58948...   \n",
       "45         Algeria  DZA  POLYGON ((-8.68440 27.39574, -8.66512 27.58948...   \n",
       "46         Algeria  DZA  POLYGON ((-8.68440 27.39574, -8.66512 27.58948...   \n",
       "47         Algeria  DZA  POLYGON ((-8.68440 27.39574, -8.66512 27.58948...   \n",
       "...            ...  ...                                                ...   \n",
       "2132  Burkina Faso  BFA  POLYGON ((-5.40434 10.37074, -5.47056 10.95127...   \n",
       "2133  Burkina Faso  BFA  POLYGON ((-5.40434 10.37074, -5.47056 10.95127...   \n",
       "2134  Burkina Faso  BFA  POLYGON ((-5.40434 10.37074, -5.47056 10.95127...   \n",
       "2171        Zambia  ZMB  POLYGON ((30.74001 -8.34001, 31.15775 -8.59458...   \n",
       "2172        Zambia  ZMB  POLYGON ((30.74001 -8.34001, 31.15775 -8.59458...   \n",
       "\n",
       "         country_y Alpha-2 code  Numeric code     ISO 3166-2       COUNTRY  \\\n",
       "43         Algeria           DZ            12  ISO 3166-2:DZ       Algeria   \n",
       "44         Algeria           DZ            12  ISO 3166-2:DZ       Algeria   \n",
       "45         Algeria           DZ            12  ISO 3166-2:DZ       Algeria   \n",
       "46         Algeria           DZ            12  ISO 3166-2:DZ       Algeria   \n",
       "47         Algeria           DZ            12  ISO 3166-2:DZ       Algeria   \n",
       "...            ...          ...           ...            ...           ...   \n",
       "2132  Burkina Faso           BF           854  ISO 3166-2:BF  Burkina Faso   \n",
       "2133  Burkina Faso           BF           854  ISO 3166-2:BF  Burkina Faso   \n",
       "2134  Burkina Faso           BF           854  ISO 3166-2:BF  Burkina Faso   \n",
       "2171        Zambia           ZM           894  ISO 3166-2:ZM        Zambia   \n",
       "2172        Zambia           ZM           894  ISO 3166-2:ZM        Zambia   \n",
       "\n",
       "      YEAR                  EVENT_TYPE   SUB_EVENT_TYPE         ADMIN1  \\\n",
       "43    2000  Violence against civilians           Attack      Ain Defla   \n",
       "44    2000  Violence against civilians           Attack          Alger   \n",
       "45    2000  Violence against civilians           Attack         Annaba   \n",
       "46    2000  Violence against civilians           Attack          Blida   \n",
       "47    2000  Violence against civilians           Attack         Bouira   \n",
       "...    ...                         ...              ...            ...   \n",
       "2132  2020  Violence against civilians           Attack           Nord   \n",
       "2133  2020  Violence against civilians           Attack          Sahel   \n",
       "2134  2020  Violence against civilians  Sexual violence    Centre-Nord   \n",
       "2171  2000  Violence against civilians           Attack  North-Western   \n",
       "2172  2002  Violence against civilians  Sexual violence        Western   \n",
       "\n",
       "      EVENT_FATALITIES  EVENT_FREQUENCIES  EVENT_ADMIN2       PERIOD TREATMENT  \n",
       "43                  28                  4             3  Before 2011   Treated  \n",
       "44                  70                  5             0  Before 2011   Treated  \n",
       "45                   0                  1             1  Before 2011   Treated  \n",
       "46                  25                  2             2  Before 2011   Treated  \n",
       "47                   7                  3             2  Before 2011   Treated  \n",
       "...                ...                ...           ...          ...       ...  \n",
       "2132                13                  7             3   After 2011   Treated  \n",
       "2133               181                 63             4   After 2011   Treated  \n",
       "2134                 0                  1             1   After 2011   Treated  \n",
       "2171                 0                  3             1  Before 2011   Control  \n",
       "2172                 0                  1             1  Before 2011   Control  \n",
       "\n",
       "[1227 rows x 17 columns]"
      ]
     },
     "execution_count": 37,
     "metadata": {},
     "output_type": "execute_result"
    }
   ],
   "source": [
    "EVENT_FATALITIES_df1 = restricted_final_df.groupby(['COUNTRY'])['EVENT_FATALITIES'].sum().reset_index(name='EVENT_FATALITIES')\n",
    "EVENT_FREQUENCIES_df1 = restricted_final_df.groupby(['COUNTRY'])['EVENT_FREQUENCIES'].sum().reset_index(name='EVENT_FREQUENCIES')\n",
    "\n",
    "\n",
    "EVENT_FATALITIES_df2 = restricted_final_df.groupby(['COUNTRY','YEAR'])['EVENT_FATALITIES'].sum().reset_index(name='EVENT_FATALITIES')\n",
    "EVENT_FREQUENCIES_df2 = restricted_final_df.groupby(['COUNTRY','YEAR'])['EVENT_FREQUENCIES'].sum().reset_index(name='EVENT_FREQUENCIES')\n",
    "restricted_year_agregeted_df2 = pd.DataFrame(EVENT_FATALITIES_df2,EVENT_FREQUENCIES_df2 )\n",
    "restricted_final_df"
   ]
  },
  {
   "cell_type": "code",
   "execution_count": 38,
   "id": "3b98f0f8",
   "metadata": {
    "scrolled": true
   },
   "outputs": [],
   "source": [
    "#Plotly Components\n",
    "import plotly.express as px\n",
    "import plotly.graph_objs as go\n",
    "from plotly.subplots import make_subplots\n",
    "from plotly.offline import download_plotlyjs, init_notebook_mode, plot, iplot"
   ]
  },
  {
   "cell_type": "code",
   "execution_count": 39,
   "id": "921f3b59",
   "metadata": {
    "scrolled": true
   },
   "outputs": [
    {
     "data": {
      "text/html": [
       "<div>\n",
       "<style scoped>\n",
       "    .dataframe tbody tr th:only-of-type {\n",
       "        vertical-align: middle;\n",
       "    }\n",
       "\n",
       "    .dataframe tbody tr th {\n",
       "        vertical-align: top;\n",
       "    }\n",
       "\n",
       "    .dataframe thead th {\n",
       "        text-align: right;\n",
       "    }\n",
       "</style>\n",
       "<table border=\"1\" class=\"dataframe\">\n",
       "  <thead>\n",
       "    <tr style=\"text-align: right;\">\n",
       "      <th></th>\n",
       "      <th>COUNTRY</th>\n",
       "      <th>YEAR</th>\n",
       "      <th>EVENT_FATALITIES</th>\n",
       "      <th>PERIOD</th>\n",
       "    </tr>\n",
       "  </thead>\n",
       "  <tbody>\n",
       "    <tr>\n",
       "      <th>0</th>\n",
       "      <td>Algeria</td>\n",
       "      <td>2000</td>\n",
       "      <td>445</td>\n",
       "      <td>0</td>\n",
       "    </tr>\n",
       "    <tr>\n",
       "      <th>1</th>\n",
       "      <td>Algeria</td>\n",
       "      <td>2001</td>\n",
       "      <td>348</td>\n",
       "      <td>0</td>\n",
       "    </tr>\n",
       "    <tr>\n",
       "      <th>2</th>\n",
       "      <td>Algeria</td>\n",
       "      <td>2002</td>\n",
       "      <td>337</td>\n",
       "      <td>0</td>\n",
       "    </tr>\n",
       "    <tr>\n",
       "      <th>3</th>\n",
       "      <td>Algeria</td>\n",
       "      <td>2003</td>\n",
       "      <td>141</td>\n",
       "      <td>0</td>\n",
       "    </tr>\n",
       "    <tr>\n",
       "      <th>4</th>\n",
       "      <td>Algeria</td>\n",
       "      <td>2004</td>\n",
       "      <td>61</td>\n",
       "      <td>0</td>\n",
       "    </tr>\n",
       "    <tr>\n",
       "      <th>...</th>\n",
       "      <td>...</td>\n",
       "      <td>...</td>\n",
       "      <td>...</td>\n",
       "      <td>...</td>\n",
       "    </tr>\n",
       "    <tr>\n",
       "      <th>215</th>\n",
       "      <td>Tanzania</td>\n",
       "      <td>2001</td>\n",
       "      <td>15</td>\n",
       "      <td>0</td>\n",
       "    </tr>\n",
       "    <tr>\n",
       "      <th>216</th>\n",
       "      <td>Tanzania</td>\n",
       "      <td>2002</td>\n",
       "      <td>38</td>\n",
       "      <td>0</td>\n",
       "    </tr>\n",
       "    <tr>\n",
       "      <th>217</th>\n",
       "      <td>Tanzania</td>\n",
       "      <td>2007</td>\n",
       "      <td>3</td>\n",
       "      <td>0</td>\n",
       "    </tr>\n",
       "    <tr>\n",
       "      <th>218</th>\n",
       "      <td>Zambia</td>\n",
       "      <td>2000</td>\n",
       "      <td>0</td>\n",
       "      <td>0</td>\n",
       "    </tr>\n",
       "    <tr>\n",
       "      <th>219</th>\n",
       "      <td>Zambia</td>\n",
       "      <td>2002</td>\n",
       "      <td>0</td>\n",
       "      <td>0</td>\n",
       "    </tr>\n",
       "  </tbody>\n",
       "</table>\n",
       "<p>220 rows × 4 columns</p>\n",
       "</div>"
      ],
      "text/plain": [
       "      COUNTRY  YEAR  EVENT_FATALITIES  PERIOD\n",
       "0     Algeria  2000               445       0\n",
       "1     Algeria  2001               348       0\n",
       "2     Algeria  2002               337       0\n",
       "3     Algeria  2003               141       0\n",
       "4     Algeria  2004                61       0\n",
       "..        ...   ...               ...     ...\n",
       "215  Tanzania  2001                15       0\n",
       "216  Tanzania  2002                38       0\n",
       "217  Tanzania  2007                 3       0\n",
       "218    Zambia  2000                 0       0\n",
       "219    Zambia  2002                 0       0\n",
       "\n",
       "[220 rows x 4 columns]"
      ]
     },
     "execution_count": 39,
     "metadata": {},
     "output_type": "execute_result"
    }
   ],
   "source": [
    "EVENT_FATALITIES_df2['PERIOD']=np.where(EVENT_FATALITIES_df2['YEAR']>=2011 ,1,0)\n",
    "EVENT_FATALITIES_df2"
   ]
  },
  {
   "cell_type": "markdown",
   "id": "8023cdb6",
   "metadata": {},
   "source": [
    "The graph below represents the evolution of the total number of deaths caused by the attacks in all the countries concerned by our study (treatment group and control group)"
   ]
  },
  {
   "cell_type": "code",
   "execution_count": 42,
   "id": "49703e64",
   "metadata": {},
   "outputs": [
    {
     "data": {
      "application/vnd.plotly.v1+json": {
       "config": {
        "plotlyServerURL": "https://plot.ly"
       },
       "data": [
        {
         "colorscale": [
          [
           0,
           "rgb(255,245,240)"
          ],
          [
           0.125,
           "rgb(254,224,210)"
          ],
          [
           0.25,
           "rgb(252,187,161)"
          ],
          [
           0.375,
           "rgb(252,146,114)"
          ],
          [
           0.5,
           "rgb(251,106,74)"
          ],
          [
           0.625,
           "rgb(239,59,44)"
          ],
          [
           0.75,
           "rgb(203,24,29)"
          ],
          [
           0.875,
           "rgb(165,15,21)"
          ],
          [
           1,
           "rgb(103,0,13)"
          ]
         ],
         "locationmode": "country names",
         "locations": [
          "Algeria",
          "Angola",
          "Burkina Faso",
          "Burundi",
          "Cameroon",
          "Chad",
          "Kenya",
          "Liberia",
          "Libya",
          "Mali",
          "Mauritania",
          "Namibia",
          "Niger",
          "Nigeria",
          "Rwanda",
          "Senegal",
          "Sierra Leone",
          "Somalia",
          "South Sudan",
          "Sudan",
          "Tanzania",
          "Zambia"
         ],
         "marker": {
          "line": {
           "color": "black",
           "width": 0.5
          }
         },
         "type": "choropleth",
         "z": [
          1448,
          3163,
          997,
          2287,
          1451,
          147,
          640,
          46,
          292,
          667,
          7,
          81,
          583,
          10501,
          40,
          93,
          0,
          2059,
          1107,
          3633,
          56,
          0
         ]
        }
       ],
       "layout": {
        "geo": {
         "projection": {
          "type": "equirectangular"
         },
         "showcoastlines": false,
         "showframe": false
        },
        "template": {
         "data": {
          "bar": [
           {
            "error_x": {
             "color": "#2a3f5f"
            },
            "error_y": {
             "color": "#2a3f5f"
            },
            "marker": {
             "line": {
              "color": "#E5ECF6",
              "width": 0.5
             },
             "pattern": {
              "fillmode": "overlay",
              "size": 10,
              "solidity": 0.2
             }
            },
            "type": "bar"
           }
          ],
          "barpolar": [
           {
            "marker": {
             "line": {
              "color": "#E5ECF6",
              "width": 0.5
             },
             "pattern": {
              "fillmode": "overlay",
              "size": 10,
              "solidity": 0.2
             }
            },
            "type": "barpolar"
           }
          ],
          "carpet": [
           {
            "aaxis": {
             "endlinecolor": "#2a3f5f",
             "gridcolor": "white",
             "linecolor": "white",
             "minorgridcolor": "white",
             "startlinecolor": "#2a3f5f"
            },
            "baxis": {
             "endlinecolor": "#2a3f5f",
             "gridcolor": "white",
             "linecolor": "white",
             "minorgridcolor": "white",
             "startlinecolor": "#2a3f5f"
            },
            "type": "carpet"
           }
          ],
          "choropleth": [
           {
            "colorbar": {
             "outlinewidth": 0,
             "ticks": ""
            },
            "type": "choropleth"
           }
          ],
          "contour": [
           {
            "colorbar": {
             "outlinewidth": 0,
             "ticks": ""
            },
            "colorscale": [
             [
              0,
              "#0d0887"
             ],
             [
              0.1111111111111111,
              "#46039f"
             ],
             [
              0.2222222222222222,
              "#7201a8"
             ],
             [
              0.3333333333333333,
              "#9c179e"
             ],
             [
              0.4444444444444444,
              "#bd3786"
             ],
             [
              0.5555555555555556,
              "#d8576b"
             ],
             [
              0.6666666666666666,
              "#ed7953"
             ],
             [
              0.7777777777777778,
              "#fb9f3a"
             ],
             [
              0.8888888888888888,
              "#fdca26"
             ],
             [
              1,
              "#f0f921"
             ]
            ],
            "type": "contour"
           }
          ],
          "contourcarpet": [
           {
            "colorbar": {
             "outlinewidth": 0,
             "ticks": ""
            },
            "type": "contourcarpet"
           }
          ],
          "heatmap": [
           {
            "colorbar": {
             "outlinewidth": 0,
             "ticks": ""
            },
            "colorscale": [
             [
              0,
              "#0d0887"
             ],
             [
              0.1111111111111111,
              "#46039f"
             ],
             [
              0.2222222222222222,
              "#7201a8"
             ],
             [
              0.3333333333333333,
              "#9c179e"
             ],
             [
              0.4444444444444444,
              "#bd3786"
             ],
             [
              0.5555555555555556,
              "#d8576b"
             ],
             [
              0.6666666666666666,
              "#ed7953"
             ],
             [
              0.7777777777777778,
              "#fb9f3a"
             ],
             [
              0.8888888888888888,
              "#fdca26"
             ],
             [
              1,
              "#f0f921"
             ]
            ],
            "type": "heatmap"
           }
          ],
          "heatmapgl": [
           {
            "colorbar": {
             "outlinewidth": 0,
             "ticks": ""
            },
            "colorscale": [
             [
              0,
              "#0d0887"
             ],
             [
              0.1111111111111111,
              "#46039f"
             ],
             [
              0.2222222222222222,
              "#7201a8"
             ],
             [
              0.3333333333333333,
              "#9c179e"
             ],
             [
              0.4444444444444444,
              "#bd3786"
             ],
             [
              0.5555555555555556,
              "#d8576b"
             ],
             [
              0.6666666666666666,
              "#ed7953"
             ],
             [
              0.7777777777777778,
              "#fb9f3a"
             ],
             [
              0.8888888888888888,
              "#fdca26"
             ],
             [
              1,
              "#f0f921"
             ]
            ],
            "type": "heatmapgl"
           }
          ],
          "histogram": [
           {
            "marker": {
             "pattern": {
              "fillmode": "overlay",
              "size": 10,
              "solidity": 0.2
             }
            },
            "type": "histogram"
           }
          ],
          "histogram2d": [
           {
            "colorbar": {
             "outlinewidth": 0,
             "ticks": ""
            },
            "colorscale": [
             [
              0,
              "#0d0887"
             ],
             [
              0.1111111111111111,
              "#46039f"
             ],
             [
              0.2222222222222222,
              "#7201a8"
             ],
             [
              0.3333333333333333,
              "#9c179e"
             ],
             [
              0.4444444444444444,
              "#bd3786"
             ],
             [
              0.5555555555555556,
              "#d8576b"
             ],
             [
              0.6666666666666666,
              "#ed7953"
             ],
             [
              0.7777777777777778,
              "#fb9f3a"
             ],
             [
              0.8888888888888888,
              "#fdca26"
             ],
             [
              1,
              "#f0f921"
             ]
            ],
            "type": "histogram2d"
           }
          ],
          "histogram2dcontour": [
           {
            "colorbar": {
             "outlinewidth": 0,
             "ticks": ""
            },
            "colorscale": [
             [
              0,
              "#0d0887"
             ],
             [
              0.1111111111111111,
              "#46039f"
             ],
             [
              0.2222222222222222,
              "#7201a8"
             ],
             [
              0.3333333333333333,
              "#9c179e"
             ],
             [
              0.4444444444444444,
              "#bd3786"
             ],
             [
              0.5555555555555556,
              "#d8576b"
             ],
             [
              0.6666666666666666,
              "#ed7953"
             ],
             [
              0.7777777777777778,
              "#fb9f3a"
             ],
             [
              0.8888888888888888,
              "#fdca26"
             ],
             [
              1,
              "#f0f921"
             ]
            ],
            "type": "histogram2dcontour"
           }
          ],
          "mesh3d": [
           {
            "colorbar": {
             "outlinewidth": 0,
             "ticks": ""
            },
            "type": "mesh3d"
           }
          ],
          "parcoords": [
           {
            "line": {
             "colorbar": {
              "outlinewidth": 0,
              "ticks": ""
             }
            },
            "type": "parcoords"
           }
          ],
          "pie": [
           {
            "automargin": true,
            "type": "pie"
           }
          ],
          "scatter": [
           {
            "fillpattern": {
             "fillmode": "overlay",
             "size": 10,
             "solidity": 0.2
            },
            "type": "scatter"
           }
          ],
          "scatter3d": [
           {
            "line": {
             "colorbar": {
              "outlinewidth": 0,
              "ticks": ""
             }
            },
            "marker": {
             "colorbar": {
              "outlinewidth": 0,
              "ticks": ""
             }
            },
            "type": "scatter3d"
           }
          ],
          "scattercarpet": [
           {
            "marker": {
             "colorbar": {
              "outlinewidth": 0,
              "ticks": ""
             }
            },
            "type": "scattercarpet"
           }
          ],
          "scattergeo": [
           {
            "marker": {
             "colorbar": {
              "outlinewidth": 0,
              "ticks": ""
             }
            },
            "type": "scattergeo"
           }
          ],
          "scattergl": [
           {
            "marker": {
             "colorbar": {
              "outlinewidth": 0,
              "ticks": ""
             }
            },
            "type": "scattergl"
           }
          ],
          "scattermapbox": [
           {
            "marker": {
             "colorbar": {
              "outlinewidth": 0,
              "ticks": ""
             }
            },
            "type": "scattermapbox"
           }
          ],
          "scatterpolar": [
           {
            "marker": {
             "colorbar": {
              "outlinewidth": 0,
              "ticks": ""
             }
            },
            "type": "scatterpolar"
           }
          ],
          "scatterpolargl": [
           {
            "marker": {
             "colorbar": {
              "outlinewidth": 0,
              "ticks": ""
             }
            },
            "type": "scatterpolargl"
           }
          ],
          "scatterternary": [
           {
            "marker": {
             "colorbar": {
              "outlinewidth": 0,
              "ticks": ""
             }
            },
            "type": "scatterternary"
           }
          ],
          "surface": [
           {
            "colorbar": {
             "outlinewidth": 0,
             "ticks": ""
            },
            "colorscale": [
             [
              0,
              "#0d0887"
             ],
             [
              0.1111111111111111,
              "#46039f"
             ],
             [
              0.2222222222222222,
              "#7201a8"
             ],
             [
              0.3333333333333333,
              "#9c179e"
             ],
             [
              0.4444444444444444,
              "#bd3786"
             ],
             [
              0.5555555555555556,
              "#d8576b"
             ],
             [
              0.6666666666666666,
              "#ed7953"
             ],
             [
              0.7777777777777778,
              "#fb9f3a"
             ],
             [
              0.8888888888888888,
              "#fdca26"
             ],
             [
              1,
              "#f0f921"
             ]
            ],
            "type": "surface"
           }
          ],
          "table": [
           {
            "cells": {
             "fill": {
              "color": "#EBF0F8"
             },
             "line": {
              "color": "white"
             }
            },
            "header": {
             "fill": {
              "color": "#C8D4E3"
             },
             "line": {
              "color": "white"
             }
            },
            "type": "table"
           }
          ]
         },
         "layout": {
          "annotationdefaults": {
           "arrowcolor": "#2a3f5f",
           "arrowhead": 0,
           "arrowwidth": 1
          },
          "autotypenumbers": "strict",
          "coloraxis": {
           "colorbar": {
            "outlinewidth": 0,
            "ticks": ""
           }
          },
          "colorscale": {
           "diverging": [
            [
             0,
             "#8e0152"
            ],
            [
             0.1,
             "#c51b7d"
            ],
            [
             0.2,
             "#de77ae"
            ],
            [
             0.3,
             "#f1b6da"
            ],
            [
             0.4,
             "#fde0ef"
            ],
            [
             0.5,
             "#f7f7f7"
            ],
            [
             0.6,
             "#e6f5d0"
            ],
            [
             0.7,
             "#b8e186"
            ],
            [
             0.8,
             "#7fbc41"
            ],
            [
             0.9,
             "#4d9221"
            ],
            [
             1,
             "#276419"
            ]
           ],
           "sequential": [
            [
             0,
             "#0d0887"
            ],
            [
             0.1111111111111111,
             "#46039f"
            ],
            [
             0.2222222222222222,
             "#7201a8"
            ],
            [
             0.3333333333333333,
             "#9c179e"
            ],
            [
             0.4444444444444444,
             "#bd3786"
            ],
            [
             0.5555555555555556,
             "#d8576b"
            ],
            [
             0.6666666666666666,
             "#ed7953"
            ],
            [
             0.7777777777777778,
             "#fb9f3a"
            ],
            [
             0.8888888888888888,
             "#fdca26"
            ],
            [
             1,
             "#f0f921"
            ]
           ],
           "sequentialminus": [
            [
             0,
             "#0d0887"
            ],
            [
             0.1111111111111111,
             "#46039f"
            ],
            [
             0.2222222222222222,
             "#7201a8"
            ],
            [
             0.3333333333333333,
             "#9c179e"
            ],
            [
             0.4444444444444444,
             "#bd3786"
            ],
            [
             0.5555555555555556,
             "#d8576b"
            ],
            [
             0.6666666666666666,
             "#ed7953"
            ],
            [
             0.7777777777777778,
             "#fb9f3a"
            ],
            [
             0.8888888888888888,
             "#fdca26"
            ],
            [
             1,
             "#f0f921"
            ]
           ]
          },
          "colorway": [
           "#636efa",
           "#EF553B",
           "#00cc96",
           "#ab63fa",
           "#FFA15A",
           "#19d3f3",
           "#FF6692",
           "#B6E880",
           "#FF97FF",
           "#FECB52"
          ],
          "font": {
           "color": "#2a3f5f"
          },
          "geo": {
           "bgcolor": "white",
           "lakecolor": "white",
           "landcolor": "#E5ECF6",
           "showlakes": true,
           "showland": true,
           "subunitcolor": "white"
          },
          "hoverlabel": {
           "align": "left"
          },
          "hovermode": "closest",
          "mapbox": {
           "style": "light"
          },
          "paper_bgcolor": "white",
          "plot_bgcolor": "#E5ECF6",
          "polar": {
           "angularaxis": {
            "gridcolor": "white",
            "linecolor": "white",
            "ticks": ""
           },
           "bgcolor": "#E5ECF6",
           "radialaxis": {
            "gridcolor": "white",
            "linecolor": "white",
            "ticks": ""
           }
          },
          "scene": {
           "xaxis": {
            "backgroundcolor": "#E5ECF6",
            "gridcolor": "white",
            "gridwidth": 2,
            "linecolor": "white",
            "showbackground": true,
            "ticks": "",
            "zerolinecolor": "white"
           },
           "yaxis": {
            "backgroundcolor": "#E5ECF6",
            "gridcolor": "white",
            "gridwidth": 2,
            "linecolor": "white",
            "showbackground": true,
            "ticks": "",
            "zerolinecolor": "white"
           },
           "zaxis": {
            "backgroundcolor": "#E5ECF6",
            "gridcolor": "white",
            "gridwidth": 2,
            "linecolor": "white",
            "showbackground": true,
            "ticks": "",
            "zerolinecolor": "white"
           }
          },
          "shapedefaults": {
           "line": {
            "color": "#2a3f5f"
           }
          },
          "ternary": {
           "aaxis": {
            "gridcolor": "white",
            "linecolor": "white",
            "ticks": ""
           },
           "baxis": {
            "gridcolor": "white",
            "linecolor": "white",
            "ticks": ""
           },
           "bgcolor": "#E5ECF6",
           "caxis": {
            "gridcolor": "white",
            "linecolor": "white",
            "ticks": ""
           }
          },
          "title": {
           "x": 0.05
          },
          "xaxis": {
           "automargin": true,
           "gridcolor": "white",
           "linecolor": "white",
           "ticks": "",
           "title": {
            "standoff": 15
           },
           "zerolinecolor": "white",
           "zerolinewidth": 2
          },
          "yaxis": {
           "automargin": true,
           "gridcolor": "white",
           "linecolor": "white",
           "ticks": "",
           "title": {
            "standoff": 15
           },
           "zerolinecolor": "white",
           "zerolinewidth": 2
          }
         }
        },
        "title": {
         "text": "",
         "x": 0.5
        }
       }
      },
      "text/html": [
       "<div>                            <div id=\"b1638d42-ba28-40f2-ab20-675bd76adee3\" class=\"plotly-graph-div\" style=\"height:525px; width:100%;\"></div>            <script type=\"text/javascript\">                require([\"plotly\"], function(Plotly) {                    window.PLOTLYENV=window.PLOTLYENV || {};                                    if (document.getElementById(\"b1638d42-ba28-40f2-ab20-675bd76adee3\")) {                    Plotly.newPlot(                        \"b1638d42-ba28-40f2-ab20-675bd76adee3\",                        [{\"colorscale\":[[0.0,\"rgb(255,245,240)\"],[0.125,\"rgb(254,224,210)\"],[0.25,\"rgb(252,187,161)\"],[0.375,\"rgb(252,146,114)\"],[0.5,\"rgb(251,106,74)\"],[0.625,\"rgb(239,59,44)\"],[0.75,\"rgb(203,24,29)\"],[0.875,\"rgb(165,15,21)\"],[1.0,\"rgb(103,0,13)\"]],\"locationmode\":\"country names\",\"locations\":[\"Algeria\",\"Angola\",\"Burkina Faso\",\"Burundi\",\"Cameroon\",\"Chad\",\"Kenya\",\"Liberia\",\"Libya\",\"Mali\",\"Mauritania\",\"Namibia\",\"Niger\",\"Nigeria\",\"Rwanda\",\"Senegal\",\"Sierra Leone\",\"Somalia\",\"South Sudan\",\"Sudan\",\"Tanzania\",\"Zambia\"],\"marker\":{\"line\":{\"color\":\"black\",\"width\":0.5}},\"z\":[1448,3163,997,2287,1451,147,640,46,292,667,7,81,583,10501,40,93,0,2059,1107,3633,56,0],\"type\":\"choropleth\"}],                        {\"template\":{\"data\":{\"histogram2dcontour\":[{\"type\":\"histogram2dcontour\",\"colorbar\":{\"outlinewidth\":0,\"ticks\":\"\"},\"colorscale\":[[0.0,\"#0d0887\"],[0.1111111111111111,\"#46039f\"],[0.2222222222222222,\"#7201a8\"],[0.3333333333333333,\"#9c179e\"],[0.4444444444444444,\"#bd3786\"],[0.5555555555555556,\"#d8576b\"],[0.6666666666666666,\"#ed7953\"],[0.7777777777777778,\"#fb9f3a\"],[0.8888888888888888,\"#fdca26\"],[1.0,\"#f0f921\"]]}],\"choropleth\":[{\"type\":\"choropleth\",\"colorbar\":{\"outlinewidth\":0,\"ticks\":\"\"}}],\"histogram2d\":[{\"type\":\"histogram2d\",\"colorbar\":{\"outlinewidth\":0,\"ticks\":\"\"},\"colorscale\":[[0.0,\"#0d0887\"],[0.1111111111111111,\"#46039f\"],[0.2222222222222222,\"#7201a8\"],[0.3333333333333333,\"#9c179e\"],[0.4444444444444444,\"#bd3786\"],[0.5555555555555556,\"#d8576b\"],[0.6666666666666666,\"#ed7953\"],[0.7777777777777778,\"#fb9f3a\"],[0.8888888888888888,\"#fdca26\"],[1.0,\"#f0f921\"]]}],\"heatmap\":[{\"type\":\"heatmap\",\"colorbar\":{\"outlinewidth\":0,\"ticks\":\"\"},\"colorscale\":[[0.0,\"#0d0887\"],[0.1111111111111111,\"#46039f\"],[0.2222222222222222,\"#7201a8\"],[0.3333333333333333,\"#9c179e\"],[0.4444444444444444,\"#bd3786\"],[0.5555555555555556,\"#d8576b\"],[0.6666666666666666,\"#ed7953\"],[0.7777777777777778,\"#fb9f3a\"],[0.8888888888888888,\"#fdca26\"],[1.0,\"#f0f921\"]]}],\"heatmapgl\":[{\"type\":\"heatmapgl\",\"colorbar\":{\"outlinewidth\":0,\"ticks\":\"\"},\"colorscale\":[[0.0,\"#0d0887\"],[0.1111111111111111,\"#46039f\"],[0.2222222222222222,\"#7201a8\"],[0.3333333333333333,\"#9c179e\"],[0.4444444444444444,\"#bd3786\"],[0.5555555555555556,\"#d8576b\"],[0.6666666666666666,\"#ed7953\"],[0.7777777777777778,\"#fb9f3a\"],[0.8888888888888888,\"#fdca26\"],[1.0,\"#f0f921\"]]}],\"contourcarpet\":[{\"type\":\"contourcarpet\",\"colorbar\":{\"outlinewidth\":0,\"ticks\":\"\"}}],\"contour\":[{\"type\":\"contour\",\"colorbar\":{\"outlinewidth\":0,\"ticks\":\"\"},\"colorscale\":[[0.0,\"#0d0887\"],[0.1111111111111111,\"#46039f\"],[0.2222222222222222,\"#7201a8\"],[0.3333333333333333,\"#9c179e\"],[0.4444444444444444,\"#bd3786\"],[0.5555555555555556,\"#d8576b\"],[0.6666666666666666,\"#ed7953\"],[0.7777777777777778,\"#fb9f3a\"],[0.8888888888888888,\"#fdca26\"],[1.0,\"#f0f921\"]]}],\"surface\":[{\"type\":\"surface\",\"colorbar\":{\"outlinewidth\":0,\"ticks\":\"\"},\"colorscale\":[[0.0,\"#0d0887\"],[0.1111111111111111,\"#46039f\"],[0.2222222222222222,\"#7201a8\"],[0.3333333333333333,\"#9c179e\"],[0.4444444444444444,\"#bd3786\"],[0.5555555555555556,\"#d8576b\"],[0.6666666666666666,\"#ed7953\"],[0.7777777777777778,\"#fb9f3a\"],[0.8888888888888888,\"#fdca26\"],[1.0,\"#f0f921\"]]}],\"mesh3d\":[{\"type\":\"mesh3d\",\"colorbar\":{\"outlinewidth\":0,\"ticks\":\"\"}}],\"scatter\":[{\"fillpattern\":{\"fillmode\":\"overlay\",\"size\":10,\"solidity\":0.2},\"type\":\"scatter\"}],\"parcoords\":[{\"type\":\"parcoords\",\"line\":{\"colorbar\":{\"outlinewidth\":0,\"ticks\":\"\"}}}],\"scatterpolargl\":[{\"type\":\"scatterpolargl\",\"marker\":{\"colorbar\":{\"outlinewidth\":0,\"ticks\":\"\"}}}],\"bar\":[{\"error_x\":{\"color\":\"#2a3f5f\"},\"error_y\":{\"color\":\"#2a3f5f\"},\"marker\":{\"line\":{\"color\":\"#E5ECF6\",\"width\":0.5},\"pattern\":{\"fillmode\":\"overlay\",\"size\":10,\"solidity\":0.2}},\"type\":\"bar\"}],\"scattergeo\":[{\"type\":\"scattergeo\",\"marker\":{\"colorbar\":{\"outlinewidth\":0,\"ticks\":\"\"}}}],\"scatterpolar\":[{\"type\":\"scatterpolar\",\"marker\":{\"colorbar\":{\"outlinewidth\":0,\"ticks\":\"\"}}}],\"histogram\":[{\"marker\":{\"pattern\":{\"fillmode\":\"overlay\",\"size\":10,\"solidity\":0.2}},\"type\":\"histogram\"}],\"scattergl\":[{\"type\":\"scattergl\",\"marker\":{\"colorbar\":{\"outlinewidth\":0,\"ticks\":\"\"}}}],\"scatter3d\":[{\"type\":\"scatter3d\",\"line\":{\"colorbar\":{\"outlinewidth\":0,\"ticks\":\"\"}},\"marker\":{\"colorbar\":{\"outlinewidth\":0,\"ticks\":\"\"}}}],\"scattermapbox\":[{\"type\":\"scattermapbox\",\"marker\":{\"colorbar\":{\"outlinewidth\":0,\"ticks\":\"\"}}}],\"scatterternary\":[{\"type\":\"scatterternary\",\"marker\":{\"colorbar\":{\"outlinewidth\":0,\"ticks\":\"\"}}}],\"scattercarpet\":[{\"type\":\"scattercarpet\",\"marker\":{\"colorbar\":{\"outlinewidth\":0,\"ticks\":\"\"}}}],\"carpet\":[{\"aaxis\":{\"endlinecolor\":\"#2a3f5f\",\"gridcolor\":\"white\",\"linecolor\":\"white\",\"minorgridcolor\":\"white\",\"startlinecolor\":\"#2a3f5f\"},\"baxis\":{\"endlinecolor\":\"#2a3f5f\",\"gridcolor\":\"white\",\"linecolor\":\"white\",\"minorgridcolor\":\"white\",\"startlinecolor\":\"#2a3f5f\"},\"type\":\"carpet\"}],\"table\":[{\"cells\":{\"fill\":{\"color\":\"#EBF0F8\"},\"line\":{\"color\":\"white\"}},\"header\":{\"fill\":{\"color\":\"#C8D4E3\"},\"line\":{\"color\":\"white\"}},\"type\":\"table\"}],\"barpolar\":[{\"marker\":{\"line\":{\"color\":\"#E5ECF6\",\"width\":0.5},\"pattern\":{\"fillmode\":\"overlay\",\"size\":10,\"solidity\":0.2}},\"type\":\"barpolar\"}],\"pie\":[{\"automargin\":true,\"type\":\"pie\"}]},\"layout\":{\"autotypenumbers\":\"strict\",\"colorway\":[\"#636efa\",\"#EF553B\",\"#00cc96\",\"#ab63fa\",\"#FFA15A\",\"#19d3f3\",\"#FF6692\",\"#B6E880\",\"#FF97FF\",\"#FECB52\"],\"font\":{\"color\":\"#2a3f5f\"},\"hovermode\":\"closest\",\"hoverlabel\":{\"align\":\"left\"},\"paper_bgcolor\":\"white\",\"plot_bgcolor\":\"#E5ECF6\",\"polar\":{\"bgcolor\":\"#E5ECF6\",\"angularaxis\":{\"gridcolor\":\"white\",\"linecolor\":\"white\",\"ticks\":\"\"},\"radialaxis\":{\"gridcolor\":\"white\",\"linecolor\":\"white\",\"ticks\":\"\"}},\"ternary\":{\"bgcolor\":\"#E5ECF6\",\"aaxis\":{\"gridcolor\":\"white\",\"linecolor\":\"white\",\"ticks\":\"\"},\"baxis\":{\"gridcolor\":\"white\",\"linecolor\":\"white\",\"ticks\":\"\"},\"caxis\":{\"gridcolor\":\"white\",\"linecolor\":\"white\",\"ticks\":\"\"}},\"coloraxis\":{\"colorbar\":{\"outlinewidth\":0,\"ticks\":\"\"}},\"colorscale\":{\"sequential\":[[0.0,\"#0d0887\"],[0.1111111111111111,\"#46039f\"],[0.2222222222222222,\"#7201a8\"],[0.3333333333333333,\"#9c179e\"],[0.4444444444444444,\"#bd3786\"],[0.5555555555555556,\"#d8576b\"],[0.6666666666666666,\"#ed7953\"],[0.7777777777777778,\"#fb9f3a\"],[0.8888888888888888,\"#fdca26\"],[1.0,\"#f0f921\"]],\"sequentialminus\":[[0.0,\"#0d0887\"],[0.1111111111111111,\"#46039f\"],[0.2222222222222222,\"#7201a8\"],[0.3333333333333333,\"#9c179e\"],[0.4444444444444444,\"#bd3786\"],[0.5555555555555556,\"#d8576b\"],[0.6666666666666666,\"#ed7953\"],[0.7777777777777778,\"#fb9f3a\"],[0.8888888888888888,\"#fdca26\"],[1.0,\"#f0f921\"]],\"diverging\":[[0,\"#8e0152\"],[0.1,\"#c51b7d\"],[0.2,\"#de77ae\"],[0.3,\"#f1b6da\"],[0.4,\"#fde0ef\"],[0.5,\"#f7f7f7\"],[0.6,\"#e6f5d0\"],[0.7,\"#b8e186\"],[0.8,\"#7fbc41\"],[0.9,\"#4d9221\"],[1,\"#276419\"]]},\"xaxis\":{\"gridcolor\":\"white\",\"linecolor\":\"white\",\"ticks\":\"\",\"title\":{\"standoff\":15},\"zerolinecolor\":\"white\",\"automargin\":true,\"zerolinewidth\":2},\"yaxis\":{\"gridcolor\":\"white\",\"linecolor\":\"white\",\"ticks\":\"\",\"title\":{\"standoff\":15},\"zerolinecolor\":\"white\",\"automargin\":true,\"zerolinewidth\":2},\"scene\":{\"xaxis\":{\"backgroundcolor\":\"#E5ECF6\",\"gridcolor\":\"white\",\"linecolor\":\"white\",\"showbackground\":true,\"ticks\":\"\",\"zerolinecolor\":\"white\",\"gridwidth\":2},\"yaxis\":{\"backgroundcolor\":\"#E5ECF6\",\"gridcolor\":\"white\",\"linecolor\":\"white\",\"showbackground\":true,\"ticks\":\"\",\"zerolinecolor\":\"white\",\"gridwidth\":2},\"zaxis\":{\"backgroundcolor\":\"#E5ECF6\",\"gridcolor\":\"white\",\"linecolor\":\"white\",\"showbackground\":true,\"ticks\":\"\",\"zerolinecolor\":\"white\",\"gridwidth\":2}},\"shapedefaults\":{\"line\":{\"color\":\"#2a3f5f\"}},\"annotationdefaults\":{\"arrowcolor\":\"#2a3f5f\",\"arrowhead\":0,\"arrowwidth\":1},\"geo\":{\"bgcolor\":\"white\",\"landcolor\":\"#E5ECF6\",\"subunitcolor\":\"white\",\"showland\":true,\"showlakes\":true,\"lakecolor\":\"white\"},\"title\":{\"x\":0.05},\"mapbox\":{\"style\":\"light\"}}},\"title\":{\"text\":\"\",\"x\":0.5},\"geo\":{\"projection\":{\"type\":\"equirectangular\"},\"showframe\":false,\"showcoastlines\":false}},                        {\"responsive\": true}                    ).then(function(){\n",
       "                            \n",
       "var gd = document.getElementById('b1638d42-ba28-40f2-ab20-675bd76adee3');\n",
       "var x = new MutationObserver(function (mutations, observer) {{\n",
       "        var display = window.getComputedStyle(gd).display;\n",
       "        if (!display || display === 'none') {{\n",
       "            console.log([gd, 'removed!']);\n",
       "            Plotly.purge(gd);\n",
       "            observer.disconnect();\n",
       "        }}\n",
       "}});\n",
       "\n",
       "// Listen for the removal of the full notebook cells\n",
       "var notebookContainer = gd.closest('#notebook-container');\n",
       "if (notebookContainer) {{\n",
       "    x.observe(notebookContainer, {childList: true});\n",
       "}}\n",
       "\n",
       "// Listen for the clearing of the current output cell\n",
       "var outputEl = gd.closest('.output');\n",
       "if (outputEl) {{\n",
       "    x.observe(outputEl, {childList: true});\n",
       "}}\n",
       "\n",
       "                        })                };                });            </script>        </div>"
      ]
     },
     "metadata": {},
     "output_type": "display_data"
    }
   ],
   "source": [
    "#Creating the visualization\n",
    "\n",
    "\n",
    "fig = go.Figure(data=go.Choropleth( locations = EVENT_FATALITIES_df1['COUNTRY'], locationmode = 'country names', z = EVENT_FATALITIES_df1['EVENT_FATALITIES'], colorscale = 'Reds', marker_line_color = 'black', marker_line_width = 0.5, ))\n",
    "\n",
    "fig.update_layout( title_text = '', title_x = 0.5, geo=dict( showframe = False, showcoastlines = False, projection_type = 'equirectangular' ) ) \n",
    "fig.show()"
   ]
  },
  {
   "cell_type": "markdown",
   "id": "513c42b7",
   "metadata": {},
   "source": [
    "The following graph represents the evolution of the total number of attacks that took place in all the countries concerned by our study (treatment group and control group)"
   ]
  },
  {
   "cell_type": "code",
   "execution_count": 43,
   "id": "03f4f329",
   "metadata": {
    "scrolled": true
   },
   "outputs": [
    {
     "data": {
      "application/vnd.plotly.v1+json": {
       "config": {
        "plotlyServerURL": "https://plot.ly"
       },
       "data": [
        {
         "colorscale": [
          [
           0,
           "rgb(255,245,240)"
          ],
          [
           0.125,
           "rgb(254,224,210)"
          ],
          [
           0.25,
           "rgb(252,187,161)"
          ],
          [
           0.375,
           "rgb(252,146,114)"
          ],
          [
           0.5,
           "rgb(251,106,74)"
          ],
          [
           0.625,
           "rgb(239,59,44)"
          ],
          [
           0.75,
           "rgb(203,24,29)"
          ],
          [
           0.875,
           "rgb(165,15,21)"
          ],
          [
           1,
           "rgb(103,0,13)"
          ]
         ],
         "locationmode": "country names",
         "locations": [
          "Algeria",
          "Angola",
          "Burkina Faso",
          "Burundi",
          "Cameroon",
          "Chad",
          "Kenya",
          "Liberia",
          "Libya",
          "Mali",
          "Mauritania",
          "Namibia",
          "Niger",
          "Nigeria",
          "Rwanda",
          "Senegal",
          "Sierra Leone",
          "Somalia",
          "South Sudan",
          "Sudan",
          "Tanzania",
          "Zambia"
         ],
         "marker": {
          "line": {
           "color": "black",
           "width": 0.5
          }
         },
         "type": "choropleth",
         "z": [
          253,
          126,
          500,
          554,
          1057,
          42,
          133,
          73,
          125,
          383,
          6,
          29,
          434,
          1006,
          13,
          51,
          73,
          1652,
          285,
          463,
          7,
          4
         ]
        }
       ],
       "layout": {
        "geo": {
         "projection": {
          "type": "equirectangular"
         },
         "showcoastlines": false,
         "showframe": false
        },
        "template": {
         "data": {
          "bar": [
           {
            "error_x": {
             "color": "#2a3f5f"
            },
            "error_y": {
             "color": "#2a3f5f"
            },
            "marker": {
             "line": {
              "color": "#E5ECF6",
              "width": 0.5
             },
             "pattern": {
              "fillmode": "overlay",
              "size": 10,
              "solidity": 0.2
             }
            },
            "type": "bar"
           }
          ],
          "barpolar": [
           {
            "marker": {
             "line": {
              "color": "#E5ECF6",
              "width": 0.5
             },
             "pattern": {
              "fillmode": "overlay",
              "size": 10,
              "solidity": 0.2
             }
            },
            "type": "barpolar"
           }
          ],
          "carpet": [
           {
            "aaxis": {
             "endlinecolor": "#2a3f5f",
             "gridcolor": "white",
             "linecolor": "white",
             "minorgridcolor": "white",
             "startlinecolor": "#2a3f5f"
            },
            "baxis": {
             "endlinecolor": "#2a3f5f",
             "gridcolor": "white",
             "linecolor": "white",
             "minorgridcolor": "white",
             "startlinecolor": "#2a3f5f"
            },
            "type": "carpet"
           }
          ],
          "choropleth": [
           {
            "colorbar": {
             "outlinewidth": 0,
             "ticks": ""
            },
            "type": "choropleth"
           }
          ],
          "contour": [
           {
            "colorbar": {
             "outlinewidth": 0,
             "ticks": ""
            },
            "colorscale": [
             [
              0,
              "#0d0887"
             ],
             [
              0.1111111111111111,
              "#46039f"
             ],
             [
              0.2222222222222222,
              "#7201a8"
             ],
             [
              0.3333333333333333,
              "#9c179e"
             ],
             [
              0.4444444444444444,
              "#bd3786"
             ],
             [
              0.5555555555555556,
              "#d8576b"
             ],
             [
              0.6666666666666666,
              "#ed7953"
             ],
             [
              0.7777777777777778,
              "#fb9f3a"
             ],
             [
              0.8888888888888888,
              "#fdca26"
             ],
             [
              1,
              "#f0f921"
             ]
            ],
            "type": "contour"
           }
          ],
          "contourcarpet": [
           {
            "colorbar": {
             "outlinewidth": 0,
             "ticks": ""
            },
            "type": "contourcarpet"
           }
          ],
          "heatmap": [
           {
            "colorbar": {
             "outlinewidth": 0,
             "ticks": ""
            },
            "colorscale": [
             [
              0,
              "#0d0887"
             ],
             [
              0.1111111111111111,
              "#46039f"
             ],
             [
              0.2222222222222222,
              "#7201a8"
             ],
             [
              0.3333333333333333,
              "#9c179e"
             ],
             [
              0.4444444444444444,
              "#bd3786"
             ],
             [
              0.5555555555555556,
              "#d8576b"
             ],
             [
              0.6666666666666666,
              "#ed7953"
             ],
             [
              0.7777777777777778,
              "#fb9f3a"
             ],
             [
              0.8888888888888888,
              "#fdca26"
             ],
             [
              1,
              "#f0f921"
             ]
            ],
            "type": "heatmap"
           }
          ],
          "heatmapgl": [
           {
            "colorbar": {
             "outlinewidth": 0,
             "ticks": ""
            },
            "colorscale": [
             [
              0,
              "#0d0887"
             ],
             [
              0.1111111111111111,
              "#46039f"
             ],
             [
              0.2222222222222222,
              "#7201a8"
             ],
             [
              0.3333333333333333,
              "#9c179e"
             ],
             [
              0.4444444444444444,
              "#bd3786"
             ],
             [
              0.5555555555555556,
              "#d8576b"
             ],
             [
              0.6666666666666666,
              "#ed7953"
             ],
             [
              0.7777777777777778,
              "#fb9f3a"
             ],
             [
              0.8888888888888888,
              "#fdca26"
             ],
             [
              1,
              "#f0f921"
             ]
            ],
            "type": "heatmapgl"
           }
          ],
          "histogram": [
           {
            "marker": {
             "pattern": {
              "fillmode": "overlay",
              "size": 10,
              "solidity": 0.2
             }
            },
            "type": "histogram"
           }
          ],
          "histogram2d": [
           {
            "colorbar": {
             "outlinewidth": 0,
             "ticks": ""
            },
            "colorscale": [
             [
              0,
              "#0d0887"
             ],
             [
              0.1111111111111111,
              "#46039f"
             ],
             [
              0.2222222222222222,
              "#7201a8"
             ],
             [
              0.3333333333333333,
              "#9c179e"
             ],
             [
              0.4444444444444444,
              "#bd3786"
             ],
             [
              0.5555555555555556,
              "#d8576b"
             ],
             [
              0.6666666666666666,
              "#ed7953"
             ],
             [
              0.7777777777777778,
              "#fb9f3a"
             ],
             [
              0.8888888888888888,
              "#fdca26"
             ],
             [
              1,
              "#f0f921"
             ]
            ],
            "type": "histogram2d"
           }
          ],
          "histogram2dcontour": [
           {
            "colorbar": {
             "outlinewidth": 0,
             "ticks": ""
            },
            "colorscale": [
             [
              0,
              "#0d0887"
             ],
             [
              0.1111111111111111,
              "#46039f"
             ],
             [
              0.2222222222222222,
              "#7201a8"
             ],
             [
              0.3333333333333333,
              "#9c179e"
             ],
             [
              0.4444444444444444,
              "#bd3786"
             ],
             [
              0.5555555555555556,
              "#d8576b"
             ],
             [
              0.6666666666666666,
              "#ed7953"
             ],
             [
              0.7777777777777778,
              "#fb9f3a"
             ],
             [
              0.8888888888888888,
              "#fdca26"
             ],
             [
              1,
              "#f0f921"
             ]
            ],
            "type": "histogram2dcontour"
           }
          ],
          "mesh3d": [
           {
            "colorbar": {
             "outlinewidth": 0,
             "ticks": ""
            },
            "type": "mesh3d"
           }
          ],
          "parcoords": [
           {
            "line": {
             "colorbar": {
              "outlinewidth": 0,
              "ticks": ""
             }
            },
            "type": "parcoords"
           }
          ],
          "pie": [
           {
            "automargin": true,
            "type": "pie"
           }
          ],
          "scatter": [
           {
            "fillpattern": {
             "fillmode": "overlay",
             "size": 10,
             "solidity": 0.2
            },
            "type": "scatter"
           }
          ],
          "scatter3d": [
           {
            "line": {
             "colorbar": {
              "outlinewidth": 0,
              "ticks": ""
             }
            },
            "marker": {
             "colorbar": {
              "outlinewidth": 0,
              "ticks": ""
             }
            },
            "type": "scatter3d"
           }
          ],
          "scattercarpet": [
           {
            "marker": {
             "colorbar": {
              "outlinewidth": 0,
              "ticks": ""
             }
            },
            "type": "scattercarpet"
           }
          ],
          "scattergeo": [
           {
            "marker": {
             "colorbar": {
              "outlinewidth": 0,
              "ticks": ""
             }
            },
            "type": "scattergeo"
           }
          ],
          "scattergl": [
           {
            "marker": {
             "colorbar": {
              "outlinewidth": 0,
              "ticks": ""
             }
            },
            "type": "scattergl"
           }
          ],
          "scattermapbox": [
           {
            "marker": {
             "colorbar": {
              "outlinewidth": 0,
              "ticks": ""
             }
            },
            "type": "scattermapbox"
           }
          ],
          "scatterpolar": [
           {
            "marker": {
             "colorbar": {
              "outlinewidth": 0,
              "ticks": ""
             }
            },
            "type": "scatterpolar"
           }
          ],
          "scatterpolargl": [
           {
            "marker": {
             "colorbar": {
              "outlinewidth": 0,
              "ticks": ""
             }
            },
            "type": "scatterpolargl"
           }
          ],
          "scatterternary": [
           {
            "marker": {
             "colorbar": {
              "outlinewidth": 0,
              "ticks": ""
             }
            },
            "type": "scatterternary"
           }
          ],
          "surface": [
           {
            "colorbar": {
             "outlinewidth": 0,
             "ticks": ""
            },
            "colorscale": [
             [
              0,
              "#0d0887"
             ],
             [
              0.1111111111111111,
              "#46039f"
             ],
             [
              0.2222222222222222,
              "#7201a8"
             ],
             [
              0.3333333333333333,
              "#9c179e"
             ],
             [
              0.4444444444444444,
              "#bd3786"
             ],
             [
              0.5555555555555556,
              "#d8576b"
             ],
             [
              0.6666666666666666,
              "#ed7953"
             ],
             [
              0.7777777777777778,
              "#fb9f3a"
             ],
             [
              0.8888888888888888,
              "#fdca26"
             ],
             [
              1,
              "#f0f921"
             ]
            ],
            "type": "surface"
           }
          ],
          "table": [
           {
            "cells": {
             "fill": {
              "color": "#EBF0F8"
             },
             "line": {
              "color": "white"
             }
            },
            "header": {
             "fill": {
              "color": "#C8D4E3"
             },
             "line": {
              "color": "white"
             }
            },
            "type": "table"
           }
          ]
         },
         "layout": {
          "annotationdefaults": {
           "arrowcolor": "#2a3f5f",
           "arrowhead": 0,
           "arrowwidth": 1
          },
          "autotypenumbers": "strict",
          "coloraxis": {
           "colorbar": {
            "outlinewidth": 0,
            "ticks": ""
           }
          },
          "colorscale": {
           "diverging": [
            [
             0,
             "#8e0152"
            ],
            [
             0.1,
             "#c51b7d"
            ],
            [
             0.2,
             "#de77ae"
            ],
            [
             0.3,
             "#f1b6da"
            ],
            [
             0.4,
             "#fde0ef"
            ],
            [
             0.5,
             "#f7f7f7"
            ],
            [
             0.6,
             "#e6f5d0"
            ],
            [
             0.7,
             "#b8e186"
            ],
            [
             0.8,
             "#7fbc41"
            ],
            [
             0.9,
             "#4d9221"
            ],
            [
             1,
             "#276419"
            ]
           ],
           "sequential": [
            [
             0,
             "#0d0887"
            ],
            [
             0.1111111111111111,
             "#46039f"
            ],
            [
             0.2222222222222222,
             "#7201a8"
            ],
            [
             0.3333333333333333,
             "#9c179e"
            ],
            [
             0.4444444444444444,
             "#bd3786"
            ],
            [
             0.5555555555555556,
             "#d8576b"
            ],
            [
             0.6666666666666666,
             "#ed7953"
            ],
            [
             0.7777777777777778,
             "#fb9f3a"
            ],
            [
             0.8888888888888888,
             "#fdca26"
            ],
            [
             1,
             "#f0f921"
            ]
           ],
           "sequentialminus": [
            [
             0,
             "#0d0887"
            ],
            [
             0.1111111111111111,
             "#46039f"
            ],
            [
             0.2222222222222222,
             "#7201a8"
            ],
            [
             0.3333333333333333,
             "#9c179e"
            ],
            [
             0.4444444444444444,
             "#bd3786"
            ],
            [
             0.5555555555555556,
             "#d8576b"
            ],
            [
             0.6666666666666666,
             "#ed7953"
            ],
            [
             0.7777777777777778,
             "#fb9f3a"
            ],
            [
             0.8888888888888888,
             "#fdca26"
            ],
            [
             1,
             "#f0f921"
            ]
           ]
          },
          "colorway": [
           "#636efa",
           "#EF553B",
           "#00cc96",
           "#ab63fa",
           "#FFA15A",
           "#19d3f3",
           "#FF6692",
           "#B6E880",
           "#FF97FF",
           "#FECB52"
          ],
          "font": {
           "color": "#2a3f5f"
          },
          "geo": {
           "bgcolor": "white",
           "lakecolor": "white",
           "landcolor": "#E5ECF6",
           "showlakes": true,
           "showland": true,
           "subunitcolor": "white"
          },
          "hoverlabel": {
           "align": "left"
          },
          "hovermode": "closest",
          "mapbox": {
           "style": "light"
          },
          "paper_bgcolor": "white",
          "plot_bgcolor": "#E5ECF6",
          "polar": {
           "angularaxis": {
            "gridcolor": "white",
            "linecolor": "white",
            "ticks": ""
           },
           "bgcolor": "#E5ECF6",
           "radialaxis": {
            "gridcolor": "white",
            "linecolor": "white",
            "ticks": ""
           }
          },
          "scene": {
           "xaxis": {
            "backgroundcolor": "#E5ECF6",
            "gridcolor": "white",
            "gridwidth": 2,
            "linecolor": "white",
            "showbackground": true,
            "ticks": "",
            "zerolinecolor": "white"
           },
           "yaxis": {
            "backgroundcolor": "#E5ECF6",
            "gridcolor": "white",
            "gridwidth": 2,
            "linecolor": "white",
            "showbackground": true,
            "ticks": "",
            "zerolinecolor": "white"
           },
           "zaxis": {
            "backgroundcolor": "#E5ECF6",
            "gridcolor": "white",
            "gridwidth": 2,
            "linecolor": "white",
            "showbackground": true,
            "ticks": "",
            "zerolinecolor": "white"
           }
          },
          "shapedefaults": {
           "line": {
            "color": "#2a3f5f"
           }
          },
          "ternary": {
           "aaxis": {
            "gridcolor": "white",
            "linecolor": "white",
            "ticks": ""
           },
           "baxis": {
            "gridcolor": "white",
            "linecolor": "white",
            "ticks": ""
           },
           "bgcolor": "#E5ECF6",
           "caxis": {
            "gridcolor": "white",
            "linecolor": "white",
            "ticks": ""
           }
          },
          "title": {
           "x": 0.05
          },
          "xaxis": {
           "automargin": true,
           "gridcolor": "white",
           "linecolor": "white",
           "ticks": "",
           "title": {
            "standoff": 15
           },
           "zerolinecolor": "white",
           "zerolinewidth": 2
          },
          "yaxis": {
           "automargin": true,
           "gridcolor": "white",
           "linecolor": "white",
           "ticks": "",
           "title": {
            "standoff": 15
           },
           "zerolinecolor": "white",
           "zerolinewidth": 2
          }
         }
        },
        "title": {
         "text": "",
         "x": 0.5
        }
       }
      },
      "text/html": [
       "<div>                            <div id=\"8f0957e7-2c12-4a35-a852-6fe99a7b9c93\" class=\"plotly-graph-div\" style=\"height:525px; width:100%;\"></div>            <script type=\"text/javascript\">                require([\"plotly\"], function(Plotly) {                    window.PLOTLYENV=window.PLOTLYENV || {};                                    if (document.getElementById(\"8f0957e7-2c12-4a35-a852-6fe99a7b9c93\")) {                    Plotly.newPlot(                        \"8f0957e7-2c12-4a35-a852-6fe99a7b9c93\",                        [{\"colorscale\":[[0.0,\"rgb(255,245,240)\"],[0.125,\"rgb(254,224,210)\"],[0.25,\"rgb(252,187,161)\"],[0.375,\"rgb(252,146,114)\"],[0.5,\"rgb(251,106,74)\"],[0.625,\"rgb(239,59,44)\"],[0.75,\"rgb(203,24,29)\"],[0.875,\"rgb(165,15,21)\"],[1.0,\"rgb(103,0,13)\"]],\"locationmode\":\"country names\",\"locations\":[\"Algeria\",\"Angola\",\"Burkina Faso\",\"Burundi\",\"Cameroon\",\"Chad\",\"Kenya\",\"Liberia\",\"Libya\",\"Mali\",\"Mauritania\",\"Namibia\",\"Niger\",\"Nigeria\",\"Rwanda\",\"Senegal\",\"Sierra Leone\",\"Somalia\",\"South Sudan\",\"Sudan\",\"Tanzania\",\"Zambia\"],\"marker\":{\"line\":{\"color\":\"black\",\"width\":0.5}},\"z\":[253,126,500,554,1057,42,133,73,125,383,6,29,434,1006,13,51,73,1652,285,463,7,4],\"type\":\"choropleth\"}],                        {\"template\":{\"data\":{\"histogram2dcontour\":[{\"type\":\"histogram2dcontour\",\"colorbar\":{\"outlinewidth\":0,\"ticks\":\"\"},\"colorscale\":[[0.0,\"#0d0887\"],[0.1111111111111111,\"#46039f\"],[0.2222222222222222,\"#7201a8\"],[0.3333333333333333,\"#9c179e\"],[0.4444444444444444,\"#bd3786\"],[0.5555555555555556,\"#d8576b\"],[0.6666666666666666,\"#ed7953\"],[0.7777777777777778,\"#fb9f3a\"],[0.8888888888888888,\"#fdca26\"],[1.0,\"#f0f921\"]]}],\"choropleth\":[{\"type\":\"choropleth\",\"colorbar\":{\"outlinewidth\":0,\"ticks\":\"\"}}],\"histogram2d\":[{\"type\":\"histogram2d\",\"colorbar\":{\"outlinewidth\":0,\"ticks\":\"\"},\"colorscale\":[[0.0,\"#0d0887\"],[0.1111111111111111,\"#46039f\"],[0.2222222222222222,\"#7201a8\"],[0.3333333333333333,\"#9c179e\"],[0.4444444444444444,\"#bd3786\"],[0.5555555555555556,\"#d8576b\"],[0.6666666666666666,\"#ed7953\"],[0.7777777777777778,\"#fb9f3a\"],[0.8888888888888888,\"#fdca26\"],[1.0,\"#f0f921\"]]}],\"heatmap\":[{\"type\":\"heatmap\",\"colorbar\":{\"outlinewidth\":0,\"ticks\":\"\"},\"colorscale\":[[0.0,\"#0d0887\"],[0.1111111111111111,\"#46039f\"],[0.2222222222222222,\"#7201a8\"],[0.3333333333333333,\"#9c179e\"],[0.4444444444444444,\"#bd3786\"],[0.5555555555555556,\"#d8576b\"],[0.6666666666666666,\"#ed7953\"],[0.7777777777777778,\"#fb9f3a\"],[0.8888888888888888,\"#fdca26\"],[1.0,\"#f0f921\"]]}],\"heatmapgl\":[{\"type\":\"heatmapgl\",\"colorbar\":{\"outlinewidth\":0,\"ticks\":\"\"},\"colorscale\":[[0.0,\"#0d0887\"],[0.1111111111111111,\"#46039f\"],[0.2222222222222222,\"#7201a8\"],[0.3333333333333333,\"#9c179e\"],[0.4444444444444444,\"#bd3786\"],[0.5555555555555556,\"#d8576b\"],[0.6666666666666666,\"#ed7953\"],[0.7777777777777778,\"#fb9f3a\"],[0.8888888888888888,\"#fdca26\"],[1.0,\"#f0f921\"]]}],\"contourcarpet\":[{\"type\":\"contourcarpet\",\"colorbar\":{\"outlinewidth\":0,\"ticks\":\"\"}}],\"contour\":[{\"type\":\"contour\",\"colorbar\":{\"outlinewidth\":0,\"ticks\":\"\"},\"colorscale\":[[0.0,\"#0d0887\"],[0.1111111111111111,\"#46039f\"],[0.2222222222222222,\"#7201a8\"],[0.3333333333333333,\"#9c179e\"],[0.4444444444444444,\"#bd3786\"],[0.5555555555555556,\"#d8576b\"],[0.6666666666666666,\"#ed7953\"],[0.7777777777777778,\"#fb9f3a\"],[0.8888888888888888,\"#fdca26\"],[1.0,\"#f0f921\"]]}],\"surface\":[{\"type\":\"surface\",\"colorbar\":{\"outlinewidth\":0,\"ticks\":\"\"},\"colorscale\":[[0.0,\"#0d0887\"],[0.1111111111111111,\"#46039f\"],[0.2222222222222222,\"#7201a8\"],[0.3333333333333333,\"#9c179e\"],[0.4444444444444444,\"#bd3786\"],[0.5555555555555556,\"#d8576b\"],[0.6666666666666666,\"#ed7953\"],[0.7777777777777778,\"#fb9f3a\"],[0.8888888888888888,\"#fdca26\"],[1.0,\"#f0f921\"]]}],\"mesh3d\":[{\"type\":\"mesh3d\",\"colorbar\":{\"outlinewidth\":0,\"ticks\":\"\"}}],\"scatter\":[{\"fillpattern\":{\"fillmode\":\"overlay\",\"size\":10,\"solidity\":0.2},\"type\":\"scatter\"}],\"parcoords\":[{\"type\":\"parcoords\",\"line\":{\"colorbar\":{\"outlinewidth\":0,\"ticks\":\"\"}}}],\"scatterpolargl\":[{\"type\":\"scatterpolargl\",\"marker\":{\"colorbar\":{\"outlinewidth\":0,\"ticks\":\"\"}}}],\"bar\":[{\"error_x\":{\"color\":\"#2a3f5f\"},\"error_y\":{\"color\":\"#2a3f5f\"},\"marker\":{\"line\":{\"color\":\"#E5ECF6\",\"width\":0.5},\"pattern\":{\"fillmode\":\"overlay\",\"size\":10,\"solidity\":0.2}},\"type\":\"bar\"}],\"scattergeo\":[{\"type\":\"scattergeo\",\"marker\":{\"colorbar\":{\"outlinewidth\":0,\"ticks\":\"\"}}}],\"scatterpolar\":[{\"type\":\"scatterpolar\",\"marker\":{\"colorbar\":{\"outlinewidth\":0,\"ticks\":\"\"}}}],\"histogram\":[{\"marker\":{\"pattern\":{\"fillmode\":\"overlay\",\"size\":10,\"solidity\":0.2}},\"type\":\"histogram\"}],\"scattergl\":[{\"type\":\"scattergl\",\"marker\":{\"colorbar\":{\"outlinewidth\":0,\"ticks\":\"\"}}}],\"scatter3d\":[{\"type\":\"scatter3d\",\"line\":{\"colorbar\":{\"outlinewidth\":0,\"ticks\":\"\"}},\"marker\":{\"colorbar\":{\"outlinewidth\":0,\"ticks\":\"\"}}}],\"scattermapbox\":[{\"type\":\"scattermapbox\",\"marker\":{\"colorbar\":{\"outlinewidth\":0,\"ticks\":\"\"}}}],\"scatterternary\":[{\"type\":\"scatterternary\",\"marker\":{\"colorbar\":{\"outlinewidth\":0,\"ticks\":\"\"}}}],\"scattercarpet\":[{\"type\":\"scattercarpet\",\"marker\":{\"colorbar\":{\"outlinewidth\":0,\"ticks\":\"\"}}}],\"carpet\":[{\"aaxis\":{\"endlinecolor\":\"#2a3f5f\",\"gridcolor\":\"white\",\"linecolor\":\"white\",\"minorgridcolor\":\"white\",\"startlinecolor\":\"#2a3f5f\"},\"baxis\":{\"endlinecolor\":\"#2a3f5f\",\"gridcolor\":\"white\",\"linecolor\":\"white\",\"minorgridcolor\":\"white\",\"startlinecolor\":\"#2a3f5f\"},\"type\":\"carpet\"}],\"table\":[{\"cells\":{\"fill\":{\"color\":\"#EBF0F8\"},\"line\":{\"color\":\"white\"}},\"header\":{\"fill\":{\"color\":\"#C8D4E3\"},\"line\":{\"color\":\"white\"}},\"type\":\"table\"}],\"barpolar\":[{\"marker\":{\"line\":{\"color\":\"#E5ECF6\",\"width\":0.5},\"pattern\":{\"fillmode\":\"overlay\",\"size\":10,\"solidity\":0.2}},\"type\":\"barpolar\"}],\"pie\":[{\"automargin\":true,\"type\":\"pie\"}]},\"layout\":{\"autotypenumbers\":\"strict\",\"colorway\":[\"#636efa\",\"#EF553B\",\"#00cc96\",\"#ab63fa\",\"#FFA15A\",\"#19d3f3\",\"#FF6692\",\"#B6E880\",\"#FF97FF\",\"#FECB52\"],\"font\":{\"color\":\"#2a3f5f\"},\"hovermode\":\"closest\",\"hoverlabel\":{\"align\":\"left\"},\"paper_bgcolor\":\"white\",\"plot_bgcolor\":\"#E5ECF6\",\"polar\":{\"bgcolor\":\"#E5ECF6\",\"angularaxis\":{\"gridcolor\":\"white\",\"linecolor\":\"white\",\"ticks\":\"\"},\"radialaxis\":{\"gridcolor\":\"white\",\"linecolor\":\"white\",\"ticks\":\"\"}},\"ternary\":{\"bgcolor\":\"#E5ECF6\",\"aaxis\":{\"gridcolor\":\"white\",\"linecolor\":\"white\",\"ticks\":\"\"},\"baxis\":{\"gridcolor\":\"white\",\"linecolor\":\"white\",\"ticks\":\"\"},\"caxis\":{\"gridcolor\":\"white\",\"linecolor\":\"white\",\"ticks\":\"\"}},\"coloraxis\":{\"colorbar\":{\"outlinewidth\":0,\"ticks\":\"\"}},\"colorscale\":{\"sequential\":[[0.0,\"#0d0887\"],[0.1111111111111111,\"#46039f\"],[0.2222222222222222,\"#7201a8\"],[0.3333333333333333,\"#9c179e\"],[0.4444444444444444,\"#bd3786\"],[0.5555555555555556,\"#d8576b\"],[0.6666666666666666,\"#ed7953\"],[0.7777777777777778,\"#fb9f3a\"],[0.8888888888888888,\"#fdca26\"],[1.0,\"#f0f921\"]],\"sequentialminus\":[[0.0,\"#0d0887\"],[0.1111111111111111,\"#46039f\"],[0.2222222222222222,\"#7201a8\"],[0.3333333333333333,\"#9c179e\"],[0.4444444444444444,\"#bd3786\"],[0.5555555555555556,\"#d8576b\"],[0.6666666666666666,\"#ed7953\"],[0.7777777777777778,\"#fb9f3a\"],[0.8888888888888888,\"#fdca26\"],[1.0,\"#f0f921\"]],\"diverging\":[[0,\"#8e0152\"],[0.1,\"#c51b7d\"],[0.2,\"#de77ae\"],[0.3,\"#f1b6da\"],[0.4,\"#fde0ef\"],[0.5,\"#f7f7f7\"],[0.6,\"#e6f5d0\"],[0.7,\"#b8e186\"],[0.8,\"#7fbc41\"],[0.9,\"#4d9221\"],[1,\"#276419\"]]},\"xaxis\":{\"gridcolor\":\"white\",\"linecolor\":\"white\",\"ticks\":\"\",\"title\":{\"standoff\":15},\"zerolinecolor\":\"white\",\"automargin\":true,\"zerolinewidth\":2},\"yaxis\":{\"gridcolor\":\"white\",\"linecolor\":\"white\",\"ticks\":\"\",\"title\":{\"standoff\":15},\"zerolinecolor\":\"white\",\"automargin\":true,\"zerolinewidth\":2},\"scene\":{\"xaxis\":{\"backgroundcolor\":\"#E5ECF6\",\"gridcolor\":\"white\",\"linecolor\":\"white\",\"showbackground\":true,\"ticks\":\"\",\"zerolinecolor\":\"white\",\"gridwidth\":2},\"yaxis\":{\"backgroundcolor\":\"#E5ECF6\",\"gridcolor\":\"white\",\"linecolor\":\"white\",\"showbackground\":true,\"ticks\":\"\",\"zerolinecolor\":\"white\",\"gridwidth\":2},\"zaxis\":{\"backgroundcolor\":\"#E5ECF6\",\"gridcolor\":\"white\",\"linecolor\":\"white\",\"showbackground\":true,\"ticks\":\"\",\"zerolinecolor\":\"white\",\"gridwidth\":2}},\"shapedefaults\":{\"line\":{\"color\":\"#2a3f5f\"}},\"annotationdefaults\":{\"arrowcolor\":\"#2a3f5f\",\"arrowhead\":0,\"arrowwidth\":1},\"geo\":{\"bgcolor\":\"white\",\"landcolor\":\"#E5ECF6\",\"subunitcolor\":\"white\",\"showland\":true,\"showlakes\":true,\"lakecolor\":\"white\"},\"title\":{\"x\":0.05},\"mapbox\":{\"style\":\"light\"}}},\"title\":{\"text\":\"\",\"x\":0.5},\"geo\":{\"projection\":{\"type\":\"equirectangular\"},\"showframe\":false,\"showcoastlines\":false}},                        {\"responsive\": true}                    ).then(function(){\n",
       "                            \n",
       "var gd = document.getElementById('8f0957e7-2c12-4a35-a852-6fe99a7b9c93');\n",
       "var x = new MutationObserver(function (mutations, observer) {{\n",
       "        var display = window.getComputedStyle(gd).display;\n",
       "        if (!display || display === 'none') {{\n",
       "            console.log([gd, 'removed!']);\n",
       "            Plotly.purge(gd);\n",
       "            observer.disconnect();\n",
       "        }}\n",
       "}});\n",
       "\n",
       "// Listen for the removal of the full notebook cells\n",
       "var notebookContainer = gd.closest('#notebook-container');\n",
       "if (notebookContainer) {{\n",
       "    x.observe(notebookContainer, {childList: true});\n",
       "}}\n",
       "\n",
       "// Listen for the clearing of the current output cell\n",
       "var outputEl = gd.closest('.output');\n",
       "if (outputEl) {{\n",
       "    x.observe(outputEl, {childList: true});\n",
       "}}\n",
       "\n",
       "                        })                };                });            </script>        </div>"
      ]
     },
     "metadata": {},
     "output_type": "display_data"
    }
   ],
   "source": [
    "#Creating the visualization\n",
    "fig2 = go.Figure(data=go.Choropleth( locations = EVENT_FREQUENCIES_df1['COUNTRY'], locationmode = 'country names', z = EVENT_FREQUENCIES_df1['EVENT_FREQUENCIES'], colorscale = 'Reds', marker_line_color = 'black', marker_line_width = 0.5,  ))\n",
    "fig2.update_layout( title_text = '', title_x = 0.5, geo=dict( showframe = False, showcoastlines = False, projection_type = 'equirectangular' ) ) \n",
    "fig2.show()"
   ]
  },
  {
   "cell_type": "markdown",
   "id": "bd48eab3",
   "metadata": {},
   "source": [
    "The graph below represents the evolution **by year** of the total number of deaths caused by the attacks in all the countries concerned by our study (treatment group and control group)"
   ]
  },
  {
   "cell_type": "code",
   "execution_count": 45,
   "id": "3b630a79",
   "metadata": {
    "scrolled": true
   },
   "outputs": [
    {
     "data": {
      "application/vnd.plotly.v1+json": {
       "config": {
        "plotlyServerURL": "https://plot.ly"
       },
       "data": [
        {
         "coloraxis": "coloraxis",
         "geo": "geo",
         "hovertemplate": "<b>%{hovertext}</b><br><br>YEAR=2000<br>COUNTRY=%{location}<br>EVENT_FATALITIES=%{z}<extra></extra>",
         "hovertext": [
          "Algeria",
          "Angola",
          "Burundi",
          "Chad",
          "Kenya",
          "Liberia",
          "Namibia",
          "Rwanda",
          "Senegal",
          "Sierra Leone",
          "Somalia",
          "Sudan",
          "Zambia"
         ],
         "locationmode": "country names",
         "locations": [
          "Algeria",
          "Angola",
          "Burundi",
          "Chad",
          "Kenya",
          "Liberia",
          "Namibia",
          "Rwanda",
          "Senegal",
          "Sierra Leone",
          "Somalia",
          "Sudan",
          "Zambia"
         ],
         "name": "",
         "type": "choropleth",
         "z": [
          445,
          1919,
          505,
          2,
          7,
          0,
          75,
          4,
          7,
          0,
          0,
          27,
          0
         ]
        }
       ],
       "frames": [
        {
         "data": [
          {
           "coloraxis": "coloraxis",
           "geo": "geo",
           "hovertemplate": "<b>%{hovertext}</b><br><br>YEAR=2000<br>COUNTRY=%{location}<br>EVENT_FATALITIES=%{z}<extra></extra>",
           "hovertext": [
            "Algeria",
            "Angola",
            "Burundi",
            "Chad",
            "Kenya",
            "Liberia",
            "Namibia",
            "Rwanda",
            "Senegal",
            "Sierra Leone",
            "Somalia",
            "Sudan",
            "Zambia"
           ],
           "locationmode": "country names",
           "locations": [
            "Algeria",
            "Angola",
            "Burundi",
            "Chad",
            "Kenya",
            "Liberia",
            "Namibia",
            "Rwanda",
            "Senegal",
            "Sierra Leone",
            "Somalia",
            "Sudan",
            "Zambia"
           ],
           "name": "",
           "type": "choropleth",
           "z": [
            445,
            1919,
            505,
            2,
            7,
            0,
            75,
            4,
            7,
            0,
            0,
            27,
            0
           ]
          }
         ],
         "name": "2000"
        },
        {
         "data": [
          {
           "coloraxis": "coloraxis",
           "geo": "geo",
           "hovertemplate": "<b>%{hovertext}</b><br><br>YEAR=2001<br>COUNTRY=%{location}<br>EVENT_FATALITIES=%{z}<extra></extra>",
           "hovertext": [
            "Algeria",
            "Angola",
            "Burundi",
            "Liberia",
            "Namibia",
            "Senegal",
            "Sierra Leone",
            "Somalia",
            "Sudan",
            "Tanzania"
           ],
           "locationmode": "country names",
           "locations": [
            "Algeria",
            "Angola",
            "Burundi",
            "Liberia",
            "Namibia",
            "Senegal",
            "Sierra Leone",
            "Somalia",
            "Sudan",
            "Tanzania"
           ],
           "name": "",
           "type": "choropleth",
           "z": [
            348,
            1216,
            589,
            3,
            6,
            36,
            0,
            0,
            27,
            15
           ]
          }
         ],
         "name": "2001"
        },
        {
         "data": [
          {
           "coloraxis": "coloraxis",
           "geo": "geo",
           "hovertemplate": "<b>%{hovertext}</b><br><br>YEAR=2002<br>COUNTRY=%{location}<br>EVENT_FATALITIES=%{z}<extra></extra>",
           "hovertext": [
            "Algeria",
            "Angola",
            "Burundi",
            "Liberia",
            "Senegal",
            "Somalia",
            "Sudan",
            "Tanzania",
            "Zambia"
           ],
           "locationmode": "country names",
           "locations": [
            "Algeria",
            "Angola",
            "Burundi",
            "Liberia",
            "Senegal",
            "Somalia",
            "Sudan",
            "Tanzania",
            "Zambia"
           ],
           "name": "",
           "type": "choropleth",
           "z": [
            337,
            19,
            368,
            27,
            20,
            0,
            1250,
            38,
            0
           ]
          }
         ],
         "name": "2002"
        },
        {
         "data": [
          {
           "coloraxis": "coloraxis",
           "geo": "geo",
           "hovertemplate": "<b>%{hovertext}</b><br><br>YEAR=2003<br>COUNTRY=%{location}<br>EVENT_FATALITIES=%{z}<extra></extra>",
           "hovertext": [
            "Algeria",
            "Burundi",
            "Chad",
            "Liberia",
            "Somalia",
            "Sudan"
           ],
           "locationmode": "country names",
           "locations": [
            "Algeria",
            "Burundi",
            "Chad",
            "Liberia",
            "Somalia",
            "Sudan"
           ],
           "name": "",
           "type": "choropleth",
           "z": [
            141,
            135,
            0,
            0,
            7,
            102
           ]
          }
         ],
         "name": "2003"
        },
        {
         "data": [
          {
           "coloraxis": "coloraxis",
           "geo": "geo",
           "hovertemplate": "<b>%{hovertext}</b><br><br>YEAR=2004<br>COUNTRY=%{location}<br>EVENT_FATALITIES=%{z}<extra></extra>",
           "hovertext": [
            "Algeria",
            "Burundi",
            "Liberia",
            "Niger",
            "Sierra Leone",
            "Sudan"
           ],
           "locationmode": "country names",
           "locations": [
            "Algeria",
            "Burundi",
            "Liberia",
            "Niger",
            "Sierra Leone",
            "Sudan"
           ],
           "name": "",
           "type": "choropleth",
           "z": [
            61,
            244,
            16,
            0,
            0,
            696
           ]
          }
         ],
         "name": "2004"
        },
        {
         "data": [
          {
           "coloraxis": "coloraxis",
           "geo": "geo",
           "hovertemplate": "<b>%{hovertext}</b><br><br>YEAR=2005<br>COUNTRY=%{location}<br>EVENT_FATALITIES=%{z}<extra></extra>",
           "hovertext": [
            "Algeria",
            "Burundi",
            "Kenya",
            "Niger",
            "Nigeria",
            "Somalia",
            "Sudan"
           ],
           "locationmode": "country names",
           "locations": [
            "Algeria",
            "Burundi",
            "Kenya",
            "Niger",
            "Nigeria",
            "Somalia",
            "Sudan"
           ],
           "name": "",
           "type": "choropleth",
           "z": [
            25,
            404,
            4,
            0,
            0,
            0,
            157
           ]
          }
         ],
         "name": "2005"
        },
        {
         "data": [
          {
           "coloraxis": "coloraxis",
           "geo": "geo",
           "hovertemplate": "<b>%{hovertext}</b><br><br>YEAR=2006<br>COUNTRY=%{location}<br>EVENT_FATALITIES=%{z}<extra></extra>",
           "hovertext": [
            "Algeria",
            "Burundi",
            "Chad",
            "Kenya",
            "Liberia",
            "Niger",
            "Nigeria",
            "Senegal",
            "Somalia",
            "Sudan"
           ],
           "locationmode": "country names",
           "locations": [
            "Algeria",
            "Burundi",
            "Chad",
            "Kenya",
            "Liberia",
            "Niger",
            "Nigeria",
            "Senegal",
            "Somalia",
            "Sudan"
           ],
           "name": "",
           "type": "choropleth",
           "z": [
            55,
            33,
            0,
            3,
            0,
            0,
            1,
            1,
            7,
            157
           ]
          }
         ],
         "name": "2006"
        },
        {
         "data": [
          {
           "coloraxis": "coloraxis",
           "geo": "geo",
           "hovertemplate": "<b>%{hovertext}</b><br><br>YEAR=2007<br>COUNTRY=%{location}<br>EVENT_FATALITIES=%{z}<extra></extra>",
           "hovertext": [
            "Algeria",
            "Burundi",
            "Cameroon",
            "Chad",
            "Mauritania",
            "Niger",
            "Nigeria",
            "Rwanda",
            "Senegal",
            "Somalia",
            "Sudan",
            "Tanzania"
           ],
           "locationmode": "country names",
           "locations": [
            "Algeria",
            "Burundi",
            "Cameroon",
            "Chad",
            "Mauritania",
            "Niger",
            "Nigeria",
            "Rwanda",
            "Senegal",
            "Somalia",
            "Sudan",
            "Tanzania"
           ],
           "name": "",
           "type": "choropleth",
           "z": [
            3,
            1,
            21,
            5,
            4,
            2,
            3,
            0,
            6,
            14,
            56,
            3
           ]
          }
         ],
         "name": "2007"
        },
        {
         "data": [
          {
           "coloraxis": "coloraxis",
           "geo": "geo",
           "hovertemplate": "<b>%{hovertext}</b><br><br>YEAR=2008<br>COUNTRY=%{location}<br>EVENT_FATALITIES=%{z}<extra></extra>",
           "hovertext": [
            "Algeria",
            "Angola",
            "Burundi",
            "Chad",
            "Mali",
            "Mauritania",
            "Niger",
            "Nigeria",
            "Senegal",
            "Somalia",
            "Sudan"
           ],
           "locationmode": "country names",
           "locations": [
            "Algeria",
            "Angola",
            "Burundi",
            "Chad",
            "Mali",
            "Mauritania",
            "Niger",
            "Nigeria",
            "Senegal",
            "Somalia",
            "Sudan"
           ],
           "name": "",
           "type": "choropleth",
           "z": [
            7,
            1,
            4,
            0,
            7,
            0,
            3,
            1,
            2,
            17,
            424
           ]
          }
         ],
         "name": "2008"
        },
        {
         "data": [
          {
           "coloraxis": "coloraxis",
           "geo": "geo",
           "hovertemplate": "<b>%{hovertext}</b><br><br>YEAR=2009<br>COUNTRY=%{location}<br>EVENT_FATALITIES=%{z}<extra></extra>",
           "hovertext": [
            "Algeria",
            "Cameroon",
            "Chad",
            "Kenya",
            "Mali",
            "Mauritania",
            "Niger",
            "Nigeria",
            "Senegal",
            "Sierra Leone",
            "Somalia",
            "Sudan"
           ],
           "locationmode": "country names",
           "locations": [
            "Algeria",
            "Cameroon",
            "Chad",
            "Kenya",
            "Mali",
            "Mauritania",
            "Niger",
            "Nigeria",
            "Senegal",
            "Sierra Leone",
            "Somalia",
            "Sudan"
           ],
           "name": "",
           "type": "choropleth",
           "z": [
            9,
            0,
            0,
            0,
            0,
            1,
            0,
            5,
            5,
            0,
            42,
            269
           ]
          }
         ],
         "name": "2009"
        },
        {
         "data": [
          {
           "coloraxis": "coloraxis",
           "geo": "geo",
           "hovertemplate": "<b>%{hovertext}</b><br><br>YEAR=2010<br>COUNTRY=%{location}<br>EVENT_FATALITIES=%{z}<extra></extra>",
           "hovertext": [
            "Algeria",
            "Angola",
            "Cameroon",
            "Kenya",
            "Niger",
            "Nigeria",
            "Senegal",
            "Somalia",
            "Sudan"
           ],
           "locationmode": "country names",
           "locations": [
            "Algeria",
            "Angola",
            "Cameroon",
            "Kenya",
            "Niger",
            "Nigeria",
            "Senegal",
            "Somalia",
            "Sudan"
           ],
           "name": "",
           "type": "choropleth",
           "z": [
            11,
            8,
            0,
            0,
            1,
            23,
            1,
            55,
            94
           ]
          }
         ],
         "name": "2010"
        },
        {
         "data": [
          {
           "coloraxis": "coloraxis",
           "geo": "geo",
           "hovertemplate": "<b>%{hovertext}</b><br><br>YEAR=2011<br>COUNTRY=%{location}<br>EVENT_FATALITIES=%{z}<extra></extra>",
           "hovertext": [
            "Algeria",
            "Kenya",
            "Libya",
            "Mali",
            "Nigeria",
            "Senegal",
            "Somalia",
            "South Sudan",
            "Sudan"
           ],
           "locationmode": "country names",
           "locations": [
            "Algeria",
            "Kenya",
            "Libya",
            "Mali",
            "Nigeria",
            "Senegal",
            "Somalia",
            "South Sudan",
            "Sudan"
           ],
           "name": "",
           "type": "choropleth",
           "z": [
            2,
            3,
            2,
            5,
            138,
            12,
            59,
            17,
            148
           ]
          }
         ],
         "name": "2011"
        },
        {
         "data": [
          {
           "coloraxis": "coloraxis",
           "geo": "geo",
           "hovertemplate": "<b>%{hovertext}</b><br><br>YEAR=2013<br>COUNTRY=%{location}<br>EVENT_FATALITIES=%{z}<extra></extra>",
           "hovertext": [
            "Algeria",
            "Cameroon",
            "Kenya",
            "Mali",
            "Nigeria",
            "Senegal",
            "Somalia",
            "South Sudan",
            "Sudan"
           ],
           "locationmode": "country names",
           "locations": [
            "Algeria",
            "Cameroon",
            "Kenya",
            "Mali",
            "Nigeria",
            "Senegal",
            "Somalia",
            "South Sudan",
            "Sudan"
           ],
           "name": "",
           "type": "choropleth",
           "z": [
            0,
            2,
            141,
            63,
            1056,
            3,
            158,
            87,
            24
           ]
          }
         ],
         "name": "2013"
        },
        {
         "data": [
          {
           "coloraxis": "coloraxis",
           "geo": "geo",
           "hovertemplate": "<b>%{hovertext}</b><br><br>YEAR=2014<br>COUNTRY=%{location}<br>EVENT_FATALITIES=%{z}<extra></extra>",
           "hovertext": [
            "Algeria",
            "Cameroon",
            "Chad",
            "Kenya",
            "Libya",
            "Mali",
            "Nigeria",
            "Senegal",
            "Somalia",
            "South Sudan",
            "Sudan"
           ],
           "locationmode": "country names",
           "locations": [
            "Algeria",
            "Cameroon",
            "Chad",
            "Kenya",
            "Libya",
            "Mali",
            "Nigeria",
            "Senegal",
            "Somalia",
            "South Sudan",
            "Sudan"
           ],
           "name": "",
           "type": "choropleth",
           "z": [
            1,
            108,
            6,
            146,
            10,
            4,
            2815,
            0,
            174,
            656,
            33
           ]
          }
         ],
         "name": "2014"
        },
        {
         "data": [
          {
           "coloraxis": "coloraxis",
           "geo": "geo",
           "hovertemplate": "<b>%{hovertext}</b><br><br>YEAR=2016<br>COUNTRY=%{location}<br>EVENT_FATALITIES=%{z}<extra></extra>",
           "hovertext": [
            "Algeria",
            "Burkina Faso",
            "Cameroon",
            "Kenya",
            "Libya",
            "Mali",
            "Niger",
            "Nigeria",
            "Senegal",
            "Somalia",
            "South Sudan",
            "Sudan"
           ],
           "locationmode": "country names",
           "locations": [
            "Algeria",
            "Burkina Faso",
            "Cameroon",
            "Kenya",
            "Libya",
            "Mali",
            "Niger",
            "Nigeria",
            "Senegal",
            "Somalia",
            "South Sudan",
            "Sudan"
           ],
           "name": "",
           "type": "choropleth",
           "z": [
            1,
            31,
            178,
            19,
            80,
            6,
            24,
            313,
            0,
            229,
            56,
            22
           ]
          }
         ],
         "name": "2016"
        },
        {
         "data": [
          {
           "coloraxis": "coloraxis",
           "geo": "geo",
           "hovertemplate": "<b>%{hovertext}</b><br><br>YEAR=2017<br>COUNTRY=%{location}<br>EVENT_FATALITIES=%{z}<extra></extra>",
           "hovertext": [
            "Algeria",
            "Burkina Faso",
            "Burundi",
            "Cameroon",
            "Kenya",
            "Libya",
            "Mali",
            "Niger",
            "Nigeria",
            "Somalia",
            "South Sudan",
            "Sudan"
           ],
           "locationmode": "country names",
           "locations": [
            "Algeria",
            "Burkina Faso",
            "Burundi",
            "Cameroon",
            "Kenya",
            "Libya",
            "Mali",
            "Niger",
            "Nigeria",
            "Somalia",
            "South Sudan",
            "Sudan"
           ],
           "name": "",
           "type": "choropleth",
           "z": [
            1,
            6,
            0,
            146,
            57,
            4,
            24,
            16,
            447,
            341,
            147,
            14
           ]
          }
         ],
         "name": "2017"
        },
        {
         "data": [
          {
           "coloraxis": "coloraxis",
           "geo": "geo",
           "hovertemplate": "<b>%{hovertext}</b><br><br>YEAR=2018<br>COUNTRY=%{location}<br>EVENT_FATALITIES=%{z}<extra></extra>",
           "hovertext": [
            "Algeria",
            "Burkina Faso",
            "Cameroon",
            "Chad",
            "Kenya",
            "Libya",
            "Mali",
            "Niger",
            "Nigeria",
            "Rwanda",
            "Somalia",
            "South Sudan",
            "Sudan"
           ],
           "locationmode": "country names",
           "locations": [
            "Algeria",
            "Burkina Faso",
            "Cameroon",
            "Chad",
            "Kenya",
            "Libya",
            "Mali",
            "Niger",
            "Nigeria",
            "Rwanda",
            "Somalia",
            "South Sudan",
            "Sudan"
           ],
           "name": "",
           "type": "choropleth",
           "z": [
            1,
            45,
            201,
            18,
            15,
            22,
            192,
            39,
            241,
            10,
            213,
            75,
            12
           ]
          }
         ],
         "name": "2018"
        },
        {
         "data": [
          {
           "coloraxis": "coloraxis",
           "geo": "geo",
           "hovertemplate": "<b>%{hovertext}</b><br><br>YEAR=2020<br>COUNTRY=%{location}<br>EVENT_FATALITIES=%{z}<extra></extra>",
           "hovertext": [
            "Algeria",
            "Burkina Faso",
            "Burundi",
            "Cameroon",
            "Chad",
            "Kenya",
            "Libya",
            "Mali",
            "Niger",
            "Nigeria",
            "Somalia",
            "South Sudan",
            "Sudan"
           ],
           "locationmode": "country names",
           "locations": [
            "Algeria",
            "Burkina Faso",
            "Burundi",
            "Cameroon",
            "Chad",
            "Kenya",
            "Libya",
            "Mali",
            "Niger",
            "Nigeria",
            "Somalia",
            "South Sudan",
            "Sudan"
           ],
           "name": "",
           "type": "choropleth",
           "z": [
            0,
            386,
            3,
            315,
            30,
            13,
            3,
            202,
            228,
            469,
            208,
            15,
            0
           ]
          }
         ],
         "name": "2020"
        },
        {
         "data": [
          {
           "coloraxis": "coloraxis",
           "geo": "geo",
           "hovertemplate": "<b>%{hovertext}</b><br><br>YEAR=2012<br>COUNTRY=%{location}<br>EVENT_FATALITIES=%{z}<extra></extra>",
           "hovertext": [
            "Burkina Faso",
            "Kenya",
            "Mali",
            "Niger",
            "Nigeria",
            "Rwanda",
            "Senegal",
            "Somalia",
            "South Sudan",
            "Sudan"
           ],
           "locationmode": "country names",
           "locations": [
            "Burkina Faso",
            "Kenya",
            "Mali",
            "Niger",
            "Nigeria",
            "Rwanda",
            "Senegal",
            "Somalia",
            "South Sudan",
            "Sudan"
           ],
           "name": "",
           "type": "choropleth",
           "z": [
            0,
            25,
            15,
            1,
            560,
            11,
            0,
            84,
            3,
            49
           ]
          }
         ],
         "name": "2012"
        },
        {
         "data": [
          {
           "coloraxis": "coloraxis",
           "geo": "geo",
           "hovertemplate": "<b>%{hovertext}</b><br><br>YEAR=2015<br>COUNTRY=%{location}<br>EVENT_FATALITIES=%{z}<extra></extra>",
           "hovertext": [
            "Burkina Faso",
            "Cameroon",
            "Chad",
            "Kenya",
            "Libya",
            "Mali",
            "Niger",
            "Nigeria",
            "Senegal",
            "Somalia",
            "South Sudan",
            "Sudan"
           ],
           "locationmode": "country names",
           "locations": [
            "Burkina Faso",
            "Cameroon",
            "Chad",
            "Kenya",
            "Libya",
            "Mali",
            "Niger",
            "Nigeria",
            "Senegal",
            "Somalia",
            "South Sudan",
            "Sudan"
           ],
           "name": "",
           "type": "choropleth",
           "z": [
            0,
            222,
            41,
            167,
            162,
            7,
            119,
            4111,
            0,
            172,
            18,
            67
           ]
          }
         ],
         "name": "2015"
        },
        {
         "data": [
          {
           "coloraxis": "coloraxis",
           "geo": "geo",
           "hovertemplate": "<b>%{hovertext}</b><br><br>YEAR=2019<br>COUNTRY=%{location}<br>EVENT_FATALITIES=%{z}<extra></extra>",
           "hovertext": [
            "Burkina Faso",
            "Burundi",
            "Cameroon",
            "Chad",
            "Kenya",
            "Libya",
            "Mali",
            "Mauritania",
            "Niger",
            "Nigeria",
            "Rwanda",
            "Somalia",
            "South Sudan",
            "Sudan"
           ],
           "locationmode": "country names",
           "locations": [
            "Burkina Faso",
            "Burundi",
            "Cameroon",
            "Chad",
            "Kenya",
            "Libya",
            "Mali",
            "Mauritania",
            "Niger",
            "Nigeria",
            "Rwanda",
            "Somalia",
            "South Sudan",
            "Sudan"
           ],
           "name": "",
           "type": "choropleth",
           "z": [
            529,
            1,
            258,
            45,
            40,
            9,
            142,
            2,
            150,
            318,
            15,
            279,
            33,
            5
           ]
          }
         ],
         "name": "2019"
        }
       ],
       "layout": {
        "coloraxis": {
         "cmax": 4000,
         "cmin": 0,
         "colorbar": {
          "title": {
           "text": "EVENT_FATALITIES"
          }
         },
         "colorscale": [
          [
           0,
           "green"
          ],
          [
           0.125,
           "yellow"
          ],
          [
           0.25,
           "olive"
          ],
          [
           0.375,
           "gold"
          ],
          [
           0.5,
           "orange"
          ],
          [
           0.625,
           "coral"
          ],
          [
           0.75,
           "tomato"
          ],
          [
           0.875,
           "maroon"
          ],
          [
           1,
           "red"
          ]
         ]
        },
        "geo": {
         "center": {},
         "domain": {
          "x": [
           0,
           1
          ],
          "y": [
           0,
           1
          ]
         },
         "showcoastlines": false,
         "showframe": false
        },
        "legend": {
         "tracegroupgap": 0
        },
        "margin": {
         "t": 60
        },
        "sliders": [
         {
          "active": 0,
          "currentvalue": {
           "prefix": "YEAR="
          },
          "len": 0.9,
          "pad": {
           "b": 10,
           "t": 60
          },
          "steps": [
           {
            "args": [
             [
              "2000"
             ],
             {
              "frame": {
               "duration": 0,
               "redraw": true
              },
              "fromcurrent": true,
              "mode": "immediate",
              "transition": {
               "duration": 0,
               "easing": "linear"
              }
             }
            ],
            "label": "2000",
            "method": "animate"
           },
           {
            "args": [
             [
              "2001"
             ],
             {
              "frame": {
               "duration": 0,
               "redraw": true
              },
              "fromcurrent": true,
              "mode": "immediate",
              "transition": {
               "duration": 0,
               "easing": "linear"
              }
             }
            ],
            "label": "2001",
            "method": "animate"
           },
           {
            "args": [
             [
              "2002"
             ],
             {
              "frame": {
               "duration": 0,
               "redraw": true
              },
              "fromcurrent": true,
              "mode": "immediate",
              "transition": {
               "duration": 0,
               "easing": "linear"
              }
             }
            ],
            "label": "2002",
            "method": "animate"
           },
           {
            "args": [
             [
              "2003"
             ],
             {
              "frame": {
               "duration": 0,
               "redraw": true
              },
              "fromcurrent": true,
              "mode": "immediate",
              "transition": {
               "duration": 0,
               "easing": "linear"
              }
             }
            ],
            "label": "2003",
            "method": "animate"
           },
           {
            "args": [
             [
              "2004"
             ],
             {
              "frame": {
               "duration": 0,
               "redraw": true
              },
              "fromcurrent": true,
              "mode": "immediate",
              "transition": {
               "duration": 0,
               "easing": "linear"
              }
             }
            ],
            "label": "2004",
            "method": "animate"
           },
           {
            "args": [
             [
              "2005"
             ],
             {
              "frame": {
               "duration": 0,
               "redraw": true
              },
              "fromcurrent": true,
              "mode": "immediate",
              "transition": {
               "duration": 0,
               "easing": "linear"
              }
             }
            ],
            "label": "2005",
            "method": "animate"
           },
           {
            "args": [
             [
              "2006"
             ],
             {
              "frame": {
               "duration": 0,
               "redraw": true
              },
              "fromcurrent": true,
              "mode": "immediate",
              "transition": {
               "duration": 0,
               "easing": "linear"
              }
             }
            ],
            "label": "2006",
            "method": "animate"
           },
           {
            "args": [
             [
              "2007"
             ],
             {
              "frame": {
               "duration": 0,
               "redraw": true
              },
              "fromcurrent": true,
              "mode": "immediate",
              "transition": {
               "duration": 0,
               "easing": "linear"
              }
             }
            ],
            "label": "2007",
            "method": "animate"
           },
           {
            "args": [
             [
              "2008"
             ],
             {
              "frame": {
               "duration": 0,
               "redraw": true
              },
              "fromcurrent": true,
              "mode": "immediate",
              "transition": {
               "duration": 0,
               "easing": "linear"
              }
             }
            ],
            "label": "2008",
            "method": "animate"
           },
           {
            "args": [
             [
              "2009"
             ],
             {
              "frame": {
               "duration": 0,
               "redraw": true
              },
              "fromcurrent": true,
              "mode": "immediate",
              "transition": {
               "duration": 0,
               "easing": "linear"
              }
             }
            ],
            "label": "2009",
            "method": "animate"
           },
           {
            "args": [
             [
              "2010"
             ],
             {
              "frame": {
               "duration": 0,
               "redraw": true
              },
              "fromcurrent": true,
              "mode": "immediate",
              "transition": {
               "duration": 0,
               "easing": "linear"
              }
             }
            ],
            "label": "2010",
            "method": "animate"
           },
           {
            "args": [
             [
              "2011"
             ],
             {
              "frame": {
               "duration": 0,
               "redraw": true
              },
              "fromcurrent": true,
              "mode": "immediate",
              "transition": {
               "duration": 0,
               "easing": "linear"
              }
             }
            ],
            "label": "2011",
            "method": "animate"
           },
           {
            "args": [
             [
              "2013"
             ],
             {
              "frame": {
               "duration": 0,
               "redraw": true
              },
              "fromcurrent": true,
              "mode": "immediate",
              "transition": {
               "duration": 0,
               "easing": "linear"
              }
             }
            ],
            "label": "2013",
            "method": "animate"
           },
           {
            "args": [
             [
              "2014"
             ],
             {
              "frame": {
               "duration": 0,
               "redraw": true
              },
              "fromcurrent": true,
              "mode": "immediate",
              "transition": {
               "duration": 0,
               "easing": "linear"
              }
             }
            ],
            "label": "2014",
            "method": "animate"
           },
           {
            "args": [
             [
              "2016"
             ],
             {
              "frame": {
               "duration": 0,
               "redraw": true
              },
              "fromcurrent": true,
              "mode": "immediate",
              "transition": {
               "duration": 0,
               "easing": "linear"
              }
             }
            ],
            "label": "2016",
            "method": "animate"
           },
           {
            "args": [
             [
              "2017"
             ],
             {
              "frame": {
               "duration": 0,
               "redraw": true
              },
              "fromcurrent": true,
              "mode": "immediate",
              "transition": {
               "duration": 0,
               "easing": "linear"
              }
             }
            ],
            "label": "2017",
            "method": "animate"
           },
           {
            "args": [
             [
              "2018"
             ],
             {
              "frame": {
               "duration": 0,
               "redraw": true
              },
              "fromcurrent": true,
              "mode": "immediate",
              "transition": {
               "duration": 0,
               "easing": "linear"
              }
             }
            ],
            "label": "2018",
            "method": "animate"
           },
           {
            "args": [
             [
              "2020"
             ],
             {
              "frame": {
               "duration": 0,
               "redraw": true
              },
              "fromcurrent": true,
              "mode": "immediate",
              "transition": {
               "duration": 0,
               "easing": "linear"
              }
             }
            ],
            "label": "2020",
            "method": "animate"
           },
           {
            "args": [
             [
              "2012"
             ],
             {
              "frame": {
               "duration": 0,
               "redraw": true
              },
              "fromcurrent": true,
              "mode": "immediate",
              "transition": {
               "duration": 0,
               "easing": "linear"
              }
             }
            ],
            "label": "2012",
            "method": "animate"
           },
           {
            "args": [
             [
              "2015"
             ],
             {
              "frame": {
               "duration": 0,
               "redraw": true
              },
              "fromcurrent": true,
              "mode": "immediate",
              "transition": {
               "duration": 0,
               "easing": "linear"
              }
             }
            ],
            "label": "2015",
            "method": "animate"
           },
           {
            "args": [
             [
              "2019"
             ],
             {
              "frame": {
               "duration": 0,
               "redraw": true
              },
              "fromcurrent": true,
              "mode": "immediate",
              "transition": {
               "duration": 0,
               "easing": "linear"
              }
             }
            ],
            "label": "2019",
            "method": "animate"
           }
          ],
          "x": 0.1,
          "xanchor": "left",
          "y": 0,
          "yanchor": "top"
         }
        ],
        "template": {
         "data": {
          "bar": [
           {
            "error_x": {
             "color": "#2a3f5f"
            },
            "error_y": {
             "color": "#2a3f5f"
            },
            "marker": {
             "line": {
              "color": "#E5ECF6",
              "width": 0.5
             },
             "pattern": {
              "fillmode": "overlay",
              "size": 10,
              "solidity": 0.2
             }
            },
            "type": "bar"
           }
          ],
          "barpolar": [
           {
            "marker": {
             "line": {
              "color": "#E5ECF6",
              "width": 0.5
             },
             "pattern": {
              "fillmode": "overlay",
              "size": 10,
              "solidity": 0.2
             }
            },
            "type": "barpolar"
           }
          ],
          "carpet": [
           {
            "aaxis": {
             "endlinecolor": "#2a3f5f",
             "gridcolor": "white",
             "linecolor": "white",
             "minorgridcolor": "white",
             "startlinecolor": "#2a3f5f"
            },
            "baxis": {
             "endlinecolor": "#2a3f5f",
             "gridcolor": "white",
             "linecolor": "white",
             "minorgridcolor": "white",
             "startlinecolor": "#2a3f5f"
            },
            "type": "carpet"
           }
          ],
          "choropleth": [
           {
            "colorbar": {
             "outlinewidth": 0,
             "ticks": ""
            },
            "type": "choropleth"
           }
          ],
          "contour": [
           {
            "colorbar": {
             "outlinewidth": 0,
             "ticks": ""
            },
            "colorscale": [
             [
              0,
              "#0d0887"
             ],
             [
              0.1111111111111111,
              "#46039f"
             ],
             [
              0.2222222222222222,
              "#7201a8"
             ],
             [
              0.3333333333333333,
              "#9c179e"
             ],
             [
              0.4444444444444444,
              "#bd3786"
             ],
             [
              0.5555555555555556,
              "#d8576b"
             ],
             [
              0.6666666666666666,
              "#ed7953"
             ],
             [
              0.7777777777777778,
              "#fb9f3a"
             ],
             [
              0.8888888888888888,
              "#fdca26"
             ],
             [
              1,
              "#f0f921"
             ]
            ],
            "type": "contour"
           }
          ],
          "contourcarpet": [
           {
            "colorbar": {
             "outlinewidth": 0,
             "ticks": ""
            },
            "type": "contourcarpet"
           }
          ],
          "heatmap": [
           {
            "colorbar": {
             "outlinewidth": 0,
             "ticks": ""
            },
            "colorscale": [
             [
              0,
              "#0d0887"
             ],
             [
              0.1111111111111111,
              "#46039f"
             ],
             [
              0.2222222222222222,
              "#7201a8"
             ],
             [
              0.3333333333333333,
              "#9c179e"
             ],
             [
              0.4444444444444444,
              "#bd3786"
             ],
             [
              0.5555555555555556,
              "#d8576b"
             ],
             [
              0.6666666666666666,
              "#ed7953"
             ],
             [
              0.7777777777777778,
              "#fb9f3a"
             ],
             [
              0.8888888888888888,
              "#fdca26"
             ],
             [
              1,
              "#f0f921"
             ]
            ],
            "type": "heatmap"
           }
          ],
          "heatmapgl": [
           {
            "colorbar": {
             "outlinewidth": 0,
             "ticks": ""
            },
            "colorscale": [
             [
              0,
              "#0d0887"
             ],
             [
              0.1111111111111111,
              "#46039f"
             ],
             [
              0.2222222222222222,
              "#7201a8"
             ],
             [
              0.3333333333333333,
              "#9c179e"
             ],
             [
              0.4444444444444444,
              "#bd3786"
             ],
             [
              0.5555555555555556,
              "#d8576b"
             ],
             [
              0.6666666666666666,
              "#ed7953"
             ],
             [
              0.7777777777777778,
              "#fb9f3a"
             ],
             [
              0.8888888888888888,
              "#fdca26"
             ],
             [
              1,
              "#f0f921"
             ]
            ],
            "type": "heatmapgl"
           }
          ],
          "histogram": [
           {
            "marker": {
             "pattern": {
              "fillmode": "overlay",
              "size": 10,
              "solidity": 0.2
             }
            },
            "type": "histogram"
           }
          ],
          "histogram2d": [
           {
            "colorbar": {
             "outlinewidth": 0,
             "ticks": ""
            },
            "colorscale": [
             [
              0,
              "#0d0887"
             ],
             [
              0.1111111111111111,
              "#46039f"
             ],
             [
              0.2222222222222222,
              "#7201a8"
             ],
             [
              0.3333333333333333,
              "#9c179e"
             ],
             [
              0.4444444444444444,
              "#bd3786"
             ],
             [
              0.5555555555555556,
              "#d8576b"
             ],
             [
              0.6666666666666666,
              "#ed7953"
             ],
             [
              0.7777777777777778,
              "#fb9f3a"
             ],
             [
              0.8888888888888888,
              "#fdca26"
             ],
             [
              1,
              "#f0f921"
             ]
            ],
            "type": "histogram2d"
           }
          ],
          "histogram2dcontour": [
           {
            "colorbar": {
             "outlinewidth": 0,
             "ticks": ""
            },
            "colorscale": [
             [
              0,
              "#0d0887"
             ],
             [
              0.1111111111111111,
              "#46039f"
             ],
             [
              0.2222222222222222,
              "#7201a8"
             ],
             [
              0.3333333333333333,
              "#9c179e"
             ],
             [
              0.4444444444444444,
              "#bd3786"
             ],
             [
              0.5555555555555556,
              "#d8576b"
             ],
             [
              0.6666666666666666,
              "#ed7953"
             ],
             [
              0.7777777777777778,
              "#fb9f3a"
             ],
             [
              0.8888888888888888,
              "#fdca26"
             ],
             [
              1,
              "#f0f921"
             ]
            ],
            "type": "histogram2dcontour"
           }
          ],
          "mesh3d": [
           {
            "colorbar": {
             "outlinewidth": 0,
             "ticks": ""
            },
            "type": "mesh3d"
           }
          ],
          "parcoords": [
           {
            "line": {
             "colorbar": {
              "outlinewidth": 0,
              "ticks": ""
             }
            },
            "type": "parcoords"
           }
          ],
          "pie": [
           {
            "automargin": true,
            "type": "pie"
           }
          ],
          "scatter": [
           {
            "fillpattern": {
             "fillmode": "overlay",
             "size": 10,
             "solidity": 0.2
            },
            "type": "scatter"
           }
          ],
          "scatter3d": [
           {
            "line": {
             "colorbar": {
              "outlinewidth": 0,
              "ticks": ""
             }
            },
            "marker": {
             "colorbar": {
              "outlinewidth": 0,
              "ticks": ""
             }
            },
            "type": "scatter3d"
           }
          ],
          "scattercarpet": [
           {
            "marker": {
             "colorbar": {
              "outlinewidth": 0,
              "ticks": ""
             }
            },
            "type": "scattercarpet"
           }
          ],
          "scattergeo": [
           {
            "marker": {
             "colorbar": {
              "outlinewidth": 0,
              "ticks": ""
             }
            },
            "type": "scattergeo"
           }
          ],
          "scattergl": [
           {
            "marker": {
             "colorbar": {
              "outlinewidth": 0,
              "ticks": ""
             }
            },
            "type": "scattergl"
           }
          ],
          "scattermapbox": [
           {
            "marker": {
             "colorbar": {
              "outlinewidth": 0,
              "ticks": ""
             }
            },
            "type": "scattermapbox"
           }
          ],
          "scatterpolar": [
           {
            "marker": {
             "colorbar": {
              "outlinewidth": 0,
              "ticks": ""
             }
            },
            "type": "scatterpolar"
           }
          ],
          "scatterpolargl": [
           {
            "marker": {
             "colorbar": {
              "outlinewidth": 0,
              "ticks": ""
             }
            },
            "type": "scatterpolargl"
           }
          ],
          "scatterternary": [
           {
            "marker": {
             "colorbar": {
              "outlinewidth": 0,
              "ticks": ""
             }
            },
            "type": "scatterternary"
           }
          ],
          "surface": [
           {
            "colorbar": {
             "outlinewidth": 0,
             "ticks": ""
            },
            "colorscale": [
             [
              0,
              "#0d0887"
             ],
             [
              0.1111111111111111,
              "#46039f"
             ],
             [
              0.2222222222222222,
              "#7201a8"
             ],
             [
              0.3333333333333333,
              "#9c179e"
             ],
             [
              0.4444444444444444,
              "#bd3786"
             ],
             [
              0.5555555555555556,
              "#d8576b"
             ],
             [
              0.6666666666666666,
              "#ed7953"
             ],
             [
              0.7777777777777778,
              "#fb9f3a"
             ],
             [
              0.8888888888888888,
              "#fdca26"
             ],
             [
              1,
              "#f0f921"
             ]
            ],
            "type": "surface"
           }
          ],
          "table": [
           {
            "cells": {
             "fill": {
              "color": "#EBF0F8"
             },
             "line": {
              "color": "white"
             }
            },
            "header": {
             "fill": {
              "color": "#C8D4E3"
             },
             "line": {
              "color": "white"
             }
            },
            "type": "table"
           }
          ]
         },
         "layout": {
          "annotationdefaults": {
           "arrowcolor": "#2a3f5f",
           "arrowhead": 0,
           "arrowwidth": 1
          },
          "autotypenumbers": "strict",
          "coloraxis": {
           "colorbar": {
            "outlinewidth": 0,
            "ticks": ""
           }
          },
          "colorscale": {
           "diverging": [
            [
             0,
             "#8e0152"
            ],
            [
             0.1,
             "#c51b7d"
            ],
            [
             0.2,
             "#de77ae"
            ],
            [
             0.3,
             "#f1b6da"
            ],
            [
             0.4,
             "#fde0ef"
            ],
            [
             0.5,
             "#f7f7f7"
            ],
            [
             0.6,
             "#e6f5d0"
            ],
            [
             0.7,
             "#b8e186"
            ],
            [
             0.8,
             "#7fbc41"
            ],
            [
             0.9,
             "#4d9221"
            ],
            [
             1,
             "#276419"
            ]
           ],
           "sequential": [
            [
             0,
             "#0d0887"
            ],
            [
             0.1111111111111111,
             "#46039f"
            ],
            [
             0.2222222222222222,
             "#7201a8"
            ],
            [
             0.3333333333333333,
             "#9c179e"
            ],
            [
             0.4444444444444444,
             "#bd3786"
            ],
            [
             0.5555555555555556,
             "#d8576b"
            ],
            [
             0.6666666666666666,
             "#ed7953"
            ],
            [
             0.7777777777777778,
             "#fb9f3a"
            ],
            [
             0.8888888888888888,
             "#fdca26"
            ],
            [
             1,
             "#f0f921"
            ]
           ],
           "sequentialminus": [
            [
             0,
             "#0d0887"
            ],
            [
             0.1111111111111111,
             "#46039f"
            ],
            [
             0.2222222222222222,
             "#7201a8"
            ],
            [
             0.3333333333333333,
             "#9c179e"
            ],
            [
             0.4444444444444444,
             "#bd3786"
            ],
            [
             0.5555555555555556,
             "#d8576b"
            ],
            [
             0.6666666666666666,
             "#ed7953"
            ],
            [
             0.7777777777777778,
             "#fb9f3a"
            ],
            [
             0.8888888888888888,
             "#fdca26"
            ],
            [
             1,
             "#f0f921"
            ]
           ]
          },
          "colorway": [
           "#636efa",
           "#EF553B",
           "#00cc96",
           "#ab63fa",
           "#FFA15A",
           "#19d3f3",
           "#FF6692",
           "#B6E880",
           "#FF97FF",
           "#FECB52"
          ],
          "font": {
           "color": "#2a3f5f"
          },
          "geo": {
           "bgcolor": "white",
           "lakecolor": "white",
           "landcolor": "#E5ECF6",
           "showlakes": true,
           "showland": true,
           "subunitcolor": "white"
          },
          "hoverlabel": {
           "align": "left"
          },
          "hovermode": "closest",
          "mapbox": {
           "style": "light"
          },
          "paper_bgcolor": "white",
          "plot_bgcolor": "#E5ECF6",
          "polar": {
           "angularaxis": {
            "gridcolor": "white",
            "linecolor": "white",
            "ticks": ""
           },
           "bgcolor": "#E5ECF6",
           "radialaxis": {
            "gridcolor": "white",
            "linecolor": "white",
            "ticks": ""
           }
          },
          "scene": {
           "xaxis": {
            "backgroundcolor": "#E5ECF6",
            "gridcolor": "white",
            "gridwidth": 2,
            "linecolor": "white",
            "showbackground": true,
            "ticks": "",
            "zerolinecolor": "white"
           },
           "yaxis": {
            "backgroundcolor": "#E5ECF6",
            "gridcolor": "white",
            "gridwidth": 2,
            "linecolor": "white",
            "showbackground": true,
            "ticks": "",
            "zerolinecolor": "white"
           },
           "zaxis": {
            "backgroundcolor": "#E5ECF6",
            "gridcolor": "white",
            "gridwidth": 2,
            "linecolor": "white",
            "showbackground": true,
            "ticks": "",
            "zerolinecolor": "white"
           }
          },
          "shapedefaults": {
           "line": {
            "color": "#2a3f5f"
           }
          },
          "ternary": {
           "aaxis": {
            "gridcolor": "white",
            "linecolor": "white",
            "ticks": ""
           },
           "baxis": {
            "gridcolor": "white",
            "linecolor": "white",
            "ticks": ""
           },
           "bgcolor": "#E5ECF6",
           "caxis": {
            "gridcolor": "white",
            "linecolor": "white",
            "ticks": ""
           }
          },
          "title": {
           "x": 0.05
          },
          "xaxis": {
           "automargin": true,
           "gridcolor": "white",
           "linecolor": "white",
           "ticks": "",
           "title": {
            "standoff": 15
           },
           "zerolinecolor": "white",
           "zerolinewidth": 2
          },
          "yaxis": {
           "automargin": true,
           "gridcolor": "white",
           "linecolor": "white",
           "ticks": "",
           "title": {
            "standoff": 15
           },
           "zerolinecolor": "white",
           "zerolinewidth": 2
          }
         }
        },
        "title": {
         "text": "",
         "x": 0.5
        },
        "updatemenus": [
         {
          "buttons": [
           {
            "args": [
             null,
             {
              "frame": {
               "duration": 500,
               "redraw": true
              },
              "fromcurrent": true,
              "mode": "immediate",
              "transition": {
               "duration": 500,
               "easing": "linear"
              }
             }
            ],
            "label": "&#9654;",
            "method": "animate"
           },
           {
            "args": [
             [
              null
             ],
             {
              "frame": {
               "duration": 0,
               "redraw": true
              },
              "fromcurrent": true,
              "mode": "immediate",
              "transition": {
               "duration": 0,
               "easing": "linear"
              }
             }
            ],
            "label": "&#9724;",
            "method": "animate"
           }
          ],
          "direction": "left",
          "pad": {
           "r": 10,
           "t": 70
          },
          "showactive": false,
          "type": "buttons",
          "x": 0.1,
          "xanchor": "right",
          "y": 0,
          "yanchor": "top"
         }
        ]
       }
      },
      "text/html": [
       "<div>                            <div id=\"ad5bbb69-20b4-4859-aaa9-0be2381acbc1\" class=\"plotly-graph-div\" style=\"height:525px; width:100%;\"></div>            <script type=\"text/javascript\">                require([\"plotly\"], function(Plotly) {                    window.PLOTLYENV=window.PLOTLYENV || {};                                    if (document.getElementById(\"ad5bbb69-20b4-4859-aaa9-0be2381acbc1\")) {                    Plotly.newPlot(                        \"ad5bbb69-20b4-4859-aaa9-0be2381acbc1\",                        [{\"coloraxis\":\"coloraxis\",\"geo\":\"geo\",\"hovertemplate\":\"<b>%{hovertext}</b><br><br>YEAR=2000<br>COUNTRY=%{location}<br>EVENT_FATALITIES=%{z}<extra></extra>\",\"hovertext\":[\"Algeria\",\"Angola\",\"Burundi\",\"Chad\",\"Kenya\",\"Liberia\",\"Namibia\",\"Rwanda\",\"Senegal\",\"Sierra Leone\",\"Somalia\",\"Sudan\",\"Zambia\"],\"locationmode\":\"country names\",\"locations\":[\"Algeria\",\"Angola\",\"Burundi\",\"Chad\",\"Kenya\",\"Liberia\",\"Namibia\",\"Rwanda\",\"Senegal\",\"Sierra Leone\",\"Somalia\",\"Sudan\",\"Zambia\"],\"name\":\"\",\"z\":[445,1919,505,2,7,0,75,4,7,0,0,27,0],\"type\":\"choropleth\"}],                        {\"template\":{\"data\":{\"histogram2dcontour\":[{\"type\":\"histogram2dcontour\",\"colorbar\":{\"outlinewidth\":0,\"ticks\":\"\"},\"colorscale\":[[0.0,\"#0d0887\"],[0.1111111111111111,\"#46039f\"],[0.2222222222222222,\"#7201a8\"],[0.3333333333333333,\"#9c179e\"],[0.4444444444444444,\"#bd3786\"],[0.5555555555555556,\"#d8576b\"],[0.6666666666666666,\"#ed7953\"],[0.7777777777777778,\"#fb9f3a\"],[0.8888888888888888,\"#fdca26\"],[1.0,\"#f0f921\"]]}],\"choropleth\":[{\"type\":\"choropleth\",\"colorbar\":{\"outlinewidth\":0,\"ticks\":\"\"}}],\"histogram2d\":[{\"type\":\"histogram2d\",\"colorbar\":{\"outlinewidth\":0,\"ticks\":\"\"},\"colorscale\":[[0.0,\"#0d0887\"],[0.1111111111111111,\"#46039f\"],[0.2222222222222222,\"#7201a8\"],[0.3333333333333333,\"#9c179e\"],[0.4444444444444444,\"#bd3786\"],[0.5555555555555556,\"#d8576b\"],[0.6666666666666666,\"#ed7953\"],[0.7777777777777778,\"#fb9f3a\"],[0.8888888888888888,\"#fdca26\"],[1.0,\"#f0f921\"]]}],\"heatmap\":[{\"type\":\"heatmap\",\"colorbar\":{\"outlinewidth\":0,\"ticks\":\"\"},\"colorscale\":[[0.0,\"#0d0887\"],[0.1111111111111111,\"#46039f\"],[0.2222222222222222,\"#7201a8\"],[0.3333333333333333,\"#9c179e\"],[0.4444444444444444,\"#bd3786\"],[0.5555555555555556,\"#d8576b\"],[0.6666666666666666,\"#ed7953\"],[0.7777777777777778,\"#fb9f3a\"],[0.8888888888888888,\"#fdca26\"],[1.0,\"#f0f921\"]]}],\"heatmapgl\":[{\"type\":\"heatmapgl\",\"colorbar\":{\"outlinewidth\":0,\"ticks\":\"\"},\"colorscale\":[[0.0,\"#0d0887\"],[0.1111111111111111,\"#46039f\"],[0.2222222222222222,\"#7201a8\"],[0.3333333333333333,\"#9c179e\"],[0.4444444444444444,\"#bd3786\"],[0.5555555555555556,\"#d8576b\"],[0.6666666666666666,\"#ed7953\"],[0.7777777777777778,\"#fb9f3a\"],[0.8888888888888888,\"#fdca26\"],[1.0,\"#f0f921\"]]}],\"contourcarpet\":[{\"type\":\"contourcarpet\",\"colorbar\":{\"outlinewidth\":0,\"ticks\":\"\"}}],\"contour\":[{\"type\":\"contour\",\"colorbar\":{\"outlinewidth\":0,\"ticks\":\"\"},\"colorscale\":[[0.0,\"#0d0887\"],[0.1111111111111111,\"#46039f\"],[0.2222222222222222,\"#7201a8\"],[0.3333333333333333,\"#9c179e\"],[0.4444444444444444,\"#bd3786\"],[0.5555555555555556,\"#d8576b\"],[0.6666666666666666,\"#ed7953\"],[0.7777777777777778,\"#fb9f3a\"],[0.8888888888888888,\"#fdca26\"],[1.0,\"#f0f921\"]]}],\"surface\":[{\"type\":\"surface\",\"colorbar\":{\"outlinewidth\":0,\"ticks\":\"\"},\"colorscale\":[[0.0,\"#0d0887\"],[0.1111111111111111,\"#46039f\"],[0.2222222222222222,\"#7201a8\"],[0.3333333333333333,\"#9c179e\"],[0.4444444444444444,\"#bd3786\"],[0.5555555555555556,\"#d8576b\"],[0.6666666666666666,\"#ed7953\"],[0.7777777777777778,\"#fb9f3a\"],[0.8888888888888888,\"#fdca26\"],[1.0,\"#f0f921\"]]}],\"mesh3d\":[{\"type\":\"mesh3d\",\"colorbar\":{\"outlinewidth\":0,\"ticks\":\"\"}}],\"scatter\":[{\"fillpattern\":{\"fillmode\":\"overlay\",\"size\":10,\"solidity\":0.2},\"type\":\"scatter\"}],\"parcoords\":[{\"type\":\"parcoords\",\"line\":{\"colorbar\":{\"outlinewidth\":0,\"ticks\":\"\"}}}],\"scatterpolargl\":[{\"type\":\"scatterpolargl\",\"marker\":{\"colorbar\":{\"outlinewidth\":0,\"ticks\":\"\"}}}],\"bar\":[{\"error_x\":{\"color\":\"#2a3f5f\"},\"error_y\":{\"color\":\"#2a3f5f\"},\"marker\":{\"line\":{\"color\":\"#E5ECF6\",\"width\":0.5},\"pattern\":{\"fillmode\":\"overlay\",\"size\":10,\"solidity\":0.2}},\"type\":\"bar\"}],\"scattergeo\":[{\"type\":\"scattergeo\",\"marker\":{\"colorbar\":{\"outlinewidth\":0,\"ticks\":\"\"}}}],\"scatterpolar\":[{\"type\":\"scatterpolar\",\"marker\":{\"colorbar\":{\"outlinewidth\":0,\"ticks\":\"\"}}}],\"histogram\":[{\"marker\":{\"pattern\":{\"fillmode\":\"overlay\",\"size\":10,\"solidity\":0.2}},\"type\":\"histogram\"}],\"scattergl\":[{\"type\":\"scattergl\",\"marker\":{\"colorbar\":{\"outlinewidth\":0,\"ticks\":\"\"}}}],\"scatter3d\":[{\"type\":\"scatter3d\",\"line\":{\"colorbar\":{\"outlinewidth\":0,\"ticks\":\"\"}},\"marker\":{\"colorbar\":{\"outlinewidth\":0,\"ticks\":\"\"}}}],\"scattermapbox\":[{\"type\":\"scattermapbox\",\"marker\":{\"colorbar\":{\"outlinewidth\":0,\"ticks\":\"\"}}}],\"scatterternary\":[{\"type\":\"scatterternary\",\"marker\":{\"colorbar\":{\"outlinewidth\":0,\"ticks\":\"\"}}}],\"scattercarpet\":[{\"type\":\"scattercarpet\",\"marker\":{\"colorbar\":{\"outlinewidth\":0,\"ticks\":\"\"}}}],\"carpet\":[{\"aaxis\":{\"endlinecolor\":\"#2a3f5f\",\"gridcolor\":\"white\",\"linecolor\":\"white\",\"minorgridcolor\":\"white\",\"startlinecolor\":\"#2a3f5f\"},\"baxis\":{\"endlinecolor\":\"#2a3f5f\",\"gridcolor\":\"white\",\"linecolor\":\"white\",\"minorgridcolor\":\"white\",\"startlinecolor\":\"#2a3f5f\"},\"type\":\"carpet\"}],\"table\":[{\"cells\":{\"fill\":{\"color\":\"#EBF0F8\"},\"line\":{\"color\":\"white\"}},\"header\":{\"fill\":{\"color\":\"#C8D4E3\"},\"line\":{\"color\":\"white\"}},\"type\":\"table\"}],\"barpolar\":[{\"marker\":{\"line\":{\"color\":\"#E5ECF6\",\"width\":0.5},\"pattern\":{\"fillmode\":\"overlay\",\"size\":10,\"solidity\":0.2}},\"type\":\"barpolar\"}],\"pie\":[{\"automargin\":true,\"type\":\"pie\"}]},\"layout\":{\"autotypenumbers\":\"strict\",\"colorway\":[\"#636efa\",\"#EF553B\",\"#00cc96\",\"#ab63fa\",\"#FFA15A\",\"#19d3f3\",\"#FF6692\",\"#B6E880\",\"#FF97FF\",\"#FECB52\"],\"font\":{\"color\":\"#2a3f5f\"},\"hovermode\":\"closest\",\"hoverlabel\":{\"align\":\"left\"},\"paper_bgcolor\":\"white\",\"plot_bgcolor\":\"#E5ECF6\",\"polar\":{\"bgcolor\":\"#E5ECF6\",\"angularaxis\":{\"gridcolor\":\"white\",\"linecolor\":\"white\",\"ticks\":\"\"},\"radialaxis\":{\"gridcolor\":\"white\",\"linecolor\":\"white\",\"ticks\":\"\"}},\"ternary\":{\"bgcolor\":\"#E5ECF6\",\"aaxis\":{\"gridcolor\":\"white\",\"linecolor\":\"white\",\"ticks\":\"\"},\"baxis\":{\"gridcolor\":\"white\",\"linecolor\":\"white\",\"ticks\":\"\"},\"caxis\":{\"gridcolor\":\"white\",\"linecolor\":\"white\",\"ticks\":\"\"}},\"coloraxis\":{\"colorbar\":{\"outlinewidth\":0,\"ticks\":\"\"}},\"colorscale\":{\"sequential\":[[0.0,\"#0d0887\"],[0.1111111111111111,\"#46039f\"],[0.2222222222222222,\"#7201a8\"],[0.3333333333333333,\"#9c179e\"],[0.4444444444444444,\"#bd3786\"],[0.5555555555555556,\"#d8576b\"],[0.6666666666666666,\"#ed7953\"],[0.7777777777777778,\"#fb9f3a\"],[0.8888888888888888,\"#fdca26\"],[1.0,\"#f0f921\"]],\"sequentialminus\":[[0.0,\"#0d0887\"],[0.1111111111111111,\"#46039f\"],[0.2222222222222222,\"#7201a8\"],[0.3333333333333333,\"#9c179e\"],[0.4444444444444444,\"#bd3786\"],[0.5555555555555556,\"#d8576b\"],[0.6666666666666666,\"#ed7953\"],[0.7777777777777778,\"#fb9f3a\"],[0.8888888888888888,\"#fdca26\"],[1.0,\"#f0f921\"]],\"diverging\":[[0,\"#8e0152\"],[0.1,\"#c51b7d\"],[0.2,\"#de77ae\"],[0.3,\"#f1b6da\"],[0.4,\"#fde0ef\"],[0.5,\"#f7f7f7\"],[0.6,\"#e6f5d0\"],[0.7,\"#b8e186\"],[0.8,\"#7fbc41\"],[0.9,\"#4d9221\"],[1,\"#276419\"]]},\"xaxis\":{\"gridcolor\":\"white\",\"linecolor\":\"white\",\"ticks\":\"\",\"title\":{\"standoff\":15},\"zerolinecolor\":\"white\",\"automargin\":true,\"zerolinewidth\":2},\"yaxis\":{\"gridcolor\":\"white\",\"linecolor\":\"white\",\"ticks\":\"\",\"title\":{\"standoff\":15},\"zerolinecolor\":\"white\",\"automargin\":true,\"zerolinewidth\":2},\"scene\":{\"xaxis\":{\"backgroundcolor\":\"#E5ECF6\",\"gridcolor\":\"white\",\"linecolor\":\"white\",\"showbackground\":true,\"ticks\":\"\",\"zerolinecolor\":\"white\",\"gridwidth\":2},\"yaxis\":{\"backgroundcolor\":\"#E5ECF6\",\"gridcolor\":\"white\",\"linecolor\":\"white\",\"showbackground\":true,\"ticks\":\"\",\"zerolinecolor\":\"white\",\"gridwidth\":2},\"zaxis\":{\"backgroundcolor\":\"#E5ECF6\",\"gridcolor\":\"white\",\"linecolor\":\"white\",\"showbackground\":true,\"ticks\":\"\",\"zerolinecolor\":\"white\",\"gridwidth\":2}},\"shapedefaults\":{\"line\":{\"color\":\"#2a3f5f\"}},\"annotationdefaults\":{\"arrowcolor\":\"#2a3f5f\",\"arrowhead\":0,\"arrowwidth\":1},\"geo\":{\"bgcolor\":\"white\",\"landcolor\":\"#E5ECF6\",\"subunitcolor\":\"white\",\"showland\":true,\"showlakes\":true,\"lakecolor\":\"white\"},\"title\":{\"x\":0.05},\"mapbox\":{\"style\":\"light\"}}},\"geo\":{\"domain\":{\"x\":[0.0,1.0],\"y\":[0.0,1.0]},\"center\":{},\"showframe\":false,\"showcoastlines\":false},\"coloraxis\":{\"colorbar\":{\"title\":{\"text\":\"EVENT_FATALITIES\"}},\"colorscale\":[[0.0,\"green\"],[0.125,\"yellow\"],[0.25,\"olive\"],[0.375,\"gold\"],[0.5,\"orange\"],[0.625,\"coral\"],[0.75,\"tomato\"],[0.875,\"maroon\"],[1.0,\"red\"]],\"cmin\":0,\"cmax\":4000},\"legend\":{\"tracegroupgap\":0},\"margin\":{\"t\":60},\"updatemenus\":[{\"buttons\":[{\"args\":[null,{\"frame\":{\"duration\":500,\"redraw\":true},\"mode\":\"immediate\",\"fromcurrent\":true,\"transition\":{\"duration\":500,\"easing\":\"linear\"}}],\"label\":\"&#9654;\",\"method\":\"animate\"},{\"args\":[[null],{\"frame\":{\"duration\":0,\"redraw\":true},\"mode\":\"immediate\",\"fromcurrent\":true,\"transition\":{\"duration\":0,\"easing\":\"linear\"}}],\"label\":\"&#9724;\",\"method\":\"animate\"}],\"direction\":\"left\",\"pad\":{\"r\":10,\"t\":70},\"showactive\":false,\"type\":\"buttons\",\"x\":0.1,\"xanchor\":\"right\",\"y\":0,\"yanchor\":\"top\"}],\"sliders\":[{\"active\":0,\"currentvalue\":{\"prefix\":\"YEAR=\"},\"len\":0.9,\"pad\":{\"b\":10,\"t\":60},\"steps\":[{\"args\":[[\"2000\"],{\"frame\":{\"duration\":0,\"redraw\":true},\"mode\":\"immediate\",\"fromcurrent\":true,\"transition\":{\"duration\":0,\"easing\":\"linear\"}}],\"label\":\"2000\",\"method\":\"animate\"},{\"args\":[[\"2001\"],{\"frame\":{\"duration\":0,\"redraw\":true},\"mode\":\"immediate\",\"fromcurrent\":true,\"transition\":{\"duration\":0,\"easing\":\"linear\"}}],\"label\":\"2001\",\"method\":\"animate\"},{\"args\":[[\"2002\"],{\"frame\":{\"duration\":0,\"redraw\":true},\"mode\":\"immediate\",\"fromcurrent\":true,\"transition\":{\"duration\":0,\"easing\":\"linear\"}}],\"label\":\"2002\",\"method\":\"animate\"},{\"args\":[[\"2003\"],{\"frame\":{\"duration\":0,\"redraw\":true},\"mode\":\"immediate\",\"fromcurrent\":true,\"transition\":{\"duration\":0,\"easing\":\"linear\"}}],\"label\":\"2003\",\"method\":\"animate\"},{\"args\":[[\"2004\"],{\"frame\":{\"duration\":0,\"redraw\":true},\"mode\":\"immediate\",\"fromcurrent\":true,\"transition\":{\"duration\":0,\"easing\":\"linear\"}}],\"label\":\"2004\",\"method\":\"animate\"},{\"args\":[[\"2005\"],{\"frame\":{\"duration\":0,\"redraw\":true},\"mode\":\"immediate\",\"fromcurrent\":true,\"transition\":{\"duration\":0,\"easing\":\"linear\"}}],\"label\":\"2005\",\"method\":\"animate\"},{\"args\":[[\"2006\"],{\"frame\":{\"duration\":0,\"redraw\":true},\"mode\":\"immediate\",\"fromcurrent\":true,\"transition\":{\"duration\":0,\"easing\":\"linear\"}}],\"label\":\"2006\",\"method\":\"animate\"},{\"args\":[[\"2007\"],{\"frame\":{\"duration\":0,\"redraw\":true},\"mode\":\"immediate\",\"fromcurrent\":true,\"transition\":{\"duration\":0,\"easing\":\"linear\"}}],\"label\":\"2007\",\"method\":\"animate\"},{\"args\":[[\"2008\"],{\"frame\":{\"duration\":0,\"redraw\":true},\"mode\":\"immediate\",\"fromcurrent\":true,\"transition\":{\"duration\":0,\"easing\":\"linear\"}}],\"label\":\"2008\",\"method\":\"animate\"},{\"args\":[[\"2009\"],{\"frame\":{\"duration\":0,\"redraw\":true},\"mode\":\"immediate\",\"fromcurrent\":true,\"transition\":{\"duration\":0,\"easing\":\"linear\"}}],\"label\":\"2009\",\"method\":\"animate\"},{\"args\":[[\"2010\"],{\"frame\":{\"duration\":0,\"redraw\":true},\"mode\":\"immediate\",\"fromcurrent\":true,\"transition\":{\"duration\":0,\"easing\":\"linear\"}}],\"label\":\"2010\",\"method\":\"animate\"},{\"args\":[[\"2011\"],{\"frame\":{\"duration\":0,\"redraw\":true},\"mode\":\"immediate\",\"fromcurrent\":true,\"transition\":{\"duration\":0,\"easing\":\"linear\"}}],\"label\":\"2011\",\"method\":\"animate\"},{\"args\":[[\"2013\"],{\"frame\":{\"duration\":0,\"redraw\":true},\"mode\":\"immediate\",\"fromcurrent\":true,\"transition\":{\"duration\":0,\"easing\":\"linear\"}}],\"label\":\"2013\",\"method\":\"animate\"},{\"args\":[[\"2014\"],{\"frame\":{\"duration\":0,\"redraw\":true},\"mode\":\"immediate\",\"fromcurrent\":true,\"transition\":{\"duration\":0,\"easing\":\"linear\"}}],\"label\":\"2014\",\"method\":\"animate\"},{\"args\":[[\"2016\"],{\"frame\":{\"duration\":0,\"redraw\":true},\"mode\":\"immediate\",\"fromcurrent\":true,\"transition\":{\"duration\":0,\"easing\":\"linear\"}}],\"label\":\"2016\",\"method\":\"animate\"},{\"args\":[[\"2017\"],{\"frame\":{\"duration\":0,\"redraw\":true},\"mode\":\"immediate\",\"fromcurrent\":true,\"transition\":{\"duration\":0,\"easing\":\"linear\"}}],\"label\":\"2017\",\"method\":\"animate\"},{\"args\":[[\"2018\"],{\"frame\":{\"duration\":0,\"redraw\":true},\"mode\":\"immediate\",\"fromcurrent\":true,\"transition\":{\"duration\":0,\"easing\":\"linear\"}}],\"label\":\"2018\",\"method\":\"animate\"},{\"args\":[[\"2020\"],{\"frame\":{\"duration\":0,\"redraw\":true},\"mode\":\"immediate\",\"fromcurrent\":true,\"transition\":{\"duration\":0,\"easing\":\"linear\"}}],\"label\":\"2020\",\"method\":\"animate\"},{\"args\":[[\"2012\"],{\"frame\":{\"duration\":0,\"redraw\":true},\"mode\":\"immediate\",\"fromcurrent\":true,\"transition\":{\"duration\":0,\"easing\":\"linear\"}}],\"label\":\"2012\",\"method\":\"animate\"},{\"args\":[[\"2015\"],{\"frame\":{\"duration\":0,\"redraw\":true},\"mode\":\"immediate\",\"fromcurrent\":true,\"transition\":{\"duration\":0,\"easing\":\"linear\"}}],\"label\":\"2015\",\"method\":\"animate\"},{\"args\":[[\"2019\"],{\"frame\":{\"duration\":0,\"redraw\":true},\"mode\":\"immediate\",\"fromcurrent\":true,\"transition\":{\"duration\":0,\"easing\":\"linear\"}}],\"label\":\"2019\",\"method\":\"animate\"}],\"x\":0.1,\"xanchor\":\"left\",\"y\":0,\"yanchor\":\"top\"}],\"title\":{\"text\":\"\",\"x\":0.5}},                        {\"responsive\": true}                    ).then(function(){\n",
       "                            Plotly.addFrames('ad5bbb69-20b4-4859-aaa9-0be2381acbc1', [{\"data\":[{\"coloraxis\":\"coloraxis\",\"geo\":\"geo\",\"hovertemplate\":\"<b>%{hovertext}</b><br><br>YEAR=2000<br>COUNTRY=%{location}<br>EVENT_FATALITIES=%{z}<extra></extra>\",\"hovertext\":[\"Algeria\",\"Angola\",\"Burundi\",\"Chad\",\"Kenya\",\"Liberia\",\"Namibia\",\"Rwanda\",\"Senegal\",\"Sierra Leone\",\"Somalia\",\"Sudan\",\"Zambia\"],\"locationmode\":\"country names\",\"locations\":[\"Algeria\",\"Angola\",\"Burundi\",\"Chad\",\"Kenya\",\"Liberia\",\"Namibia\",\"Rwanda\",\"Senegal\",\"Sierra Leone\",\"Somalia\",\"Sudan\",\"Zambia\"],\"name\":\"\",\"z\":[445,1919,505,2,7,0,75,4,7,0,0,27,0],\"type\":\"choropleth\"}],\"name\":\"2000\"},{\"data\":[{\"coloraxis\":\"coloraxis\",\"geo\":\"geo\",\"hovertemplate\":\"<b>%{hovertext}</b><br><br>YEAR=2001<br>COUNTRY=%{location}<br>EVENT_FATALITIES=%{z}<extra></extra>\",\"hovertext\":[\"Algeria\",\"Angola\",\"Burundi\",\"Liberia\",\"Namibia\",\"Senegal\",\"Sierra Leone\",\"Somalia\",\"Sudan\",\"Tanzania\"],\"locationmode\":\"country names\",\"locations\":[\"Algeria\",\"Angola\",\"Burundi\",\"Liberia\",\"Namibia\",\"Senegal\",\"Sierra Leone\",\"Somalia\",\"Sudan\",\"Tanzania\"],\"name\":\"\",\"z\":[348,1216,589,3,6,36,0,0,27,15],\"type\":\"choropleth\"}],\"name\":\"2001\"},{\"data\":[{\"coloraxis\":\"coloraxis\",\"geo\":\"geo\",\"hovertemplate\":\"<b>%{hovertext}</b><br><br>YEAR=2002<br>COUNTRY=%{location}<br>EVENT_FATALITIES=%{z}<extra></extra>\",\"hovertext\":[\"Algeria\",\"Angola\",\"Burundi\",\"Liberia\",\"Senegal\",\"Somalia\",\"Sudan\",\"Tanzania\",\"Zambia\"],\"locationmode\":\"country names\",\"locations\":[\"Algeria\",\"Angola\",\"Burundi\",\"Liberia\",\"Senegal\",\"Somalia\",\"Sudan\",\"Tanzania\",\"Zambia\"],\"name\":\"\",\"z\":[337,19,368,27,20,0,1250,38,0],\"type\":\"choropleth\"}],\"name\":\"2002\"},{\"data\":[{\"coloraxis\":\"coloraxis\",\"geo\":\"geo\",\"hovertemplate\":\"<b>%{hovertext}</b><br><br>YEAR=2003<br>COUNTRY=%{location}<br>EVENT_FATALITIES=%{z}<extra></extra>\",\"hovertext\":[\"Algeria\",\"Burundi\",\"Chad\",\"Liberia\",\"Somalia\",\"Sudan\"],\"locationmode\":\"country names\",\"locations\":[\"Algeria\",\"Burundi\",\"Chad\",\"Liberia\",\"Somalia\",\"Sudan\"],\"name\":\"\",\"z\":[141,135,0,0,7,102],\"type\":\"choropleth\"}],\"name\":\"2003\"},{\"data\":[{\"coloraxis\":\"coloraxis\",\"geo\":\"geo\",\"hovertemplate\":\"<b>%{hovertext}</b><br><br>YEAR=2004<br>COUNTRY=%{location}<br>EVENT_FATALITIES=%{z}<extra></extra>\",\"hovertext\":[\"Algeria\",\"Burundi\",\"Liberia\",\"Niger\",\"Sierra Leone\",\"Sudan\"],\"locationmode\":\"country names\",\"locations\":[\"Algeria\",\"Burundi\",\"Liberia\",\"Niger\",\"Sierra Leone\",\"Sudan\"],\"name\":\"\",\"z\":[61,244,16,0,0,696],\"type\":\"choropleth\"}],\"name\":\"2004\"},{\"data\":[{\"coloraxis\":\"coloraxis\",\"geo\":\"geo\",\"hovertemplate\":\"<b>%{hovertext}</b><br><br>YEAR=2005<br>COUNTRY=%{location}<br>EVENT_FATALITIES=%{z}<extra></extra>\",\"hovertext\":[\"Algeria\",\"Burundi\",\"Kenya\",\"Niger\",\"Nigeria\",\"Somalia\",\"Sudan\"],\"locationmode\":\"country names\",\"locations\":[\"Algeria\",\"Burundi\",\"Kenya\",\"Niger\",\"Nigeria\",\"Somalia\",\"Sudan\"],\"name\":\"\",\"z\":[25,404,4,0,0,0,157],\"type\":\"choropleth\"}],\"name\":\"2005\"},{\"data\":[{\"coloraxis\":\"coloraxis\",\"geo\":\"geo\",\"hovertemplate\":\"<b>%{hovertext}</b><br><br>YEAR=2006<br>COUNTRY=%{location}<br>EVENT_FATALITIES=%{z}<extra></extra>\",\"hovertext\":[\"Algeria\",\"Burundi\",\"Chad\",\"Kenya\",\"Liberia\",\"Niger\",\"Nigeria\",\"Senegal\",\"Somalia\",\"Sudan\"],\"locationmode\":\"country names\",\"locations\":[\"Algeria\",\"Burundi\",\"Chad\",\"Kenya\",\"Liberia\",\"Niger\",\"Nigeria\",\"Senegal\",\"Somalia\",\"Sudan\"],\"name\":\"\",\"z\":[55,33,0,3,0,0,1,1,7,157],\"type\":\"choropleth\"}],\"name\":\"2006\"},{\"data\":[{\"coloraxis\":\"coloraxis\",\"geo\":\"geo\",\"hovertemplate\":\"<b>%{hovertext}</b><br><br>YEAR=2007<br>COUNTRY=%{location}<br>EVENT_FATALITIES=%{z}<extra></extra>\",\"hovertext\":[\"Algeria\",\"Burundi\",\"Cameroon\",\"Chad\",\"Mauritania\",\"Niger\",\"Nigeria\",\"Rwanda\",\"Senegal\",\"Somalia\",\"Sudan\",\"Tanzania\"],\"locationmode\":\"country names\",\"locations\":[\"Algeria\",\"Burundi\",\"Cameroon\",\"Chad\",\"Mauritania\",\"Niger\",\"Nigeria\",\"Rwanda\",\"Senegal\",\"Somalia\",\"Sudan\",\"Tanzania\"],\"name\":\"\",\"z\":[3,1,21,5,4,2,3,0,6,14,56,3],\"type\":\"choropleth\"}],\"name\":\"2007\"},{\"data\":[{\"coloraxis\":\"coloraxis\",\"geo\":\"geo\",\"hovertemplate\":\"<b>%{hovertext}</b><br><br>YEAR=2008<br>COUNTRY=%{location}<br>EVENT_FATALITIES=%{z}<extra></extra>\",\"hovertext\":[\"Algeria\",\"Angola\",\"Burundi\",\"Chad\",\"Mali\",\"Mauritania\",\"Niger\",\"Nigeria\",\"Senegal\",\"Somalia\",\"Sudan\"],\"locationmode\":\"country names\",\"locations\":[\"Algeria\",\"Angola\",\"Burundi\",\"Chad\",\"Mali\",\"Mauritania\",\"Niger\",\"Nigeria\",\"Senegal\",\"Somalia\",\"Sudan\"],\"name\":\"\",\"z\":[7,1,4,0,7,0,3,1,2,17,424],\"type\":\"choropleth\"}],\"name\":\"2008\"},{\"data\":[{\"coloraxis\":\"coloraxis\",\"geo\":\"geo\",\"hovertemplate\":\"<b>%{hovertext}</b><br><br>YEAR=2009<br>COUNTRY=%{location}<br>EVENT_FATALITIES=%{z}<extra></extra>\",\"hovertext\":[\"Algeria\",\"Cameroon\",\"Chad\",\"Kenya\",\"Mali\",\"Mauritania\",\"Niger\",\"Nigeria\",\"Senegal\",\"Sierra Leone\",\"Somalia\",\"Sudan\"],\"locationmode\":\"country names\",\"locations\":[\"Algeria\",\"Cameroon\",\"Chad\",\"Kenya\",\"Mali\",\"Mauritania\",\"Niger\",\"Nigeria\",\"Senegal\",\"Sierra Leone\",\"Somalia\",\"Sudan\"],\"name\":\"\",\"z\":[9,0,0,0,0,1,0,5,5,0,42,269],\"type\":\"choropleth\"}],\"name\":\"2009\"},{\"data\":[{\"coloraxis\":\"coloraxis\",\"geo\":\"geo\",\"hovertemplate\":\"<b>%{hovertext}</b><br><br>YEAR=2010<br>COUNTRY=%{location}<br>EVENT_FATALITIES=%{z}<extra></extra>\",\"hovertext\":[\"Algeria\",\"Angola\",\"Cameroon\",\"Kenya\",\"Niger\",\"Nigeria\",\"Senegal\",\"Somalia\",\"Sudan\"],\"locationmode\":\"country names\",\"locations\":[\"Algeria\",\"Angola\",\"Cameroon\",\"Kenya\",\"Niger\",\"Nigeria\",\"Senegal\",\"Somalia\",\"Sudan\"],\"name\":\"\",\"z\":[11,8,0,0,1,23,1,55,94],\"type\":\"choropleth\"}],\"name\":\"2010\"},{\"data\":[{\"coloraxis\":\"coloraxis\",\"geo\":\"geo\",\"hovertemplate\":\"<b>%{hovertext}</b><br><br>YEAR=2011<br>COUNTRY=%{location}<br>EVENT_FATALITIES=%{z}<extra></extra>\",\"hovertext\":[\"Algeria\",\"Kenya\",\"Libya\",\"Mali\",\"Nigeria\",\"Senegal\",\"Somalia\",\"South Sudan\",\"Sudan\"],\"locationmode\":\"country names\",\"locations\":[\"Algeria\",\"Kenya\",\"Libya\",\"Mali\",\"Nigeria\",\"Senegal\",\"Somalia\",\"South Sudan\",\"Sudan\"],\"name\":\"\",\"z\":[2,3,2,5,138,12,59,17,148],\"type\":\"choropleth\"}],\"name\":\"2011\"},{\"data\":[{\"coloraxis\":\"coloraxis\",\"geo\":\"geo\",\"hovertemplate\":\"<b>%{hovertext}</b><br><br>YEAR=2013<br>COUNTRY=%{location}<br>EVENT_FATALITIES=%{z}<extra></extra>\",\"hovertext\":[\"Algeria\",\"Cameroon\",\"Kenya\",\"Mali\",\"Nigeria\",\"Senegal\",\"Somalia\",\"South Sudan\",\"Sudan\"],\"locationmode\":\"country names\",\"locations\":[\"Algeria\",\"Cameroon\",\"Kenya\",\"Mali\",\"Nigeria\",\"Senegal\",\"Somalia\",\"South Sudan\",\"Sudan\"],\"name\":\"\",\"z\":[0,2,141,63,1056,3,158,87,24],\"type\":\"choropleth\"}],\"name\":\"2013\"},{\"data\":[{\"coloraxis\":\"coloraxis\",\"geo\":\"geo\",\"hovertemplate\":\"<b>%{hovertext}</b><br><br>YEAR=2014<br>COUNTRY=%{location}<br>EVENT_FATALITIES=%{z}<extra></extra>\",\"hovertext\":[\"Algeria\",\"Cameroon\",\"Chad\",\"Kenya\",\"Libya\",\"Mali\",\"Nigeria\",\"Senegal\",\"Somalia\",\"South Sudan\",\"Sudan\"],\"locationmode\":\"country names\",\"locations\":[\"Algeria\",\"Cameroon\",\"Chad\",\"Kenya\",\"Libya\",\"Mali\",\"Nigeria\",\"Senegal\",\"Somalia\",\"South Sudan\",\"Sudan\"],\"name\":\"\",\"z\":[1,108,6,146,10,4,2815,0,174,656,33],\"type\":\"choropleth\"}],\"name\":\"2014\"},{\"data\":[{\"coloraxis\":\"coloraxis\",\"geo\":\"geo\",\"hovertemplate\":\"<b>%{hovertext}</b><br><br>YEAR=2016<br>COUNTRY=%{location}<br>EVENT_FATALITIES=%{z}<extra></extra>\",\"hovertext\":[\"Algeria\",\"Burkina Faso\",\"Cameroon\",\"Kenya\",\"Libya\",\"Mali\",\"Niger\",\"Nigeria\",\"Senegal\",\"Somalia\",\"South Sudan\",\"Sudan\"],\"locationmode\":\"country names\",\"locations\":[\"Algeria\",\"Burkina Faso\",\"Cameroon\",\"Kenya\",\"Libya\",\"Mali\",\"Niger\",\"Nigeria\",\"Senegal\",\"Somalia\",\"South Sudan\",\"Sudan\"],\"name\":\"\",\"z\":[1,31,178,19,80,6,24,313,0,229,56,22],\"type\":\"choropleth\"}],\"name\":\"2016\"},{\"data\":[{\"coloraxis\":\"coloraxis\",\"geo\":\"geo\",\"hovertemplate\":\"<b>%{hovertext}</b><br><br>YEAR=2017<br>COUNTRY=%{location}<br>EVENT_FATALITIES=%{z}<extra></extra>\",\"hovertext\":[\"Algeria\",\"Burkina Faso\",\"Burundi\",\"Cameroon\",\"Kenya\",\"Libya\",\"Mali\",\"Niger\",\"Nigeria\",\"Somalia\",\"South Sudan\",\"Sudan\"],\"locationmode\":\"country names\",\"locations\":[\"Algeria\",\"Burkina Faso\",\"Burundi\",\"Cameroon\",\"Kenya\",\"Libya\",\"Mali\",\"Niger\",\"Nigeria\",\"Somalia\",\"South Sudan\",\"Sudan\"],\"name\":\"\",\"z\":[1,6,0,146,57,4,24,16,447,341,147,14],\"type\":\"choropleth\"}],\"name\":\"2017\"},{\"data\":[{\"coloraxis\":\"coloraxis\",\"geo\":\"geo\",\"hovertemplate\":\"<b>%{hovertext}</b><br><br>YEAR=2018<br>COUNTRY=%{location}<br>EVENT_FATALITIES=%{z}<extra></extra>\",\"hovertext\":[\"Algeria\",\"Burkina Faso\",\"Cameroon\",\"Chad\",\"Kenya\",\"Libya\",\"Mali\",\"Niger\",\"Nigeria\",\"Rwanda\",\"Somalia\",\"South Sudan\",\"Sudan\"],\"locationmode\":\"country names\",\"locations\":[\"Algeria\",\"Burkina Faso\",\"Cameroon\",\"Chad\",\"Kenya\",\"Libya\",\"Mali\",\"Niger\",\"Nigeria\",\"Rwanda\",\"Somalia\",\"South Sudan\",\"Sudan\"],\"name\":\"\",\"z\":[1,45,201,18,15,22,192,39,241,10,213,75,12],\"type\":\"choropleth\"}],\"name\":\"2018\"},{\"data\":[{\"coloraxis\":\"coloraxis\",\"geo\":\"geo\",\"hovertemplate\":\"<b>%{hovertext}</b><br><br>YEAR=2020<br>COUNTRY=%{location}<br>EVENT_FATALITIES=%{z}<extra></extra>\",\"hovertext\":[\"Algeria\",\"Burkina Faso\",\"Burundi\",\"Cameroon\",\"Chad\",\"Kenya\",\"Libya\",\"Mali\",\"Niger\",\"Nigeria\",\"Somalia\",\"South Sudan\",\"Sudan\"],\"locationmode\":\"country names\",\"locations\":[\"Algeria\",\"Burkina Faso\",\"Burundi\",\"Cameroon\",\"Chad\",\"Kenya\",\"Libya\",\"Mali\",\"Niger\",\"Nigeria\",\"Somalia\",\"South Sudan\",\"Sudan\"],\"name\":\"\",\"z\":[0,386,3,315,30,13,3,202,228,469,208,15,0],\"type\":\"choropleth\"}],\"name\":\"2020\"},{\"data\":[{\"coloraxis\":\"coloraxis\",\"geo\":\"geo\",\"hovertemplate\":\"<b>%{hovertext}</b><br><br>YEAR=2012<br>COUNTRY=%{location}<br>EVENT_FATALITIES=%{z}<extra></extra>\",\"hovertext\":[\"Burkina Faso\",\"Kenya\",\"Mali\",\"Niger\",\"Nigeria\",\"Rwanda\",\"Senegal\",\"Somalia\",\"South Sudan\",\"Sudan\"],\"locationmode\":\"country names\",\"locations\":[\"Burkina Faso\",\"Kenya\",\"Mali\",\"Niger\",\"Nigeria\",\"Rwanda\",\"Senegal\",\"Somalia\",\"South Sudan\",\"Sudan\"],\"name\":\"\",\"z\":[0,25,15,1,560,11,0,84,3,49],\"type\":\"choropleth\"}],\"name\":\"2012\"},{\"data\":[{\"coloraxis\":\"coloraxis\",\"geo\":\"geo\",\"hovertemplate\":\"<b>%{hovertext}</b><br><br>YEAR=2015<br>COUNTRY=%{location}<br>EVENT_FATALITIES=%{z}<extra></extra>\",\"hovertext\":[\"Burkina Faso\",\"Cameroon\",\"Chad\",\"Kenya\",\"Libya\",\"Mali\",\"Niger\",\"Nigeria\",\"Senegal\",\"Somalia\",\"South Sudan\",\"Sudan\"],\"locationmode\":\"country names\",\"locations\":[\"Burkina Faso\",\"Cameroon\",\"Chad\",\"Kenya\",\"Libya\",\"Mali\",\"Niger\",\"Nigeria\",\"Senegal\",\"Somalia\",\"South Sudan\",\"Sudan\"],\"name\":\"\",\"z\":[0,222,41,167,162,7,119,4111,0,172,18,67],\"type\":\"choropleth\"}],\"name\":\"2015\"},{\"data\":[{\"coloraxis\":\"coloraxis\",\"geo\":\"geo\",\"hovertemplate\":\"<b>%{hovertext}</b><br><br>YEAR=2019<br>COUNTRY=%{location}<br>EVENT_FATALITIES=%{z}<extra></extra>\",\"hovertext\":[\"Burkina Faso\",\"Burundi\",\"Cameroon\",\"Chad\",\"Kenya\",\"Libya\",\"Mali\",\"Mauritania\",\"Niger\",\"Nigeria\",\"Rwanda\",\"Somalia\",\"South Sudan\",\"Sudan\"],\"locationmode\":\"country names\",\"locations\":[\"Burkina Faso\",\"Burundi\",\"Cameroon\",\"Chad\",\"Kenya\",\"Libya\",\"Mali\",\"Mauritania\",\"Niger\",\"Nigeria\",\"Rwanda\",\"Somalia\",\"South Sudan\",\"Sudan\"],\"name\":\"\",\"z\":[529,1,258,45,40,9,142,2,150,318,15,279,33,5],\"type\":\"choropleth\"}],\"name\":\"2019\"}]);\n",
       "                        }).then(function(){\n",
       "                            \n",
       "var gd = document.getElementById('ad5bbb69-20b4-4859-aaa9-0be2381acbc1');\n",
       "var x = new MutationObserver(function (mutations, observer) {{\n",
       "        var display = window.getComputedStyle(gd).display;\n",
       "        if (!display || display === 'none') {{\n",
       "            console.log([gd, 'removed!']);\n",
       "            Plotly.purge(gd);\n",
       "            observer.disconnect();\n",
       "        }}\n",
       "}});\n",
       "\n",
       "// Listen for the removal of the full notebook cells\n",
       "var notebookContainer = gd.closest('#notebook-container');\n",
       "if (notebookContainer) {{\n",
       "    x.observe(notebookContainer, {childList: true});\n",
       "}}\n",
       "\n",
       "// Listen for the clearing of the current output cell\n",
       "var outputEl = gd.closest('.output');\n",
       "if (outputEl) {{\n",
       "    x.observe(outputEl, {childList: true});\n",
       "}}\n",
       "\n",
       "                        })                };                });            </script>        </div>"
      ]
     },
     "metadata": {},
     "output_type": "display_data"
    }
   ],
   "source": [
    "#Creating the visualization \n",
    "fig3 = px.choropleth(EVENT_FATALITIES_df2, locations=\"COUNTRY\", locationmode = \"country names\", color=\"EVENT_FATALITIES\", hover_name=\"COUNTRY\", animation_frame=\"YEAR\", color_continuous_scale=[\"green\",\"yellow\",\"olive\",\"gold\",\"orange\",\"coral\", \"tomato\" ,\"maroon\", \"red\"], range_color  = (0,4000))  \n",
    "fig3.update_layout( title_text = '', title_x = 0.5, geo=dict( showframe = False, showcoastlines = False, )) \n",
    "fig3.show()"
   ]
  },
  {
   "cell_type": "markdown",
   "id": "78c3e7d1",
   "metadata": {},
   "source": [
    "The following graph represents the evolution **by year** of the total number of attacks that took place in all the countries concerned by our study (treatment group and control group)"
   ]
  },
  {
   "cell_type": "code",
   "execution_count": 46,
   "id": "8896b6fa",
   "metadata": {},
   "outputs": [
    {
     "data": {
      "application/vnd.plotly.v1+json": {
       "config": {
        "plotlyServerURL": "https://plot.ly"
       },
       "data": [
        {
         "coloraxis": "coloraxis",
         "geo": "geo",
         "hovertemplate": "<b>%{hovertext}</b><br><br>YEAR=2000<br>COUNTRY=%{location}<br>EVENT_FREQUENCIES=%{z}<extra></extra>",
         "hovertext": [
          "Algeria",
          "Angola",
          "Burundi",
          "Chad",
          "Kenya",
          "Liberia",
          "Namibia",
          "Rwanda",
          "Senegal",
          "Sierra Leone",
          "Somalia",
          "Sudan",
          "Zambia"
         ],
         "locationmode": "country names",
         "locations": [
          "Algeria",
          "Angola",
          "Burundi",
          "Chad",
          "Kenya",
          "Liberia",
          "Namibia",
          "Rwanda",
          "Senegal",
          "Sierra Leone",
          "Somalia",
          "Sudan",
          "Zambia"
         ],
         "name": "",
         "type": "choropleth",
         "z": [
          60,
          47,
          117,
          1,
          2,
          1,
          20,
          1,
          8,
          59,
          2,
          6,
          3
         ]
        }
       ],
       "frames": [
        {
         "data": [
          {
           "coloraxis": "coloraxis",
           "geo": "geo",
           "hovertemplate": "<b>%{hovertext}</b><br><br>YEAR=2000<br>COUNTRY=%{location}<br>EVENT_FREQUENCIES=%{z}<extra></extra>",
           "hovertext": [
            "Algeria",
            "Angola",
            "Burundi",
            "Chad",
            "Kenya",
            "Liberia",
            "Namibia",
            "Rwanda",
            "Senegal",
            "Sierra Leone",
            "Somalia",
            "Sudan",
            "Zambia"
           ],
           "locationmode": "country names",
           "locations": [
            "Algeria",
            "Angola",
            "Burundi",
            "Chad",
            "Kenya",
            "Liberia",
            "Namibia",
            "Rwanda",
            "Senegal",
            "Sierra Leone",
            "Somalia",
            "Sudan",
            "Zambia"
           ],
           "name": "",
           "type": "choropleth",
           "z": [
            60,
            47,
            117,
            1,
            2,
            1,
            20,
            1,
            8,
            59,
            2,
            6,
            3
           ]
          }
         ],
         "name": "2000"
        },
        {
         "data": [
          {
           "coloraxis": "coloraxis",
           "geo": "geo",
           "hovertemplate": "<b>%{hovertext}</b><br><br>YEAR=2001<br>COUNTRY=%{location}<br>EVENT_FREQUENCIES=%{z}<extra></extra>",
           "hovertext": [
            "Algeria",
            "Angola",
            "Burundi",
            "Liberia",
            "Namibia",
            "Senegal",
            "Sierra Leone",
            "Somalia",
            "Sudan",
            "Tanzania"
           ],
           "locationmode": "country names",
           "locations": [
            "Algeria",
            "Angola",
            "Burundi",
            "Liberia",
            "Namibia",
            "Senegal",
            "Sierra Leone",
            "Somalia",
            "Sudan",
            "Tanzania"
           ],
           "name": "",
           "type": "choropleth",
           "z": [
            43,
            74,
            173,
            16,
            9,
            10,
            12,
            1,
            10,
            1
           ]
          }
         ],
         "name": "2001"
        },
        {
         "data": [
          {
           "coloraxis": "coloraxis",
           "geo": "geo",
           "hovertemplate": "<b>%{hovertext}</b><br><br>YEAR=2002<br>COUNTRY=%{location}<br>EVENT_FREQUENCIES=%{z}<extra></extra>",
           "hovertext": [
            "Algeria",
            "Angola",
            "Burundi",
            "Liberia",
            "Senegal",
            "Somalia",
            "Sudan",
            "Tanzania",
            "Zambia"
           ],
           "locationmode": "country names",
           "locations": [
            "Algeria",
            "Angola",
            "Burundi",
            "Liberia",
            "Senegal",
            "Somalia",
            "Sudan",
            "Tanzania",
            "Zambia"
           ],
           "name": "",
           "type": "choropleth",
           "z": [
            37,
            2,
            116,
            10,
            5,
            1,
            40,
            5,
            1
           ]
          }
         ],
         "name": "2002"
        },
        {
         "data": [
          {
           "coloraxis": "coloraxis",
           "geo": "geo",
           "hovertemplate": "<b>%{hovertext}</b><br><br>YEAR=2003<br>COUNTRY=%{location}<br>EVENT_FREQUENCIES=%{z}<extra></extra>",
           "hovertext": [
            "Algeria",
            "Burundi",
            "Chad",
            "Liberia",
            "Somalia",
            "Sudan"
           ],
           "locationmode": "country names",
           "locations": [
            "Algeria",
            "Burundi",
            "Chad",
            "Liberia",
            "Somalia",
            "Sudan"
           ],
           "name": "",
           "type": "choropleth",
           "z": [
            31,
            37,
            1,
            38,
            4,
            11
           ]
          }
         ],
         "name": "2003"
        },
        {
         "data": [
          {
           "coloraxis": "coloraxis",
           "geo": "geo",
           "hovertemplate": "<b>%{hovertext}</b><br><br>YEAR=2004<br>COUNTRY=%{location}<br>EVENT_FREQUENCIES=%{z}<extra></extra>",
           "hovertext": [
            "Algeria",
            "Burundi",
            "Liberia",
            "Niger",
            "Sierra Leone",
            "Sudan"
           ],
           "locationmode": "country names",
           "locations": [
            "Algeria",
            "Burundi",
            "Liberia",
            "Niger",
            "Sierra Leone",
            "Sudan"
           ],
           "name": "",
           "type": "choropleth",
           "z": [
            20,
            18,
            7,
            3,
            1,
            58
           ]
          }
         ],
         "name": "2004"
        },
        {
         "data": [
          {
           "coloraxis": "coloraxis",
           "geo": "geo",
           "hovertemplate": "<b>%{hovertext}</b><br><br>YEAR=2005<br>COUNTRY=%{location}<br>EVENT_FREQUENCIES=%{z}<extra></extra>",
           "hovertext": [
            "Algeria",
            "Burundi",
            "Kenya",
            "Niger",
            "Nigeria",
            "Somalia",
            "Sudan"
           ],
           "locationmode": "country names",
           "locations": [
            "Algeria",
            "Burundi",
            "Kenya",
            "Niger",
            "Nigeria",
            "Somalia",
            "Sudan"
           ],
           "name": "",
           "type": "choropleth",
           "z": [
            5,
            33,
            3,
            1,
            1,
            2,
            45
           ]
          }
         ],
         "name": "2005"
        },
        {
         "data": [
          {
           "coloraxis": "coloraxis",
           "geo": "geo",
           "hovertemplate": "<b>%{hovertext}</b><br><br>YEAR=2006<br>COUNTRY=%{location}<br>EVENT_FREQUENCIES=%{z}<extra></extra>",
           "hovertext": [
            "Algeria",
            "Burundi",
            "Chad",
            "Kenya",
            "Liberia",
            "Niger",
            "Nigeria",
            "Senegal",
            "Somalia",
            "Sudan"
           ],
           "locationmode": "country names",
           "locations": [
            "Algeria",
            "Burundi",
            "Chad",
            "Kenya",
            "Liberia",
            "Niger",
            "Nigeria",
            "Senegal",
            "Somalia",
            "Sudan"
           ],
           "name": "",
           "type": "choropleth",
           "z": [
            22,
            36,
            1,
            1,
            1,
            2,
            6,
            2,
            6,
            18
           ]
          }
         ],
         "name": "2006"
        },
        {
         "data": [
          {
           "coloraxis": "coloraxis",
           "geo": "geo",
           "hovertemplate": "<b>%{hovertext}</b><br><br>YEAR=2007<br>COUNTRY=%{location}<br>EVENT_FREQUENCIES=%{z}<extra></extra>",
           "hovertext": [
            "Algeria",
            "Burundi",
            "Cameroon",
            "Chad",
            "Mauritania",
            "Niger",
            "Nigeria",
            "Rwanda",
            "Senegal",
            "Somalia",
            "Sudan",
            "Tanzania"
           ],
           "locationmode": "country names",
           "locations": [
            "Algeria",
            "Burundi",
            "Cameroon",
            "Chad",
            "Mauritania",
            "Niger",
            "Nigeria",
            "Rwanda",
            "Senegal",
            "Somalia",
            "Sudan",
            "Tanzania"
           ],
           "name": "",
           "type": "choropleth",
           "z": [
            4,
            2,
            2,
            4,
            1,
            6,
            19,
            2,
            4,
            7,
            14,
            1
           ]
          }
         ],
         "name": "2007"
        },
        {
         "data": [
          {
           "coloraxis": "coloraxis",
           "geo": "geo",
           "hovertemplate": "<b>%{hovertext}</b><br><br>YEAR=2008<br>COUNTRY=%{location}<br>EVENT_FREQUENCIES=%{z}<extra></extra>",
           "hovertext": [
            "Algeria",
            "Angola",
            "Burundi",
            "Chad",
            "Mali",
            "Mauritania",
            "Niger",
            "Nigeria",
            "Senegal",
            "Somalia",
            "Sudan"
           ],
           "locationmode": "country names",
           "locations": [
            "Algeria",
            "Angola",
            "Burundi",
            "Chad",
            "Mali",
            "Mauritania",
            "Niger",
            "Nigeria",
            "Senegal",
            "Somalia",
            "Sudan"
           ],
           "name": "",
           "type": "choropleth",
           "z": [
            6,
            1,
            16,
            1,
            2,
            1,
            6,
            6,
            5,
            30,
            24
           ]
          }
         ],
         "name": "2008"
        },
        {
         "data": [
          {
           "coloraxis": "coloraxis",
           "geo": "geo",
           "hovertemplate": "<b>%{hovertext}</b><br><br>YEAR=2009<br>COUNTRY=%{location}<br>EVENT_FREQUENCIES=%{z}<extra></extra>",
           "hovertext": [
            "Algeria",
            "Cameroon",
            "Chad",
            "Kenya",
            "Mali",
            "Mauritania",
            "Niger",
            "Nigeria",
            "Senegal",
            "Sierra Leone",
            "Somalia",
            "Sudan"
           ],
           "locationmode": "country names",
           "locations": [
            "Algeria",
            "Cameroon",
            "Chad",
            "Kenya",
            "Mali",
            "Mauritania",
            "Niger",
            "Nigeria",
            "Senegal",
            "Sierra Leone",
            "Somalia",
            "Sudan"
           ],
           "name": "",
           "type": "choropleth",
           "z": [
            4,
            1,
            2,
            1,
            2,
            3,
            1,
            11,
            5,
            1,
            10,
            81
           ]
          }
         ],
         "name": "2009"
        },
        {
         "data": [
          {
           "coloraxis": "coloraxis",
           "geo": "geo",
           "hovertemplate": "<b>%{hovertext}</b><br><br>YEAR=2010<br>COUNTRY=%{location}<br>EVENT_FREQUENCIES=%{z}<extra></extra>",
           "hovertext": [
            "Algeria",
            "Angola",
            "Cameroon",
            "Kenya",
            "Niger",
            "Nigeria",
            "Senegal",
            "Somalia",
            "Sudan"
           ],
           "locationmode": "country names",
           "locations": [
            "Algeria",
            "Angola",
            "Cameroon",
            "Kenya",
            "Niger",
            "Nigeria",
            "Senegal",
            "Somalia",
            "Sudan"
           ],
           "name": "",
           "type": "choropleth",
           "z": [
            6,
            2,
            1,
            2,
            3,
            19,
            1,
            18,
            60
           ]
          }
         ],
         "name": "2010"
        },
        {
         "data": [
          {
           "coloraxis": "coloraxis",
           "geo": "geo",
           "hovertemplate": "<b>%{hovertext}</b><br><br>YEAR=2011<br>COUNTRY=%{location}<br>EVENT_FREQUENCIES=%{z}<extra></extra>",
           "hovertext": [
            "Algeria",
            "Kenya",
            "Libya",
            "Mali",
            "Nigeria",
            "Senegal",
            "Somalia",
            "South Sudan",
            "Sudan"
           ],
           "locationmode": "country names",
           "locations": [
            "Algeria",
            "Kenya",
            "Libya",
            "Mali",
            "Nigeria",
            "Senegal",
            "Somalia",
            "South Sudan",
            "Sudan"
           ],
           "name": "",
           "type": "choropleth",
           "z": [
            4,
            3,
            3,
            4,
            31,
            5,
            32,
            6,
            28
           ]
          }
         ],
         "name": "2011"
        },
        {
         "data": [
          {
           "coloraxis": "coloraxis",
           "geo": "geo",
           "hovertemplate": "<b>%{hovertext}</b><br><br>YEAR=2013<br>COUNTRY=%{location}<br>EVENT_FREQUENCIES=%{z}<extra></extra>",
           "hovertext": [
            "Algeria",
            "Cameroon",
            "Kenya",
            "Mali",
            "Nigeria",
            "Senegal",
            "Somalia",
            "South Sudan",
            "Sudan"
           ],
           "locationmode": "country names",
           "locations": [
            "Algeria",
            "Cameroon",
            "Kenya",
            "Mali",
            "Nigeria",
            "Senegal",
            "Somalia",
            "South Sudan",
            "Sudan"
           ],
           "name": "",
           "type": "choropleth",
           "z": [
            1,
            2,
            13,
            19,
            110,
            2,
            130,
            16,
            8
           ]
          }
         ],
         "name": "2013"
        },
        {
         "data": [
          {
           "coloraxis": "coloraxis",
           "geo": "geo",
           "hovertemplate": "<b>%{hovertext}</b><br><br>YEAR=2014<br>COUNTRY=%{location}<br>EVENT_FREQUENCIES=%{z}<extra></extra>",
           "hovertext": [
            "Algeria",
            "Cameroon",
            "Chad",
            "Kenya",
            "Libya",
            "Mali",
            "Nigeria",
            "Senegal",
            "Somalia",
            "South Sudan",
            "Sudan"
           ],
           "locationmode": "country names",
           "locations": [
            "Algeria",
            "Cameroon",
            "Chad",
            "Kenya",
            "Libya",
            "Mali",
            "Nigeria",
            "Senegal",
            "Somalia",
            "South Sudan",
            "Sudan"
           ],
           "name": "",
           "type": "choropleth",
           "z": [
            3,
            16,
            1,
            17,
            3,
            9,
            188,
            1,
            150,
            54,
            11
           ]
          }
         ],
         "name": "2014"
        },
        {
         "data": [
          {
           "coloraxis": "coloraxis",
           "geo": "geo",
           "hovertemplate": "<b>%{hovertext}</b><br><br>YEAR=2016<br>COUNTRY=%{location}<br>EVENT_FREQUENCIES=%{z}<extra></extra>",
           "hovertext": [
            "Algeria",
            "Burkina Faso",
            "Cameroon",
            "Kenya",
            "Libya",
            "Mali",
            "Niger",
            "Nigeria",
            "Senegal",
            "Somalia",
            "South Sudan",
            "Sudan"
           ],
           "locationmode": "country names",
           "locations": [
            "Algeria",
            "Burkina Faso",
            "Cameroon",
            "Kenya",
            "Libya",
            "Mali",
            "Niger",
            "Nigeria",
            "Senegal",
            "Somalia",
            "South Sudan",
            "Sudan"
           ],
           "name": "",
           "type": "choropleth",
           "z": [
            1,
            4,
            73,
            9,
            39,
            6,
            5,
            36,
            1,
            148,
            30,
            14
           ]
          }
         ],
         "name": "2016"
        },
        {
         "data": [
          {
           "coloraxis": "coloraxis",
           "geo": "geo",
           "hovertemplate": "<b>%{hovertext}</b><br><br>YEAR=2017<br>COUNTRY=%{location}<br>EVENT_FREQUENCIES=%{z}<extra></extra>",
           "hovertext": [
            "Algeria",
            "Burkina Faso",
            "Burundi",
            "Cameroon",
            "Kenya",
            "Libya",
            "Mali",
            "Niger",
            "Nigeria",
            "Somalia",
            "South Sudan",
            "Sudan"
           ],
           "locationmode": "country names",
           "locations": [
            "Algeria",
            "Burkina Faso",
            "Burundi",
            "Cameroon",
            "Kenya",
            "Libya",
            "Mali",
            "Niger",
            "Nigeria",
            "Somalia",
            "South Sudan",
            "Sudan"
           ],
           "name": "",
           "type": "choropleth",
           "z": [
            1,
            8,
            1,
            80,
            28,
            6,
            17,
            5,
            74,
            236,
            30,
            4
           ]
          }
         ],
         "name": "2017"
        },
        {
         "data": [
          {
           "coloraxis": "coloraxis",
           "geo": "geo",
           "hovertemplate": "<b>%{hovertext}</b><br><br>YEAR=2018<br>COUNTRY=%{location}<br>EVENT_FREQUENCIES=%{z}<extra></extra>",
           "hovertext": [
            "Algeria",
            "Burkina Faso",
            "Cameroon",
            "Chad",
            "Kenya",
            "Libya",
            "Mali",
            "Niger",
            "Nigeria",
            "Rwanda",
            "Somalia",
            "South Sudan",
            "Sudan"
           ],
           "locationmode": "country names",
           "locations": [
            "Algeria",
            "Burkina Faso",
            "Cameroon",
            "Chad",
            "Kenya",
            "Libya",
            "Mali",
            "Niger",
            "Nigeria",
            "Rwanda",
            "Somalia",
            "South Sudan",
            "Sudan"
           ],
           "name": "",
           "type": "choropleth",
           "z": [
            2,
            68,
            178,
            1,
            6,
            8,
            75,
            31,
            66,
            4,
            202,
            59,
            3
           ]
          }
         ],
         "name": "2018"
        },
        {
         "data": [
          {
           "coloraxis": "coloraxis",
           "geo": "geo",
           "hovertemplate": "<b>%{hovertext}</b><br><br>YEAR=2020<br>COUNTRY=%{location}<br>EVENT_FREQUENCIES=%{z}<extra></extra>",
           "hovertext": [
            "Algeria",
            "Burkina Faso",
            "Burundi",
            "Cameroon",
            "Chad",
            "Kenya",
            "Libya",
            "Mali",
            "Niger",
            "Nigeria",
            "Somalia",
            "South Sudan",
            "Sudan"
           ],
           "locationmode": "country names",
           "locations": [
            "Algeria",
            "Burkina Faso",
            "Burundi",
            "Cameroon",
            "Chad",
            "Kenya",
            "Libya",
            "Mali",
            "Niger",
            "Nigeria",
            "Somalia",
            "South Sudan",
            "Sudan"
           ],
           "name": "",
           "type": "choropleth",
           "z": [
            3,
            189,
            3,
            425,
            13,
            18,
            1,
            123,
            212,
            112,
            215,
            22,
            2
           ]
          }
         ],
         "name": "2020"
        },
        {
         "data": [
          {
           "coloraxis": "coloraxis",
           "geo": "geo",
           "hovertemplate": "<b>%{hovertext}</b><br><br>YEAR=2012<br>COUNTRY=%{location}<br>EVENT_FREQUENCIES=%{z}<extra></extra>",
           "hovertext": [
            "Burkina Faso",
            "Kenya",
            "Mali",
            "Niger",
            "Nigeria",
            "Rwanda",
            "Senegal",
            "Somalia",
            "South Sudan",
            "Sudan"
           ],
           "locationmode": "country names",
           "locations": [
            "Burkina Faso",
            "Kenya",
            "Mali",
            "Niger",
            "Nigeria",
            "Rwanda",
            "Senegal",
            "Somalia",
            "South Sudan",
            "Sudan"
           ],
           "name": "",
           "type": "choropleth",
           "z": [
            1,
            7,
            51,
            1,
            130,
            5,
            1,
            79,
            5,
            11
           ]
          }
         ],
         "name": "2012"
        },
        {
         "data": [
          {
           "coloraxis": "coloraxis",
           "geo": "geo",
           "hovertemplate": "<b>%{hovertext}</b><br><br>YEAR=2015<br>COUNTRY=%{location}<br>EVENT_FREQUENCIES=%{z}<extra></extra>",
           "hovertext": [
            "Burkina Faso",
            "Cameroon",
            "Chad",
            "Kenya",
            "Libya",
            "Mali",
            "Niger",
            "Nigeria",
            "Senegal",
            "Somalia",
            "South Sudan",
            "Sudan"
           ],
           "locationmode": "country names",
           "locations": [
            "Burkina Faso",
            "Cameroon",
            "Chad",
            "Kenya",
            "Libya",
            "Mali",
            "Niger",
            "Nigeria",
            "Senegal",
            "Somalia",
            "South Sudan",
            "Sudan"
           ],
           "name": "",
           "type": "choropleth",
           "z": [
            1,
            30,
            5,
            13,
            61,
            5,
            15,
            134,
            1,
            142,
            26,
            8
           ]
          }
         ],
         "name": "2015"
        },
        {
         "data": [
          {
           "coloraxis": "coloraxis",
           "geo": "geo",
           "hovertemplate": "<b>%{hovertext}</b><br><br>YEAR=2019<br>COUNTRY=%{location}<br>EVENT_FREQUENCIES=%{z}<extra></extra>",
           "hovertext": [
            "Burkina Faso",
            "Burundi",
            "Cameroon",
            "Chad",
            "Kenya",
            "Libya",
            "Mali",
            "Mauritania",
            "Niger",
            "Nigeria",
            "Rwanda",
            "Somalia",
            "South Sudan",
            "Sudan"
           ],
           "locationmode": "country names",
           "locations": [
            "Burkina Faso",
            "Burundi",
            "Cameroon",
            "Chad",
            "Kenya",
            "Libya",
            "Mali",
            "Mauritania",
            "Niger",
            "Nigeria",
            "Rwanda",
            "Somalia",
            "South Sudan",
            "Sudan"
           ],
           "name": "",
           "type": "choropleth",
           "z": [
            229,
            2,
            249,
            12,
            10,
            4,
            70,
            1,
            143,
            63,
            1,
            237,
            37,
            7
           ]
          }
         ],
         "name": "2019"
        }
       ],
       "layout": {
        "coloraxis": {
         "cmax": 400,
         "cmin": 0,
         "colorbar": {
          "title": {
           "text": "EVENT_FREQUENCIES"
          }
         },
         "colorscale": [
          [
           0,
           "green"
          ],
          [
           0.125,
           "yellow"
          ],
          [
           0.25,
           "olive"
          ],
          [
           0.375,
           "gold"
          ],
          [
           0.5,
           "orange"
          ],
          [
           0.625,
           "coral"
          ],
          [
           0.75,
           "tomato"
          ],
          [
           0.875,
           "maroon"
          ],
          [
           1,
           "red"
          ]
         ]
        },
        "geo": {
         "center": {},
         "domain": {
          "x": [
           0,
           1
          ],
          "y": [
           0,
           1
          ]
         },
         "showcoastlines": false,
         "showframe": false
        },
        "legend": {
         "tracegroupgap": 0
        },
        "margin": {
         "t": 60
        },
        "sliders": [
         {
          "active": 0,
          "currentvalue": {
           "prefix": "YEAR="
          },
          "len": 0.9,
          "pad": {
           "b": 10,
           "t": 60
          },
          "steps": [
           {
            "args": [
             [
              "2000"
             ],
             {
              "frame": {
               "duration": 0,
               "redraw": true
              },
              "fromcurrent": true,
              "mode": "immediate",
              "transition": {
               "duration": 0,
               "easing": "linear"
              }
             }
            ],
            "label": "2000",
            "method": "animate"
           },
           {
            "args": [
             [
              "2001"
             ],
             {
              "frame": {
               "duration": 0,
               "redraw": true
              },
              "fromcurrent": true,
              "mode": "immediate",
              "transition": {
               "duration": 0,
               "easing": "linear"
              }
             }
            ],
            "label": "2001",
            "method": "animate"
           },
           {
            "args": [
             [
              "2002"
             ],
             {
              "frame": {
               "duration": 0,
               "redraw": true
              },
              "fromcurrent": true,
              "mode": "immediate",
              "transition": {
               "duration": 0,
               "easing": "linear"
              }
             }
            ],
            "label": "2002",
            "method": "animate"
           },
           {
            "args": [
             [
              "2003"
             ],
             {
              "frame": {
               "duration": 0,
               "redraw": true
              },
              "fromcurrent": true,
              "mode": "immediate",
              "transition": {
               "duration": 0,
               "easing": "linear"
              }
             }
            ],
            "label": "2003",
            "method": "animate"
           },
           {
            "args": [
             [
              "2004"
             ],
             {
              "frame": {
               "duration": 0,
               "redraw": true
              },
              "fromcurrent": true,
              "mode": "immediate",
              "transition": {
               "duration": 0,
               "easing": "linear"
              }
             }
            ],
            "label": "2004",
            "method": "animate"
           },
           {
            "args": [
             [
              "2005"
             ],
             {
              "frame": {
               "duration": 0,
               "redraw": true
              },
              "fromcurrent": true,
              "mode": "immediate",
              "transition": {
               "duration": 0,
               "easing": "linear"
              }
             }
            ],
            "label": "2005",
            "method": "animate"
           },
           {
            "args": [
             [
              "2006"
             ],
             {
              "frame": {
               "duration": 0,
               "redraw": true
              },
              "fromcurrent": true,
              "mode": "immediate",
              "transition": {
               "duration": 0,
               "easing": "linear"
              }
             }
            ],
            "label": "2006",
            "method": "animate"
           },
           {
            "args": [
             [
              "2007"
             ],
             {
              "frame": {
               "duration": 0,
               "redraw": true
              },
              "fromcurrent": true,
              "mode": "immediate",
              "transition": {
               "duration": 0,
               "easing": "linear"
              }
             }
            ],
            "label": "2007",
            "method": "animate"
           },
           {
            "args": [
             [
              "2008"
             ],
             {
              "frame": {
               "duration": 0,
               "redraw": true
              },
              "fromcurrent": true,
              "mode": "immediate",
              "transition": {
               "duration": 0,
               "easing": "linear"
              }
             }
            ],
            "label": "2008",
            "method": "animate"
           },
           {
            "args": [
             [
              "2009"
             ],
             {
              "frame": {
               "duration": 0,
               "redraw": true
              },
              "fromcurrent": true,
              "mode": "immediate",
              "transition": {
               "duration": 0,
               "easing": "linear"
              }
             }
            ],
            "label": "2009",
            "method": "animate"
           },
           {
            "args": [
             [
              "2010"
             ],
             {
              "frame": {
               "duration": 0,
               "redraw": true
              },
              "fromcurrent": true,
              "mode": "immediate",
              "transition": {
               "duration": 0,
               "easing": "linear"
              }
             }
            ],
            "label": "2010",
            "method": "animate"
           },
           {
            "args": [
             [
              "2011"
             ],
             {
              "frame": {
               "duration": 0,
               "redraw": true
              },
              "fromcurrent": true,
              "mode": "immediate",
              "transition": {
               "duration": 0,
               "easing": "linear"
              }
             }
            ],
            "label": "2011",
            "method": "animate"
           },
           {
            "args": [
             [
              "2013"
             ],
             {
              "frame": {
               "duration": 0,
               "redraw": true
              },
              "fromcurrent": true,
              "mode": "immediate",
              "transition": {
               "duration": 0,
               "easing": "linear"
              }
             }
            ],
            "label": "2013",
            "method": "animate"
           },
           {
            "args": [
             [
              "2014"
             ],
             {
              "frame": {
               "duration": 0,
               "redraw": true
              },
              "fromcurrent": true,
              "mode": "immediate",
              "transition": {
               "duration": 0,
               "easing": "linear"
              }
             }
            ],
            "label": "2014",
            "method": "animate"
           },
           {
            "args": [
             [
              "2016"
             ],
             {
              "frame": {
               "duration": 0,
               "redraw": true
              },
              "fromcurrent": true,
              "mode": "immediate",
              "transition": {
               "duration": 0,
               "easing": "linear"
              }
             }
            ],
            "label": "2016",
            "method": "animate"
           },
           {
            "args": [
             [
              "2017"
             ],
             {
              "frame": {
               "duration": 0,
               "redraw": true
              },
              "fromcurrent": true,
              "mode": "immediate",
              "transition": {
               "duration": 0,
               "easing": "linear"
              }
             }
            ],
            "label": "2017",
            "method": "animate"
           },
           {
            "args": [
             [
              "2018"
             ],
             {
              "frame": {
               "duration": 0,
               "redraw": true
              },
              "fromcurrent": true,
              "mode": "immediate",
              "transition": {
               "duration": 0,
               "easing": "linear"
              }
             }
            ],
            "label": "2018",
            "method": "animate"
           },
           {
            "args": [
             [
              "2020"
             ],
             {
              "frame": {
               "duration": 0,
               "redraw": true
              },
              "fromcurrent": true,
              "mode": "immediate",
              "transition": {
               "duration": 0,
               "easing": "linear"
              }
             }
            ],
            "label": "2020",
            "method": "animate"
           },
           {
            "args": [
             [
              "2012"
             ],
             {
              "frame": {
               "duration": 0,
               "redraw": true
              },
              "fromcurrent": true,
              "mode": "immediate",
              "transition": {
               "duration": 0,
               "easing": "linear"
              }
             }
            ],
            "label": "2012",
            "method": "animate"
           },
           {
            "args": [
             [
              "2015"
             ],
             {
              "frame": {
               "duration": 0,
               "redraw": true
              },
              "fromcurrent": true,
              "mode": "immediate",
              "transition": {
               "duration": 0,
               "easing": "linear"
              }
             }
            ],
            "label": "2015",
            "method": "animate"
           },
           {
            "args": [
             [
              "2019"
             ],
             {
              "frame": {
               "duration": 0,
               "redraw": true
              },
              "fromcurrent": true,
              "mode": "immediate",
              "transition": {
               "duration": 0,
               "easing": "linear"
              }
             }
            ],
            "label": "2019",
            "method": "animate"
           }
          ],
          "x": 0.1,
          "xanchor": "left",
          "y": 0,
          "yanchor": "top"
         }
        ],
        "template": {
         "data": {
          "bar": [
           {
            "error_x": {
             "color": "#2a3f5f"
            },
            "error_y": {
             "color": "#2a3f5f"
            },
            "marker": {
             "line": {
              "color": "#E5ECF6",
              "width": 0.5
             },
             "pattern": {
              "fillmode": "overlay",
              "size": 10,
              "solidity": 0.2
             }
            },
            "type": "bar"
           }
          ],
          "barpolar": [
           {
            "marker": {
             "line": {
              "color": "#E5ECF6",
              "width": 0.5
             },
             "pattern": {
              "fillmode": "overlay",
              "size": 10,
              "solidity": 0.2
             }
            },
            "type": "barpolar"
           }
          ],
          "carpet": [
           {
            "aaxis": {
             "endlinecolor": "#2a3f5f",
             "gridcolor": "white",
             "linecolor": "white",
             "minorgridcolor": "white",
             "startlinecolor": "#2a3f5f"
            },
            "baxis": {
             "endlinecolor": "#2a3f5f",
             "gridcolor": "white",
             "linecolor": "white",
             "minorgridcolor": "white",
             "startlinecolor": "#2a3f5f"
            },
            "type": "carpet"
           }
          ],
          "choropleth": [
           {
            "colorbar": {
             "outlinewidth": 0,
             "ticks": ""
            },
            "type": "choropleth"
           }
          ],
          "contour": [
           {
            "colorbar": {
             "outlinewidth": 0,
             "ticks": ""
            },
            "colorscale": [
             [
              0,
              "#0d0887"
             ],
             [
              0.1111111111111111,
              "#46039f"
             ],
             [
              0.2222222222222222,
              "#7201a8"
             ],
             [
              0.3333333333333333,
              "#9c179e"
             ],
             [
              0.4444444444444444,
              "#bd3786"
             ],
             [
              0.5555555555555556,
              "#d8576b"
             ],
             [
              0.6666666666666666,
              "#ed7953"
             ],
             [
              0.7777777777777778,
              "#fb9f3a"
             ],
             [
              0.8888888888888888,
              "#fdca26"
             ],
             [
              1,
              "#f0f921"
             ]
            ],
            "type": "contour"
           }
          ],
          "contourcarpet": [
           {
            "colorbar": {
             "outlinewidth": 0,
             "ticks": ""
            },
            "type": "contourcarpet"
           }
          ],
          "heatmap": [
           {
            "colorbar": {
             "outlinewidth": 0,
             "ticks": ""
            },
            "colorscale": [
             [
              0,
              "#0d0887"
             ],
             [
              0.1111111111111111,
              "#46039f"
             ],
             [
              0.2222222222222222,
              "#7201a8"
             ],
             [
              0.3333333333333333,
              "#9c179e"
             ],
             [
              0.4444444444444444,
              "#bd3786"
             ],
             [
              0.5555555555555556,
              "#d8576b"
             ],
             [
              0.6666666666666666,
              "#ed7953"
             ],
             [
              0.7777777777777778,
              "#fb9f3a"
             ],
             [
              0.8888888888888888,
              "#fdca26"
             ],
             [
              1,
              "#f0f921"
             ]
            ],
            "type": "heatmap"
           }
          ],
          "heatmapgl": [
           {
            "colorbar": {
             "outlinewidth": 0,
             "ticks": ""
            },
            "colorscale": [
             [
              0,
              "#0d0887"
             ],
             [
              0.1111111111111111,
              "#46039f"
             ],
             [
              0.2222222222222222,
              "#7201a8"
             ],
             [
              0.3333333333333333,
              "#9c179e"
             ],
             [
              0.4444444444444444,
              "#bd3786"
             ],
             [
              0.5555555555555556,
              "#d8576b"
             ],
             [
              0.6666666666666666,
              "#ed7953"
             ],
             [
              0.7777777777777778,
              "#fb9f3a"
             ],
             [
              0.8888888888888888,
              "#fdca26"
             ],
             [
              1,
              "#f0f921"
             ]
            ],
            "type": "heatmapgl"
           }
          ],
          "histogram": [
           {
            "marker": {
             "pattern": {
              "fillmode": "overlay",
              "size": 10,
              "solidity": 0.2
             }
            },
            "type": "histogram"
           }
          ],
          "histogram2d": [
           {
            "colorbar": {
             "outlinewidth": 0,
             "ticks": ""
            },
            "colorscale": [
             [
              0,
              "#0d0887"
             ],
             [
              0.1111111111111111,
              "#46039f"
             ],
             [
              0.2222222222222222,
              "#7201a8"
             ],
             [
              0.3333333333333333,
              "#9c179e"
             ],
             [
              0.4444444444444444,
              "#bd3786"
             ],
             [
              0.5555555555555556,
              "#d8576b"
             ],
             [
              0.6666666666666666,
              "#ed7953"
             ],
             [
              0.7777777777777778,
              "#fb9f3a"
             ],
             [
              0.8888888888888888,
              "#fdca26"
             ],
             [
              1,
              "#f0f921"
             ]
            ],
            "type": "histogram2d"
           }
          ],
          "histogram2dcontour": [
           {
            "colorbar": {
             "outlinewidth": 0,
             "ticks": ""
            },
            "colorscale": [
             [
              0,
              "#0d0887"
             ],
             [
              0.1111111111111111,
              "#46039f"
             ],
             [
              0.2222222222222222,
              "#7201a8"
             ],
             [
              0.3333333333333333,
              "#9c179e"
             ],
             [
              0.4444444444444444,
              "#bd3786"
             ],
             [
              0.5555555555555556,
              "#d8576b"
             ],
             [
              0.6666666666666666,
              "#ed7953"
             ],
             [
              0.7777777777777778,
              "#fb9f3a"
             ],
             [
              0.8888888888888888,
              "#fdca26"
             ],
             [
              1,
              "#f0f921"
             ]
            ],
            "type": "histogram2dcontour"
           }
          ],
          "mesh3d": [
           {
            "colorbar": {
             "outlinewidth": 0,
             "ticks": ""
            },
            "type": "mesh3d"
           }
          ],
          "parcoords": [
           {
            "line": {
             "colorbar": {
              "outlinewidth": 0,
              "ticks": ""
             }
            },
            "type": "parcoords"
           }
          ],
          "pie": [
           {
            "automargin": true,
            "type": "pie"
           }
          ],
          "scatter": [
           {
            "fillpattern": {
             "fillmode": "overlay",
             "size": 10,
             "solidity": 0.2
            },
            "type": "scatter"
           }
          ],
          "scatter3d": [
           {
            "line": {
             "colorbar": {
              "outlinewidth": 0,
              "ticks": ""
             }
            },
            "marker": {
             "colorbar": {
              "outlinewidth": 0,
              "ticks": ""
             }
            },
            "type": "scatter3d"
           }
          ],
          "scattercarpet": [
           {
            "marker": {
             "colorbar": {
              "outlinewidth": 0,
              "ticks": ""
             }
            },
            "type": "scattercarpet"
           }
          ],
          "scattergeo": [
           {
            "marker": {
             "colorbar": {
              "outlinewidth": 0,
              "ticks": ""
             }
            },
            "type": "scattergeo"
           }
          ],
          "scattergl": [
           {
            "marker": {
             "colorbar": {
              "outlinewidth": 0,
              "ticks": ""
             }
            },
            "type": "scattergl"
           }
          ],
          "scattermapbox": [
           {
            "marker": {
             "colorbar": {
              "outlinewidth": 0,
              "ticks": ""
             }
            },
            "type": "scattermapbox"
           }
          ],
          "scatterpolar": [
           {
            "marker": {
             "colorbar": {
              "outlinewidth": 0,
              "ticks": ""
             }
            },
            "type": "scatterpolar"
           }
          ],
          "scatterpolargl": [
           {
            "marker": {
             "colorbar": {
              "outlinewidth": 0,
              "ticks": ""
             }
            },
            "type": "scatterpolargl"
           }
          ],
          "scatterternary": [
           {
            "marker": {
             "colorbar": {
              "outlinewidth": 0,
              "ticks": ""
             }
            },
            "type": "scatterternary"
           }
          ],
          "surface": [
           {
            "colorbar": {
             "outlinewidth": 0,
             "ticks": ""
            },
            "colorscale": [
             [
              0,
              "#0d0887"
             ],
             [
              0.1111111111111111,
              "#46039f"
             ],
             [
              0.2222222222222222,
              "#7201a8"
             ],
             [
              0.3333333333333333,
              "#9c179e"
             ],
             [
              0.4444444444444444,
              "#bd3786"
             ],
             [
              0.5555555555555556,
              "#d8576b"
             ],
             [
              0.6666666666666666,
              "#ed7953"
             ],
             [
              0.7777777777777778,
              "#fb9f3a"
             ],
             [
              0.8888888888888888,
              "#fdca26"
             ],
             [
              1,
              "#f0f921"
             ]
            ],
            "type": "surface"
           }
          ],
          "table": [
           {
            "cells": {
             "fill": {
              "color": "#EBF0F8"
             },
             "line": {
              "color": "white"
             }
            },
            "header": {
             "fill": {
              "color": "#C8D4E3"
             },
             "line": {
              "color": "white"
             }
            },
            "type": "table"
           }
          ]
         },
         "layout": {
          "annotationdefaults": {
           "arrowcolor": "#2a3f5f",
           "arrowhead": 0,
           "arrowwidth": 1
          },
          "autotypenumbers": "strict",
          "coloraxis": {
           "colorbar": {
            "outlinewidth": 0,
            "ticks": ""
           }
          },
          "colorscale": {
           "diverging": [
            [
             0,
             "#8e0152"
            ],
            [
             0.1,
             "#c51b7d"
            ],
            [
             0.2,
             "#de77ae"
            ],
            [
             0.3,
             "#f1b6da"
            ],
            [
             0.4,
             "#fde0ef"
            ],
            [
             0.5,
             "#f7f7f7"
            ],
            [
             0.6,
             "#e6f5d0"
            ],
            [
             0.7,
             "#b8e186"
            ],
            [
             0.8,
             "#7fbc41"
            ],
            [
             0.9,
             "#4d9221"
            ],
            [
             1,
             "#276419"
            ]
           ],
           "sequential": [
            [
             0,
             "#0d0887"
            ],
            [
             0.1111111111111111,
             "#46039f"
            ],
            [
             0.2222222222222222,
             "#7201a8"
            ],
            [
             0.3333333333333333,
             "#9c179e"
            ],
            [
             0.4444444444444444,
             "#bd3786"
            ],
            [
             0.5555555555555556,
             "#d8576b"
            ],
            [
             0.6666666666666666,
             "#ed7953"
            ],
            [
             0.7777777777777778,
             "#fb9f3a"
            ],
            [
             0.8888888888888888,
             "#fdca26"
            ],
            [
             1,
             "#f0f921"
            ]
           ],
           "sequentialminus": [
            [
             0,
             "#0d0887"
            ],
            [
             0.1111111111111111,
             "#46039f"
            ],
            [
             0.2222222222222222,
             "#7201a8"
            ],
            [
             0.3333333333333333,
             "#9c179e"
            ],
            [
             0.4444444444444444,
             "#bd3786"
            ],
            [
             0.5555555555555556,
             "#d8576b"
            ],
            [
             0.6666666666666666,
             "#ed7953"
            ],
            [
             0.7777777777777778,
             "#fb9f3a"
            ],
            [
             0.8888888888888888,
             "#fdca26"
            ],
            [
             1,
             "#f0f921"
            ]
           ]
          },
          "colorway": [
           "#636efa",
           "#EF553B",
           "#00cc96",
           "#ab63fa",
           "#FFA15A",
           "#19d3f3",
           "#FF6692",
           "#B6E880",
           "#FF97FF",
           "#FECB52"
          ],
          "font": {
           "color": "#2a3f5f"
          },
          "geo": {
           "bgcolor": "white",
           "lakecolor": "white",
           "landcolor": "#E5ECF6",
           "showlakes": true,
           "showland": true,
           "subunitcolor": "white"
          },
          "hoverlabel": {
           "align": "left"
          },
          "hovermode": "closest",
          "mapbox": {
           "style": "light"
          },
          "paper_bgcolor": "white",
          "plot_bgcolor": "#E5ECF6",
          "polar": {
           "angularaxis": {
            "gridcolor": "white",
            "linecolor": "white",
            "ticks": ""
           },
           "bgcolor": "#E5ECF6",
           "radialaxis": {
            "gridcolor": "white",
            "linecolor": "white",
            "ticks": ""
           }
          },
          "scene": {
           "xaxis": {
            "backgroundcolor": "#E5ECF6",
            "gridcolor": "white",
            "gridwidth": 2,
            "linecolor": "white",
            "showbackground": true,
            "ticks": "",
            "zerolinecolor": "white"
           },
           "yaxis": {
            "backgroundcolor": "#E5ECF6",
            "gridcolor": "white",
            "gridwidth": 2,
            "linecolor": "white",
            "showbackground": true,
            "ticks": "",
            "zerolinecolor": "white"
           },
           "zaxis": {
            "backgroundcolor": "#E5ECF6",
            "gridcolor": "white",
            "gridwidth": 2,
            "linecolor": "white",
            "showbackground": true,
            "ticks": "",
            "zerolinecolor": "white"
           }
          },
          "shapedefaults": {
           "line": {
            "color": "#2a3f5f"
           }
          },
          "ternary": {
           "aaxis": {
            "gridcolor": "white",
            "linecolor": "white",
            "ticks": ""
           },
           "baxis": {
            "gridcolor": "white",
            "linecolor": "white",
            "ticks": ""
           },
           "bgcolor": "#E5ECF6",
           "caxis": {
            "gridcolor": "white",
            "linecolor": "white",
            "ticks": ""
           }
          },
          "title": {
           "x": 0.05
          },
          "xaxis": {
           "automargin": true,
           "gridcolor": "white",
           "linecolor": "white",
           "ticks": "",
           "title": {
            "standoff": 15
           },
           "zerolinecolor": "white",
           "zerolinewidth": 2
          },
          "yaxis": {
           "automargin": true,
           "gridcolor": "white",
           "linecolor": "white",
           "ticks": "",
           "title": {
            "standoff": 15
           },
           "zerolinecolor": "white",
           "zerolinewidth": 2
          }
         }
        },
        "title": {
         "text": "",
         "x": 0.5
        },
        "updatemenus": [
         {
          "buttons": [
           {
            "args": [
             null,
             {
              "frame": {
               "duration": 500,
               "redraw": true
              },
              "fromcurrent": true,
              "mode": "immediate",
              "transition": {
               "duration": 500,
               "easing": "linear"
              }
             }
            ],
            "label": "&#9654;",
            "method": "animate"
           },
           {
            "args": [
             [
              null
             ],
             {
              "frame": {
               "duration": 0,
               "redraw": true
              },
              "fromcurrent": true,
              "mode": "immediate",
              "transition": {
               "duration": 0,
               "easing": "linear"
              }
             }
            ],
            "label": "&#9724;",
            "method": "animate"
           }
          ],
          "direction": "left",
          "pad": {
           "r": 10,
           "t": 70
          },
          "showactive": false,
          "type": "buttons",
          "x": 0.1,
          "xanchor": "right",
          "y": 0,
          "yanchor": "top"
         }
        ]
       }
      },
      "text/html": [
       "<div>                            <div id=\"ae416af9-5271-409f-b860-06e7fb56a2f3\" class=\"plotly-graph-div\" style=\"height:525px; width:100%;\"></div>            <script type=\"text/javascript\">                require([\"plotly\"], function(Plotly) {                    window.PLOTLYENV=window.PLOTLYENV || {};                                    if (document.getElementById(\"ae416af9-5271-409f-b860-06e7fb56a2f3\")) {                    Plotly.newPlot(                        \"ae416af9-5271-409f-b860-06e7fb56a2f3\",                        [{\"coloraxis\":\"coloraxis\",\"geo\":\"geo\",\"hovertemplate\":\"<b>%{hovertext}</b><br><br>YEAR=2000<br>COUNTRY=%{location}<br>EVENT_FREQUENCIES=%{z}<extra></extra>\",\"hovertext\":[\"Algeria\",\"Angola\",\"Burundi\",\"Chad\",\"Kenya\",\"Liberia\",\"Namibia\",\"Rwanda\",\"Senegal\",\"Sierra Leone\",\"Somalia\",\"Sudan\",\"Zambia\"],\"locationmode\":\"country names\",\"locations\":[\"Algeria\",\"Angola\",\"Burundi\",\"Chad\",\"Kenya\",\"Liberia\",\"Namibia\",\"Rwanda\",\"Senegal\",\"Sierra Leone\",\"Somalia\",\"Sudan\",\"Zambia\"],\"name\":\"\",\"z\":[60,47,117,1,2,1,20,1,8,59,2,6,3],\"type\":\"choropleth\"}],                        {\"template\":{\"data\":{\"histogram2dcontour\":[{\"type\":\"histogram2dcontour\",\"colorbar\":{\"outlinewidth\":0,\"ticks\":\"\"},\"colorscale\":[[0.0,\"#0d0887\"],[0.1111111111111111,\"#46039f\"],[0.2222222222222222,\"#7201a8\"],[0.3333333333333333,\"#9c179e\"],[0.4444444444444444,\"#bd3786\"],[0.5555555555555556,\"#d8576b\"],[0.6666666666666666,\"#ed7953\"],[0.7777777777777778,\"#fb9f3a\"],[0.8888888888888888,\"#fdca26\"],[1.0,\"#f0f921\"]]}],\"choropleth\":[{\"type\":\"choropleth\",\"colorbar\":{\"outlinewidth\":0,\"ticks\":\"\"}}],\"histogram2d\":[{\"type\":\"histogram2d\",\"colorbar\":{\"outlinewidth\":0,\"ticks\":\"\"},\"colorscale\":[[0.0,\"#0d0887\"],[0.1111111111111111,\"#46039f\"],[0.2222222222222222,\"#7201a8\"],[0.3333333333333333,\"#9c179e\"],[0.4444444444444444,\"#bd3786\"],[0.5555555555555556,\"#d8576b\"],[0.6666666666666666,\"#ed7953\"],[0.7777777777777778,\"#fb9f3a\"],[0.8888888888888888,\"#fdca26\"],[1.0,\"#f0f921\"]]}],\"heatmap\":[{\"type\":\"heatmap\",\"colorbar\":{\"outlinewidth\":0,\"ticks\":\"\"},\"colorscale\":[[0.0,\"#0d0887\"],[0.1111111111111111,\"#46039f\"],[0.2222222222222222,\"#7201a8\"],[0.3333333333333333,\"#9c179e\"],[0.4444444444444444,\"#bd3786\"],[0.5555555555555556,\"#d8576b\"],[0.6666666666666666,\"#ed7953\"],[0.7777777777777778,\"#fb9f3a\"],[0.8888888888888888,\"#fdca26\"],[1.0,\"#f0f921\"]]}],\"heatmapgl\":[{\"type\":\"heatmapgl\",\"colorbar\":{\"outlinewidth\":0,\"ticks\":\"\"},\"colorscale\":[[0.0,\"#0d0887\"],[0.1111111111111111,\"#46039f\"],[0.2222222222222222,\"#7201a8\"],[0.3333333333333333,\"#9c179e\"],[0.4444444444444444,\"#bd3786\"],[0.5555555555555556,\"#d8576b\"],[0.6666666666666666,\"#ed7953\"],[0.7777777777777778,\"#fb9f3a\"],[0.8888888888888888,\"#fdca26\"],[1.0,\"#f0f921\"]]}],\"contourcarpet\":[{\"type\":\"contourcarpet\",\"colorbar\":{\"outlinewidth\":0,\"ticks\":\"\"}}],\"contour\":[{\"type\":\"contour\",\"colorbar\":{\"outlinewidth\":0,\"ticks\":\"\"},\"colorscale\":[[0.0,\"#0d0887\"],[0.1111111111111111,\"#46039f\"],[0.2222222222222222,\"#7201a8\"],[0.3333333333333333,\"#9c179e\"],[0.4444444444444444,\"#bd3786\"],[0.5555555555555556,\"#d8576b\"],[0.6666666666666666,\"#ed7953\"],[0.7777777777777778,\"#fb9f3a\"],[0.8888888888888888,\"#fdca26\"],[1.0,\"#f0f921\"]]}],\"surface\":[{\"type\":\"surface\",\"colorbar\":{\"outlinewidth\":0,\"ticks\":\"\"},\"colorscale\":[[0.0,\"#0d0887\"],[0.1111111111111111,\"#46039f\"],[0.2222222222222222,\"#7201a8\"],[0.3333333333333333,\"#9c179e\"],[0.4444444444444444,\"#bd3786\"],[0.5555555555555556,\"#d8576b\"],[0.6666666666666666,\"#ed7953\"],[0.7777777777777778,\"#fb9f3a\"],[0.8888888888888888,\"#fdca26\"],[1.0,\"#f0f921\"]]}],\"mesh3d\":[{\"type\":\"mesh3d\",\"colorbar\":{\"outlinewidth\":0,\"ticks\":\"\"}}],\"scatter\":[{\"fillpattern\":{\"fillmode\":\"overlay\",\"size\":10,\"solidity\":0.2},\"type\":\"scatter\"}],\"parcoords\":[{\"type\":\"parcoords\",\"line\":{\"colorbar\":{\"outlinewidth\":0,\"ticks\":\"\"}}}],\"scatterpolargl\":[{\"type\":\"scatterpolargl\",\"marker\":{\"colorbar\":{\"outlinewidth\":0,\"ticks\":\"\"}}}],\"bar\":[{\"error_x\":{\"color\":\"#2a3f5f\"},\"error_y\":{\"color\":\"#2a3f5f\"},\"marker\":{\"line\":{\"color\":\"#E5ECF6\",\"width\":0.5},\"pattern\":{\"fillmode\":\"overlay\",\"size\":10,\"solidity\":0.2}},\"type\":\"bar\"}],\"scattergeo\":[{\"type\":\"scattergeo\",\"marker\":{\"colorbar\":{\"outlinewidth\":0,\"ticks\":\"\"}}}],\"scatterpolar\":[{\"type\":\"scatterpolar\",\"marker\":{\"colorbar\":{\"outlinewidth\":0,\"ticks\":\"\"}}}],\"histogram\":[{\"marker\":{\"pattern\":{\"fillmode\":\"overlay\",\"size\":10,\"solidity\":0.2}},\"type\":\"histogram\"}],\"scattergl\":[{\"type\":\"scattergl\",\"marker\":{\"colorbar\":{\"outlinewidth\":0,\"ticks\":\"\"}}}],\"scatter3d\":[{\"type\":\"scatter3d\",\"line\":{\"colorbar\":{\"outlinewidth\":0,\"ticks\":\"\"}},\"marker\":{\"colorbar\":{\"outlinewidth\":0,\"ticks\":\"\"}}}],\"scattermapbox\":[{\"type\":\"scattermapbox\",\"marker\":{\"colorbar\":{\"outlinewidth\":0,\"ticks\":\"\"}}}],\"scatterternary\":[{\"type\":\"scatterternary\",\"marker\":{\"colorbar\":{\"outlinewidth\":0,\"ticks\":\"\"}}}],\"scattercarpet\":[{\"type\":\"scattercarpet\",\"marker\":{\"colorbar\":{\"outlinewidth\":0,\"ticks\":\"\"}}}],\"carpet\":[{\"aaxis\":{\"endlinecolor\":\"#2a3f5f\",\"gridcolor\":\"white\",\"linecolor\":\"white\",\"minorgridcolor\":\"white\",\"startlinecolor\":\"#2a3f5f\"},\"baxis\":{\"endlinecolor\":\"#2a3f5f\",\"gridcolor\":\"white\",\"linecolor\":\"white\",\"minorgridcolor\":\"white\",\"startlinecolor\":\"#2a3f5f\"},\"type\":\"carpet\"}],\"table\":[{\"cells\":{\"fill\":{\"color\":\"#EBF0F8\"},\"line\":{\"color\":\"white\"}},\"header\":{\"fill\":{\"color\":\"#C8D4E3\"},\"line\":{\"color\":\"white\"}},\"type\":\"table\"}],\"barpolar\":[{\"marker\":{\"line\":{\"color\":\"#E5ECF6\",\"width\":0.5},\"pattern\":{\"fillmode\":\"overlay\",\"size\":10,\"solidity\":0.2}},\"type\":\"barpolar\"}],\"pie\":[{\"automargin\":true,\"type\":\"pie\"}]},\"layout\":{\"autotypenumbers\":\"strict\",\"colorway\":[\"#636efa\",\"#EF553B\",\"#00cc96\",\"#ab63fa\",\"#FFA15A\",\"#19d3f3\",\"#FF6692\",\"#B6E880\",\"#FF97FF\",\"#FECB52\"],\"font\":{\"color\":\"#2a3f5f\"},\"hovermode\":\"closest\",\"hoverlabel\":{\"align\":\"left\"},\"paper_bgcolor\":\"white\",\"plot_bgcolor\":\"#E5ECF6\",\"polar\":{\"bgcolor\":\"#E5ECF6\",\"angularaxis\":{\"gridcolor\":\"white\",\"linecolor\":\"white\",\"ticks\":\"\"},\"radialaxis\":{\"gridcolor\":\"white\",\"linecolor\":\"white\",\"ticks\":\"\"}},\"ternary\":{\"bgcolor\":\"#E5ECF6\",\"aaxis\":{\"gridcolor\":\"white\",\"linecolor\":\"white\",\"ticks\":\"\"},\"baxis\":{\"gridcolor\":\"white\",\"linecolor\":\"white\",\"ticks\":\"\"},\"caxis\":{\"gridcolor\":\"white\",\"linecolor\":\"white\",\"ticks\":\"\"}},\"coloraxis\":{\"colorbar\":{\"outlinewidth\":0,\"ticks\":\"\"}},\"colorscale\":{\"sequential\":[[0.0,\"#0d0887\"],[0.1111111111111111,\"#46039f\"],[0.2222222222222222,\"#7201a8\"],[0.3333333333333333,\"#9c179e\"],[0.4444444444444444,\"#bd3786\"],[0.5555555555555556,\"#d8576b\"],[0.6666666666666666,\"#ed7953\"],[0.7777777777777778,\"#fb9f3a\"],[0.8888888888888888,\"#fdca26\"],[1.0,\"#f0f921\"]],\"sequentialminus\":[[0.0,\"#0d0887\"],[0.1111111111111111,\"#46039f\"],[0.2222222222222222,\"#7201a8\"],[0.3333333333333333,\"#9c179e\"],[0.4444444444444444,\"#bd3786\"],[0.5555555555555556,\"#d8576b\"],[0.6666666666666666,\"#ed7953\"],[0.7777777777777778,\"#fb9f3a\"],[0.8888888888888888,\"#fdca26\"],[1.0,\"#f0f921\"]],\"diverging\":[[0,\"#8e0152\"],[0.1,\"#c51b7d\"],[0.2,\"#de77ae\"],[0.3,\"#f1b6da\"],[0.4,\"#fde0ef\"],[0.5,\"#f7f7f7\"],[0.6,\"#e6f5d0\"],[0.7,\"#b8e186\"],[0.8,\"#7fbc41\"],[0.9,\"#4d9221\"],[1,\"#276419\"]]},\"xaxis\":{\"gridcolor\":\"white\",\"linecolor\":\"white\",\"ticks\":\"\",\"title\":{\"standoff\":15},\"zerolinecolor\":\"white\",\"automargin\":true,\"zerolinewidth\":2},\"yaxis\":{\"gridcolor\":\"white\",\"linecolor\":\"white\",\"ticks\":\"\",\"title\":{\"standoff\":15},\"zerolinecolor\":\"white\",\"automargin\":true,\"zerolinewidth\":2},\"scene\":{\"xaxis\":{\"backgroundcolor\":\"#E5ECF6\",\"gridcolor\":\"white\",\"linecolor\":\"white\",\"showbackground\":true,\"ticks\":\"\",\"zerolinecolor\":\"white\",\"gridwidth\":2},\"yaxis\":{\"backgroundcolor\":\"#E5ECF6\",\"gridcolor\":\"white\",\"linecolor\":\"white\",\"showbackground\":true,\"ticks\":\"\",\"zerolinecolor\":\"white\",\"gridwidth\":2},\"zaxis\":{\"backgroundcolor\":\"#E5ECF6\",\"gridcolor\":\"white\",\"linecolor\":\"white\",\"showbackground\":true,\"ticks\":\"\",\"zerolinecolor\":\"white\",\"gridwidth\":2}},\"shapedefaults\":{\"line\":{\"color\":\"#2a3f5f\"}},\"annotationdefaults\":{\"arrowcolor\":\"#2a3f5f\",\"arrowhead\":0,\"arrowwidth\":1},\"geo\":{\"bgcolor\":\"white\",\"landcolor\":\"#E5ECF6\",\"subunitcolor\":\"white\",\"showland\":true,\"showlakes\":true,\"lakecolor\":\"white\"},\"title\":{\"x\":0.05},\"mapbox\":{\"style\":\"light\"}}},\"geo\":{\"domain\":{\"x\":[0.0,1.0],\"y\":[0.0,1.0]},\"center\":{},\"showframe\":false,\"showcoastlines\":false},\"coloraxis\":{\"colorbar\":{\"title\":{\"text\":\"EVENT_FREQUENCIES\"}},\"colorscale\":[[0.0,\"green\"],[0.125,\"yellow\"],[0.25,\"olive\"],[0.375,\"gold\"],[0.5,\"orange\"],[0.625,\"coral\"],[0.75,\"tomato\"],[0.875,\"maroon\"],[1.0,\"red\"]],\"cmin\":0,\"cmax\":400},\"legend\":{\"tracegroupgap\":0},\"margin\":{\"t\":60},\"updatemenus\":[{\"buttons\":[{\"args\":[null,{\"frame\":{\"duration\":500,\"redraw\":true},\"mode\":\"immediate\",\"fromcurrent\":true,\"transition\":{\"duration\":500,\"easing\":\"linear\"}}],\"label\":\"&#9654;\",\"method\":\"animate\"},{\"args\":[[null],{\"frame\":{\"duration\":0,\"redraw\":true},\"mode\":\"immediate\",\"fromcurrent\":true,\"transition\":{\"duration\":0,\"easing\":\"linear\"}}],\"label\":\"&#9724;\",\"method\":\"animate\"}],\"direction\":\"left\",\"pad\":{\"r\":10,\"t\":70},\"showactive\":false,\"type\":\"buttons\",\"x\":0.1,\"xanchor\":\"right\",\"y\":0,\"yanchor\":\"top\"}],\"sliders\":[{\"active\":0,\"currentvalue\":{\"prefix\":\"YEAR=\"},\"len\":0.9,\"pad\":{\"b\":10,\"t\":60},\"steps\":[{\"args\":[[\"2000\"],{\"frame\":{\"duration\":0,\"redraw\":true},\"mode\":\"immediate\",\"fromcurrent\":true,\"transition\":{\"duration\":0,\"easing\":\"linear\"}}],\"label\":\"2000\",\"method\":\"animate\"},{\"args\":[[\"2001\"],{\"frame\":{\"duration\":0,\"redraw\":true},\"mode\":\"immediate\",\"fromcurrent\":true,\"transition\":{\"duration\":0,\"easing\":\"linear\"}}],\"label\":\"2001\",\"method\":\"animate\"},{\"args\":[[\"2002\"],{\"frame\":{\"duration\":0,\"redraw\":true},\"mode\":\"immediate\",\"fromcurrent\":true,\"transition\":{\"duration\":0,\"easing\":\"linear\"}}],\"label\":\"2002\",\"method\":\"animate\"},{\"args\":[[\"2003\"],{\"frame\":{\"duration\":0,\"redraw\":true},\"mode\":\"immediate\",\"fromcurrent\":true,\"transition\":{\"duration\":0,\"easing\":\"linear\"}}],\"label\":\"2003\",\"method\":\"animate\"},{\"args\":[[\"2004\"],{\"frame\":{\"duration\":0,\"redraw\":true},\"mode\":\"immediate\",\"fromcurrent\":true,\"transition\":{\"duration\":0,\"easing\":\"linear\"}}],\"label\":\"2004\",\"method\":\"animate\"},{\"args\":[[\"2005\"],{\"frame\":{\"duration\":0,\"redraw\":true},\"mode\":\"immediate\",\"fromcurrent\":true,\"transition\":{\"duration\":0,\"easing\":\"linear\"}}],\"label\":\"2005\",\"method\":\"animate\"},{\"args\":[[\"2006\"],{\"frame\":{\"duration\":0,\"redraw\":true},\"mode\":\"immediate\",\"fromcurrent\":true,\"transition\":{\"duration\":0,\"easing\":\"linear\"}}],\"label\":\"2006\",\"method\":\"animate\"},{\"args\":[[\"2007\"],{\"frame\":{\"duration\":0,\"redraw\":true},\"mode\":\"immediate\",\"fromcurrent\":true,\"transition\":{\"duration\":0,\"easing\":\"linear\"}}],\"label\":\"2007\",\"method\":\"animate\"},{\"args\":[[\"2008\"],{\"frame\":{\"duration\":0,\"redraw\":true},\"mode\":\"immediate\",\"fromcurrent\":true,\"transition\":{\"duration\":0,\"easing\":\"linear\"}}],\"label\":\"2008\",\"method\":\"animate\"},{\"args\":[[\"2009\"],{\"frame\":{\"duration\":0,\"redraw\":true},\"mode\":\"immediate\",\"fromcurrent\":true,\"transition\":{\"duration\":0,\"easing\":\"linear\"}}],\"label\":\"2009\",\"method\":\"animate\"},{\"args\":[[\"2010\"],{\"frame\":{\"duration\":0,\"redraw\":true},\"mode\":\"immediate\",\"fromcurrent\":true,\"transition\":{\"duration\":0,\"easing\":\"linear\"}}],\"label\":\"2010\",\"method\":\"animate\"},{\"args\":[[\"2011\"],{\"frame\":{\"duration\":0,\"redraw\":true},\"mode\":\"immediate\",\"fromcurrent\":true,\"transition\":{\"duration\":0,\"easing\":\"linear\"}}],\"label\":\"2011\",\"method\":\"animate\"},{\"args\":[[\"2013\"],{\"frame\":{\"duration\":0,\"redraw\":true},\"mode\":\"immediate\",\"fromcurrent\":true,\"transition\":{\"duration\":0,\"easing\":\"linear\"}}],\"label\":\"2013\",\"method\":\"animate\"},{\"args\":[[\"2014\"],{\"frame\":{\"duration\":0,\"redraw\":true},\"mode\":\"immediate\",\"fromcurrent\":true,\"transition\":{\"duration\":0,\"easing\":\"linear\"}}],\"label\":\"2014\",\"method\":\"animate\"},{\"args\":[[\"2016\"],{\"frame\":{\"duration\":0,\"redraw\":true},\"mode\":\"immediate\",\"fromcurrent\":true,\"transition\":{\"duration\":0,\"easing\":\"linear\"}}],\"label\":\"2016\",\"method\":\"animate\"},{\"args\":[[\"2017\"],{\"frame\":{\"duration\":0,\"redraw\":true},\"mode\":\"immediate\",\"fromcurrent\":true,\"transition\":{\"duration\":0,\"easing\":\"linear\"}}],\"label\":\"2017\",\"method\":\"animate\"},{\"args\":[[\"2018\"],{\"frame\":{\"duration\":0,\"redraw\":true},\"mode\":\"immediate\",\"fromcurrent\":true,\"transition\":{\"duration\":0,\"easing\":\"linear\"}}],\"label\":\"2018\",\"method\":\"animate\"},{\"args\":[[\"2020\"],{\"frame\":{\"duration\":0,\"redraw\":true},\"mode\":\"immediate\",\"fromcurrent\":true,\"transition\":{\"duration\":0,\"easing\":\"linear\"}}],\"label\":\"2020\",\"method\":\"animate\"},{\"args\":[[\"2012\"],{\"frame\":{\"duration\":0,\"redraw\":true},\"mode\":\"immediate\",\"fromcurrent\":true,\"transition\":{\"duration\":0,\"easing\":\"linear\"}}],\"label\":\"2012\",\"method\":\"animate\"},{\"args\":[[\"2015\"],{\"frame\":{\"duration\":0,\"redraw\":true},\"mode\":\"immediate\",\"fromcurrent\":true,\"transition\":{\"duration\":0,\"easing\":\"linear\"}}],\"label\":\"2015\",\"method\":\"animate\"},{\"args\":[[\"2019\"],{\"frame\":{\"duration\":0,\"redraw\":true},\"mode\":\"immediate\",\"fromcurrent\":true,\"transition\":{\"duration\":0,\"easing\":\"linear\"}}],\"label\":\"2019\",\"method\":\"animate\"}],\"x\":0.1,\"xanchor\":\"left\",\"y\":0,\"yanchor\":\"top\"}],\"title\":{\"text\":\"\",\"x\":0.5}},                        {\"responsive\": true}                    ).then(function(){\n",
       "                            Plotly.addFrames('ae416af9-5271-409f-b860-06e7fb56a2f3', [{\"data\":[{\"coloraxis\":\"coloraxis\",\"geo\":\"geo\",\"hovertemplate\":\"<b>%{hovertext}</b><br><br>YEAR=2000<br>COUNTRY=%{location}<br>EVENT_FREQUENCIES=%{z}<extra></extra>\",\"hovertext\":[\"Algeria\",\"Angola\",\"Burundi\",\"Chad\",\"Kenya\",\"Liberia\",\"Namibia\",\"Rwanda\",\"Senegal\",\"Sierra Leone\",\"Somalia\",\"Sudan\",\"Zambia\"],\"locationmode\":\"country names\",\"locations\":[\"Algeria\",\"Angola\",\"Burundi\",\"Chad\",\"Kenya\",\"Liberia\",\"Namibia\",\"Rwanda\",\"Senegal\",\"Sierra Leone\",\"Somalia\",\"Sudan\",\"Zambia\"],\"name\":\"\",\"z\":[60,47,117,1,2,1,20,1,8,59,2,6,3],\"type\":\"choropleth\"}],\"name\":\"2000\"},{\"data\":[{\"coloraxis\":\"coloraxis\",\"geo\":\"geo\",\"hovertemplate\":\"<b>%{hovertext}</b><br><br>YEAR=2001<br>COUNTRY=%{location}<br>EVENT_FREQUENCIES=%{z}<extra></extra>\",\"hovertext\":[\"Algeria\",\"Angola\",\"Burundi\",\"Liberia\",\"Namibia\",\"Senegal\",\"Sierra Leone\",\"Somalia\",\"Sudan\",\"Tanzania\"],\"locationmode\":\"country names\",\"locations\":[\"Algeria\",\"Angola\",\"Burundi\",\"Liberia\",\"Namibia\",\"Senegal\",\"Sierra Leone\",\"Somalia\",\"Sudan\",\"Tanzania\"],\"name\":\"\",\"z\":[43,74,173,16,9,10,12,1,10,1],\"type\":\"choropleth\"}],\"name\":\"2001\"},{\"data\":[{\"coloraxis\":\"coloraxis\",\"geo\":\"geo\",\"hovertemplate\":\"<b>%{hovertext}</b><br><br>YEAR=2002<br>COUNTRY=%{location}<br>EVENT_FREQUENCIES=%{z}<extra></extra>\",\"hovertext\":[\"Algeria\",\"Angola\",\"Burundi\",\"Liberia\",\"Senegal\",\"Somalia\",\"Sudan\",\"Tanzania\",\"Zambia\"],\"locationmode\":\"country names\",\"locations\":[\"Algeria\",\"Angola\",\"Burundi\",\"Liberia\",\"Senegal\",\"Somalia\",\"Sudan\",\"Tanzania\",\"Zambia\"],\"name\":\"\",\"z\":[37,2,116,10,5,1,40,5,1],\"type\":\"choropleth\"}],\"name\":\"2002\"},{\"data\":[{\"coloraxis\":\"coloraxis\",\"geo\":\"geo\",\"hovertemplate\":\"<b>%{hovertext}</b><br><br>YEAR=2003<br>COUNTRY=%{location}<br>EVENT_FREQUENCIES=%{z}<extra></extra>\",\"hovertext\":[\"Algeria\",\"Burundi\",\"Chad\",\"Liberia\",\"Somalia\",\"Sudan\"],\"locationmode\":\"country names\",\"locations\":[\"Algeria\",\"Burundi\",\"Chad\",\"Liberia\",\"Somalia\",\"Sudan\"],\"name\":\"\",\"z\":[31,37,1,38,4,11],\"type\":\"choropleth\"}],\"name\":\"2003\"},{\"data\":[{\"coloraxis\":\"coloraxis\",\"geo\":\"geo\",\"hovertemplate\":\"<b>%{hovertext}</b><br><br>YEAR=2004<br>COUNTRY=%{location}<br>EVENT_FREQUENCIES=%{z}<extra></extra>\",\"hovertext\":[\"Algeria\",\"Burundi\",\"Liberia\",\"Niger\",\"Sierra Leone\",\"Sudan\"],\"locationmode\":\"country names\",\"locations\":[\"Algeria\",\"Burundi\",\"Liberia\",\"Niger\",\"Sierra Leone\",\"Sudan\"],\"name\":\"\",\"z\":[20,18,7,3,1,58],\"type\":\"choropleth\"}],\"name\":\"2004\"},{\"data\":[{\"coloraxis\":\"coloraxis\",\"geo\":\"geo\",\"hovertemplate\":\"<b>%{hovertext}</b><br><br>YEAR=2005<br>COUNTRY=%{location}<br>EVENT_FREQUENCIES=%{z}<extra></extra>\",\"hovertext\":[\"Algeria\",\"Burundi\",\"Kenya\",\"Niger\",\"Nigeria\",\"Somalia\",\"Sudan\"],\"locationmode\":\"country names\",\"locations\":[\"Algeria\",\"Burundi\",\"Kenya\",\"Niger\",\"Nigeria\",\"Somalia\",\"Sudan\"],\"name\":\"\",\"z\":[5,33,3,1,1,2,45],\"type\":\"choropleth\"}],\"name\":\"2005\"},{\"data\":[{\"coloraxis\":\"coloraxis\",\"geo\":\"geo\",\"hovertemplate\":\"<b>%{hovertext}</b><br><br>YEAR=2006<br>COUNTRY=%{location}<br>EVENT_FREQUENCIES=%{z}<extra></extra>\",\"hovertext\":[\"Algeria\",\"Burundi\",\"Chad\",\"Kenya\",\"Liberia\",\"Niger\",\"Nigeria\",\"Senegal\",\"Somalia\",\"Sudan\"],\"locationmode\":\"country names\",\"locations\":[\"Algeria\",\"Burundi\",\"Chad\",\"Kenya\",\"Liberia\",\"Niger\",\"Nigeria\",\"Senegal\",\"Somalia\",\"Sudan\"],\"name\":\"\",\"z\":[22,36,1,1,1,2,6,2,6,18],\"type\":\"choropleth\"}],\"name\":\"2006\"},{\"data\":[{\"coloraxis\":\"coloraxis\",\"geo\":\"geo\",\"hovertemplate\":\"<b>%{hovertext}</b><br><br>YEAR=2007<br>COUNTRY=%{location}<br>EVENT_FREQUENCIES=%{z}<extra></extra>\",\"hovertext\":[\"Algeria\",\"Burundi\",\"Cameroon\",\"Chad\",\"Mauritania\",\"Niger\",\"Nigeria\",\"Rwanda\",\"Senegal\",\"Somalia\",\"Sudan\",\"Tanzania\"],\"locationmode\":\"country names\",\"locations\":[\"Algeria\",\"Burundi\",\"Cameroon\",\"Chad\",\"Mauritania\",\"Niger\",\"Nigeria\",\"Rwanda\",\"Senegal\",\"Somalia\",\"Sudan\",\"Tanzania\"],\"name\":\"\",\"z\":[4,2,2,4,1,6,19,2,4,7,14,1],\"type\":\"choropleth\"}],\"name\":\"2007\"},{\"data\":[{\"coloraxis\":\"coloraxis\",\"geo\":\"geo\",\"hovertemplate\":\"<b>%{hovertext}</b><br><br>YEAR=2008<br>COUNTRY=%{location}<br>EVENT_FREQUENCIES=%{z}<extra></extra>\",\"hovertext\":[\"Algeria\",\"Angola\",\"Burundi\",\"Chad\",\"Mali\",\"Mauritania\",\"Niger\",\"Nigeria\",\"Senegal\",\"Somalia\",\"Sudan\"],\"locationmode\":\"country names\",\"locations\":[\"Algeria\",\"Angola\",\"Burundi\",\"Chad\",\"Mali\",\"Mauritania\",\"Niger\",\"Nigeria\",\"Senegal\",\"Somalia\",\"Sudan\"],\"name\":\"\",\"z\":[6,1,16,1,2,1,6,6,5,30,24],\"type\":\"choropleth\"}],\"name\":\"2008\"},{\"data\":[{\"coloraxis\":\"coloraxis\",\"geo\":\"geo\",\"hovertemplate\":\"<b>%{hovertext}</b><br><br>YEAR=2009<br>COUNTRY=%{location}<br>EVENT_FREQUENCIES=%{z}<extra></extra>\",\"hovertext\":[\"Algeria\",\"Cameroon\",\"Chad\",\"Kenya\",\"Mali\",\"Mauritania\",\"Niger\",\"Nigeria\",\"Senegal\",\"Sierra Leone\",\"Somalia\",\"Sudan\"],\"locationmode\":\"country names\",\"locations\":[\"Algeria\",\"Cameroon\",\"Chad\",\"Kenya\",\"Mali\",\"Mauritania\",\"Niger\",\"Nigeria\",\"Senegal\",\"Sierra Leone\",\"Somalia\",\"Sudan\"],\"name\":\"\",\"z\":[4,1,2,1,2,3,1,11,5,1,10,81],\"type\":\"choropleth\"}],\"name\":\"2009\"},{\"data\":[{\"coloraxis\":\"coloraxis\",\"geo\":\"geo\",\"hovertemplate\":\"<b>%{hovertext}</b><br><br>YEAR=2010<br>COUNTRY=%{location}<br>EVENT_FREQUENCIES=%{z}<extra></extra>\",\"hovertext\":[\"Algeria\",\"Angola\",\"Cameroon\",\"Kenya\",\"Niger\",\"Nigeria\",\"Senegal\",\"Somalia\",\"Sudan\"],\"locationmode\":\"country names\",\"locations\":[\"Algeria\",\"Angola\",\"Cameroon\",\"Kenya\",\"Niger\",\"Nigeria\",\"Senegal\",\"Somalia\",\"Sudan\"],\"name\":\"\",\"z\":[6,2,1,2,3,19,1,18,60],\"type\":\"choropleth\"}],\"name\":\"2010\"},{\"data\":[{\"coloraxis\":\"coloraxis\",\"geo\":\"geo\",\"hovertemplate\":\"<b>%{hovertext}</b><br><br>YEAR=2011<br>COUNTRY=%{location}<br>EVENT_FREQUENCIES=%{z}<extra></extra>\",\"hovertext\":[\"Algeria\",\"Kenya\",\"Libya\",\"Mali\",\"Nigeria\",\"Senegal\",\"Somalia\",\"South Sudan\",\"Sudan\"],\"locationmode\":\"country names\",\"locations\":[\"Algeria\",\"Kenya\",\"Libya\",\"Mali\",\"Nigeria\",\"Senegal\",\"Somalia\",\"South Sudan\",\"Sudan\"],\"name\":\"\",\"z\":[4,3,3,4,31,5,32,6,28],\"type\":\"choropleth\"}],\"name\":\"2011\"},{\"data\":[{\"coloraxis\":\"coloraxis\",\"geo\":\"geo\",\"hovertemplate\":\"<b>%{hovertext}</b><br><br>YEAR=2013<br>COUNTRY=%{location}<br>EVENT_FREQUENCIES=%{z}<extra></extra>\",\"hovertext\":[\"Algeria\",\"Cameroon\",\"Kenya\",\"Mali\",\"Nigeria\",\"Senegal\",\"Somalia\",\"South Sudan\",\"Sudan\"],\"locationmode\":\"country names\",\"locations\":[\"Algeria\",\"Cameroon\",\"Kenya\",\"Mali\",\"Nigeria\",\"Senegal\",\"Somalia\",\"South Sudan\",\"Sudan\"],\"name\":\"\",\"z\":[1,2,13,19,110,2,130,16,8],\"type\":\"choropleth\"}],\"name\":\"2013\"},{\"data\":[{\"coloraxis\":\"coloraxis\",\"geo\":\"geo\",\"hovertemplate\":\"<b>%{hovertext}</b><br><br>YEAR=2014<br>COUNTRY=%{location}<br>EVENT_FREQUENCIES=%{z}<extra></extra>\",\"hovertext\":[\"Algeria\",\"Cameroon\",\"Chad\",\"Kenya\",\"Libya\",\"Mali\",\"Nigeria\",\"Senegal\",\"Somalia\",\"South Sudan\",\"Sudan\"],\"locationmode\":\"country names\",\"locations\":[\"Algeria\",\"Cameroon\",\"Chad\",\"Kenya\",\"Libya\",\"Mali\",\"Nigeria\",\"Senegal\",\"Somalia\",\"South Sudan\",\"Sudan\"],\"name\":\"\",\"z\":[3,16,1,17,3,9,188,1,150,54,11],\"type\":\"choropleth\"}],\"name\":\"2014\"},{\"data\":[{\"coloraxis\":\"coloraxis\",\"geo\":\"geo\",\"hovertemplate\":\"<b>%{hovertext}</b><br><br>YEAR=2016<br>COUNTRY=%{location}<br>EVENT_FREQUENCIES=%{z}<extra></extra>\",\"hovertext\":[\"Algeria\",\"Burkina Faso\",\"Cameroon\",\"Kenya\",\"Libya\",\"Mali\",\"Niger\",\"Nigeria\",\"Senegal\",\"Somalia\",\"South Sudan\",\"Sudan\"],\"locationmode\":\"country names\",\"locations\":[\"Algeria\",\"Burkina Faso\",\"Cameroon\",\"Kenya\",\"Libya\",\"Mali\",\"Niger\",\"Nigeria\",\"Senegal\",\"Somalia\",\"South Sudan\",\"Sudan\"],\"name\":\"\",\"z\":[1,4,73,9,39,6,5,36,1,148,30,14],\"type\":\"choropleth\"}],\"name\":\"2016\"},{\"data\":[{\"coloraxis\":\"coloraxis\",\"geo\":\"geo\",\"hovertemplate\":\"<b>%{hovertext}</b><br><br>YEAR=2017<br>COUNTRY=%{location}<br>EVENT_FREQUENCIES=%{z}<extra></extra>\",\"hovertext\":[\"Algeria\",\"Burkina Faso\",\"Burundi\",\"Cameroon\",\"Kenya\",\"Libya\",\"Mali\",\"Niger\",\"Nigeria\",\"Somalia\",\"South Sudan\",\"Sudan\"],\"locationmode\":\"country names\",\"locations\":[\"Algeria\",\"Burkina Faso\",\"Burundi\",\"Cameroon\",\"Kenya\",\"Libya\",\"Mali\",\"Niger\",\"Nigeria\",\"Somalia\",\"South Sudan\",\"Sudan\"],\"name\":\"\",\"z\":[1,8,1,80,28,6,17,5,74,236,30,4],\"type\":\"choropleth\"}],\"name\":\"2017\"},{\"data\":[{\"coloraxis\":\"coloraxis\",\"geo\":\"geo\",\"hovertemplate\":\"<b>%{hovertext}</b><br><br>YEAR=2018<br>COUNTRY=%{location}<br>EVENT_FREQUENCIES=%{z}<extra></extra>\",\"hovertext\":[\"Algeria\",\"Burkina Faso\",\"Cameroon\",\"Chad\",\"Kenya\",\"Libya\",\"Mali\",\"Niger\",\"Nigeria\",\"Rwanda\",\"Somalia\",\"South Sudan\",\"Sudan\"],\"locationmode\":\"country names\",\"locations\":[\"Algeria\",\"Burkina Faso\",\"Cameroon\",\"Chad\",\"Kenya\",\"Libya\",\"Mali\",\"Niger\",\"Nigeria\",\"Rwanda\",\"Somalia\",\"South Sudan\",\"Sudan\"],\"name\":\"\",\"z\":[2,68,178,1,6,8,75,31,66,4,202,59,3],\"type\":\"choropleth\"}],\"name\":\"2018\"},{\"data\":[{\"coloraxis\":\"coloraxis\",\"geo\":\"geo\",\"hovertemplate\":\"<b>%{hovertext}</b><br><br>YEAR=2020<br>COUNTRY=%{location}<br>EVENT_FREQUENCIES=%{z}<extra></extra>\",\"hovertext\":[\"Algeria\",\"Burkina Faso\",\"Burundi\",\"Cameroon\",\"Chad\",\"Kenya\",\"Libya\",\"Mali\",\"Niger\",\"Nigeria\",\"Somalia\",\"South Sudan\",\"Sudan\"],\"locationmode\":\"country names\",\"locations\":[\"Algeria\",\"Burkina Faso\",\"Burundi\",\"Cameroon\",\"Chad\",\"Kenya\",\"Libya\",\"Mali\",\"Niger\",\"Nigeria\",\"Somalia\",\"South Sudan\",\"Sudan\"],\"name\":\"\",\"z\":[3,189,3,425,13,18,1,123,212,112,215,22,2],\"type\":\"choropleth\"}],\"name\":\"2020\"},{\"data\":[{\"coloraxis\":\"coloraxis\",\"geo\":\"geo\",\"hovertemplate\":\"<b>%{hovertext}</b><br><br>YEAR=2012<br>COUNTRY=%{location}<br>EVENT_FREQUENCIES=%{z}<extra></extra>\",\"hovertext\":[\"Burkina Faso\",\"Kenya\",\"Mali\",\"Niger\",\"Nigeria\",\"Rwanda\",\"Senegal\",\"Somalia\",\"South Sudan\",\"Sudan\"],\"locationmode\":\"country names\",\"locations\":[\"Burkina Faso\",\"Kenya\",\"Mali\",\"Niger\",\"Nigeria\",\"Rwanda\",\"Senegal\",\"Somalia\",\"South Sudan\",\"Sudan\"],\"name\":\"\",\"z\":[1,7,51,1,130,5,1,79,5,11],\"type\":\"choropleth\"}],\"name\":\"2012\"},{\"data\":[{\"coloraxis\":\"coloraxis\",\"geo\":\"geo\",\"hovertemplate\":\"<b>%{hovertext}</b><br><br>YEAR=2015<br>COUNTRY=%{location}<br>EVENT_FREQUENCIES=%{z}<extra></extra>\",\"hovertext\":[\"Burkina Faso\",\"Cameroon\",\"Chad\",\"Kenya\",\"Libya\",\"Mali\",\"Niger\",\"Nigeria\",\"Senegal\",\"Somalia\",\"South Sudan\",\"Sudan\"],\"locationmode\":\"country names\",\"locations\":[\"Burkina Faso\",\"Cameroon\",\"Chad\",\"Kenya\",\"Libya\",\"Mali\",\"Niger\",\"Nigeria\",\"Senegal\",\"Somalia\",\"South Sudan\",\"Sudan\"],\"name\":\"\",\"z\":[1,30,5,13,61,5,15,134,1,142,26,8],\"type\":\"choropleth\"}],\"name\":\"2015\"},{\"data\":[{\"coloraxis\":\"coloraxis\",\"geo\":\"geo\",\"hovertemplate\":\"<b>%{hovertext}</b><br><br>YEAR=2019<br>COUNTRY=%{location}<br>EVENT_FREQUENCIES=%{z}<extra></extra>\",\"hovertext\":[\"Burkina Faso\",\"Burundi\",\"Cameroon\",\"Chad\",\"Kenya\",\"Libya\",\"Mali\",\"Mauritania\",\"Niger\",\"Nigeria\",\"Rwanda\",\"Somalia\",\"South Sudan\",\"Sudan\"],\"locationmode\":\"country names\",\"locations\":[\"Burkina Faso\",\"Burundi\",\"Cameroon\",\"Chad\",\"Kenya\",\"Libya\",\"Mali\",\"Mauritania\",\"Niger\",\"Nigeria\",\"Rwanda\",\"Somalia\",\"South Sudan\",\"Sudan\"],\"name\":\"\",\"z\":[229,2,249,12,10,4,70,1,143,63,1,237,37,7],\"type\":\"choropleth\"}],\"name\":\"2019\"}]);\n",
       "                        }).then(function(){\n",
       "                            \n",
       "var gd = document.getElementById('ae416af9-5271-409f-b860-06e7fb56a2f3');\n",
       "var x = new MutationObserver(function (mutations, observer) {{\n",
       "        var display = window.getComputedStyle(gd).display;\n",
       "        if (!display || display === 'none') {{\n",
       "            console.log([gd, 'removed!']);\n",
       "            Plotly.purge(gd);\n",
       "            observer.disconnect();\n",
       "        }}\n",
       "}});\n",
       "\n",
       "// Listen for the removal of the full notebook cells\n",
       "var notebookContainer = gd.closest('#notebook-container');\n",
       "if (notebookContainer) {{\n",
       "    x.observe(notebookContainer, {childList: true});\n",
       "}}\n",
       "\n",
       "// Listen for the clearing of the current output cell\n",
       "var outputEl = gd.closest('.output');\n",
       "if (outputEl) {{\n",
       "    x.observe(outputEl, {childList: true});\n",
       "}}\n",
       "\n",
       "                        })                };                });            </script>        </div>"
      ]
     },
     "metadata": {},
     "output_type": "display_data"
    }
   ],
   "source": [
    "#Creating the visualization \n",
    "fig4 = px.choropleth(EVENT_FREQUENCIES_df2, locations=\"COUNTRY\", locationmode = \"country names\", color=\"EVENT_FREQUENCIES\", hover_name=\"COUNTRY\", animation_frame=\"YEAR\" , color_continuous_scale=[\"green\",\"yellow\",\"olive\",\"gold\",\"orange\",\"coral\", \"tomato\" ,\"maroon\", \"red\"], range_color  = (0,400)) \n",
    "fig4.update_layout( title_text = '', title_x = 0.5, geo=dict( showframe = False, showcoastlines = False, )) \n",
    "fig4.show()"
   ]
  },
  {
   "cell_type": "markdown",
   "id": "957320e9",
   "metadata": {},
   "source": [
    "# Diff in Diff analysis\n",
    "\n",
    "Here we conduct **preliminary analyses** using the Diff in Diff method to assess \n",
    "the impact of the Libyan crisis on insecurity in the Sahel zone. \n",
    "\n",
    "To assess this impact, we focus only on terrorist attacks on civilians. This choice is motivated by several reasons. \n",
    "\n",
    "    1- Indeed, for other types of events, such as attacks between rebels and armed forces, it is not clear who caused the attack. Also, the data do not allow us to know the exact number of deaths on each side. \n",
    "    2- In attacks on civilians, however, we can be sure that it was the rebel groups that engaged in the attack, and the deaths are usually on the civilian side."
   ]
  },
  {
   "cell_type": "code",
   "execution_count": 48,
   "id": "955e88c3",
   "metadata": {},
   "outputs": [],
   "source": [
    "from scipy.stats import chi2_contingency\n",
    "import matplotlib.pyplot as plt\n",
    "import seaborn as sns\n",
    "from statsmodels.api import Logit\n",
    "from statsmodels.tools import add_constant\n",
    "import statsmodels as sm\n",
    "import statsmodels.formula.api as smf\n",
    "import math as mt\n",
    "from IPython.display import display\n",
    "from sklearn import linear_model"
   ]
  },
  {
   "cell_type": "code",
   "execution_count": 49,
   "id": "ce80d740",
   "metadata": {},
   "outputs": [
    {
     "data": {
      "text/html": [
       "<div>\n",
       "<style scoped>\n",
       "    .dataframe tbody tr th:only-of-type {\n",
       "        vertical-align: middle;\n",
       "    }\n",
       "\n",
       "    .dataframe tbody tr th {\n",
       "        vertical-align: top;\n",
       "    }\n",
       "\n",
       "    .dataframe thead th {\n",
       "        text-align: right;\n",
       "    }\n",
       "</style>\n",
       "<table border=\"1\" class=\"dataframe\">\n",
       "  <thead>\n",
       "    <tr style=\"text-align: right;\">\n",
       "      <th></th>\n",
       "      <th>country_x</th>\n",
       "      <th>ISO</th>\n",
       "      <th>geometry</th>\n",
       "      <th>country_y</th>\n",
       "      <th>Alpha-2 code</th>\n",
       "      <th>Numeric code</th>\n",
       "      <th>ISO 3166-2</th>\n",
       "      <th>COUNTRY</th>\n",
       "      <th>YEAR</th>\n",
       "      <th>EVENT_TYPE</th>\n",
       "      <th>SUB_EVENT_TYPE</th>\n",
       "      <th>ADMIN1</th>\n",
       "      <th>EVENT_FATALITIES</th>\n",
       "      <th>EVENT_FREQUENCIES</th>\n",
       "      <th>EVENT_ADMIN2</th>\n",
       "      <th>PERIOD</th>\n",
       "      <th>TREATMENT</th>\n",
       "    </tr>\n",
       "  </thead>\n",
       "  <tbody>\n",
       "    <tr>\n",
       "      <th>43</th>\n",
       "      <td>Algeria</td>\n",
       "      <td>DZA</td>\n",
       "      <td>POLYGON ((-8.68440 27.39574, -8.66512 27.58948...</td>\n",
       "      <td>Algeria</td>\n",
       "      <td>DZ</td>\n",
       "      <td>12</td>\n",
       "      <td>ISO 3166-2:DZ</td>\n",
       "      <td>Algeria</td>\n",
       "      <td>2000</td>\n",
       "      <td>Violence against civilians</td>\n",
       "      <td>Attack</td>\n",
       "      <td>Ain Defla</td>\n",
       "      <td>28</td>\n",
       "      <td>4</td>\n",
       "      <td>3</td>\n",
       "      <td>Before 2011</td>\n",
       "      <td>Treated</td>\n",
       "    </tr>\n",
       "    <tr>\n",
       "      <th>44</th>\n",
       "      <td>Algeria</td>\n",
       "      <td>DZA</td>\n",
       "      <td>POLYGON ((-8.68440 27.39574, -8.66512 27.58948...</td>\n",
       "      <td>Algeria</td>\n",
       "      <td>DZ</td>\n",
       "      <td>12</td>\n",
       "      <td>ISO 3166-2:DZ</td>\n",
       "      <td>Algeria</td>\n",
       "      <td>2000</td>\n",
       "      <td>Violence against civilians</td>\n",
       "      <td>Attack</td>\n",
       "      <td>Alger</td>\n",
       "      <td>70</td>\n",
       "      <td>5</td>\n",
       "      <td>0</td>\n",
       "      <td>Before 2011</td>\n",
       "      <td>Treated</td>\n",
       "    </tr>\n",
       "    <tr>\n",
       "      <th>45</th>\n",
       "      <td>Algeria</td>\n",
       "      <td>DZA</td>\n",
       "      <td>POLYGON ((-8.68440 27.39574, -8.66512 27.58948...</td>\n",
       "      <td>Algeria</td>\n",
       "      <td>DZ</td>\n",
       "      <td>12</td>\n",
       "      <td>ISO 3166-2:DZ</td>\n",
       "      <td>Algeria</td>\n",
       "      <td>2000</td>\n",
       "      <td>Violence against civilians</td>\n",
       "      <td>Attack</td>\n",
       "      <td>Annaba</td>\n",
       "      <td>0</td>\n",
       "      <td>1</td>\n",
       "      <td>1</td>\n",
       "      <td>Before 2011</td>\n",
       "      <td>Treated</td>\n",
       "    </tr>\n",
       "    <tr>\n",
       "      <th>46</th>\n",
       "      <td>Algeria</td>\n",
       "      <td>DZA</td>\n",
       "      <td>POLYGON ((-8.68440 27.39574, -8.66512 27.58948...</td>\n",
       "      <td>Algeria</td>\n",
       "      <td>DZ</td>\n",
       "      <td>12</td>\n",
       "      <td>ISO 3166-2:DZ</td>\n",
       "      <td>Algeria</td>\n",
       "      <td>2000</td>\n",
       "      <td>Violence against civilians</td>\n",
       "      <td>Attack</td>\n",
       "      <td>Blida</td>\n",
       "      <td>25</td>\n",
       "      <td>2</td>\n",
       "      <td>2</td>\n",
       "      <td>Before 2011</td>\n",
       "      <td>Treated</td>\n",
       "    </tr>\n",
       "    <tr>\n",
       "      <th>47</th>\n",
       "      <td>Algeria</td>\n",
       "      <td>DZA</td>\n",
       "      <td>POLYGON ((-8.68440 27.39574, -8.66512 27.58948...</td>\n",
       "      <td>Algeria</td>\n",
       "      <td>DZ</td>\n",
       "      <td>12</td>\n",
       "      <td>ISO 3166-2:DZ</td>\n",
       "      <td>Algeria</td>\n",
       "      <td>2000</td>\n",
       "      <td>Violence against civilians</td>\n",
       "      <td>Attack</td>\n",
       "      <td>Bouira</td>\n",
       "      <td>7</td>\n",
       "      <td>3</td>\n",
       "      <td>2</td>\n",
       "      <td>Before 2011</td>\n",
       "      <td>Treated</td>\n",
       "    </tr>\n",
       "    <tr>\n",
       "      <th>...</th>\n",
       "      <td>...</td>\n",
       "      <td>...</td>\n",
       "      <td>...</td>\n",
       "      <td>...</td>\n",
       "      <td>...</td>\n",
       "      <td>...</td>\n",
       "      <td>...</td>\n",
       "      <td>...</td>\n",
       "      <td>...</td>\n",
       "      <td>...</td>\n",
       "      <td>...</td>\n",
       "      <td>...</td>\n",
       "      <td>...</td>\n",
       "      <td>...</td>\n",
       "      <td>...</td>\n",
       "      <td>...</td>\n",
       "      <td>...</td>\n",
       "    </tr>\n",
       "    <tr>\n",
       "      <th>2132</th>\n",
       "      <td>Burkina Faso</td>\n",
       "      <td>BFA</td>\n",
       "      <td>POLYGON ((-5.40434 10.37074, -5.47056 10.95127...</td>\n",
       "      <td>Burkina Faso</td>\n",
       "      <td>BF</td>\n",
       "      <td>854</td>\n",
       "      <td>ISO 3166-2:BF</td>\n",
       "      <td>Burkina Faso</td>\n",
       "      <td>2020</td>\n",
       "      <td>Violence against civilians</td>\n",
       "      <td>Attack</td>\n",
       "      <td>Nord</td>\n",
       "      <td>13</td>\n",
       "      <td>7</td>\n",
       "      <td>3</td>\n",
       "      <td>After 2011</td>\n",
       "      <td>Treated</td>\n",
       "    </tr>\n",
       "    <tr>\n",
       "      <th>2133</th>\n",
       "      <td>Burkina Faso</td>\n",
       "      <td>BFA</td>\n",
       "      <td>POLYGON ((-5.40434 10.37074, -5.47056 10.95127...</td>\n",
       "      <td>Burkina Faso</td>\n",
       "      <td>BF</td>\n",
       "      <td>854</td>\n",
       "      <td>ISO 3166-2:BF</td>\n",
       "      <td>Burkina Faso</td>\n",
       "      <td>2020</td>\n",
       "      <td>Violence against civilians</td>\n",
       "      <td>Attack</td>\n",
       "      <td>Sahel</td>\n",
       "      <td>181</td>\n",
       "      <td>63</td>\n",
       "      <td>4</td>\n",
       "      <td>After 2011</td>\n",
       "      <td>Treated</td>\n",
       "    </tr>\n",
       "    <tr>\n",
       "      <th>2134</th>\n",
       "      <td>Burkina Faso</td>\n",
       "      <td>BFA</td>\n",
       "      <td>POLYGON ((-5.40434 10.37074, -5.47056 10.95127...</td>\n",
       "      <td>Burkina Faso</td>\n",
       "      <td>BF</td>\n",
       "      <td>854</td>\n",
       "      <td>ISO 3166-2:BF</td>\n",
       "      <td>Burkina Faso</td>\n",
       "      <td>2020</td>\n",
       "      <td>Violence against civilians</td>\n",
       "      <td>Sexual violence</td>\n",
       "      <td>Centre-Nord</td>\n",
       "      <td>0</td>\n",
       "      <td>1</td>\n",
       "      <td>1</td>\n",
       "      <td>After 2011</td>\n",
       "      <td>Treated</td>\n",
       "    </tr>\n",
       "    <tr>\n",
       "      <th>2171</th>\n",
       "      <td>Zambia</td>\n",
       "      <td>ZMB</td>\n",
       "      <td>POLYGON ((30.74001 -8.34001, 31.15775 -8.59458...</td>\n",
       "      <td>Zambia</td>\n",
       "      <td>ZM</td>\n",
       "      <td>894</td>\n",
       "      <td>ISO 3166-2:ZM</td>\n",
       "      <td>Zambia</td>\n",
       "      <td>2000</td>\n",
       "      <td>Violence against civilians</td>\n",
       "      <td>Attack</td>\n",
       "      <td>North-Western</td>\n",
       "      <td>0</td>\n",
       "      <td>3</td>\n",
       "      <td>1</td>\n",
       "      <td>Before 2011</td>\n",
       "      <td>Control</td>\n",
       "    </tr>\n",
       "    <tr>\n",
       "      <th>2172</th>\n",
       "      <td>Zambia</td>\n",
       "      <td>ZMB</td>\n",
       "      <td>POLYGON ((30.74001 -8.34001, 31.15775 -8.59458...</td>\n",
       "      <td>Zambia</td>\n",
       "      <td>ZM</td>\n",
       "      <td>894</td>\n",
       "      <td>ISO 3166-2:ZM</td>\n",
       "      <td>Zambia</td>\n",
       "      <td>2002</td>\n",
       "      <td>Violence against civilians</td>\n",
       "      <td>Sexual violence</td>\n",
       "      <td>Western</td>\n",
       "      <td>0</td>\n",
       "      <td>1</td>\n",
       "      <td>1</td>\n",
       "      <td>Before 2011</td>\n",
       "      <td>Control</td>\n",
       "    </tr>\n",
       "  </tbody>\n",
       "</table>\n",
       "<p>1227 rows × 17 columns</p>\n",
       "</div>"
      ],
      "text/plain": [
       "         country_x  ISO                                           geometry  \\\n",
       "43         Algeria  DZA  POLYGON ((-8.68440 27.39574, -8.66512 27.58948...   \n",
       "44         Algeria  DZA  POLYGON ((-8.68440 27.39574, -8.66512 27.58948...   \n",
       "45         Algeria  DZA  POLYGON ((-8.68440 27.39574, -8.66512 27.58948...   \n",
       "46         Algeria  DZA  POLYGON ((-8.68440 27.39574, -8.66512 27.58948...   \n",
       "47         Algeria  DZA  POLYGON ((-8.68440 27.39574, -8.66512 27.58948...   \n",
       "...            ...  ...                                                ...   \n",
       "2132  Burkina Faso  BFA  POLYGON ((-5.40434 10.37074, -5.47056 10.95127...   \n",
       "2133  Burkina Faso  BFA  POLYGON ((-5.40434 10.37074, -5.47056 10.95127...   \n",
       "2134  Burkina Faso  BFA  POLYGON ((-5.40434 10.37074, -5.47056 10.95127...   \n",
       "2171        Zambia  ZMB  POLYGON ((30.74001 -8.34001, 31.15775 -8.59458...   \n",
       "2172        Zambia  ZMB  POLYGON ((30.74001 -8.34001, 31.15775 -8.59458...   \n",
       "\n",
       "         country_y Alpha-2 code  Numeric code     ISO 3166-2       COUNTRY  \\\n",
       "43         Algeria           DZ            12  ISO 3166-2:DZ       Algeria   \n",
       "44         Algeria           DZ            12  ISO 3166-2:DZ       Algeria   \n",
       "45         Algeria           DZ            12  ISO 3166-2:DZ       Algeria   \n",
       "46         Algeria           DZ            12  ISO 3166-2:DZ       Algeria   \n",
       "47         Algeria           DZ            12  ISO 3166-2:DZ       Algeria   \n",
       "...            ...          ...           ...            ...           ...   \n",
       "2132  Burkina Faso           BF           854  ISO 3166-2:BF  Burkina Faso   \n",
       "2133  Burkina Faso           BF           854  ISO 3166-2:BF  Burkina Faso   \n",
       "2134  Burkina Faso           BF           854  ISO 3166-2:BF  Burkina Faso   \n",
       "2171        Zambia           ZM           894  ISO 3166-2:ZM        Zambia   \n",
       "2172        Zambia           ZM           894  ISO 3166-2:ZM        Zambia   \n",
       "\n",
       "      YEAR                  EVENT_TYPE   SUB_EVENT_TYPE         ADMIN1  \\\n",
       "43    2000  Violence against civilians           Attack      Ain Defla   \n",
       "44    2000  Violence against civilians           Attack          Alger   \n",
       "45    2000  Violence against civilians           Attack         Annaba   \n",
       "46    2000  Violence against civilians           Attack          Blida   \n",
       "47    2000  Violence against civilians           Attack         Bouira   \n",
       "...    ...                         ...              ...            ...   \n",
       "2132  2020  Violence against civilians           Attack           Nord   \n",
       "2133  2020  Violence against civilians           Attack          Sahel   \n",
       "2134  2020  Violence against civilians  Sexual violence    Centre-Nord   \n",
       "2171  2000  Violence against civilians           Attack  North-Western   \n",
       "2172  2002  Violence against civilians  Sexual violence        Western   \n",
       "\n",
       "      EVENT_FATALITIES  EVENT_FREQUENCIES  EVENT_ADMIN2       PERIOD TREATMENT  \n",
       "43                  28                  4             3  Before 2011   Treated  \n",
       "44                  70                  5             0  Before 2011   Treated  \n",
       "45                   0                  1             1  Before 2011   Treated  \n",
       "46                  25                  2             2  Before 2011   Treated  \n",
       "47                   7                  3             2  Before 2011   Treated  \n",
       "...                ...                ...           ...          ...       ...  \n",
       "2132                13                  7             3   After 2011   Treated  \n",
       "2133               181                 63             4   After 2011   Treated  \n",
       "2134                 0                  1             1   After 2011   Treated  \n",
       "2171                 0                  3             1  Before 2011   Control  \n",
       "2172                 0                  1             1  Before 2011   Control  \n",
       "\n",
       "[1227 rows x 17 columns]"
      ]
     },
     "execution_count": 49,
     "metadata": {},
     "output_type": "execute_result"
    }
   ],
   "source": [
    "restricted_final_df"
   ]
  },
  {
   "cell_type": "code",
   "execution_count": 50,
   "id": "65e65ea0",
   "metadata": {
    "scrolled": true
   },
   "outputs": [
    {
     "name": "stderr",
     "output_type": "stream",
     "text": [
      "C:\\Users\\Yoga\\anaconda3\\lib\\site-packages\\geopandas\\geodataframe.py:1322: SettingWithCopyWarning:\n",
      "\n",
      "\n",
      "A value is trying to be set on a copy of a slice from a DataFrame.\n",
      "Try using .loc[row_indexer,col_indexer] = value instead\n",
      "\n",
      "See the caveats in the documentation: https://pandas.pydata.org/pandas-docs/stable/user_guide/indexing.html#returning-a-view-versus-a-copy\n",
      "\n"
     ]
    }
   ],
   "source": [
    "restricted_final_df['P'] = np.where(restricted_final_df['YEAR']>=2011 ,1,0)\n",
    "restricted_final_df['T'] = np.where(restricted_final_df['COUNTRY'].isin(sahel_countries),1,0)\n",
    "restricted_final_df['INTER'] = restricted_final_df['P'] * restricted_final_df['T']"
   ]
  },
  {
   "cell_type": "code",
   "execution_count": 51,
   "id": "1cb3a7b7",
   "metadata": {
    "scrolled": true
   },
   "outputs": [
    {
     "name": "stdout",
     "output_type": "stream",
     "text": [
      "                            OLS Regression Results                            \n",
      "==============================================================================\n",
      "Dep. Variable:      EVENT_FREQUENCIES   R-squared:                       0.151\n",
      "Model:                            OLS   Adj. R-squared:                  0.121\n",
      "Method:                 Least Squares   F-statistic:                     5.010\n",
      "Date:                Mon, 05 Sep 2022   Prob (F-statistic):           6.58e-22\n",
      "Time:                        02:47:27   Log-Likelihood:                -4804.3\n",
      "No. Observations:                1227   AIC:                             9695.\n",
      "Df Residuals:                    1184   BIC:                             9914.\n",
      "Df Model:                          42                                         \n",
      "Covariance Type:            nonrobust                                         \n",
      "==============================================================================================\n",
      "                                 coef    std err          t      P>|t|      [0.025      0.975]\n",
      "----------------------------------------------------------------------------------------------\n",
      "Intercept                      2.7339      1.743      1.568      0.117      -0.687       6.154\n",
      "C(COUNTRY)[T.Angola]           0.6283      2.434      0.258      0.796      -4.146       5.403\n",
      "C(COUNTRY)[T.Burkina Faso]     4.4106      2.647      1.667      0.096      -0.782       9.603\n",
      "C(COUNTRY)[T.Burundi]          2.3294      1.611      1.446      0.148      -0.831       5.490\n",
      "C(COUNTRY)[T.Cameroon]        18.9730      2.587      7.335      0.000      13.898      24.048\n",
      "C(COUNTRY)[T.Chad]            -0.4510      3.512     -0.128      0.898      -7.342       6.440\n",
      "C(COUNTRY)[T.Kenya]           -1.5960      2.644     -0.604      0.546      -6.783       3.591\n",
      "C(COUNTRY)[T.Liberia]          1.6390      3.040      0.539      0.590      -4.325       7.603\n",
      "C(COUNTRY)[T.Libya]            1.5707      3.253      0.483      0.629      -4.811       7.953\n",
      "C(COUNTRY)[T.Mali]            -0.3150      2.253     -0.140      0.889      -4.736       4.106\n",
      "C(COUNTRY)[T.Mauritania]       0.0222      5.368      0.004      0.997     -10.509      10.553\n",
      "C(COUNTRY)[T.Namibia]          0.3435      4.373      0.079      0.937      -8.235       8.922\n",
      "C(COUNTRY)[T.Niger]            8.0614      2.575      3.130      0.002       3.009      13.114\n",
      "C(COUNTRY)[T.Nigeria]          6.2033      2.015      3.078      0.002       2.249      10.157\n",
      "C(COUNTRY)[T.Rwanda]          -0.9129      5.056     -0.181      0.857     -10.833       9.007\n",
      "C(COUNTRY)[T.Senegal]          0.6167      2.944      0.210      0.834      -5.159       6.392\n",
      "C(COUNTRY)[T.Sierra Leone]     3.1222      3.702      0.843      0.399      -4.140      10.384\n",
      "C(COUNTRY)[T.Somalia]          3.4588      2.157      1.603      0.109      -0.774       7.691\n",
      "C(COUNTRY)[T.South Sudan]     -2.0360      2.189     -0.930      0.353      -6.331       2.259\n",
      "C(COUNTRY)[T.Sudan]            1.9587      1.723      1.137      0.256      -1.422       5.340\n",
      "C(COUNTRY)[T.Tanzania]         0.9741      7.284      0.134      0.894     -13.317      15.265\n",
      "C(COUNTRY)[T.Zambia]          -0.7880      8.865     -0.089      0.929     -18.181      16.605\n",
      "C(YEAR)[T.2001]                0.2607      1.941      0.134      0.893      -3.547       4.069\n",
      "C(YEAR)[T.2002]                0.1082      2.293      0.047      0.962      -4.391       4.608\n",
      "C(YEAR)[T.2003]               -0.7785      2.515     -0.309      0.757      -5.713       4.156\n",
      "C(YEAR)[T.2004]               -1.6868      2.524     -0.668      0.504      -6.638       3.265\n",
      "C(YEAR)[T.2005]               -1.6138      2.839     -0.569      0.570      -7.183       3.955\n",
      "C(YEAR)[T.2006]               -2.5456      2.483     -1.025      0.305      -7.417       2.326\n",
      "C(YEAR)[T.2007]               -4.4927      2.823     -1.592      0.112     -10.031       1.046\n",
      "C(YEAR)[T.2008]               -3.6632      2.468     -1.484      0.138      -8.506       1.180\n",
      "C(YEAR)[T.2009]               -2.2242      2.824     -0.788      0.431      -7.764       3.316\n",
      "C(YEAR)[T.2010]               -2.7475      2.753     -0.998      0.318      -8.148       2.653\n",
      "C(YEAR)[T.2011]               -2.5049      3.122     -0.802      0.422      -8.629       3.620\n",
      "C(YEAR)[T.2012]               -0.2920      3.008     -0.097      0.923      -6.194       5.610\n",
      "C(YEAR)[T.2013]               -0.4681      2.902     -0.161      0.872      -6.162       5.226\n",
      "C(YEAR)[T.2014]                1.4215      2.862      0.497      0.619      -4.193       7.036\n",
      "C(YEAR)[T.2015]                0.9449      2.870      0.329      0.742      -4.685       6.575\n",
      "C(YEAR)[T.2016]               -0.7305      2.792     -0.262      0.794      -6.209       4.748\n",
      "C(YEAR)[T.2017]                0.2397      2.775      0.086      0.931      -5.205       5.684\n",
      "C(YEAR)[T.2018]                1.0214      2.766      0.369      0.712      -4.406       6.449\n",
      "C(YEAR)[T.2019]                3.2873      2.705      1.215      0.224      -2.020       8.594\n",
      "C(YEAR)[T.2020]                6.7257      2.699      2.492      0.013       1.430      12.021\n",
      "INTER                          1.0046      2.284      0.440      0.660      -3.477       5.486\n",
      "==============================================================================\n",
      "Omnibus:                     1462.676   Durbin-Watson:                   2.001\n",
      "Prob(Omnibus):                  0.000   Jarque-Bera (JB):           196277.367\n",
      "Skew:                           5.981   Prob(JB):                         0.00\n",
      "Kurtosis:                      63.795   Cond. No.                         30.1\n",
      "==============================================================================\n",
      "\n",
      "Notes:\n",
      "[1] Standard Errors assume that the covariance matrix of the errors is correctly specified.\n"
     ]
    }
   ],
   "source": [
    "# import formula api as alias smf \n",
    "import statsmodels.formula.api as smf \n",
    "model = smf.ols(formula= 'EVENT_FREQUENCIES ~  INTER + C(COUNTRY) + C(YEAR) ', data=restricted_final_df).fit()\n",
    " \n",
    " \n",
    "print_model = model.summary()\n",
    "print(print_model)"
   ]
  },
  {
   "cell_type": "code",
   "execution_count": 52,
   "id": "ee403154",
   "metadata": {},
   "outputs": [
    {
     "name": "stdout",
     "output_type": "stream",
     "text": [
      "                            OLS Regression Results                            \n",
      "==============================================================================\n",
      "Dep. Variable:       EVENT_FATALITIES   R-squared:                       0.056\n",
      "Model:                            OLS   Adj. R-squared:                  0.023\n",
      "Method:                 Least Squares   F-statistic:                     1.685\n",
      "Date:                Mon, 05 Sep 2022   Prob (F-statistic):            0.00443\n",
      "Time:                        02:47:36   Log-Likelihood:                -7783.6\n",
      "No. Observations:                1227   AIC:                         1.565e+04\n",
      "Df Residuals:                    1184   BIC:                         1.587e+04\n",
      "Df Model:                          42                                         \n",
      "Covariance Type:            nonrobust                                         \n",
      "==============================================================================================\n",
      "                                 coef    std err          t      P>|t|      [0.025      0.975]\n",
      "----------------------------------------------------------------------------------------------\n",
      "Intercept                     21.7990     19.765      1.103      0.270     -16.980      60.578\n",
      "C(COUNTRY)[T.Angola]          66.9521     27.591      2.427      0.015      12.820     121.084\n",
      "C(COUNTRY)[T.Burkina Faso]     8.6421     30.004      0.288      0.773     -50.225      67.509\n",
      "C(COUNTRY)[T.Burundi]          5.9100     18.261      0.324      0.746     -29.918      41.738\n",
      "C(COUNTRY)[T.Cameroon]        18.9928     29.327      0.648      0.517     -38.546      76.532\n",
      "C(COUNTRY)[T.Chad]             1.7320     39.818      0.043      0.965     -76.389      79.854\n",
      "C(COUNTRY)[T.Kenya]           10.5788     29.973      0.353      0.724     -48.226      69.384\n",
      "C(COUNTRY)[T.Liberia]        -16.1384     34.462     -0.468      0.640     -83.751      51.474\n",
      "C(COUNTRY)[T.Libya]          -12.0536     36.879     -0.327      0.744     -84.409      60.302\n",
      "C(COUNTRY)[T.Mali]            -6.7774     25.548     -0.265      0.791     -56.901      43.346\n",
      "C(COUNTRY)[T.Mauritania]      11.5567     60.855      0.190      0.849    -107.838     130.952\n",
      "C(COUNTRY)[T.Namibia]         -7.3998     49.573     -0.149      0.881    -104.661      89.861\n",
      "C(COUNTRY)[T.Niger]            8.8388     29.197      0.303      0.762     -48.445      66.122\n",
      "C(COUNTRY)[T.Nigeria]         88.3317     22.849      3.866      0.000      43.503     133.160\n",
      "C(COUNTRY)[T.Rwanda]          18.9311     57.325      0.330      0.741     -93.539     131.401\n",
      "C(COUNTRY)[T.Senegal]         -2.9662     33.373     -0.089      0.929     -68.444      62.511\n",
      "C(COUNTRY)[T.Sierra Leone]   -16.5770     41.965     -0.395      0.693     -98.911      65.757\n",
      "C(COUNTRY)[T.Somalia]         11.0689     24.458      0.453      0.651     -36.917      59.055\n",
      "C(COUNTRY)[T.South Sudan]    -11.6959     24.819     -0.471      0.638     -60.389      36.997\n",
      "C(COUNTRY)[T.Sudan]           21.6153     19.538      1.106      0.269     -16.718      59.948\n",
      "C(COUNTRY)[T.Tanzania]        10.8999     82.580      0.132      0.895    -151.119     172.919\n",
      "C(COUNTRY)[T.Zambia]         -28.2242    100.504     -0.281      0.779    -225.409     168.961\n",
      "C(YEAR)[T.2001]               -9.7185     22.005     -0.442      0.659     -52.892      33.455\n",
      "C(YEAR)[T.2002]               12.8504     26.000      0.494      0.621     -38.161      63.862\n",
      "C(YEAR)[T.2003]              -15.5733     28.516     -0.546      0.585     -71.520      40.374\n",
      "C(YEAR)[T.2004]               -1.9667     28.612     -0.069      0.945     -58.103      54.170\n",
      "C(YEAR)[T.2005]              -15.3624     32.181     -0.477      0.633     -78.501      47.776\n",
      "C(YEAR)[T.2006]              -28.2140     28.149     -1.002      0.316     -83.441      27.013\n",
      "C(YEAR)[T.2007]              -45.2284     32.004     -1.413      0.158    -108.020      17.563\n",
      "C(YEAR)[T.2008]              -29.6242     27.985     -1.059      0.290     -84.531      25.282\n",
      "C(YEAR)[T.2009]              -36.7634     32.012     -1.148      0.251     -99.570      26.043\n",
      "C(YEAR)[T.2010]              -40.4010     31.206     -1.295      0.196    -101.627      20.825\n",
      "C(YEAR)[T.2011]              -44.6684     35.390     -1.262      0.207    -114.103      24.766\n",
      "C(YEAR)[T.2012]              -49.8923     34.104     -1.463      0.144    -116.803      17.019\n",
      "C(YEAR)[T.2013]              -25.2352     32.904     -0.767      0.443     -89.793      39.322\n",
      "C(YEAR)[T.2014]                7.1691     32.441      0.221      0.825     -56.480      70.818\n",
      "C(YEAR)[T.2015]               29.2374     32.533      0.899      0.369     -34.592      93.067\n",
      "C(YEAR)[T.2016]              -33.8611     31.656     -1.070      0.285     -95.969      28.247\n",
      "C(YEAR)[T.2017]              -29.9032     31.460     -0.951      0.342     -91.627      31.821\n",
      "C(YEAR)[T.2018]              -34.8843     31.362     -1.112      0.266     -96.416      26.648\n",
      "C(YEAR)[T.2019]              -30.3288     30.666     -0.989      0.323     -90.494      29.837\n",
      "C(YEAR)[T.2020]              -28.6652     30.599     -0.937      0.349     -88.699      31.368\n",
      "INTER                         22.3373     25.898      0.862      0.389     -28.475      73.149\n",
      "==============================================================================\n",
      "Omnibus:                     2646.105   Durbin-Watson:                   2.128\n",
      "Prob(Omnibus):                  0.000   Jarque-Bera (JB):          8844918.793\n",
      "Skew:                          18.139   Prob(JB):                         0.00\n",
      "Kurtosis:                     417.355   Cond. No.                         30.1\n",
      "==============================================================================\n",
      "\n",
      "Notes:\n",
      "[1] Standard Errors assume that the covariance matrix of the errors is correctly specified.\n"
     ]
    }
   ],
   "source": [
    "# import formula api as alias smf \n",
    "import statsmodels.formula.api as smf \n",
    "model = smf.ols(formula= 'EVENT_FATALITIES ~ INTER + C(COUNTRY) + C(YEAR) ', data=restricted_final_df).fit()\n",
    " \n",
    " \n",
    "print_model = model.summary()\n",
    "print(print_model)"
   ]
  },
  {
   "cell_type": "markdown",
   "id": "735cf087",
   "metadata": {},
   "source": [
    "In this **preliminary analysis**, the p-value associated with the INTER variable (which measures impact) is higher than 0.05 in the case where we consider the total number of terrorist attacks against civilians and the total number of deaths.\n",
    "\n",
    "This would mean that, at a **5% risk of being wrong**, we can say that the Libyan crisis has no **significant impact on insecurity in the Sahel zone**, considering in each case the total number of terrorist attacks on civilians and the total number of deaths."
   ]
  },
  {
   "cell_type": "markdown",
   "id": "5f37e93a",
   "metadata": {},
   "source": [
    "# Machine Learning Analysis"
   ]
  },
  {
   "cell_type": "markdown",
   "id": "bfc539c2",
   "metadata": {},
   "source": [
    "In progress"
   ]
  },
  {
   "cell_type": "code",
   "execution_count": null,
   "id": "5785c32d",
   "metadata": {},
   "outputs": [],
   "source": []
  }
 ],
 "metadata": {
  "kernelspec": {
   "display_name": "Python 3 (ipykernel)",
   "language": "python",
   "name": "python3"
  },
  "language_info": {
   "codemirror_mode": {
    "name": "ipython",
    "version": 3
   },
   "file_extension": ".py",
   "mimetype": "text/x-python",
   "name": "python",
   "nbconvert_exporter": "python",
   "pygments_lexer": "ipython3",
   "version": "3.9.7"
  }
 },
 "nbformat": 4,
 "nbformat_minor": 5
}
